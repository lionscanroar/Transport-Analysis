{
 "cells": [
  {
   "cell_type": "markdown",
   "id": "28c5bbcc",
   "metadata": {},
   "source": [
    "# Data Science Group Project\n",
    "## Transport NSW Train Analysis 2016-21\n",
    "### Group 51\n",
    "Thuseevan Nareshkumar 46328785 <br>\n",
    "Ryan Lam 45951292<br>\n",
    "Md Fahad Rahman 45728836 <br> \n",
    "Hanando Isbell 47101164\n"
   ]
  },
  {
   "cell_type": "markdown",
   "id": "70b723a1",
   "metadata": {},
   "source": [
    "# Introduction\n",
    " Transport Performance and Analytics (TPA) is a center of excellence that provides objective and trustworthy transportation data, recommendations, and an analysis. TPA brings to offer an evidence foundation for strategic decision-making in support of an efficient transportation system. \n",
    "Gathering data from their archives, the following project is built puttiing emphasis on diifferent analysis of uses of transport throughout Sydney. "
   ]
  },
  {
   "cell_type": "markdown",
   "id": "e4d8097c",
   "metadata": {},
   "source": [
    "# Project Goal\n",
    "**\"How the dataset can be used in analysing different aspects of transportation?\"**\n",
    "\n",
    "By providing various analysis to  the question is our following goals:\n",
    "- Explore with our chosen dataframe.\n",
    "- Take advantage of the various sources to reach an optimal conclusion that will help with either decision making/support.\n",
    "- Provide analysis that will enable us to correlate trends/patterns withreal world activities which will include:\n",
    "  - Distinction between an array of transportation rush hours\n",
    "  - In which month people travel more\n",
    "  - Analysis through several linear Regresion. "
   ]
  },
  {
   "cell_type": "markdown",
   "id": "394befaf",
   "metadata": {},
   "source": [
    "# Data source\n",
    "The dataset is from the Bureau of Transport Statistics. This dataset contains NSW trains official train utilisation figures for Intercity train lines only. These figures include the data of passengers who on/tap off well as passeners who bought tickets when entering and exiting the transportation service stations. It is set out as a line and aggregated into a monthly figure for a passenger for their estimated times of travel during that month. \n",
    "The data was collected from opal train trips by month,line and card type, from July 2016 to August 2021. The format of the data set is in CSV. Here is a link to the relevant document page: https://opendata.transport.nsw.gov.au/dataset/opal-trips-train.\n",
    "\n",
    "<b>Note<b>: There were limited amount of data provided for several months in the year 2016 and 2021."
   ]
  },
  {
   "cell_type": "markdown",
   "id": "73dbce4b",
   "metadata": {},
   "source": [
    "## Importing Libraries\n"
   ]
  },
  {
   "cell_type": "code",
   "execution_count": 2,
   "id": "03eadc41",
   "metadata": {},
   "outputs": [],
   "source": [
    "import pandas as pd\n",
    "import numpy as np\n",
    "import seaborn as sns\n",
    "import matplotlib.pyplot as plt\n",
    "import seaborn as sns\n",
    "%matplotlib inline\n",
    "\n",
    "import matplotlib.pylab as plt\n",
    "from matplotlib.pyplot import imread\n",
    "%matplotlib inline\n",
    "\n",
    "#---Linear Regression\n",
    "from sklearn.model_selection import train_test_split\n",
    "from sklearn import linear_model\n",
    "from sklearn.metrics import r2_score\n",
    "\n",
    "#---naive bayes\n",
    "from sklearn.naive_bayes import GaussianNB\n",
    "from sklearn.naive_bayes import MultinomialNB\n",
    "\n",
    "#---KMeans Clustering \n",
    "from sklearn.cluster import KMeans\n",
    "\n",
    "#---feature selection\n",
    "from sklearn.datasets import make_classification\n",
    "from sklearn.ensemble import ExtraTreesClassifier\n",
    "\n",
    "#---data processing\n",
    "from sklearn import preprocessing\n",
    "from sklearn.preprocessing import KBinsDiscretizer\n",
    "from sklearn.model_selection import train_test_split\n",
    "\n",
    "##-- Futhure Forcast Model\n",
    "\n",
    "\n",
    "import warnings"
   ]
  },
  {
   "cell_type": "code",
   "execution_count": 3,
   "id": "30b1d82b",
   "metadata": {},
   "outputs": [],
   "source": [
    "#We tried importing the file, but this method didn’t work for some reason.\n",
    "#pd.show_versions()\n",
    "#data = pd.read_csv(\"files/TrainCardType.csv\")\n",
    "# we had error opeing the file"
   ]
  },
  {
   "cell_type": "markdown",
   "id": "ecbbd4c5",
   "metadata": {},
   "source": [
    "## Importing And Preprocessing The Data\n"
   ]
  },
  {
   "cell_type": "code",
   "execution_count": 4,
   "id": "dc3721ce",
   "metadata": {},
   "outputs": [],
   "source": [
    "#We realised that there was an error with encoding the file. After resolving the the issue, we were able to import the file.\n",
    "# importing the file\n",
    "data = pd.read_csv(\"files/TrainCardType.csv\", encoding='utf-16',sep=\"\\t\")"
   ]
  },
  {
   "cell_type": "code",
   "execution_count": 5,
   "id": "0182e01a",
   "metadata": {},
   "outputs": [
    {
     "data": {
      "text/html": [
       "<div>\n",
       "<style scoped>\n",
       "    .dataframe tbody tr th:only-of-type {\n",
       "        vertical-align: middle;\n",
       "    }\n",
       "\n",
       "    .dataframe tbody tr th {\n",
       "        vertical-align: top;\n",
       "    }\n",
       "\n",
       "    .dataframe thead th {\n",
       "        text-align: right;\n",
       "    }\n",
       "</style>\n",
       "<table border=\"1\" class=\"dataframe\">\n",
       "  <thead>\n",
       "    <tr style=\"text-align: right;\">\n",
       "      <th></th>\n",
       "      <th>Route</th>\n",
       "      <th>Travel type</th>\n",
       "      <th>1/07/2016+C1:BA1</th>\n",
       "      <th>Aug-16</th>\n",
       "      <th>Sep-16</th>\n",
       "      <th>Oct-16</th>\n",
       "      <th>Nov-16</th>\n",
       "      <th>Dec-16</th>\n",
       "      <th>Jan-17</th>\n",
       "      <th>Feb-17</th>\n",
       "      <th>...</th>\n",
       "      <th>Dec-20</th>\n",
       "      <th>Jan-21</th>\n",
       "      <th>Feb-21</th>\n",
       "      <th>Mar-21</th>\n",
       "      <th>Apr-21</th>\n",
       "      <th>May-21</th>\n",
       "      <th>Jun-21</th>\n",
       "      <th>Jul-21</th>\n",
       "      <th>Aug-21</th>\n",
       "      <th>Sep-21</th>\n",
       "    </tr>\n",
       "  </thead>\n",
       "  <tbody>\n",
       "    <tr>\n",
       "      <th>0</th>\n",
       "      <td>T1 North Shore, Northern and Western Line</td>\n",
       "      <td>Adult</td>\n",
       "      <td>8,575,135</td>\n",
       "      <td>9,484,134</td>\n",
       "      <td>8,956,112</td>\n",
       "      <td>8,778,524</td>\n",
       "      <td>9,221,978</td>\n",
       "      <td>8,036,202</td>\n",
       "      <td>7,774,754</td>\n",
       "      <td>8,446,672</td>\n",
       "      <td>...</td>\n",
       "      <td>NaN</td>\n",
       "      <td>NaN</td>\n",
       "      <td>NaN</td>\n",
       "      <td>NaN</td>\n",
       "      <td>NaN</td>\n",
       "      <td>NaN</td>\n",
       "      <td>NaN</td>\n",
       "      <td>NaN</td>\n",
       "      <td>NaN</td>\n",
       "      <td>NaN</td>\n",
       "    </tr>\n",
       "    <tr>\n",
       "      <th>1</th>\n",
       "      <td>T1 North Shore, Northern and Western Line</td>\n",
       "      <td>Child/Youth</td>\n",
       "      <td>432,083</td>\n",
       "      <td>370,300</td>\n",
       "      <td>425,154</td>\n",
       "      <td>438,430</td>\n",
       "      <td>404,288</td>\n",
       "      <td>505,401</td>\n",
       "      <td>552,039</td>\n",
       "      <td>394,228</td>\n",
       "      <td>...</td>\n",
       "      <td>NaN</td>\n",
       "      <td>NaN</td>\n",
       "      <td>NaN</td>\n",
       "      <td>NaN</td>\n",
       "      <td>NaN</td>\n",
       "      <td>NaN</td>\n",
       "      <td>NaN</td>\n",
       "      <td>NaN</td>\n",
       "      <td>NaN</td>\n",
       "      <td>NaN</td>\n",
       "    </tr>\n",
       "  </tbody>\n",
       "</table>\n",
       "<p>2 rows × 65 columns</p>\n",
       "</div>"
      ],
      "text/plain": [
       "                                       Route  Travel type 1/07/2016+C1:BA1  \\\n",
       "0  T1 North Shore, Northern and Western Line        Adult        8,575,135   \n",
       "1  T1 North Shore, Northern and Western Line  Child/Youth          432,083   \n",
       "\n",
       "      Aug-16     Sep-16     Oct-16     Nov-16     Dec-16     Jan-17  \\\n",
       "0  9,484,134  8,956,112  8,778,524  9,221,978  8,036,202  7,774,754   \n",
       "1    370,300    425,154    438,430    404,288    505,401    552,039   \n",
       "\n",
       "      Feb-17  ... Dec-20 Jan-21 Feb-21 Mar-21 Apr-21 May-21 Jun-21 Jul-21  \\\n",
       "0  8,446,672  ...    NaN    NaN    NaN    NaN    NaN    NaN    NaN    NaN   \n",
       "1    394,228  ...    NaN    NaN    NaN    NaN    NaN    NaN    NaN    NaN   \n",
       "\n",
       "  Aug-21 Sep-21  \n",
       "0    NaN    NaN  \n",
       "1    NaN    NaN  \n",
       "\n",
       "[2 rows x 65 columns]"
      ]
     },
     "execution_count": 5,
     "metadata": {},
     "output_type": "execute_result"
    }
   ],
   "source": [
    "#show data head\n",
    "data.head(2)"
   ]
  },
  {
   "cell_type": "markdown",
   "id": "573dbaa4",
   "metadata": {},
   "source": [
    "## Renaming ambiguous columns "
   ]
  },
  {
   "cell_type": "code",
   "execution_count": 6,
   "id": "24d00767",
   "metadata": {},
   "outputs": [],
   "source": [
    "# renaming \n",
    "data = data.rename(columns={\"1/07/2016+C1:BA1\": \"Jul-16\"})\n",
    "#data.head()"
   ]
  },
  {
   "cell_type": "code",
   "execution_count": 7,
   "id": "6f78e410",
   "metadata": {},
   "outputs": [],
   "source": [
    "# renaming \n",
    "data = data.rename(columns={\"Travel type\": \"Travel_type\"})\n",
    "#data.head()"
   ]
  },
  {
   "cell_type": "code",
   "execution_count": 8,
   "id": "ca87d722",
   "metadata": {},
   "outputs": [
    {
     "name": "stdout",
     "output_type": "stream",
     "text": [
      "The size of the data is :  (248, 65)\n",
      "The number of row 248 and number of columns 65 \n"
     ]
    }
   ],
   "source": [
    "#checking the data set size \n",
    "print(\"The size of the data is : \", data.shape) \n",
    "print(\"The number of row {} and number of columns {} \".format(data.shape[0], data.shape[1]))"
   ]
  },
  {
   "cell_type": "code",
   "execution_count": 9,
   "id": "9d6ab44a",
   "metadata": {},
   "outputs": [
    {
     "name": "stdout",
     "output_type": "stream",
     "text": [
      "<class 'pandas.core.frame.DataFrame'>\n",
      "<class 'pandas.core.series.Series'>\n",
      "<class 'str'>\n"
     ]
    }
   ],
   "source": [
    "# checking data type \n",
    "print(type(data))\n",
    "print(type(data['Jul-16']))\n",
    "print(type(data['Jul-16'][0]))"
   ]
  },
  {
   "cell_type": "code",
   "execution_count": 11,
   "id": "65a30c09",
   "metadata": {},
   "outputs": [
    {
     "data": {
      "text/plain": [
       "Route            0\n",
       "Travel_type      0\n",
       "Jul-16         139\n",
       "Aug-16         139\n",
       "Sep-16         139\n",
       "              ... \n",
       "May-21          69\n",
       "Jun-21          69\n",
       "Jul-21          75\n",
       "Aug-21          73\n",
       "Sep-21          73\n",
       "Length: 65, dtype: int64"
      ]
     },
     "execution_count": 11,
     "metadata": {},
     "output_type": "execute_result"
    }
   ],
   "source": [
    "# Deal with the NaN values in the data\n",
    "data.isna().sum()"
   ]
  },
  {
   "cell_type": "markdown",
   "id": "1778dd34",
   "metadata": {},
   "source": [
    "\n",
    "<b>Note</b>: The dataset has too many null values. We tried dropping the value but too many rows and columnns were dropped. As a result we had to replace all the null values with the value 0, which will not impact the entire dataset as we created our analysis."
   ]
  },
  {
   "cell_type": "markdown",
   "id": "9f5605da",
   "metadata": {},
   "source": [
    "#### Replacing null values with 0\n",
    "\n",
    "<b>Note:</b> It was observed during cleaning the data and some analysis the null values were causing some errors in our predictive models. Hence, we decided to replace the null values with 0."
   ]
  },
  {
   "cell_type": "code",
   "execution_count": 50,
   "id": "e02f6520",
   "metadata": {},
   "outputs": [],
   "source": [
    "#we decide to assign 0 to null values\n",
    "data.fillna( '0', inplace = True)\n",
    "#data.head(2)"
   ]
  },
  {
   "cell_type": "markdown",
   "id": "1d96fc2e",
   "metadata": {},
   "source": [
    "#### Functions to remove ','"
   ]
  },
  {
   "cell_type": "code",
   "execution_count": 51,
   "id": "6c4d622d",
   "metadata": {},
   "outputs": [],
   "source": [
    "data = data.replace(',','', regex=True)"
   ]
  },
  {
   "cell_type": "markdown",
   "id": "bc2bdfbb",
   "metadata": {},
   "source": [
    "#### Changing all str into numeric values"
   ]
  },
  {
   "cell_type": "code",
   "execution_count": 52,
   "id": "b83c6b74",
   "metadata": {},
   "outputs": [],
   "source": [
    "for x in data.columns[2:]:\n",
    "    data[x] = pd.to_numeric(data[x])"
   ]
  },
  {
   "cell_type": "code",
   "execution_count": 53,
   "id": "3a6d555b",
   "metadata": {},
   "outputs": [
    {
     "data": {
      "text/plain": [
       "numpy.int64"
      ]
     },
     "execution_count": 53,
     "metadata": {},
     "output_type": "execute_result"
    }
   ],
   "source": [
    "#str to int / checking\n",
    "type(data['Jul-16'][0])"
   ]
  },
  {
   "cell_type": "markdown",
   "id": "35602c75",
   "metadata": {},
   "source": [
    "#### Dropping last column which will directly affect the our analysis.\n",
    "\n",
    "Last row referred to the total sum of each columns. <br>We dropped this row because including it in the dataset will directly affect our analysis."
   ]
  },
  {
   "cell_type": "code",
   "execution_count": 54,
   "id": "41c5460f",
   "metadata": {},
   "outputs": [
    {
     "data": {
      "text/html": [
       "<div>\n",
       "<style scoped>\n",
       "    .dataframe tbody tr th:only-of-type {\n",
       "        vertical-align: middle;\n",
       "    }\n",
       "\n",
       "    .dataframe tbody tr th {\n",
       "        vertical-align: top;\n",
       "    }\n",
       "\n",
       "    .dataframe thead th {\n",
       "        text-align: right;\n",
       "    }\n",
       "</style>\n",
       "<table border=\"1\" class=\"dataframe\">\n",
       "  <thead>\n",
       "    <tr style=\"text-align: right;\">\n",
       "      <th></th>\n",
       "      <th>Route</th>\n",
       "      <th>Travel_type</th>\n",
       "      <th>Jul-16</th>\n",
       "      <th>Aug-16</th>\n",
       "      <th>Sep-16</th>\n",
       "      <th>Oct-16</th>\n",
       "      <th>Nov-16</th>\n",
       "      <th>Dec-16</th>\n",
       "      <th>Jan-17</th>\n",
       "      <th>Feb-17</th>\n",
       "      <th>...</th>\n",
       "      <th>Dec-20</th>\n",
       "      <th>Jan-21</th>\n",
       "      <th>Feb-21</th>\n",
       "      <th>Mar-21</th>\n",
       "      <th>Apr-21</th>\n",
       "      <th>May-21</th>\n",
       "      <th>Jun-21</th>\n",
       "      <th>Jul-21</th>\n",
       "      <th>Aug-21</th>\n",
       "      <th>Sep-21</th>\n",
       "    </tr>\n",
       "  </thead>\n",
       "  <tbody>\n",
       "    <tr>\n",
       "      <th>245</th>\n",
       "      <td>T9 Northern Line</td>\n",
       "      <td>Sgl Trip Rail Adult</td>\n",
       "      <td>0</td>\n",
       "      <td>0</td>\n",
       "      <td>0</td>\n",
       "      <td>0</td>\n",
       "      <td>0</td>\n",
       "      <td>0</td>\n",
       "      <td>0</td>\n",
       "      <td>0</td>\n",
       "      <td>...</td>\n",
       "      <td>1331</td>\n",
       "      <td>836</td>\n",
       "      <td>1189</td>\n",
       "      <td>1295</td>\n",
       "      <td>2172</td>\n",
       "      <td>1663</td>\n",
       "      <td>927</td>\n",
       "      <td>187</td>\n",
       "      <td>130</td>\n",
       "      <td>162</td>\n",
       "    </tr>\n",
       "    <tr>\n",
       "      <th>246</th>\n",
       "      <td>T9 Northern Line</td>\n",
       "      <td>Sgl Trip Rail Child/Youth</td>\n",
       "      <td>0</td>\n",
       "      <td>0</td>\n",
       "      <td>0</td>\n",
       "      <td>0</td>\n",
       "      <td>0</td>\n",
       "      <td>0</td>\n",
       "      <td>0</td>\n",
       "      <td>0</td>\n",
       "      <td>...</td>\n",
       "      <td>957</td>\n",
       "      <td>941</td>\n",
       "      <td>726</td>\n",
       "      <td>783</td>\n",
       "      <td>1897</td>\n",
       "      <td>1020</td>\n",
       "      <td>634</td>\n",
       "      <td>169</td>\n",
       "      <td>80</td>\n",
       "      <td>104</td>\n",
       "    </tr>\n",
       "  </tbody>\n",
       "</table>\n",
       "<p>2 rows × 65 columns</p>\n",
       "</div>"
      ],
      "text/plain": [
       "                Route                Travel_type  Jul-16  Aug-16  Sep-16  \\\n",
       "245  T9 Northern Line        Sgl Trip Rail Adult       0       0       0   \n",
       "246  T9 Northern Line  Sgl Trip Rail Child/Youth       0       0       0   \n",
       "\n",
       "     Oct-16  Nov-16  Dec-16  Jan-17  Feb-17  ...  Dec-20  Jan-21  Feb-21  \\\n",
       "245       0       0       0       0       0  ...    1331     836    1189   \n",
       "246       0       0       0       0       0  ...     957     941     726   \n",
       "\n",
       "     Mar-21  Apr-21  May-21  Jun-21  Jul-21  Aug-21  Sep-21  \n",
       "245    1295    2172    1663     927     187     130     162  \n",
       "246     783    1897    1020     634     169      80     104  \n",
       "\n",
       "[2 rows x 65 columns]"
      ]
     },
     "execution_count": 54,
     "metadata": {},
     "output_type": "execute_result"
    }
   ],
   "source": [
    "# drop the last row Grand Total\n",
    "data_c =data.drop(247)\n",
    "data_c.tail(2)"
   ]
  },
  {
   "cell_type": "markdown",
   "id": "c1c6d932",
   "metadata": {},
   "source": [
    "# Observations"
   ]
  },
  {
   "cell_type": "code",
   "execution_count": 55,
   "id": "b0444891",
   "metadata": {},
   "outputs": [
    {
     "data": {
      "text/plain": [
       "T1 Northern Line                            12\n",
       "T8 Airport and South Line                   12\n",
       "T5 Cumberland Line                          12\n",
       "Hunter Line                                 12\n",
       "T1 North Shore Line                         12\n",
       "T2 Inner West Line                          12\n",
       "Blue Mountains Line                         12\n",
       "T2 Leppington Line                          12\n",
       "T7 Olympic Park Line                        12\n",
       "South Coast Line                            12\n",
       "T9 Northern Line                            12\n",
       "T3 Bankstown Line                           12\n",
       "T6 Carlingford Line                         12\n",
       "T1 Western Line                             12\n",
       "Central Coast Newcastle Line                12\n",
       "Southern Highlands Line                     12\n",
       "T4 Eastern Suburbs and Illawarra Line       12\n",
       "Station Link                                11\n",
       "T1 North Shore Northern and Western Line    11\n",
       "T2 Airport Inner West and South Line        11\n",
       "T6 replacement buses                        10\n",
       "Name: Route, dtype: int64"
      ]
     },
     "execution_count": 55,
     "metadata": {},
     "output_type": "execute_result"
    }
   ],
   "source": [
    "data_c.Route.value_counts()"
   ]
  },
  {
   "cell_type": "code",
   "execution_count": 56,
   "id": "85d82518",
   "metadata": {},
   "outputs": [
    {
     "data": {
      "text/plain": [
       "array(['T1 North Shore Northern and Western Line',\n",
       "       'T2 Airport Inner West and South Line', 'T3 Bankstown Line',\n",
       "       'T4 Eastern Suburbs and Illawarra Line', 'T5 Cumberland Line',\n",
       "       'T6 Carlingford Line', 'T7 Olympic Park Line',\n",
       "       'Blue Mountains Line', 'Central Coast Newcastle Line',\n",
       "       'Hunter Line', 'South Coast Line', 'Southern Highlands Line',\n",
       "       'Station Link', 'T1 North Shore Line', 'T1 Northern Line',\n",
       "       'T1 Western Line', 'T2 Inner West Line', 'T2 Leppington Line',\n",
       "       'T6 replacement buses', 'T8 Airport and South Line',\n",
       "       'T9 Northern Line'], dtype=object)"
      ]
     },
     "execution_count": 56,
     "metadata": {},
     "output_type": "execute_result"
    }
   ],
   "source": [
    "# extract all name of the Route\n",
    "data_c['Route'].unique()"
   ]
  },
  {
   "cell_type": "markdown",
   "id": "9494eeb3",
   "metadata": {},
   "source": [
    "There are 21 differnt train routes "
   ]
  },
  {
   "cell_type": "code",
   "execution_count": 57,
   "id": "1e891d8c",
   "metadata": {},
   "outputs": [
    {
     "data": {
      "text/plain": [
       "array(['Adult', 'Child/Youth', 'Concession',\n",
       "       'Day Pass Child/Youth w/o SAF', 'Day Pass without SAF', 'Employee',\n",
       "       'Free Travel', 'School Student', 'Senior/Pensioner',\n",
       "       'Sgl Trip Rail Adult', 'Sgl Trip Rail Child/Youth', 'CTP'],\n",
       "      dtype=object)"
      ]
     },
     "execution_count": 57,
     "metadata": {},
     "output_type": "execute_result"
    }
   ],
   "source": [
    "data_c['Travel_type'].unique()"
   ]
  },
  {
   "cell_type": "code",
   "execution_count": 80,
   "id": "64b5341a",
   "metadata": {},
   "outputs": [
    {
     "data": {
      "text/html": [
       "<div>\n",
       "<style scoped>\n",
       "    .dataframe tbody tr th:only-of-type {\n",
       "        vertical-align: middle;\n",
       "    }\n",
       "\n",
       "    .dataframe tbody tr th {\n",
       "        vertical-align: top;\n",
       "    }\n",
       "\n",
       "    .dataframe thead th {\n",
       "        text-align: right;\n",
       "    }\n",
       "</style>\n",
       "<table border=\"1\" class=\"dataframe\">\n",
       "  <thead>\n",
       "    <tr style=\"text-align: right;\">\n",
       "      <th></th>\n",
       "      <th>Jul-16</th>\n",
       "      <th>Aug-16</th>\n",
       "      <th>Sep-16</th>\n",
       "      <th>Oct-16</th>\n",
       "      <th>Nov-16</th>\n",
       "      <th>Dec-16</th>\n",
       "      <th>Jan-17</th>\n",
       "      <th>Feb-17</th>\n",
       "      <th>Mar-17</th>\n",
       "      <th>Apr-17</th>\n",
       "      <th>...</th>\n",
       "      <th>Dec-20</th>\n",
       "      <th>Jan-21</th>\n",
       "      <th>Feb-21</th>\n",
       "      <th>Mar-21</th>\n",
       "      <th>Apr-21</th>\n",
       "      <th>May-21</th>\n",
       "      <th>Jun-21</th>\n",
       "      <th>Jul-21</th>\n",
       "      <th>Aug-21</th>\n",
       "      <th>Sep-21</th>\n",
       "    </tr>\n",
       "  </thead>\n",
       "  <tbody>\n",
       "    <tr>\n",
       "      <th>count</th>\n",
       "      <td>2.470000e+02</td>\n",
       "      <td>2.470000e+02</td>\n",
       "      <td>2.470000e+02</td>\n",
       "      <td>2.470000e+02</td>\n",
       "      <td>2.470000e+02</td>\n",
       "      <td>2.470000e+02</td>\n",
       "      <td>2.470000e+02</td>\n",
       "      <td>2.470000e+02</td>\n",
       "      <td>2.470000e+02</td>\n",
       "      <td>2.470000e+02</td>\n",
       "      <td>...</td>\n",
       "      <td>2.470000e+02</td>\n",
       "      <td>2.470000e+02</td>\n",
       "      <td>2.470000e+02</td>\n",
       "      <td>2.470000e+02</td>\n",
       "      <td>2.470000e+02</td>\n",
       "      <td>2.470000e+02</td>\n",
       "      <td>2.470000e+02</td>\n",
       "      <td>247.000000</td>\n",
       "      <td>247.000000</td>\n",
       "      <td>247.000000</td>\n",
       "    </tr>\n",
       "    <tr>\n",
       "      <th>mean</th>\n",
       "      <td>1.166771e+05</td>\n",
       "      <td>1.311497e+05</td>\n",
       "      <td>1.240824e+05</td>\n",
       "      <td>1.218900e+05</td>\n",
       "      <td>1.267947e+05</td>\n",
       "      <td>1.141279e+05</td>\n",
       "      <td>1.082406e+05</td>\n",
       "      <td>1.164657e+05</td>\n",
       "      <td>1.399449e+05</td>\n",
       "      <td>1.163795e+05</td>\n",
       "      <td>...</td>\n",
       "      <td>6.548096e+04</td>\n",
       "      <td>5.512768e+04</td>\n",
       "      <td>7.192491e+04</td>\n",
       "      <td>8.471985e+04</td>\n",
       "      <td>8.320850e+04</td>\n",
       "      <td>8.517655e+04</td>\n",
       "      <td>6.960921e+04</td>\n",
       "      <td>21331.307692</td>\n",
       "      <td>17189.834008</td>\n",
       "      <td>18485.323887</td>\n",
       "    </tr>\n",
       "    <tr>\n",
       "      <th>std</th>\n",
       "      <td>7.011211e+05</td>\n",
       "      <td>7.684896e+05</td>\n",
       "      <td>7.304312e+05</td>\n",
       "      <td>7.160032e+05</td>\n",
       "      <td>7.536720e+05</td>\n",
       "      <td>6.735766e+05</td>\n",
       "      <td>6.489393e+05</td>\n",
       "      <td>6.932163e+05</td>\n",
       "      <td>8.139497e+05</td>\n",
       "      <td>6.747326e+05</td>\n",
       "      <td>...</td>\n",
       "      <td>2.018115e+05</td>\n",
       "      <td>1.743364e+05</td>\n",
       "      <td>2.124248e+05</td>\n",
       "      <td>2.476054e+05</td>\n",
       "      <td>2.411020e+05</td>\n",
       "      <td>2.487978e+05</td>\n",
       "      <td>2.058082e+05</td>\n",
       "      <td>73654.659210</td>\n",
       "      <td>59846.955262</td>\n",
       "      <td>63180.665555</td>\n",
       "    </tr>\n",
       "    <tr>\n",
       "      <th>min</th>\n",
       "      <td>0.000000e+00</td>\n",
       "      <td>0.000000e+00</td>\n",
       "      <td>0.000000e+00</td>\n",
       "      <td>0.000000e+00</td>\n",
       "      <td>0.000000e+00</td>\n",
       "      <td>0.000000e+00</td>\n",
       "      <td>0.000000e+00</td>\n",
       "      <td>0.000000e+00</td>\n",
       "      <td>0.000000e+00</td>\n",
       "      <td>0.000000e+00</td>\n",
       "      <td>...</td>\n",
       "      <td>0.000000e+00</td>\n",
       "      <td>0.000000e+00</td>\n",
       "      <td>0.000000e+00</td>\n",
       "      <td>0.000000e+00</td>\n",
       "      <td>0.000000e+00</td>\n",
       "      <td>0.000000e+00</td>\n",
       "      <td>0.000000e+00</td>\n",
       "      <td>0.000000</td>\n",
       "      <td>0.000000</td>\n",
       "      <td>0.000000</td>\n",
       "    </tr>\n",
       "    <tr>\n",
       "      <th>25%</th>\n",
       "      <td>0.000000e+00</td>\n",
       "      <td>0.000000e+00</td>\n",
       "      <td>0.000000e+00</td>\n",
       "      <td>0.000000e+00</td>\n",
       "      <td>0.000000e+00</td>\n",
       "      <td>0.000000e+00</td>\n",
       "      <td>0.000000e+00</td>\n",
       "      <td>0.000000e+00</td>\n",
       "      <td>0.000000e+00</td>\n",
       "      <td>0.000000e+00</td>\n",
       "      <td>...</td>\n",
       "      <td>0.000000e+00</td>\n",
       "      <td>0.000000e+00</td>\n",
       "      <td>0.000000e+00</td>\n",
       "      <td>0.000000e+00</td>\n",
       "      <td>0.000000e+00</td>\n",
       "      <td>0.000000e+00</td>\n",
       "      <td>0.000000e+00</td>\n",
       "      <td>0.000000</td>\n",
       "      <td>0.000000</td>\n",
       "      <td>0.000000</td>\n",
       "    </tr>\n",
       "    <tr>\n",
       "      <th>50%</th>\n",
       "      <td>0.000000e+00</td>\n",
       "      <td>0.000000e+00</td>\n",
       "      <td>0.000000e+00</td>\n",
       "      <td>0.000000e+00</td>\n",
       "      <td>0.000000e+00</td>\n",
       "      <td>0.000000e+00</td>\n",
       "      <td>0.000000e+00</td>\n",
       "      <td>0.000000e+00</td>\n",
       "      <td>0.000000e+00</td>\n",
       "      <td>0.000000e+00</td>\n",
       "      <td>...</td>\n",
       "      <td>1.253000e+03</td>\n",
       "      <td>9.370000e+02</td>\n",
       "      <td>1.335000e+03</td>\n",
       "      <td>1.546000e+03</td>\n",
       "      <td>1.897000e+03</td>\n",
       "      <td>1.663000e+03</td>\n",
       "      <td>1.265000e+03</td>\n",
       "      <td>223.000000</td>\n",
       "      <td>178.000000</td>\n",
       "      <td>144.000000</td>\n",
       "    </tr>\n",
       "    <tr>\n",
       "      <th>75%</th>\n",
       "      <td>7.531000e+03</td>\n",
       "      <td>1.001850e+04</td>\n",
       "      <td>9.155500e+03</td>\n",
       "      <td>1.013950e+04</td>\n",
       "      <td>8.962000e+03</td>\n",
       "      <td>7.860500e+03</td>\n",
       "      <td>6.165500e+03</td>\n",
       "      <td>7.850000e+03</td>\n",
       "      <td>1.113300e+04</td>\n",
       "      <td>1.110300e+04</td>\n",
       "      <td>...</td>\n",
       "      <td>3.229750e+04</td>\n",
       "      <td>1.650900e+04</td>\n",
       "      <td>3.790550e+04</td>\n",
       "      <td>4.217350e+04</td>\n",
       "      <td>4.068900e+04</td>\n",
       "      <td>4.268650e+04</td>\n",
       "      <td>3.140250e+04</td>\n",
       "      <td>4597.500000</td>\n",
       "      <td>3145.000000</td>\n",
       "      <td>3583.000000</td>\n",
       "    </tr>\n",
       "    <tr>\n",
       "      <th>max</th>\n",
       "      <td>8.575135e+06</td>\n",
       "      <td>9.484134e+06</td>\n",
       "      <td>8.956112e+06</td>\n",
       "      <td>8.778524e+06</td>\n",
       "      <td>9.221978e+06</td>\n",
       "      <td>8.036202e+06</td>\n",
       "      <td>7.774754e+06</td>\n",
       "      <td>8.446672e+06</td>\n",
       "      <td>9.994667e+06</td>\n",
       "      <td>8.111738e+06</td>\n",
       "      <td>...</td>\n",
       "      <td>1.671861e+06</td>\n",
       "      <td>1.538773e+06</td>\n",
       "      <td>1.713603e+06</td>\n",
       "      <td>1.982189e+06</td>\n",
       "      <td>1.856641e+06</td>\n",
       "      <td>1.937118e+06</td>\n",
       "      <td>1.596551e+06</td>\n",
       "      <td>631262.000000</td>\n",
       "      <td>530477.000000</td>\n",
       "      <td>534231.000000</td>\n",
       "    </tr>\n",
       "  </tbody>\n",
       "</table>\n",
       "<p>8 rows × 63 columns</p>\n",
       "</div>"
      ],
      "text/plain": [
       "             Jul-16        Aug-16        Sep-16        Oct-16        Nov-16  \\\n",
       "count  2.470000e+02  2.470000e+02  2.470000e+02  2.470000e+02  2.470000e+02   \n",
       "mean   1.166771e+05  1.311497e+05  1.240824e+05  1.218900e+05  1.267947e+05   \n",
       "std    7.011211e+05  7.684896e+05  7.304312e+05  7.160032e+05  7.536720e+05   \n",
       "min    0.000000e+00  0.000000e+00  0.000000e+00  0.000000e+00  0.000000e+00   \n",
       "25%    0.000000e+00  0.000000e+00  0.000000e+00  0.000000e+00  0.000000e+00   \n",
       "50%    0.000000e+00  0.000000e+00  0.000000e+00  0.000000e+00  0.000000e+00   \n",
       "75%    7.531000e+03  1.001850e+04  9.155500e+03  1.013950e+04  8.962000e+03   \n",
       "max    8.575135e+06  9.484134e+06  8.956112e+06  8.778524e+06  9.221978e+06   \n",
       "\n",
       "             Dec-16        Jan-17        Feb-17        Mar-17        Apr-17  \\\n",
       "count  2.470000e+02  2.470000e+02  2.470000e+02  2.470000e+02  2.470000e+02   \n",
       "mean   1.141279e+05  1.082406e+05  1.164657e+05  1.399449e+05  1.163795e+05   \n",
       "std    6.735766e+05  6.489393e+05  6.932163e+05  8.139497e+05  6.747326e+05   \n",
       "min    0.000000e+00  0.000000e+00  0.000000e+00  0.000000e+00  0.000000e+00   \n",
       "25%    0.000000e+00  0.000000e+00  0.000000e+00  0.000000e+00  0.000000e+00   \n",
       "50%    0.000000e+00  0.000000e+00  0.000000e+00  0.000000e+00  0.000000e+00   \n",
       "75%    7.860500e+03  6.165500e+03  7.850000e+03  1.113300e+04  1.110300e+04   \n",
       "max    8.036202e+06  7.774754e+06  8.446672e+06  9.994667e+06  8.111738e+06   \n",
       "\n",
       "       ...        Dec-20        Jan-21        Feb-21        Mar-21  \\\n",
       "count  ...  2.470000e+02  2.470000e+02  2.470000e+02  2.470000e+02   \n",
       "mean   ...  6.548096e+04  5.512768e+04  7.192491e+04  8.471985e+04   \n",
       "std    ...  2.018115e+05  1.743364e+05  2.124248e+05  2.476054e+05   \n",
       "min    ...  0.000000e+00  0.000000e+00  0.000000e+00  0.000000e+00   \n",
       "25%    ...  0.000000e+00  0.000000e+00  0.000000e+00  0.000000e+00   \n",
       "50%    ...  1.253000e+03  9.370000e+02  1.335000e+03  1.546000e+03   \n",
       "75%    ...  3.229750e+04  1.650900e+04  3.790550e+04  4.217350e+04   \n",
       "max    ...  1.671861e+06  1.538773e+06  1.713603e+06  1.982189e+06   \n",
       "\n",
       "             Apr-21        May-21        Jun-21         Jul-21         Aug-21  \\\n",
       "count  2.470000e+02  2.470000e+02  2.470000e+02     247.000000     247.000000   \n",
       "mean   8.320850e+04  8.517655e+04  6.960921e+04   21331.307692   17189.834008   \n",
       "std    2.411020e+05  2.487978e+05  2.058082e+05   73654.659210   59846.955262   \n",
       "min    0.000000e+00  0.000000e+00  0.000000e+00       0.000000       0.000000   \n",
       "25%    0.000000e+00  0.000000e+00  0.000000e+00       0.000000       0.000000   \n",
       "50%    1.897000e+03  1.663000e+03  1.265000e+03     223.000000     178.000000   \n",
       "75%    4.068900e+04  4.268650e+04  3.140250e+04    4597.500000    3145.000000   \n",
       "max    1.856641e+06  1.937118e+06  1.596551e+06  631262.000000  530477.000000   \n",
       "\n",
       "              Sep-21  \n",
       "count     247.000000  \n",
       "mean    18485.323887  \n",
       "std     63180.665555  \n",
       "min         0.000000  \n",
       "25%         0.000000  \n",
       "50%       144.000000  \n",
       "75%      3583.000000  \n",
       "max    534231.000000  \n",
       "\n",
       "[8 rows x 63 columns]"
      ]
     },
     "execution_count": 80,
     "metadata": {},
     "output_type": "execute_result"
    }
   ],
   "source": [
    "data_c.describe()"
   ]
  },
  {
   "cell_type": "markdown",
   "id": "bcfd2168",
   "metadata": {},
   "source": [
    "### Split dataset into individual years"
   ]
  },
  {
   "cell_type": "code",
   "execution_count": 81,
   "id": "98eea5bd",
   "metadata": {},
   "outputs": [],
   "source": [
    "## new dataframe for each year\n",
    "data_2016 = []\n",
    "data_2017 = []\n",
    "data_2018 = []\n",
    "data_2019 =[]\n",
    "data_2020=[]\n",
    "data_2021=[]\n",
    "for i in range(2,8):\n",
    "    data_2016.append(data_c.columns[i])\n",
    "for i in range(8,20):\n",
    "    data_2017.append(data_c.columns[i])\n",
    "for i in range(20,32):\n",
    "    data_2018.append(data_c.columns[i])\n",
    "for i in range(32,44):\n",
    "    data_2019.append(data_c.columns[i])\n",
    "for i in range(44,56):\n",
    "    data_2020.append(data_c.columns[i])\n",
    "for i in range(56,65):\n",
    "    data_2021.append(data_c.columns[i])"
   ]
  },
  {
   "cell_type": "code",
   "execution_count": 82,
   "id": "fd96344d",
   "metadata": {},
   "outputs": [
    {
     "data": {
      "text/plain": [
       "['Jan-18',\n",
       " 'Feb-18',\n",
       " 'Mar-18',\n",
       " 'Apr-18',\n",
       " 'May-18',\n",
       " 'Jun-18',\n",
       " 'Jul-18',\n",
       " 'Aug-18',\n",
       " 'Sep-18',\n",
       " 'Oct-18',\n",
       " 'Nov-18',\n",
       " 'Dec-18']"
      ]
     },
     "execution_count": 82,
     "metadata": {},
     "output_type": "execute_result"
    }
   ],
   "source": [
    "#checking \n",
    "data_2018"
   ]
  },
  {
   "cell_type": "code",
   "execution_count": 83,
   "id": "ba5c1349",
   "metadata": {},
   "outputs": [],
   "source": [
    "data_16 = data_c[data_2016]\n",
    "data_17 = data_c[data_2017]\n",
    "data_18 = data_c[data_2018]\n",
    "data_19 = data_c[data_2019]\n",
    "data_20 = data_c[data_2020]\n",
    "data_21 = data_c[data_2021]"
   ]
  },
  {
   "cell_type": "code",
   "execution_count": 84,
   "id": "2fbd4c8b",
   "metadata": {},
   "outputs": [],
   "source": [
    "#total people travelled \n",
    "total16 = (data_16.sum()).sum()\n",
    "total17 = (data_17.sum()).sum()\n",
    "total18 = (data_18.sum()).sum()\n",
    "total19 = (data_19.sum()).sum()\n",
    "total20 = (data_20.sum()).sum()\n",
    "total21 = (data_21.sum()).sum()"
   ]
  },
  {
   "cell_type": "markdown",
   "id": "a90a664a",
   "metadata": {},
   "source": [
    "### 2016 July to December"
   ]
  },
  {
   "cell_type": "code",
   "execution_count": 85,
   "id": "fe3d32a7",
   "metadata": {},
   "outputs": [
    {
     "data": {
      "image/png": "[encoded data removed]",
      "text/plain": [
       "<Figure size 432x288 with 1 Axes>"
      ]
     },
     "metadata": {
      "needs_background": "light"
     },
     "output_type": "display_data"
    }
   ],
   "source": [
    "data_16.sum().plot()\n",
    "plt.title('2016 Total Train Travel (Jul-Dec)')\n",
    "plt.xlabel('Month')\n",
    "plt.ylabel('Number of People Travavelled(M)');"
   ]
  },
  {
   "cell_type": "code",
   "execution_count": 86,
   "id": "34c0fe0f",
   "metadata": {},
   "outputs": [
    {
     "data": {
      "image/png": "[encoded data removed]",
      "text/plain": [
       "<Figure size 432x288 with 1 Axes>"
      ]
     },
     "metadata": {},
     "output_type": "display_data"
    }
   ],
   "source": [
    "total = [total16,total17,total18,total19,total20,total21]\n",
    "years = ['2016','2017','2018','2019','2020','2021']\n",
    "color = ['r','g','b','m','y', 'b']\n",
    "plt.pie(total, labels = years, colors = color, shadow = True, startangle = 90)\n",
    "plt.legend()\n",
    "plt.show()"
   ]
  },
  {
   "cell_type": "markdown",
   "id": "9afa31a1",
   "metadata": {},
   "source": [
    "<b>Observation</b>: It can be observed here that the 2016 data only collect train travel from the second half of that year. Through our observation, we conluded that the change in seasons (Aug-16 & Dec-16), total train travels has drasically increased due to the transitions in seasons. "
   ]
  },
  {
   "cell_type": "markdown",
   "id": "43d3dc9a",
   "metadata": {},
   "source": [
    "### 2017 Jan to December"
   ]
  },
  {
   "cell_type": "code",
   "execution_count": 87,
   "id": "0e028512",
   "metadata": {},
   "outputs": [
    {
     "data": {
      "text/plain": [
       "Text(0, 0.5, 'Number of People Travavelled(M)')"
      ]
     },
     "execution_count": 87,
     "metadata": {},
     "output_type": "execute_result"
    },
    {
     "data": {
      "image/png": "[encoded data removed]",
      "text/plain": [
       "<Figure size 432x288 with 1 Axes>"
      ]
     },
     "metadata": {
      "needs_background": "light"
     },
     "output_type": "display_data"
    }
   ],
   "source": [
    "data_17.sum().plot() ##maybe include other months \n",
    "plt.title('2017 Total Train Travel (Jan-Dec)')\n",
    "plt.xlabel('Month')\n",
    "plt.ylabel('Number of People Travavelled(M)')"
   ]
  },
  {
   "cell_type": "code",
   "execution_count": 88,
   "id": "5f796135",
   "metadata": {},
   "outputs": [
    {
     "data": {
      "image/png": "[encoded data removed]",
      "text/plain": [
       "<Figure size 432x288 with 1 Axes>"
      ]
     },
     "metadata": {},
     "output_type": "display_data"
    }
   ],
   "source": [
    "#2017\n",
    "sum = data_17.sum()\n",
    "months = ['Jan','Feb','Mar','Apr','May','Jun','Jul','Aug','Sep','Oct','Nov','Dec']\n",
    "color = ['r','g','b','m','y', 'b']\n",
    "plt.pie(sum, labels = months, colors = color, shadow = True, startangle = 90)\n",
    "plt.legend()\n",
    "plt.show()"
   ]
  },
  {
   "cell_type": "markdown",
   "id": "2943a879",
   "metadata": {},
   "source": [
    "<b>Observation:</b> In comparison to 2016, the total travel train time in 2017 has signifcantly increased. However, the transition between seasons indicates that the total train travels has dips in contrast to 2016's data."
   ]
  },
  {
   "cell_type": "markdown",
   "id": "d6853c4d",
   "metadata": {},
   "source": [
    "### 2018 Jan to December"
   ]
  },
  {
   "cell_type": "code",
   "execution_count": 89,
   "id": "0f011e9b",
   "metadata": {},
   "outputs": [
    {
     "data": {
      "text/plain": [
       "Text(0, 0.5, 'Number of People Travavelled(M)')"
      ]
     },
     "execution_count": 89,
     "metadata": {},
     "output_type": "execute_result"
    },
    {
     "data": {
      "image/png": "[encoded data removed]",
      "text/plain": [
       "<Figure size 432x288 with 1 Axes>"
      ]
     },
     "metadata": {
      "needs_background": "light"
     },
     "output_type": "display_data"
    }
   ],
   "source": [
    "data_18.sum().plot()\n",
    "plt.title('2018 Total Train Travel (Jan-Dec)')\n",
    "plt.xlabel('Month')\n",
    "plt.ylabel('Number of People Travavelled(M)')\n",
    "\n"
   ]
  },
  {
   "cell_type": "code",
   "execution_count": 90,
   "id": "05a9de4b",
   "metadata": {},
   "outputs": [
    {
     "data": {
      "image/png": "[encoded data removed]",
      "text/plain": [
       "<Figure size 432x288 with 1 Axes>"
      ]
     },
     "metadata": {},
     "output_type": "display_data"
    }
   ],
   "source": [
    "#2018\n",
    "sum = data_18.sum()\n",
    "months = ['Jan','Feb','Mar','Apr','May','Jun','Jul','Aug','Sep','Oct','Nov','Dec']\n",
    "color = ['r','g','b','m','y', 'b']\n",
    "plt.pie(sum, labels = months, colors = color, shadow = True, startangle = 90)\n",
    "plt.legend()\n",
    "plt.show()"
   ]
  },
  {
   "cell_type": "markdown",
   "id": "beae734f",
   "metadata": {},
   "source": [
    "<b>Observation:</b> In the year 2018 the graph indicates a chevroned pattern where the number of passengers where more in the month of May. Travellers were seen less in April compared to other reduced months."
   ]
  },
  {
   "cell_type": "markdown",
   "id": "e6292913",
   "metadata": {},
   "source": [
    "### 2019 Jan to December"
   ]
  },
  {
   "cell_type": "code",
   "execution_count": 91,
   "id": "6fce3332",
   "metadata": {},
   "outputs": [
    {
     "data": {
      "text/plain": [
       "Text(0, 0.5, 'Number of People Travavelled(M)')"
      ]
     },
     "execution_count": 91,
     "metadata": {},
     "output_type": "execute_result"
    },
    {
     "data": {
      "image/png": "[encoded data removed]",
      "text/plain": [
       "<Figure size 432x288 with 1 Axes>"
      ]
     },
     "metadata": {
      "needs_background": "light"
     },
     "output_type": "display_data"
    }
   ],
   "source": [
    "data_19.sum().plot()\n",
    "plt.title('2019 Total Train Travel (Jan-Dec)')\n",
    "plt.xlabel('Month')\n",
    "plt.ylabel('Number of People Travavelled(M)')\n",
    "\n"
   ]
  },
  {
   "cell_type": "code",
   "execution_count": 92,
   "id": "05405e69",
   "metadata": {},
   "outputs": [
    {
     "data": {
      "image/png": "[encoded data removed]",
      "text/plain": [
       "<Figure size 432x288 with 1 Axes>"
      ]
     },
     "metadata": {},
     "output_type": "display_data"
    }
   ],
   "source": [
    "#2019\n",
    "sum = data_19.sum()\n",
    "months = ['Jan','Feb','Mar','Apr','May','Jun','Jul','Aug','Sep','Oct','Nov','Dec']\n",
    "color = ['r','g','b','m','y', 'b']\n",
    "plt.pie(sum, labels = months, colors = color, shadow = True, startangle = 90)\n",
    "plt.legend()\n",
    "plt.show()"
   ]
  },
  {
   "cell_type": "markdown",
   "id": "3386860b",
   "metadata": {},
   "source": [
    "<b>Observation:</b> As per other years the graphs indicated the same amount of travellers travelling in February,May,August and October. However the amount of travellers decreased from July to rest of the year compared to first half of the year."
   ]
  },
  {
   "cell_type": "markdown",
   "id": "2054baff",
   "metadata": {},
   "source": [
    "### 2020 Jan to December"
   ]
  },
  {
   "cell_type": "code",
   "execution_count": 93,
   "id": "eaafc575",
   "metadata": {},
   "outputs": [
    {
     "data": {
      "text/plain": [
       "Text(0, 0.5, 'Number of People Travavelled(M)')"
      ]
     },
     "execution_count": 93,
     "metadata": {},
     "output_type": "execute_result"
    },
    {
     "data": {
      "image/png": "[encoded data removed]",
      "text/plain": [
       "<Figure size 432x288 with 1 Axes>"
      ]
     },
     "metadata": {
      "needs_background": "light"
     },
     "output_type": "display_data"
    }
   ],
   "source": [
    "data_20.sum().plot()\n",
    "plt.title('2020 Total Train Travel (Jan-Dec)')\n",
    "plt.xlabel('Month')\n",
    "plt.ylabel('Number of People Travavelled(M)')"
   ]
  },
  {
   "cell_type": "code",
   "execution_count": 94,
   "id": "4aaa3f97",
   "metadata": {},
   "outputs": [
    {
     "data": {
      "image/png": "[encoded data removed]",
      "text/plain": [
       "<Figure size 432x288 with 1 Axes>"
      ]
     },
     "metadata": {},
     "output_type": "display_data"
    }
   ],
   "source": [
    "#2020\n",
    "sum = data_20.sum()\n",
    "months = ['Jan','Feb','Mar','Apr','May','Jun','Jul','Aug','Sep','Oct','Nov','Dec']\n",
    "color = ['r','g','b','m','y', 'b']\n",
    "plt.pie(sum, labels = months, colors = color, shadow = True, startangle = 90)\n",
    "plt.legend()\n",
    "plt.show()"
   ]
  },
  {
   "cell_type": "markdown",
   "id": "c333fb51",
   "metadata": {},
   "source": [
    "<b>Observation:</b> The year 2020 was different in regards to previous years. It is evident that the total train travel has dropped signifcantly from April and onwards. We believe that the COVID-19 pandemic had drastically changed not only the public transports industry but the rest of our society."
   ]
  },
  {
   "cell_type": "markdown",
   "id": "1a38035e",
   "metadata": {},
   "source": [
    "### 2021 Jan to Sep"
   ]
  },
  {
   "cell_type": "code",
   "execution_count": 95,
   "id": "08f15cde",
   "metadata": {},
   "outputs": [
    {
     "data": {
      "text/plain": [
       "Text(0, 0.5, 'Number of People Travavelled(M)')"
      ]
     },
     "execution_count": 95,
     "metadata": {},
     "output_type": "execute_result"
    },
    {
     "data": {
      "image/png": "[encoded data removed]",
      "text/plain": [
       "<Figure size 432x288 with 1 Axes>"
      ]
     },
     "metadata": {
      "needs_background": "light"
     },
     "output_type": "display_data"
    }
   ],
   "source": [
    "data_21.sum().plot()\n",
    "plt.title('2021 Total Train Travel (Jan-Dec)')\n",
    "plt.xlabel('Month')\n",
    "plt.ylabel('Number of People Travavelled(M)')"
   ]
  },
  {
   "cell_type": "code",
   "execution_count": 96,
   "id": "28716fb7",
   "metadata": {},
   "outputs": [
    {
     "data": {
      "image/png": "[encoded data removed]",
      "text/plain": [
       "<Figure size 432x288 with 1 Axes>"
      ]
     },
     "metadata": {},
     "output_type": "display_data"
    }
   ],
   "source": [
    "sum = data_21.sum()\n",
    "months = ['Jan','Feb','Mar','Apr','May','Jun','Jul','Aug','Sep']\n",
    "color = ['r','g','b','m','y', 'b']\n",
    "plt.pie(sum, labels = months, colors = color, shadow = True, startangle = 90)\n",
    "plt.legend()\n",
    "plt.show()"
   ]
  },
  {
   "cell_type": "markdown",
   "id": "2d6f6ad1",
   "metadata": {},
   "source": [
    "<b>Observation:</b> The number of passengers increased from 1.35(Mill) to more than 2.00(Mill) from January to March. <br> We believe that this was due to COVID-19 restrictions easing and our economy steadily adjusting back to pre-pandemic. <br> However, it is evident that the 2021 data from july onwards replicated the drastic dip from 2020 due to the lockdown that recently occured. \n",
    "\n",
    "\n",
    "\n"
   ]
  },
  {
   "cell_type": "markdown",
   "id": "f9db26ad",
   "metadata": {},
   "source": [
    "# Bar plot analysis\n"
   ]
  },
  {
   "cell_type": "code",
   "execution_count": 98,
   "id": "52b4414e",
   "metadata": {},
   "outputs": [
    {
     "data": {
      "image/png": "[encoded data removed]",
      "text/plain": [
       "<Figure size 1080x504 with 1 Axes>"
      ]
     },
     "metadata": {
      "needs_background": "light"
     },
     "output_type": "display_data"
    }
   ],
   "source": [
    "labels = ['2016', '2017','2018','2019','2020','2021']\n",
    "plt.figure(figsize=(15,7))\n",
    "plt.bar(\"2016\", total16, align = 'center', label = '2016') \n",
    "plt.bar( \"2017\", total17,  align = 'center', label = '2017') \n",
    "plt.bar(\"2018\", total18, color = 'red' ,align = 'center', label = '2018') \n",
    "plt.bar( \"2019\", total19,  align = 'center', label = '2019') \n",
    "plt.bar( \"2020\", total20, align = 'center', label = '2020') \n",
    "plt.bar( \"2021\", total21,  align = 'center', label = '2021') \n",
    "plt.title('Comparision for Total People Travelled over years') \n",
    "plt.ylabel('Total People Travelled(m)') \n",
    "plt.xlabel('Year') \n",
    "plt.legend()\n",
    "plt.show()"
   ]
  },
  {
   "cell_type": "markdown",
   "id": "3147b773",
   "metadata": {},
   "source": [
    "### Observation\n",
    "\n",
    "During 2016, the data provided only covered the months of July to December, resulting in a misleading data set. If statistics for the entire year had been available, it is reasonable to assume that train utilisation in 2016 would have been comparable to that in 2017-2019. There was a considerable reduction in ticket consumption between 2020 and 2021. The COVID-19 pandemic was occurring at the time, leading to the conclusion that this is a direct outcome of the virus.\n",
    "\n"
   ]
  },
  {
   "cell_type": "code",
   "execution_count": 109,
   "id": "a1346fa7",
   "metadata": {},
   "outputs": [],
   "source": [
    "# splitting the data by years and adding the sum of each data column\n",
    "new = pd.DataFrame({\n",
    "    'month': ['Jan','Feb','Mar','Apr','May','Jun','Jul','Aug','Sep','Oct','Nov','Dec'],\n",
    "    '2016':[0,0,0,0,0,0,data_16['Jul-16'].sum(),data_16['Aug-16'].sum(),data_16['Sep-16'].sum(),data_16['Oct-16'].sum(),data_16['Nov-16'].sum(),data_16['Dec-16'].sum()],\n",
    "    '2017':[data_17['Jan-17'].sum(),data_17['Feb-17'].sum(),data_17['Mar-17'].sum(),data_17['Apr-17'].sum(),data_17['May-17'].sum(),data_17['Jun-17'].sum(),data_17['Jul-17'].sum(),data_17['Aug-17'].sum(),data_17['Sep-17'].sum(),data_17['Oct-17'].sum(),data_17['Nov-17'].sum(),data_17['Dec-17'].sum()],\n",
    "    '2018':[data_18['Jan-18'].sum(),data_18['Feb-18'].sum(),data_18['Mar-18'].sum(),data_18['Apr-18'].sum(),data_18['May-18'].sum(),data_18['Jun-18'].sum(),data_18['Jul-18'].sum(),data_18['Aug-18'].sum(),data_18['Sep-18'].sum(),data_18['Oct-18'].sum(),data_18['Nov-18'].sum(),data_18['Dec-18'].sum()],\n",
    "    '2019':[data_19['Jan-19'].sum(),data_19['Feb-19'].sum(),data_19['Mar-19'].sum(),data_19['Apr-19'].sum(),data_19['May-19'].sum(),data_19['Jun-19'].sum(),data_19['Jul-19'].sum(),data_19['Aug-19'].sum(),data_19['Sep-19'].sum(),data_19['Oct-19'].sum(),data_19['Nov-19'].sum(),data_19['Dec-19'].sum()],\n",
    "    '2020':[data_20['Jan-20'].sum(),data_20['Feb-20'].sum(),data_20['Mar-20'].sum(),data_20['Apr-20'].sum(),data_20['May-20'].sum(),data_20['Jun-20'].sum(),data_20['Jul-20'].sum(),data_20['Aug-20'].sum(),data_20['Sep-20'].sum(),data_20['Oct-20'].sum(),data_20['Nov-20'].sum(),data_20['Dec-20'].sum()],\n",
    "    '2021':[data_21['Jan-21'].sum(),data_21['Feb-21'].sum(),data_21['Mar-21'].sum(),data_21['Apr-21'].sum(),data_21['May-21'].sum(),data_21['Jun-21'].sum(),data_21['Jul-21'].sum(),data_21['Aug-21'].sum(),data_21['Sep-21'].sum(),0,0,0]\n",
    "})"
   ]
  },
  {
   "cell_type": "code",
   "execution_count": 110,
   "id": "75e445c5",
   "metadata": {},
   "outputs": [
    {
     "data": {
      "text/plain": [
       "<matplotlib.legend.Legend at 0x7ffa02bb1d30>"
      ]
     },
     "execution_count": 110,
     "metadata": {},
     "output_type": "execute_result"
    },
    {
     "data": {
      "image/png": "[encoded data removed]",
      "text/plain": [
       "<Figure size 432x288 with 1 Axes>"
      ]
     },
     "metadata": {
      "needs_background": "light"
     },
     "output_type": "display_data"
    }
   ],
   "source": [
    "#ploting the data set for analysis\n",
    "new.plot()\n",
    "plt.xlabel('Month')\n",
    "plt.ylabel('Number of People Travavelled(10Mill)')\n",
    "plt.legend()"
   ]
  },
  {
   "cell_type": "markdown",
   "id": "090bbc57",
   "metadata": {},
   "source": [
    "<b>Observation:</b> In the above plot it can be seen that the numbers were closely same for the years 2017 to 2019 which formed a chevroned pattern. We must also consider that in 2016, we only had data from the second half of that year. Regardless, it follow the same pattern from the upcoming years. However, train travel has instinctly broke apart from this pattern from february to may in the year 2020 but started to incline slowly for the rest of the year. In 2021 the numbers were in the mid range until the middle of the year and started to decline for the rest of the year. We can conclude that the the pandemic had a significant impact to the total travel in NSW since the introduction of the novel virus."
   ]
  },
  {
   "cell_type": "code",
   "execution_count": 111,
   "id": "c4158808",
   "metadata": {},
   "outputs": [
    {
     "data": {
      "text/plain": [
       "Text(0, 0.5, 'Number of People Travavelled(10Mill)')"
      ]
     },
     "execution_count": 111,
     "metadata": {},
     "output_type": "execute_result"
    },
    {
     "data": {
      "image/png": "[encoded data removed]",
      "text/plain": [
       "<Figure size 1080x504 with 1 Axes>"
      ]
     },
     "metadata": {
      "needs_background": "light"
     },
     "output_type": "display_data"
    }
   ],
   "source": [
    "#Histogram comparing overall people travelled in month \n",
    "df2 = pd.DataFrame(new, columns=[\"month\", '2016','2017','2018','2019','2020','2021'])\n",
    "df2.plot.bar(figsize=(15,7));\n",
    "plt.xlabel('Month')\n",
    "plt.ylabel('Number of People Travavelled(10Mill)')\n"
   ]
  },
  {
   "cell_type": "code",
   "execution_count": 112,
   "id": "3d3386e6",
   "metadata": {},
   "outputs": [
    {
     "data": {
      "image/png": "[encoded data removed]",
      "text/plain": [
       "<Figure size 432x288 with 1 Axes>"
      ]
     },
     "metadata": {
      "needs_background": "light"
     },
     "output_type": "display_data"
    }
   ],
   "source": [
    "df2.plot.barh(stacked=True);"
   ]
  },
  {
   "cell_type": "markdown",
   "id": "8a77f168",
   "metadata": {},
   "source": [
    "## Analysis \n",
    "\n",
    "The dataset had indicated that the majority of travels from NSW was from the Adult and concession type of opal travel. From this, we have decided to create new dataframe to calculate the total sum of each year from the each of the following travel type respectively. \n",
    "This meant that we had to repeat our data cleaning process that we have initally produced. "
   ]
  },
  {
   "cell_type": "code",
   "execution_count": 117,
   "id": "1b07e49c",
   "metadata": {},
   "outputs": [
    {
     "data": {
      "text/plain": [
       "0      T1\n",
       "1      T1\n",
       "2      T1\n",
       "3      T1\n",
       "4      T1\n",
       "       ..\n",
       "243    T9\n",
       "244    T9\n",
       "245    T9\n",
       "246    T9\n",
       "247    Gr\n",
       "Name: TrainLine, Length: 248, dtype: object"
      ]
     },
     "execution_count": 117,
     "metadata": {},
     "output_type": "execute_result"
    }
   ],
   "source": [
    "## there are duplicate trainlines that are refering the same trainlines\n",
    "\n",
    "data['TrainLine'] = data['Route'].str[0:2] ## targets the first two string from order date \n",
    "data['TrainLine'] = data['TrainLine'].astype('object')\n",
    "data.head(25)\n",
    "\n",
    "data['TrainLine']"
   ]
  },
  {
   "cell_type": "markdown",
   "id": "10ce3a3a",
   "metadata": {},
   "source": [
    "## Reseting index\n"
   ]
  },
  {
   "cell_type": "code",
   "execution_count": 114,
   "id": "1b514c0f",
   "metadata": {},
   "outputs": [],
   "source": [
    "## reset index\n",
    "data = data.dropna()\n",
    "data = data.reset_index(drop=True)"
   ]
  },
  {
   "cell_type": "code",
   "execution_count": 115,
   "id": "47d55c84",
   "metadata": {},
   "outputs": [
    {
     "data": {
      "text/html": [
       "<div>\n",
       "<style scoped>\n",
       "    .dataframe tbody tr th:only-of-type {\n",
       "        vertical-align: middle;\n",
       "    }\n",
       "\n",
       "    .dataframe tbody tr th {\n",
       "        vertical-align: top;\n",
       "    }\n",
       "\n",
       "    .dataframe thead th {\n",
       "        text-align: right;\n",
       "    }\n",
       "</style>\n",
       "<table border=\"1\" class=\"dataframe\">\n",
       "  <thead>\n",
       "    <tr style=\"text-align: right;\">\n",
       "      <th></th>\n",
       "      <th>Route</th>\n",
       "      <th>Travel_type</th>\n",
       "      <th>Jul-16</th>\n",
       "      <th>Aug-16</th>\n",
       "      <th>Sep-16</th>\n",
       "      <th>Oct-16</th>\n",
       "      <th>Nov-16</th>\n",
       "      <th>Dec-16</th>\n",
       "      <th>Jan-17</th>\n",
       "      <th>Feb-17</th>\n",
       "      <th>...</th>\n",
       "      <th>Jan-21</th>\n",
       "      <th>Feb-21</th>\n",
       "      <th>Mar-21</th>\n",
       "      <th>Apr-21</th>\n",
       "      <th>May-21</th>\n",
       "      <th>Jun-21</th>\n",
       "      <th>Jul-21</th>\n",
       "      <th>Aug-21</th>\n",
       "      <th>Sep-21</th>\n",
       "      <th>TrainLine</th>\n",
       "    </tr>\n",
       "  </thead>\n",
       "  <tbody>\n",
       "    <tr>\n",
       "      <th>0</th>\n",
       "      <td>T1 North Shore Northern and Western Line</td>\n",
       "      <td>Adult</td>\n",
       "      <td>8575135</td>\n",
       "      <td>9484134</td>\n",
       "      <td>8956112</td>\n",
       "      <td>8778524</td>\n",
       "      <td>9221978</td>\n",
       "      <td>8036202</td>\n",
       "      <td>7774754</td>\n",
       "      <td>8446672</td>\n",
       "      <td>...</td>\n",
       "      <td>0</td>\n",
       "      <td>0</td>\n",
       "      <td>0</td>\n",
       "      <td>0</td>\n",
       "      <td>0</td>\n",
       "      <td>0</td>\n",
       "      <td>0</td>\n",
       "      <td>0</td>\n",
       "      <td>0</td>\n",
       "      <td>T1</td>\n",
       "    </tr>\n",
       "  </tbody>\n",
       "</table>\n",
       "<p>1 rows × 66 columns</p>\n",
       "</div>"
      ],
      "text/plain": [
       "                                      Route Travel_type   Jul-16   Aug-16  \\\n",
       "0  T1 North Shore Northern and Western Line       Adult  8575135  9484134   \n",
       "\n",
       "    Sep-16   Oct-16   Nov-16   Dec-16   Jan-17   Feb-17  ...  Jan-21  Feb-21  \\\n",
       "0  8956112  8778524  9221978  8036202  7774754  8446672  ...       0       0   \n",
       "\n",
       "   Mar-21  Apr-21  May-21  Jun-21  Jul-21  Aug-21  Sep-21  TrainLine  \n",
       "0       0       0       0       0       0       0       0         T1  \n",
       "\n",
       "[1 rows x 66 columns]"
      ]
     },
     "execution_count": 115,
     "metadata": {},
     "output_type": "execute_result"
    }
   ],
   "source": [
    "data.head(1)"
   ]
  },
  {
   "cell_type": "code",
   "execution_count": 116,
   "id": "e9a9ffe1",
   "metadata": {},
   "outputs": [],
   "source": [
    "df2016 = data[['TrainLine','Travel_type','Jul-16','Aug-16','Sep-16','Oct-16','Nov-16','Dec-16']]\n",
    "df2017 = data[['TrainLine','Travel_type','Jan-17','Feb-17','Mar-17','Apr-17','May-17','Jun-17','Jul-17','Aug-17','Sep-17','Oct-17','Nov-17','Dec-17']]\n",
    "df2018 = data[['TrainLine','Travel_type','Jan-18','Feb-18','Mar-18','Apr-18','May-18','Jun-18','Jul-18','Aug-18','Sep-18','Oct-18','Nov-18','Dec-18']]\n",
    "df2019 = data[['TrainLine','Travel_type','Jan-19','Feb-19','Mar-19','Apr-19','May-19','Jun-19','Jul-19','Aug-19','Sep-19','Oct-19','Nov-19','Dec-19']]\n",
    "df2020 = data[['TrainLine','Travel_type','Jan-20','Feb-20','Mar-20','Apr-20','May-20','Jun-20','Jul-20','Aug-20','Sep-20','Oct-20','Nov-20','Dec-20']]\n",
    "df2021 = data[['TrainLine','Travel_type','Jan-21','Feb-21','Mar-21','Apr-21','May-21','Jun-21','Jul-21','Aug-21','Sep-21']]\n"
   ]
  },
  {
   "cell_type": "code",
   "execution_count": 119,
   "id": "e39bf87d",
   "metadata": {},
   "outputs": [],
   "source": [
    "## filtering adult coloumn \n",
    "adult16 = df2016[df2016.Travel_type == 'Adult']\n",
    "adult17 = df2017[df2017.Travel_type == 'Adult']\n",
    "adult18 = df2018[df2018.Travel_type == 'Adult']\n",
    "adult19 = df2019[df2019.Travel_type == 'Adult']\n",
    "adult20 = df2020[df2020.Travel_type == 'Adult']\n",
    "adult21 = df2021[df2021.Travel_type == 'Adult']\n",
    "\n",
    "Concession16 = df2016[df2016.Travel_type == 'Concession']\n",
    "Concession17 = df2017[df2017.Travel_type == 'Concession']\n",
    "Concession18 = df2018[df2018.Travel_type == 'Concession']\n",
    "Concession19 = df2019[df2019.Travel_type == 'Concession']\n",
    "Concession20 = df2020[df2020.Travel_type == 'Concession']\n",
    "Concession21 = df2021[df2021.Travel_type == 'Concession']\n"
   ]
  },
  {
   "cell_type": "code",
   "execution_count": 120,
   "id": "5118aa38",
   "metadata": {},
   "outputs": [],
   "source": [
    "## group by the trainline and travel type \n",
    "adult16 = adult16.groupby(['Travel_type','TrainLine'])\n",
    "adult17 = adult17.groupby(['Travel_type','TrainLine'])\n",
    "adult18 = adult18.groupby(['Travel_type','TrainLine'])\n",
    "adult19 = adult19.groupby(['Travel_type','TrainLine'])\n",
    "adult20 = adult20.groupby(['Travel_type','TrainLine'])\n",
    "adult21 = adult21.groupby(['Travel_type','TrainLine'])\n",
    "\n",
    "Concession16 = Concession16.groupby(['Travel_type','TrainLine'])\n",
    "Concession17 = Concession17.groupby(['Travel_type','TrainLine'])\n",
    "Concession18 = Concession18.groupby(['Travel_type','TrainLine'])\n",
    "Concession19 = Concession19.groupby(['Travel_type','TrainLine'])\n",
    "Concession20 = Concession20.groupby(['Travel_type','TrainLine'])\n",
    "Concession21 = Concession21.groupby(['Travel_type','TrainLine'])\n"
   ]
  },
  {
   "cell_type": "code",
   "execution_count": 121,
   "id": "a76574a2",
   "metadata": {},
   "outputs": [],
   "source": [
    "## multiple row Referring to the same trainline "
   ]
  },
  {
   "cell_type": "markdown",
   "id": "2309c675",
   "metadata": {},
   "source": [
    "## Final sum of the tables yearly "
   ]
  },
  {
   "cell_type": "code",
   "execution_count": 122,
   "id": "20d7e957",
   "metadata": {},
   "outputs": [],
   "source": [
    "sumadult16 = adult16.sum()\n",
    "sumadult17 = adult17.sum()\n",
    "sumadult18 = adult18.sum()\n",
    "sumadult19 = adult19.sum()\n",
    "sumadult20 = adult20.sum()\n",
    "sumadult21 = adult21.sum()\n",
    "\n",
    "sumConcession16 = Concession16.sum()\n",
    "sumConcession17 = Concession17.sum()\n",
    "sumConcession18 = Concession18.sum()\n",
    "sumConcession19 = Concession19.sum()\n",
    "sumConcession20 = Concession20.sum()\n",
    "sumConcession21 = Concession21.sum()\n",
    "\n",
    "## final table that has the total adult table with yearly total "
   ]
  },
  {
   "cell_type": "markdown",
   "id": "deef1a03",
   "metadata": {},
   "source": [
    "## Total Adult Travel 2021"
   ]
  },
  {
   "cell_type": "code",
   "execution_count": 123,
   "id": "a5f1426e",
   "metadata": {},
   "outputs": [
    {
     "data": {
      "text/html": [
       "<div>\n",
       "<style scoped>\n",
       "    .dataframe tbody tr th:only-of-type {\n",
       "        vertical-align: middle;\n",
       "    }\n",
       "\n",
       "    .dataframe tbody tr th {\n",
       "        vertical-align: top;\n",
       "    }\n",
       "\n",
       "    .dataframe thead th {\n",
       "        text-align: right;\n",
       "    }\n",
       "</style>\n",
       "<table border=\"1\" class=\"dataframe\">\n",
       "  <thead>\n",
       "    <tr style=\"text-align: right;\">\n",
       "      <th></th>\n",
       "      <th></th>\n",
       "      <th>Jan-21</th>\n",
       "      <th>Feb-21</th>\n",
       "      <th>Mar-21</th>\n",
       "      <th>Apr-21</th>\n",
       "      <th>May-21</th>\n",
       "      <th>Jun-21</th>\n",
       "      <th>Jul-21</th>\n",
       "      <th>Aug-21</th>\n",
       "      <th>Sep-21</th>\n",
       "    </tr>\n",
       "    <tr>\n",
       "      <th>Travel_type</th>\n",
       "      <th>TrainLine</th>\n",
       "      <th></th>\n",
       "      <th></th>\n",
       "      <th></th>\n",
       "      <th></th>\n",
       "      <th></th>\n",
       "      <th></th>\n",
       "      <th></th>\n",
       "      <th></th>\n",
       "      <th></th>\n",
       "    </tr>\n",
       "  </thead>\n",
       "  <tbody>\n",
       "    <tr>\n",
       "      <th rowspan=\"14\" valign=\"top\">Adult</th>\n",
       "      <th>Bl</th>\n",
       "      <td>191587</td>\n",
       "      <td>215611</td>\n",
       "      <td>248167</td>\n",
       "      <td>267221</td>\n",
       "      <td>243592</td>\n",
       "      <td>218192</td>\n",
       "      <td>73486</td>\n",
       "      <td>51628</td>\n",
       "      <td>54772</td>\n",
       "    </tr>\n",
       "    <tr>\n",
       "      <th>Ce</th>\n",
       "      <td>306328</td>\n",
       "      <td>400043</td>\n",
       "      <td>456765</td>\n",
       "      <td>474845</td>\n",
       "      <td>478407</td>\n",
       "      <td>364493</td>\n",
       "      <td>115111</td>\n",
       "      <td>91711</td>\n",
       "      <td>92176</td>\n",
       "    </tr>\n",
       "    <tr>\n",
       "      <th>Hu</th>\n",
       "      <td>15693</td>\n",
       "      <td>19030</td>\n",
       "      <td>19000</td>\n",
       "      <td>21817</td>\n",
       "      <td>22552</td>\n",
       "      <td>18955</td>\n",
       "      <td>13904</td>\n",
       "      <td>6379</td>\n",
       "      <td>4551</td>\n",
       "    </tr>\n",
       "    <tr>\n",
       "      <th>So</th>\n",
       "      <td>194022</td>\n",
       "      <td>231817</td>\n",
       "      <td>268885</td>\n",
       "      <td>258594</td>\n",
       "      <td>272613</td>\n",
       "      <td>216014</td>\n",
       "      <td>65771</td>\n",
       "      <td>56574</td>\n",
       "      <td>54467</td>\n",
       "    </tr>\n",
       "    <tr>\n",
       "      <th>St</th>\n",
       "      <td>0</td>\n",
       "      <td>0</td>\n",
       "      <td>0</td>\n",
       "      <td>0</td>\n",
       "      <td>0</td>\n",
       "      <td>0</td>\n",
       "      <td>0</td>\n",
       "      <td>0</td>\n",
       "      <td>0</td>\n",
       "    </tr>\n",
       "    <tr>\n",
       "      <th>T1</th>\n",
       "      <td>2072890</td>\n",
       "      <td>2732176</td>\n",
       "      <td>3186268</td>\n",
       "      <td>3139610</td>\n",
       "      <td>3270742</td>\n",
       "      <td>2671322</td>\n",
       "      <td>922742</td>\n",
       "      <td>744936</td>\n",
       "      <td>789155</td>\n",
       "    </tr>\n",
       "    <tr>\n",
       "      <th>T2</th>\n",
       "      <td>1265795</td>\n",
       "      <td>1531228</td>\n",
       "      <td>1798040</td>\n",
       "      <td>1642978</td>\n",
       "      <td>1600892</td>\n",
       "      <td>1494399</td>\n",
       "      <td>559423</td>\n",
       "      <td>449097</td>\n",
       "      <td>479690</td>\n",
       "    </tr>\n",
       "    <tr>\n",
       "      <th>T3</th>\n",
       "      <td>639096</td>\n",
       "      <td>781137</td>\n",
       "      <td>851759</td>\n",
       "      <td>850934</td>\n",
       "      <td>846030</td>\n",
       "      <td>706701</td>\n",
       "      <td>208600</td>\n",
       "      <td>198920</td>\n",
       "      <td>231984</td>\n",
       "    </tr>\n",
       "    <tr>\n",
       "      <th>T4</th>\n",
       "      <td>1538773</td>\n",
       "      <td>1713603</td>\n",
       "      <td>1982189</td>\n",
       "      <td>1856641</td>\n",
       "      <td>1937118</td>\n",
       "      <td>1596551</td>\n",
       "      <td>631262</td>\n",
       "      <td>530477</td>\n",
       "      <td>534231</td>\n",
       "    </tr>\n",
       "    <tr>\n",
       "      <th>T5</th>\n",
       "      <td>201514</td>\n",
       "      <td>293372</td>\n",
       "      <td>284364</td>\n",
       "      <td>279616</td>\n",
       "      <td>305354</td>\n",
       "      <td>244406</td>\n",
       "      <td>100527</td>\n",
       "      <td>62668</td>\n",
       "      <td>71368</td>\n",
       "    </tr>\n",
       "    <tr>\n",
       "      <th>T6</th>\n",
       "      <td>5673</td>\n",
       "      <td>6984</td>\n",
       "      <td>8548</td>\n",
       "      <td>7824</td>\n",
       "      <td>8229</td>\n",
       "      <td>7560</td>\n",
       "      <td>3908</td>\n",
       "      <td>3310</td>\n",
       "      <td>4102</td>\n",
       "    </tr>\n",
       "    <tr>\n",
       "      <th>T7</th>\n",
       "      <td>19725</td>\n",
       "      <td>29285</td>\n",
       "      <td>37870</td>\n",
       "      <td>65358</td>\n",
       "      <td>48087</td>\n",
       "      <td>51312</td>\n",
       "      <td>25498</td>\n",
       "      <td>35077</td>\n",
       "      <td>33909</td>\n",
       "    </tr>\n",
       "    <tr>\n",
       "      <th>T8</th>\n",
       "      <td>827040</td>\n",
       "      <td>1028685</td>\n",
       "      <td>1228446</td>\n",
       "      <td>1195959</td>\n",
       "      <td>1203356</td>\n",
       "      <td>999705</td>\n",
       "      <td>362972</td>\n",
       "      <td>255058</td>\n",
       "      <td>269797</td>\n",
       "    </tr>\n",
       "    <tr>\n",
       "      <th>T9</th>\n",
       "      <td>591055</td>\n",
       "      <td>698236</td>\n",
       "      <td>772130</td>\n",
       "      <td>790858</td>\n",
       "      <td>846242</td>\n",
       "      <td>618143</td>\n",
       "      <td>220326</td>\n",
       "      <td>187027</td>\n",
       "      <td>194425</td>\n",
       "    </tr>\n",
       "  </tbody>\n",
       "</table>\n",
       "</div>"
      ],
      "text/plain": [
       "                        Jan-21   Feb-21   Mar-21   Apr-21   May-21   Jun-21  \\\n",
       "Travel_type TrainLine                                                         \n",
       "Adult       Bl          191587   215611   248167   267221   243592   218192   \n",
       "            Ce          306328   400043   456765   474845   478407   364493   \n",
       "            Hu           15693    19030    19000    21817    22552    18955   \n",
       "            So          194022   231817   268885   258594   272613   216014   \n",
       "            St               0        0        0        0        0        0   \n",
       "            T1         2072890  2732176  3186268  3139610  3270742  2671322   \n",
       "            T2         1265795  1531228  1798040  1642978  1600892  1494399   \n",
       "            T3          639096   781137   851759   850934   846030   706701   \n",
       "            T4         1538773  1713603  1982189  1856641  1937118  1596551   \n",
       "            T5          201514   293372   284364   279616   305354   244406   \n",
       "            T6            5673     6984     8548     7824     8229     7560   \n",
       "            T7           19725    29285    37870    65358    48087    51312   \n",
       "            T8          827040  1028685  1228446  1195959  1203356   999705   \n",
       "            T9          591055   698236   772130   790858   846242   618143   \n",
       "\n",
       "                       Jul-21  Aug-21  Sep-21  \n",
       "Travel_type TrainLine                          \n",
       "Adult       Bl          73486   51628   54772  \n",
       "            Ce         115111   91711   92176  \n",
       "            Hu          13904    6379    4551  \n",
       "            So          65771   56574   54467  \n",
       "            St              0       0       0  \n",
       "            T1         922742  744936  789155  \n",
       "            T2         559423  449097  479690  \n",
       "            T3         208600  198920  231984  \n",
       "            T4         631262  530477  534231  \n",
       "            T5         100527   62668   71368  \n",
       "            T6           3908    3310    4102  \n",
       "            T7          25498   35077   33909  \n",
       "            T8         362972  255058  269797  \n",
       "            T9         220326  187027  194425  "
      ]
     },
     "execution_count": 123,
     "metadata": {},
     "output_type": "execute_result"
    }
   ],
   "source": [
    "sumadult21"
   ]
  },
  {
   "cell_type": "markdown",
   "id": "41340404",
   "metadata": {},
   "source": [
    "## Total Concession Travel 2021"
   ]
  },
  {
   "cell_type": "code",
   "execution_count": 124,
   "id": "bca584ef",
   "metadata": {},
   "outputs": [
    {
     "data": {
      "text/html": [
       "<div>\n",
       "<style scoped>\n",
       "    .dataframe tbody tr th:only-of-type {\n",
       "        vertical-align: middle;\n",
       "    }\n",
       "\n",
       "    .dataframe tbody tr th {\n",
       "        vertical-align: top;\n",
       "    }\n",
       "\n",
       "    .dataframe thead th {\n",
       "        text-align: right;\n",
       "    }\n",
       "</style>\n",
       "<table border=\"1\" class=\"dataframe\">\n",
       "  <thead>\n",
       "    <tr style=\"text-align: right;\">\n",
       "      <th></th>\n",
       "      <th></th>\n",
       "      <th>Jan-21</th>\n",
       "      <th>Feb-21</th>\n",
       "      <th>Mar-21</th>\n",
       "      <th>Apr-21</th>\n",
       "      <th>May-21</th>\n",
       "      <th>Jun-21</th>\n",
       "      <th>Jul-21</th>\n",
       "      <th>Aug-21</th>\n",
       "      <th>Sep-21</th>\n",
       "    </tr>\n",
       "    <tr>\n",
       "      <th>Travel_type</th>\n",
       "      <th>TrainLine</th>\n",
       "      <th></th>\n",
       "      <th></th>\n",
       "      <th></th>\n",
       "      <th></th>\n",
       "      <th></th>\n",
       "      <th></th>\n",
       "      <th></th>\n",
       "      <th></th>\n",
       "      <th></th>\n",
       "    </tr>\n",
       "  </thead>\n",
       "  <tbody>\n",
       "    <tr>\n",
       "      <th rowspan=\"14\" valign=\"top\">Concession</th>\n",
       "      <th>Bl</th>\n",
       "      <td>14093</td>\n",
       "      <td>20488</td>\n",
       "      <td>34830</td>\n",
       "      <td>29678</td>\n",
       "      <td>28821</td>\n",
       "      <td>20729</td>\n",
       "      <td>3274</td>\n",
       "      <td>2023</td>\n",
       "      <td>2095</td>\n",
       "    </tr>\n",
       "    <tr>\n",
       "      <th>Ce</th>\n",
       "      <td>27603</td>\n",
       "      <td>44189</td>\n",
       "      <td>75823</td>\n",
       "      <td>61827</td>\n",
       "      <td>68375</td>\n",
       "      <td>40290</td>\n",
       "      <td>6683</td>\n",
       "      <td>4640</td>\n",
       "      <td>4599</td>\n",
       "    </tr>\n",
       "    <tr>\n",
       "      <th>Hu</th>\n",
       "      <td>2066</td>\n",
       "      <td>3834</td>\n",
       "      <td>7063</td>\n",
       "      <td>5815</td>\n",
       "      <td>7781</td>\n",
       "      <td>3289</td>\n",
       "      <td>2510</td>\n",
       "      <td>905</td>\n",
       "      <td>527</td>\n",
       "    </tr>\n",
       "    <tr>\n",
       "      <th>So</th>\n",
       "      <td>14634</td>\n",
       "      <td>22587</td>\n",
       "      <td>37549</td>\n",
       "      <td>30148</td>\n",
       "      <td>33217</td>\n",
       "      <td>22117</td>\n",
       "      <td>3618</td>\n",
       "      <td>3215</td>\n",
       "      <td>2800</td>\n",
       "    </tr>\n",
       "    <tr>\n",
       "      <th>St</th>\n",
       "      <td>0</td>\n",
       "      <td>0</td>\n",
       "      <td>0</td>\n",
       "      <td>0</td>\n",
       "      <td>0</td>\n",
       "      <td>0</td>\n",
       "      <td>0</td>\n",
       "      <td>0</td>\n",
       "      <td>0</td>\n",
       "    </tr>\n",
       "    <tr>\n",
       "      <th>T1</th>\n",
       "      <td>174608</td>\n",
       "      <td>279788</td>\n",
       "      <td>458033</td>\n",
       "      <td>366573</td>\n",
       "      <td>382740</td>\n",
       "      <td>261707</td>\n",
       "      <td>51850</td>\n",
       "      <td>38330</td>\n",
       "      <td>39946</td>\n",
       "    </tr>\n",
       "    <tr>\n",
       "      <th>T2</th>\n",
       "      <td>100849</td>\n",
       "      <td>161106</td>\n",
       "      <td>252608</td>\n",
       "      <td>188122</td>\n",
       "      <td>185025</td>\n",
       "      <td>151407</td>\n",
       "      <td>25580</td>\n",
       "      <td>16866</td>\n",
       "      <td>18259</td>\n",
       "    </tr>\n",
       "    <tr>\n",
       "      <th>T3</th>\n",
       "      <td>50544</td>\n",
       "      <td>84021</td>\n",
       "      <td>125427</td>\n",
       "      <td>103522</td>\n",
       "      <td>100372</td>\n",
       "      <td>73846</td>\n",
       "      <td>10789</td>\n",
       "      <td>9501</td>\n",
       "      <td>10790</td>\n",
       "    </tr>\n",
       "    <tr>\n",
       "      <th>T4</th>\n",
       "      <td>108039</td>\n",
       "      <td>145573</td>\n",
       "      <td>215502</td>\n",
       "      <td>171811</td>\n",
       "      <td>181152</td>\n",
       "      <td>133337</td>\n",
       "      <td>30578</td>\n",
       "      <td>23371</td>\n",
       "      <td>24111</td>\n",
       "    </tr>\n",
       "    <tr>\n",
       "      <th>T5</th>\n",
       "      <td>14194</td>\n",
       "      <td>29189</td>\n",
       "      <td>42656</td>\n",
       "      <td>33213</td>\n",
       "      <td>36245</td>\n",
       "      <td>23978</td>\n",
       "      <td>3587</td>\n",
       "      <td>1315</td>\n",
       "      <td>1654</td>\n",
       "    </tr>\n",
       "    <tr>\n",
       "      <th>T6</th>\n",
       "      <td>421</td>\n",
       "      <td>543</td>\n",
       "      <td>803</td>\n",
       "      <td>694</td>\n",
       "      <td>732</td>\n",
       "      <td>642</td>\n",
       "      <td>238</td>\n",
       "      <td>178</td>\n",
       "      <td>134</td>\n",
       "    </tr>\n",
       "    <tr>\n",
       "      <th>T7</th>\n",
       "      <td>1121</td>\n",
       "      <td>2042</td>\n",
       "      <td>3669</td>\n",
       "      <td>6312</td>\n",
       "      <td>4302</td>\n",
       "      <td>4321</td>\n",
       "      <td>1061</td>\n",
       "      <td>1745</td>\n",
       "      <td>1595</td>\n",
       "    </tr>\n",
       "    <tr>\n",
       "      <th>T8</th>\n",
       "      <td>65615</td>\n",
       "      <td>102730</td>\n",
       "      <td>157702</td>\n",
       "      <td>123187</td>\n",
       "      <td>125765</td>\n",
       "      <td>93683</td>\n",
       "      <td>19999</td>\n",
       "      <td>11707</td>\n",
       "      <td>12947</td>\n",
       "    </tr>\n",
       "    <tr>\n",
       "      <th>T9</th>\n",
       "      <td>55153</td>\n",
       "      <td>84507</td>\n",
       "      <td>129248</td>\n",
       "      <td>106726</td>\n",
       "      <td>114341</td>\n",
       "      <td>72774</td>\n",
       "      <td>12120</td>\n",
       "      <td>8798</td>\n",
       "      <td>8911</td>\n",
       "    </tr>\n",
       "  </tbody>\n",
       "</table>\n",
       "</div>"
      ],
      "text/plain": [
       "                       Jan-21  Feb-21  Mar-21  Apr-21  May-21  Jun-21  Jul-21  \\\n",
       "Travel_type TrainLine                                                           \n",
       "Concession  Bl          14093   20488   34830   29678   28821   20729    3274   \n",
       "            Ce          27603   44189   75823   61827   68375   40290    6683   \n",
       "            Hu           2066    3834    7063    5815    7781    3289    2510   \n",
       "            So          14634   22587   37549   30148   33217   22117    3618   \n",
       "            St              0       0       0       0       0       0       0   \n",
       "            T1         174608  279788  458033  366573  382740  261707   51850   \n",
       "            T2         100849  161106  252608  188122  185025  151407   25580   \n",
       "            T3          50544   84021  125427  103522  100372   73846   10789   \n",
       "            T4         108039  145573  215502  171811  181152  133337   30578   \n",
       "            T5          14194   29189   42656   33213   36245   23978    3587   \n",
       "            T6            421     543     803     694     732     642     238   \n",
       "            T7           1121    2042    3669    6312    4302    4321    1061   \n",
       "            T8          65615  102730  157702  123187  125765   93683   19999   \n",
       "            T9          55153   84507  129248  106726  114341   72774   12120   \n",
       "\n",
       "                       Aug-21  Sep-21  \n",
       "Travel_type TrainLine                  \n",
       "Concession  Bl           2023    2095  \n",
       "            Ce           4640    4599  \n",
       "            Hu            905     527  \n",
       "            So           3215    2800  \n",
       "            St              0       0  \n",
       "            T1          38330   39946  \n",
       "            T2          16866   18259  \n",
       "            T3           9501   10790  \n",
       "            T4          23371   24111  \n",
       "            T5           1315    1654  \n",
       "            T6            178     134  \n",
       "            T7           1745    1595  \n",
       "            T8          11707   12947  \n",
       "            T9           8798    8911  "
      ]
     },
     "execution_count": 124,
     "metadata": {},
     "output_type": "execute_result"
    }
   ],
   "source": [
    "sumConcession21"
   ]
  },
  {
   "cell_type": "code",
   "execution_count": 127,
   "id": "136753ce",
   "metadata": {},
   "outputs": [
    {
     "data": {
      "text/plain": [
       "<matplotlib.legend.Legend at 0x7ffa03162970>"
      ]
     },
     "execution_count": 127,
     "metadata": {},
     "output_type": "execute_result"
    },
    {
     "data": {
      "image/png": "[encoded data removed]",
      "text/plain": [
       "<Figure size 1080x576 with 1 Axes>"
      ]
     },
     "metadata": {
      "needs_background": "light"
     },
     "output_type": "display_data"
    }
   ],
   "source": [
    "plot = sumConcession20.plot(kind='bar',figsize=(15,8), title=\"Total Attendance of Concession Opal Travel 2020\")\n",
    "\n",
    "plot.set_xlabel(\"TrainLines from Concession Opal Attendance\")\n",
    "plot.set_ylabel(\"Number of Travels (100k)\")\n",
    "plot.legend()"
   ]
  },
  {
   "cell_type": "code",
   "execution_count": 128,
   "id": "be912682",
   "metadata": {},
   "outputs": [
    {
     "data": {
      "text/plain": [
       "<matplotlib.legend.Legend at 0x7ffa314b8280>"
      ]
     },
     "execution_count": 128,
     "metadata": {},
     "output_type": "execute_result"
    },
    {
     "data": {
      "image/png": "[encoded data removed]",
      "text/plain": [
       "<Figure size 1080x576 with 1 Axes>"
      ]
     },
     "metadata": {
      "needs_background": "light"
     },
     "output_type": "display_data"
    }
   ],
   "source": [
    "plot = sumadult20.plot(kind='bar',figsize=(15,8), title=\"Total Attendance of Adult Opal Travel 2020\")\n",
    "\n",
    "plot.set_xlabel(\"TrainLines from Adult Opal Attendance\")\n",
    "plot.set_ylabel(\"Number of Travels in 100k\")\n",
    "plot.legend()"
   ]
  },
  {
   "cell_type": "code",
   "execution_count": 129,
   "id": "8ca09049",
   "metadata": {},
   "outputs": [
    {
     "data": {
      "text/plain": [
       "Text(0, 0.5, 'Number of Travels (100k)')"
      ]
     },
     "execution_count": 129,
     "metadata": {},
     "output_type": "execute_result"
    },
    {
     "data": {
      "image/png": "[encoded data removed]",
      "text/plain": [
       "<Figure size 1080x576 with 1 Axes>"
      ]
     },
     "metadata": {
      "needs_background": "light"
     },
     "output_type": "display_data"
    }
   ],
   "source": [
    "plot = sumConcession21.plot(kind='bar',figsize=(15,8), title=\"Total Attendance of Concession Opal Travel 2021\",)\n",
    "plot.set_xlabel(\"TrainLines from Concession Opal Attendance\")\n",
    "plot.set_ylabel(\"Number of Travels (100k)\")\n"
   ]
  },
  {
   "cell_type": "code",
   "execution_count": 130,
   "id": "93cf36d5",
   "metadata": {},
   "outputs": [
    {
     "data": {
      "text/plain": [
       "<matplotlib.legend.Legend at 0x7ffa02d4da60>"
      ]
     },
     "execution_count": 130,
     "metadata": {},
     "output_type": "execute_result"
    },
    {
     "data": {
      "image/png": "[encoded data removed]",
      "text/plain": [
       "<Figure size 1080x576 with 1 Axes>"
      ]
     },
     "metadata": {
      "needs_background": "light"
     },
     "output_type": "display_data"
    }
   ],
   "source": [
    "plot = sumadult21.plot(kind='bar',figsize=(15,8), title=\"Total Attendance of Adult Opal Travel 2021\")\n",
    "\n",
    "plot.set_xlabel(\"TrainLines from Adult Opal Attendance\")\n",
    "plot.set_ylabel(\"Number of Travels in 100k\")\n",
    "plot.legend()"
   ]
  },
  {
   "cell_type": "markdown",
   "id": "d0e029a1",
   "metadata": {},
   "source": [
    "## Observation \n",
    "\n",
    "Through our observation, we can conclude that both travel type from adult and concession had similar characteristics in regards to total trainline attendance. We can assume that due to the population size of Sydney compared to the rest of the state that total travel attendance are centered between T1, T2, T3 and T4. We concluded that this is due trainline being located in major metropolitan areas."
   ]
  },
  {
   "cell_type": "markdown",
   "id": "c8f27bd0",
   "metadata": {},
   "source": [
    "## Linear Regression"
   ]
  },
  {
   "cell_type": "code",
   "execution_count": 64,
   "id": "0f98ef15",
   "metadata": {},
   "outputs": [
    {
     "name": "stdout",
     "output_type": "stream",
     "text": [
      "(198, 66)\n",
      "(50, 66)\n"
     ]
    }
   ],
   "source": [
    "# Initalise train and test variable \n",
    "train, test = train_test_split(data, test_size = 0.2, random_state=142)\n",
    "print(train.shape)\n",
    "print(test.shape)"
   ]
  },
  {
   "cell_type": "code",
   "execution_count": 65,
   "id": "eb870e81",
   "metadata": {},
   "outputs": [
    {
     "name": "stdout",
     "output_type": "stream",
     "text": [
      "y = x * [-0.15352069  0.60015968] + 9970.929169814699\n"
     ]
    }
   ],
   "source": [
    "reg = linear_model.LinearRegression()\n",
    "X_train = train[['Dec-18', 'Dec-19']]\n",
    "y_train = train['Dec-20']\n",
    "X_test = test[['Dec-18', 'Dec-19']]\n",
    "y_test = test['Dec-20']\n",
    "reg.fit(X_train, y_train)\n",
    "print(\"y = x *\", reg.coef_, \"+\", reg.intercept_) "
   ]
  },
  {
   "cell_type": "code",
   "execution_count": 66,
   "id": "e63960d4",
   "metadata": {},
   "outputs": [
    {
     "name": "stdout",
     "output_type": "stream",
     "text": [
      "MSE: 138840440185.65106\n",
      "R Squared: 0.9728672644240627\n"
     ]
    }
   ],
   "source": [
    "predicted = reg.predict(X_test)\n",
    "mse = ((np.array(y_test)-predicted)**2).sum()/len(y_test)\n",
    "r2 = r2_score(y_test, predicted)\n",
    "print(\"MSE:\", mse) ##mean square error if it's too low means its good\n",
    "print(\"R Squared:\", r2) "
   ]
  },
  {
   "cell_type": "code",
   "execution_count": 67,
   "id": "a271212c",
   "metadata": {},
   "outputs": [
    {
     "name": "stdout",
     "output_type": "stream",
     "text": [
      "MSE: 138840440185.65106\n",
      "R Squared: 0.9728672644240627\n"
     ]
    }
   ],
   "source": [
    "predicted = reg.predict(X_test)\n",
    "mse = ((np.array(y_test)-predicted)**2).sum()/len(y_test)\n",
    "r2 = r2_score(y_test, predicted)\n",
    "print(\"MSE:\", mse)\n",
    "print(\"R Squared:\", r2) \n"
   ]
  },
  {
   "cell_type": "markdown",
   "id": "292a6b46",
   "metadata": {},
   "source": [
    "## Linear Regression 2.0\n",
    "\n",
    "<b>Note:</b> Here the regresion is done using different columns. Alternative x and y variables were used in order to show the usage of tickets throughout each Year."
   ]
  },
  {
   "cell_type": "markdown",
   "id": "9135ca9d",
   "metadata": {},
   "source": [
    "# need proper comments "
   ]
  },
  {
   "cell_type": "code",
   "execution_count": 132,
   "id": "8bd83cfd",
   "metadata": {},
   "outputs": [],
   "source": [
    "from sklearn.model_selection import train_test_split\n",
    "from sklearn.metrics import mean_squared_error\n",
    "import matplotlib.pyplot as plt"
   ]
  },
  {
   "cell_type": "code",
   "execution_count": 133,
   "id": "6ccc9669",
   "metadata": {},
   "outputs": [
    {
     "data": {
      "text/html": [
       "<div>\n",
       "<style scoped>\n",
       "    .dataframe tbody tr th:only-of-type {\n",
       "        vertical-align: middle;\n",
       "    }\n",
       "\n",
       "    .dataframe tbody tr th {\n",
       "        vertical-align: top;\n",
       "    }\n",
       "\n",
       "    .dataframe thead th {\n",
       "        text-align: right;\n",
       "    }\n",
       "</style>\n",
       "<table border=\"1\" class=\"dataframe\">\n",
       "  <thead>\n",
       "    <tr style=\"text-align: right;\">\n",
       "      <th></th>\n",
       "      <th>Year</th>\n",
       "      <th>Usage</th>\n",
       "    </tr>\n",
       "  </thead>\n",
       "  <tbody>\n",
       "    <tr>\n",
       "      <th>0</th>\n",
       "      <td>2016</td>\n",
       "      <td>181476277</td>\n",
       "    </tr>\n",
       "    <tr>\n",
       "      <th>1</th>\n",
       "      <td>2017</td>\n",
       "      <td>378643158</td>\n",
       "    </tr>\n",
       "    <tr>\n",
       "      <th>2</th>\n",
       "      <td>2018</td>\n",
       "      <td>394847825</td>\n",
       "    </tr>\n",
       "    <tr>\n",
       "      <th>3</th>\n",
       "      <td>2019</td>\n",
       "      <td>403164448</td>\n",
       "    </tr>\n",
       "    <tr>\n",
       "      <th>4</th>\n",
       "      <td>2020</td>\n",
       "      <td>206638633</td>\n",
       "    </tr>\n",
       "    <tr>\n",
       "      <th>5</th>\n",
       "      <td>2021</td>\n",
       "      <td>125172973</td>\n",
       "    </tr>\n",
       "  </tbody>\n",
       "</table>\n",
       "</div>"
      ],
      "text/plain": [
       "   Year      Usage\n",
       "0  2016  181476277\n",
       "1  2017  378643158\n",
       "2  2018  394847825\n",
       "3  2019  403164448\n",
       "4  2020  206638633\n",
       "5  2021  125172973"
      ]
     },
     "execution_count": 133,
     "metadata": {},
     "output_type": "execute_result"
    }
   ],
   "source": [
    "lst = [['2016', total16],['2017', total17],['2018', total18],['2019', total19],['2020', total20],['2021', total21],]\n",
    "df = pd.DataFrame(lst, columns = ['Year', 'Usage'])\n",
    "df"
   ]
  },
  {
   "cell_type": "code",
   "execution_count": 134,
   "id": "3687ac80",
   "metadata": {},
   "outputs": [
    {
     "name": "stdout",
     "output_type": "stream",
     "text": [
      "(4, 2)\n",
      "(2, 2)\n"
     ]
    }
   ],
   "source": [
    "train, test = train_test_split(df, test_size = 0.2, random_state=142)\n",
    "print(train.shape)\n",
    "print(test.shape)"
   ]
  },
  {
   "cell_type": "code",
   "execution_count": 135,
   "id": "02e4d11d",
   "metadata": {},
   "outputs": [
    {
     "name": "stdout",
     "output_type": "stream",
     "text": [
      "(4, 1)\n",
      "(4,)\n",
      "(2, 1)\n",
      "(2,)\n"
     ]
    }
   ],
   "source": [
    "x_train = train[['Year']]\n",
    "y_train = train['Usage']\n",
    "\n",
    "x_test = test[['Year']]\n",
    "y_test = test['Usage']\n",
    "\n",
    "print(x_train.shape)\n",
    "print(y_train.shape)\n",
    "\n",
    "print(x_test.shape)\n",
    "print(y_test.shape)"
   ]
  },
  {
   "cell_type": "code",
   "execution_count": 136,
   "id": "afaa55d3",
   "metadata": {},
   "outputs": [
    {
     "data": {
      "text/plain": [
       "LinearRegression()"
      ]
     },
     "execution_count": 136,
     "metadata": {},
     "output_type": "execute_result"
    }
   ],
   "source": [
    "lr = linear_model.LinearRegression()\n",
    "lr.fit(x_train, y_train)"
   ]
  },
  {
   "cell_type": "code",
   "execution_count": 137,
   "id": "82661be7",
   "metadata": {},
   "outputs": [],
   "source": [
    "y_pred = lr.predict(x_test)"
   ]
  },
  {
   "cell_type": "code",
   "execution_count": 138,
   "id": "8e6df475",
   "metadata": {},
   "outputs": [
    {
     "data": {
      "text/plain": [
       "array([2.41605119e+08, 2.35359101e+08])"
      ]
     },
     "execution_count": 138,
     "metadata": {},
     "output_type": "execute_result"
    }
   ],
   "source": [
    "y_pred"
   ]
  },
  {
   "cell_type": "code",
   "execution_count": 139,
   "id": "46e20ec6",
   "metadata": {},
   "outputs": [],
   "source": [
    "mse_lr = mean_squared_error(y_test, y_pred)\n"
   ]
  },
  {
   "cell_type": "code",
   "execution_count": 140,
   "id": "48301c6e",
   "metadata": {},
   "outputs": [
    {
     "data": {
      "text/plain": [
       "2.210803868218854e+16"
      ]
     },
     "execution_count": 140,
     "metadata": {},
     "output_type": "execute_result"
    }
   ],
   "source": [
    "mse_lr"
   ]
  },
  {
   "cell_type": "code",
   "execution_count": 142,
   "id": "a254cef3",
   "metadata": {},
   "outputs": [
    {
     "data": {
      "text/html": [
       "<div>\n",
       "<style scoped>\n",
       "    .dataframe tbody tr th:only-of-type {\n",
       "        vertical-align: middle;\n",
       "    }\n",
       "\n",
       "    .dataframe tbody tr th {\n",
       "        vertical-align: top;\n",
       "    }\n",
       "\n",
       "    .dataframe thead th {\n",
       "        text-align: right;\n",
       "    }\n",
       "</style>\n",
       "<table border=\"1\" class=\"dataframe\">\n",
       "  <thead>\n",
       "    <tr style=\"text-align: right;\">\n",
       "      <th></th>\n",
       "      <th>Actual Value</th>\n",
       "      <th>Predicted Value</th>\n",
       "      <th>Difference</th>\n",
       "    </tr>\n",
       "  </thead>\n",
       "  <tbody>\n",
       "    <tr>\n",
       "      <th>1</th>\n",
       "      <td>378643158</td>\n",
       "      <td>2.416051e+08</td>\n",
       "      <td>1.370380e+08</td>\n",
       "    </tr>\n",
       "    <tr>\n",
       "      <th>2</th>\n",
       "      <td>394847825</td>\n",
       "      <td>2.353591e+08</td>\n",
       "      <td>1.594887e+08</td>\n",
       "    </tr>\n",
       "  </tbody>\n",
       "</table>\n",
       "</div>"
      ],
      "text/plain": [
       "   Actual Value  Predicted Value    Difference\n",
       "1     378643158     2.416051e+08  1.370380e+08\n",
       "2     394847825     2.353591e+08  1.594887e+08"
      ]
     },
     "execution_count": 142,
     "metadata": {},
     "output_type": "execute_result"
    }
   ],
   "source": [
    "pred_y_df=pd.DataFrame({'Actual Value': y_test, 'Predicted Value': y_pred, 'Difference': y_test - y_pred})\n",
    "pred_y_df[0:20]"
   ]
  },
  {
   "cell_type": "markdown",
   "id": "155ddee5",
   "metadata": {},
   "source": [
    "<b>Observation</b> Here the acutal value refers to the usuage of tickets in 2021 and the predicted value is the numbers for the next year. The numbers predict less for the upcoming year as the travel decresed due to global pandemic gradually."
   ]
  },
  {
   "cell_type": "code",
   "execution_count": 78,
   "id": "a41b71fc",
   "metadata": {},
   "outputs": [],
   "source": [
    "###I think 3 is done? Regression is hella sus above^ will need 2 fix later "
   ]
  },
  {
   "cell_type": "markdown",
   "id": "e10545cb",
   "metadata": {},
   "source": [
    "## Observations\n",
    "-  There are no apparent curves in the plots which means the model is linear in the parameters and its residuals.\n",
    "-  The process of obtaining one observation does not affect the process of obtaining the next observations (independence).\n",
    "-  Why the r square is close to 1, the model is bias and we cannot rely on a regression to predict future outcome by past records\n",
    "\n",
    "\n",
    "### Multinomial naive bayes will be implemented below in order to see if it can predict past records."
   ]
  },
  {
   "cell_type": "markdown",
   "id": "9e7aebf3",
   "metadata": {},
   "source": [
    "# check"
   ]
  },
  {
   "cell_type": "code",
   "execution_count": 79,
   "id": "38df9468",
   "metadata": {},
   "outputs": [],
   "source": [
    "#---creating a new dataframe with the relevant datasets\n",
    "dftest = data[['Dec-18','Dec-19','Dec-20']]\n",
    "\n",
    "#---dropping null values and resetting the index\n",
    "dftest = dftest.dropna()\n",
    "dftest = dftest.reset_index(drop=True)"
   ]
  },
  {
   "cell_type": "markdown",
   "id": "89bfb959",
   "metadata": {},
   "source": [
    "# Performing a multinomial naive bayes analysis on the data\n",
    "\n",
    "we wil  create a naive bayes analysis function to allow us to perform the analysis in a modular manner below\n"
   ]
  },
  {
   "cell_type": "code",
   "execution_count": 80,
   "id": "ff8f32b0",
   "metadata": {},
   "outputs": [
    {
     "name": "stdout",
     "output_type": "stream",
     "text": [
      "Multinomial: 0.058133333333333335\n"
     ]
    },
    {
     "name": "stderr",
     "output_type": "stream",
     "text": [
      "C:\\Users\\thuse\\anaconda3\\lib\\site-packages\\sklearn\\utils\\validation.py:63: DataConversionWarning: A column-vector y was passed when a 1d array was expected. Please change the shape of y to (n_samples, ), for example using ravel().\n",
      "  return f(*args, **kwargs)\n"
     ]
    }
   ],
   "source": [
    "#---performing a multinomial naive bayes analysis on the data\n",
    "clf = MultinomialNB()\n",
    "data = dftest[['Dec-18','Dec-19']]\n",
    "target = dftest[['Dec-20']]\n",
    "X_train, X_test, y_train, y_test = train_test_split(data, target, train_size = 0.70, random_state=0)\n",
    "\n",
    "y_train=y_train.values\n",
    "clf.fit (X_train, y_train)\n",
    "\n",
    "y_test=y_test.values\n",
    "y_pred = clf.predict(X_test)\n",
    "\n",
    "print(\"Multinomial:\", np.mean(y_pred==y_test))"
   ]
  },
  {
   "cell_type": "markdown",
   "id": "259062eb",
   "metadata": {},
   "source": [
    "### Observation\n",
    "The results from the naive bayes analysis is similar to the linear regression which is  poor in the context of the data, though there is some level of prediction to be made. \n",
    "\n",
    "What this means is that past records from previous year can change due to external circumstances for example, due to the covid pandemic, the sum of train attendance has staggared in comparison to previous years\n"
   ]
  },
  {
   "cell_type": "code",
   "execution_count": 81,
   "id": "8bdb502b",
   "metadata": {},
   "outputs": [
    {
     "name": "stdout",
     "output_type": "stream",
     "text": [
      "Estimated probability of classess: \n",
      " [0.30057803 0.01734104 0.00578035 0.00578035 0.00578035 0.00578035\n",
      " 0.00578035 0.01156069 0.00578035 0.00578035 0.00578035 0.00578035\n",
      " 0.00578035 0.00578035 0.00578035 0.00578035 0.00578035 0.00578035\n",
      " 0.00578035 0.00578035 0.00578035 0.00578035 0.00578035 0.00578035\n",
      " 0.00578035 0.00578035 0.00578035 0.00578035 0.00578035 0.00578035\n",
      " 0.00578035 0.00578035 0.00578035 0.00578035 0.00578035 0.00578035\n",
      " 0.00578035 0.00578035 0.00578035 0.00578035 0.00578035 0.00578035\n",
      " 0.00578035 0.00578035 0.00578035 0.00578035 0.00578035 0.00578035\n",
      " 0.00578035 0.00578035 0.00578035 0.00578035 0.00578035 0.00578035\n",
      " 0.00578035 0.00578035 0.00578035 0.00578035 0.00578035 0.00578035\n",
      " 0.00578035 0.00578035 0.00578035 0.00578035 0.00578035 0.00578035\n",
      " 0.00578035 0.00578035 0.00578035 0.00578035 0.00578035 0.00578035\n",
      " 0.00578035 0.00578035 0.00578035 0.00578035 0.00578035 0.00578035\n",
      " 0.00578035 0.00578035 0.00578035 0.00578035 0.00578035 0.00578035\n",
      " 0.00578035 0.00578035 0.00578035 0.00578035 0.00578035 0.00578035\n",
      " 0.00578035 0.00578035 0.00578035 0.00578035 0.00578035 0.00578035\n",
      " 0.00578035 0.00578035 0.00578035 0.00578035 0.00578035 0.00578035\n",
      " 0.00578035 0.00578035 0.00578035 0.00578035 0.00578035 0.00578035\n",
      " 0.00578035 0.00578035 0.00578035 0.00578035 0.00578035 0.00578035\n",
      " 0.00578035 0.00578035 0.00578035 0.00578035 0.00578035]\n",
      "Estimated class-conditional probabilities for each feature: \n",
      " [[9.84807215e-01 1.51927847e-02]\n",
      " [6.66666667e-02 9.33333333e-01]\n",
      " [1.06060606e-01 8.93939394e-01]\n",
      " [1.42857143e-01 8.57142857e-01]\n",
      " [5.00000000e-01 5.00000000e-01]\n",
      " [4.81481481e-01 5.18518519e-01]\n",
      " [2.69230769e-01 7.30769231e-01]\n",
      " [4.06779661e-01 5.93220339e-01]\n",
      " [5.00000000e-01 5.00000000e-01]\n",
      " [5.25641026e-01 4.74358974e-01]\n",
      " [3.50000000e-01 6.50000000e-01]\n",
      " [2.27544910e-01 7.72455090e-01]\n",
      " [5.42750929e-01 4.57249071e-01]\n",
      " [2.28070175e-01 7.71929825e-01]\n",
      " [6.17554859e-01 3.82445141e-01]\n",
      " [3.80281690e-01 6.19718310e-01]\n",
      " [6.26690182e-01 3.73309818e-01]\n",
      " [3.05785124e-01 6.94214876e-01]\n",
      " [6.43948296e-01 3.56051704e-01]\n",
      " [6.29156010e-01 3.70843990e-01]\n",
      " [4.94117647e-01 5.05882353e-01]\n",
      " [6.50326797e-01 3.49673203e-01]\n",
      " [5.45189504e-01 4.54810496e-01]\n",
      " [5.72084481e-01 4.27915519e-01]\n",
      " [5.00000000e-01 5.00000000e-01]\n",
      " [6.57917261e-01 3.42082739e-01]\n",
      " [5.00000000e-01 5.00000000e-01]\n",
      " [4.79425212e-01 5.20574788e-01]\n",
      " [8.73362445e-04 9.99126638e-01]\n",
      " [4.71754583e-01 5.28245417e-01]\n",
      " [4.75901175e-01 5.24098825e-01]\n",
      " [4.86792453e-01 5.13207547e-01]\n",
      " [5.56614045e-01 4.43385955e-01]\n",
      " [5.97728631e-04 9.99402271e-01]\n",
      " [5.92340951e-01 4.07659049e-01]\n",
      " [6.31100674e-01 3.68899326e-01]\n",
      " [5.47561813e-01 4.52438187e-01]\n",
      " [2.06868018e-04 9.99793132e-01]\n",
      " [4.94851099e-01 5.05148901e-01]\n",
      " [4.59440880e-01 5.40559120e-01]\n",
      " [5.71690895e-01 4.28309105e-01]\n",
      " [4.55025338e-01 5.44974662e-01]\n",
      " [5.36038693e-01 4.63961307e-01]\n",
      " [6.25688870e-01 3.74311130e-01]\n",
      " [5.00000000e-01 5.00000000e-01]\n",
      " [4.60874408e-01 5.39125592e-01]\n",
      " [4.92084433e-01 5.07915567e-01]\n",
      " [5.21082699e-01 4.78917301e-01]\n",
      " [4.98515341e-01 5.01484659e-01]\n",
      " [6.70615183e-01 3.29384817e-01]\n",
      " [5.30068027e-01 4.69931973e-01]\n",
      " [6.12138753e-01 3.87861247e-01]\n",
      " [5.51473237e-01 4.48526763e-01]\n",
      " [5.74000068e-01 4.25999932e-01]\n",
      " [4.90262403e-01 5.09737597e-01]\n",
      " [4.74646983e-01 5.25353017e-01]\n",
      " [5.16808847e-01 4.83191153e-01]\n",
      " [5.23267974e-01 4.76732026e-01]\n",
      " [5.72658160e-01 4.27341840e-01]\n",
      " [5.95658039e-01 4.04341961e-01]\n",
      " [1.31725676e-01 8.68274324e-01]\n",
      " [4.96766550e-01 5.03233450e-01]\n",
      " [4.94896200e-01 5.05103800e-01]\n",
      " [5.21265582e-01 4.78734418e-01]\n",
      " [4.74581243e-01 5.25418757e-01]\n",
      " [5.11870590e-01 4.88129410e-01]\n",
      " [5.50762337e-01 4.49237663e-01]\n",
      " [5.63918757e-01 4.36081243e-01]\n",
      " [4.76379526e-01 5.23620474e-01]\n",
      " [5.26690790e-01 4.73309210e-01]\n",
      " [4.94228344e-01 5.05771656e-01]\n",
      " [5.46547862e-01 4.53452138e-01]\n",
      " [5.38513093e-01 4.61486907e-01]\n",
      " [5.13417887e-01 4.86582113e-01]\n",
      " [4.80020704e-01 5.19979296e-01]\n",
      " [5.49090808e-01 4.50909192e-01]\n",
      " [4.96918439e-01 5.03081561e-01]\n",
      " [5.00374867e-01 4.99625133e-01]\n",
      " [2.44265859e-05 9.99975573e-01]\n",
      " [5.23523488e-01 4.76476512e-01]\n",
      " [5.13259795e-01 4.86740205e-01]\n",
      " [4.78748486e-01 5.21251514e-01]\n",
      " [4.77023756e-01 5.22976244e-01]\n",
      " [4.49654821e-01 5.50345179e-01]\n",
      " [5.45383423e-01 4.54616577e-01]\n",
      " [5.07842891e-01 4.92157109e-01]\n",
      " [5.03349558e-01 4.96650442e-01]\n",
      " [1.17582043e-05 9.99988242e-01]\n",
      " [1.03806007e-01 8.96193993e-01]\n",
      " [5.39651111e-01 4.60348889e-01]\n",
      " [5.23229592e-01 4.76770408e-01]\n",
      " [1.29917886e-01 8.70082114e-01]\n",
      " [1.00988679e-05 9.99989901e-01]\n",
      " [4.71756920e-01 5.28243080e-01]\n",
      " [4.65183213e-01 5.34816787e-01]\n",
      " [1.16915216e-01 8.83084784e-01]\n",
      " [4.94275750e-01 5.05724250e-01]\n",
      " [4.89594561e-01 5.10405439e-01]\n",
      " [4.83969270e-01 5.16030730e-01]\n",
      " [4.94825859e-01 5.05174141e-01]\n",
      " [5.07136357e-01 4.92863643e-01]\n",
      " [5.44105165e-06 9.99994559e-01]\n",
      " [5.06467017e-01 4.93532983e-01]\n",
      " [1.05045546e-01 8.94954454e-01]\n",
      " [5.02129041e-01 4.97870959e-01]\n",
      " [4.80631714e-01 5.19368286e-01]\n",
      " [5.14210675e-01 4.85789325e-01]\n",
      " [4.78428262e-01 5.21571738e-01]\n",
      " [5.68339072e-01 4.31660928e-01]\n",
      " [1.38430367e-01 8.61569633e-01]\n",
      " [1.20874368e-01 8.79125632e-01]\n",
      " [4.81472916e-01 5.18527084e-01]\n",
      " [5.42850607e-01 4.57149393e-01]\n",
      " [1.24274305e-01 8.75725695e-01]\n",
      " [4.94828625e-01 5.05171375e-01]\n",
      " [5.35744265e-01 4.64255735e-01]\n",
      " [5.05712932e-01 4.94287068e-01]\n",
      " [5.09451982e-01 4.90548018e-01]\n",
      " [5.27943719e-01 4.72056281e-01]]\n"
     ]
    }
   ],
   "source": [
    "# Explore the learned model parameters (probabilities)\n",
    "# Note that the probabilities are in the logorithmic form. Why? The log-sum-exp trick for underflow of probability products\n",
    "print('Estimated probability of classess: \\n', np.e**clf.class_log_prior_)\n",
    "print('Estimated class-conditional probabilities for each feature: \\n', np.e**clf.feature_log_prob_)"
   ]
  },
  {
   "cell_type": "code",
   "execution_count": null,
   "id": "892fce3a",
   "metadata": {},
   "outputs": [],
   "source": []
  },
  {
   "cell_type": "code",
   "execution_count": null,
   "id": "7be0cb23",
   "metadata": {},
   "outputs": [],
   "source": []
  },
  {
   "cell_type": "code",
   "execution_count": null,
   "id": "75d56970",
   "metadata": {},
   "outputs": [],
   "source": []
  },
  {
   "cell_type": "code",
   "execution_count": null,
   "id": "b8b5ce6f",
   "metadata": {},
   "outputs": [],
   "source": []
  },
  {
   "cell_type": "code",
   "execution_count": null,
   "id": "aa057a1c",
   "metadata": {},
   "outputs": [],
   "source": []
  },
  {
   "cell_type": "code",
   "execution_count": null,
   "id": "5081c9c2",
   "metadata": {},
   "outputs": [],
   "source": []
  },
  {
   "cell_type": "code",
   "execution_count": null,
   "id": "485153fd",
   "metadata": {},
   "outputs": [],
   "source": []
  },
  {
   "cell_type": "markdown",
   "id": "387cff47",
   "metadata": {},
   "source": [
    "# steevan's model  "
   ]
  },
  {
   "cell_type": "markdown",
   "id": "dbae89aa",
   "metadata": {},
   "source": [
    "# making predection using time series"
   ]
  },
  {
   "cell_type": "code",
   "execution_count": 110,
   "id": "64caf8ae",
   "metadata": {},
   "outputs": [],
   "source": [
    "from statsmodels.tsa.stattools import adfuller\n",
    "from sklearn.linear_model import LinearRegression\n",
    "from sklearn import metrics\n",
    "from statsmodels.tsa.arima_model import ARIMA"
   ]
  },
  {
   "cell_type": "code",
   "execution_count": 83,
   "id": "3ade92b9",
   "metadata": {},
   "outputs": [],
   "source": [
    "times = pd.DataFrame({\n",
    "    'Month': ['2016-07','2016-08','2016-09','2016-10','2016-11','2016-12','2017-01','2017-02','2017-03','2017-04','2017-05','2017-06','2017-07','2017-08','2017-09','2017-10','2017-11','2017-12','2018-01','2018-02','2018-03','2018-04','2018-05','2018-06','2018-07','2018-08','2018-09','2018-10','2018-11','2018-12','2019-01','2019-02','2019-03','2019-04','2019-05','2019-06','2019-07','2019-08','2019-09','2019-10','2019-11','2019-12','2020-01','2020-02','2020-03','2020-04','2020-05','2020-06','2020-07','2020-08','2016-20','2020-10','2020-11','2020-12','2021-01','2021-02','2021-03','2021-04','2021-05','2021-06','2021-07','2021-08','2021-09'],\n",
    "    'Travelled':[data_16['Jul-16'].sum(),data_16['Aug-16'].sum(),data_16['Sep-16'].sum(),data_16['Oct-16'].sum(),data_16['Nov-16'].sum(),data_16['Dec-16'].sum(),data_17['Jan-17'].sum(),data_17['Feb-17'].sum(),data_17['Mar-17'].sum(),data_17['Apr-17'].sum(),data_17['May-17'].sum(),data_17['Jun-17'].sum(),data_17['Jul-17'].sum(),data_17['Aug-17'].sum(),data_17['Sep-17'].sum(),data_17['Oct-17'].sum(),data_17['Nov-17'].sum(),data_17['Dec-17'].sum(),data_18['Jan-18'].sum(),data_18['Feb-18'].sum(),data_18['Mar-18'].sum(),data_18['Apr-18'].sum(),data_18['May-18'].sum(),data_18['Jun-18'].sum(),data_18['Jul-18'].sum(),data_18['Aug-18'].sum(),data_18['Sep-18'].sum(),data_18['Oct-18'].sum(),data_18['Nov-18'].sum(),data_18['Dec-18'].sum(),data_19['Jan-19'].sum(),data_19['Feb-19'].sum(),data_19['Mar-19'].sum(),data_19['Apr-19'].sum(),data_19['May-19'].sum(),data_19['Jun-19'].sum(),data_19['Jul-19'].sum(),data_19['Aug-19'].sum(),data_19['Sep-19'].sum(),data_19['Oct-19'].sum(),data_19['Nov-19'].sum(),data_19['Dec-19'].sum(),data_20['Jan-20'].sum(),data_20['Feb-20'].sum(),data_20['Mar-20'].sum(),data_20['Apr-20'].sum(),data_20['May-20'].sum(),data_20['Jun-20'].sum(),data_20['Jul-20'].sum(),data_20['Aug-20'].sum(),data_20['Sep-20'].sum(),data_20['Oct-20'].sum(),data_20['Nov-20'].sum(),data_20['Dec-20'].sum(),data_21['Jan-21'].sum(),data_21['Feb-21'].sum(),data_21['Mar-21'].sum(),data_21['Apr-21'].sum(),data_21['May-21'].sum(),data_21['Jun-21'].sum(),data_21['Jul-21'].sum(),data_21['Aug-21'].sum(),data_21['Sep-21'].sum()]\n",
    "})"
   ]
  },
  {
   "cell_type": "code",
   "execution_count": 84,
   "id": "8f716865",
   "metadata": {},
   "outputs": [],
   "source": [
    "dft = pd.DataFrame(times,columns=['Month','Travelled'])"
   ]
  },
  {
   "cell_type": "code",
   "execution_count": 86,
   "id": "7bb22f65",
   "metadata": {},
   "outputs": [
    {
     "data": {
      "text/html": [
       "<div>\n",
       "<style scoped>\n",
       "    .dataframe tbody tr th:only-of-type {\n",
       "        vertical-align: middle;\n",
       "    }\n",
       "\n",
       "    .dataframe tbody tr th {\n",
       "        vertical-align: top;\n",
       "    }\n",
       "\n",
       "    .dataframe thead th {\n",
       "        text-align: right;\n",
       "    }\n",
       "</style>\n",
       "<table border=\"1\" class=\"dataframe\">\n",
       "  <thead>\n",
       "    <tr style=\"text-align: right;\">\n",
       "      <th></th>\n",
       "      <th>Month</th>\n",
       "      <th>Travelled</th>\n",
       "    </tr>\n",
       "  </thead>\n",
       "  <tbody>\n",
       "    <tr>\n",
       "      <th>0</th>\n",
       "      <td>2016-07</td>\n",
       "      <td>28819249</td>\n",
       "    </tr>\n",
       "    <tr>\n",
       "      <th>1</th>\n",
       "      <td>2016-08</td>\n",
       "      <td>32393980</td>\n",
       "    </tr>\n",
       "    <tr>\n",
       "      <th>2</th>\n",
       "      <td>2016-09</td>\n",
       "      <td>30648352</td>\n",
       "    </tr>\n",
       "    <tr>\n",
       "      <th>3</th>\n",
       "      <td>2016-10</td>\n",
       "      <td>30106833</td>\n",
       "    </tr>\n",
       "    <tr>\n",
       "      <th>4</th>\n",
       "      <td>2016-11</td>\n",
       "      <td>31318279</td>\n",
       "    </tr>\n",
       "    <tr>\n",
       "      <th>...</th>\n",
       "      <td>...</td>\n",
       "      <td>...</td>\n",
       "    </tr>\n",
       "    <tr>\n",
       "      <th>58</th>\n",
       "      <td>2021-05</td>\n",
       "      <td>21038609</td>\n",
       "    </tr>\n",
       "    <tr>\n",
       "      <th>59</th>\n",
       "      <td>2021-06</td>\n",
       "      <td>17193476</td>\n",
       "    </tr>\n",
       "    <tr>\n",
       "      <th>60</th>\n",
       "      <td>2021-07</td>\n",
       "      <td>5268833</td>\n",
       "    </tr>\n",
       "    <tr>\n",
       "      <th>61</th>\n",
       "      <td>2021-08</td>\n",
       "      <td>4245889</td>\n",
       "    </tr>\n",
       "    <tr>\n",
       "      <th>62</th>\n",
       "      <td>2021-09</td>\n",
       "      <td>4565875</td>\n",
       "    </tr>\n",
       "  </tbody>\n",
       "</table>\n",
       "<p>63 rows × 2 columns</p>\n",
       "</div>"
      ],
      "text/plain": [
       "      Month  Travelled\n",
       "0   2016-07   28819249\n",
       "1   2016-08   32393980\n",
       "2   2016-09   30648352\n",
       "3   2016-10   30106833\n",
       "4   2016-11   31318279\n",
       "..      ...        ...\n",
       "58  2021-05   21038609\n",
       "59  2021-06   17193476\n",
       "60  2021-07    5268833\n",
       "61  2021-08    4245889\n",
       "62  2021-09    4565875\n",
       "\n",
       "[63 rows x 2 columns]"
      ]
     },
     "execution_count": 86,
     "metadata": {},
     "output_type": "execute_result"
    }
   ],
   "source": [
    "#checking\n",
    "dft"
   ]
  },
  {
   "cell_type": "code",
   "execution_count": 87,
   "id": "0f61e1ed",
   "metadata": {},
   "outputs": [
    {
     "data": {
      "text/plain": [
       "<AxesSubplot:xlabel='Month'>"
      ]
     },
     "execution_count": 87,
     "metadata": {},
     "output_type": "execute_result"
    },
    {
     "data": {
      "image/png": "[encoded data removed]",
      "text/plain": [
       "<Figure size 720x432 with 1 Axes>"
      ]
     },
     "metadata": {
      "needs_background": "light"
     },
     "output_type": "display_data"
    }
   ],
   "source": [
    "dft.plot(x='Month',y='Travelled',kind ='line',figsize =(10,6))"
   ]
  },
  {
   "cell_type": "markdown",
   "id": "b4305464",
   "metadata": {},
   "source": [
    "# add more\n",
    "We can see that our data having increasing trend.\n"
   ]
  },
  {
   "cell_type": "markdown",
   "id": "2a47af36",
   "metadata": {},
   "source": [
    "## ADF Test"
   ]
  },
  {
   "cell_type": "code",
   "execution_count": 88,
   "id": "6d2dbe7d",
   "metadata": {},
   "outputs": [],
   "source": [
    "def adfuller_test(df):\n",
    "    result=adfuller(df)\n",
    "    labels = ['ADF Test Statistic','p-value','#Lags Used','Number of Observations Used']\n",
    "    for value,label in zip(result,labels):\n",
    "        print(label+' : '+str(value) )\n",
    "    if result[1] <= 0.05:\n",
    "        print(\"stationary\")\n",
    "    else:\n",
    "        print(\"non-stationary \")"
   ]
  },
  {
   "cell_type": "code",
   "execution_count": 89,
   "id": "45130850",
   "metadata": {},
   "outputs": [
    {
     "name": "stdout",
     "output_type": "stream",
     "text": [
      "ADF Test Statistic : -0.8549955648608684\n",
      "p-value : 0.8024316903443076\n",
      "#Lags Used : 0\n",
      "Number of Observations Used : 62\n",
      "non-stationary \n"
     ]
    }
   ],
   "source": [
    "adfuller_test(dft['Travelled'])"
   ]
  },
  {
   "cell_type": "markdown",
   "id": "222b8834",
   "metadata": {},
   "source": [
    "As our time series data is non stationary by using differncing method i.e taking difference between previous observation from current observation. so lets go to take first differnce"
   ]
  },
  {
   "cell_type": "code",
   "execution_count": 90,
   "id": "4c99e9b8",
   "metadata": {},
   "outputs": [
    {
     "data": {
      "text/html": [
       "<div>\n",
       "<style scoped>\n",
       "    .dataframe tbody tr th:only-of-type {\n",
       "        vertical-align: middle;\n",
       "    }\n",
       "\n",
       "    .dataframe tbody tr th {\n",
       "        vertical-align: top;\n",
       "    }\n",
       "\n",
       "    .dataframe thead th {\n",
       "        text-align: right;\n",
       "    }\n",
       "</style>\n",
       "<table border=\"1\" class=\"dataframe\">\n",
       "  <thead>\n",
       "    <tr style=\"text-align: right;\">\n",
       "      <th></th>\n",
       "      <th>Month</th>\n",
       "      <th>Travelled</th>\n",
       "      <th>First_Difference</th>\n",
       "    </tr>\n",
       "  </thead>\n",
       "  <tbody>\n",
       "    <tr>\n",
       "      <th>0</th>\n",
       "      <td>2016-07</td>\n",
       "      <td>28819249</td>\n",
       "      <td>NaN</td>\n",
       "    </tr>\n",
       "    <tr>\n",
       "      <th>1</th>\n",
       "      <td>2016-08</td>\n",
       "      <td>32393980</td>\n",
       "      <td>3574731.0</td>\n",
       "    </tr>\n",
       "    <tr>\n",
       "      <th>2</th>\n",
       "      <td>2016-09</td>\n",
       "      <td>30648352</td>\n",
       "      <td>-1745628.0</td>\n",
       "    </tr>\n",
       "    <tr>\n",
       "      <th>3</th>\n",
       "      <td>2016-10</td>\n",
       "      <td>30106833</td>\n",
       "      <td>-541519.0</td>\n",
       "    </tr>\n",
       "    <tr>\n",
       "      <th>4</th>\n",
       "      <td>2016-11</td>\n",
       "      <td>31318279</td>\n",
       "      <td>1211446.0</td>\n",
       "    </tr>\n",
       "  </tbody>\n",
       "</table>\n",
       "</div>"
      ],
      "text/plain": [
       "     Month  Travelled  First_Difference\n",
       "0  2016-07   28819249               NaN\n",
       "1  2016-08   32393980         3574731.0\n",
       "2  2016-09   30648352        -1745628.0\n",
       "3  2016-10   30106833         -541519.0\n",
       "4  2016-11   31318279         1211446.0"
      ]
     },
     "execution_count": 90,
     "metadata": {},
     "output_type": "execute_result"
    }
   ],
   "source": [
    "dft['First_Difference'] = dft.Travelled.diff()\n",
    "dft.head()"
   ]
  },
  {
   "cell_type": "code",
   "execution_count": 91,
   "id": "481611fd",
   "metadata": {},
   "outputs": [],
   "source": [
    "dft=dft.fillna(0)"
   ]
  },
  {
   "cell_type": "code",
   "execution_count": 93,
   "id": "9fbcb4f1",
   "metadata": {},
   "outputs": [
    {
     "data": {
      "text/html": [
       "<div>\n",
       "<style scoped>\n",
       "    .dataframe tbody tr th:only-of-type {\n",
       "        vertical-align: middle;\n",
       "    }\n",
       "\n",
       "    .dataframe tbody tr th {\n",
       "        vertical-align: top;\n",
       "    }\n",
       "\n",
       "    .dataframe thead th {\n",
       "        text-align: right;\n",
       "    }\n",
       "</style>\n",
       "<table border=\"1\" class=\"dataframe\">\n",
       "  <thead>\n",
       "    <tr style=\"text-align: right;\">\n",
       "      <th></th>\n",
       "      <th>Month</th>\n",
       "      <th>Travelled</th>\n",
       "      <th>First_Difference</th>\n",
       "    </tr>\n",
       "  </thead>\n",
       "  <tbody>\n",
       "    <tr>\n",
       "      <th>0</th>\n",
       "      <td>2016-07</td>\n",
       "      <td>28819249</td>\n",
       "      <td>0.0</td>\n",
       "    </tr>\n",
       "    <tr>\n",
       "      <th>1</th>\n",
       "      <td>2016-08</td>\n",
       "      <td>32393980</td>\n",
       "      <td>3574731.0</td>\n",
       "    </tr>\n",
       "    <tr>\n",
       "      <th>2</th>\n",
       "      <td>2016-09</td>\n",
       "      <td>30648352</td>\n",
       "      <td>-1745628.0</td>\n",
       "    </tr>\n",
       "    <tr>\n",
       "      <th>3</th>\n",
       "      <td>2016-10</td>\n",
       "      <td>30106833</td>\n",
       "      <td>-541519.0</td>\n",
       "    </tr>\n",
       "    <tr>\n",
       "      <th>4</th>\n",
       "      <td>2016-11</td>\n",
       "      <td>31318279</td>\n",
       "      <td>1211446.0</td>\n",
       "    </tr>\n",
       "  </tbody>\n",
       "</table>\n",
       "</div>"
      ],
      "text/plain": [
       "     Month  Travelled  First_Difference\n",
       "0  2016-07   28819249               0.0\n",
       "1  2016-08   32393980         3574731.0\n",
       "2  2016-09   30648352        -1745628.0\n",
       "3  2016-10   30106833         -541519.0\n",
       "4  2016-11   31318279         1211446.0"
      ]
     },
     "execution_count": 93,
     "metadata": {},
     "output_type": "execute_result"
    }
   ],
   "source": [
    "dft.head()"
   ]
  },
  {
   "cell_type": "markdown",
   "id": "83d4d251",
   "metadata": {},
   "source": [
    "again we check is it our data is stationary after taking the first difference ."
   ]
  },
  {
   "cell_type": "code",
   "execution_count": 94,
   "id": "519fecf9",
   "metadata": {},
   "outputs": [
    {
     "name": "stdout",
     "output_type": "stream",
     "text": [
      "ADF Test Statistic : -8.315206051808838\n",
      "p-value : 3.696717091834152e-13\n",
      "#Lags Used : 0\n",
      "Number of Observations Used : 62\n",
      "stationary\n"
     ]
    }
   ],
   "source": [
    "adfuller_test(dft['First_Difference'])"
   ]
  },
  {
   "cell_type": "code",
   "execution_count": 95,
   "id": "328c9cc9",
   "metadata": {},
   "outputs": [
    {
     "data": {
      "text/plain": [
       "[<matplotlib.lines.Line2D at 0x233c2e98c10>]"
      ]
     },
     "execution_count": 95,
     "metadata": {},
     "output_type": "execute_result"
    },
    {
     "data": {
      "image/png": "[encoded data removed]",
      "text/plain": [
       "<Figure size 432x288 with 1 Axes>"
      ]
     },
     "metadata": {
      "needs_background": "light"
     },
     "output_type": "display_data"
    }
   ],
   "source": [
    "plt.plot(dft.Travelled.diff())"
   ]
  },
  {
   "cell_type": "markdown",
   "id": "976f20f6",
   "metadata": {},
   "source": [
    "# PACF plot"
   ]
  },
  {
   "cell_type": "code",
   "execution_count": 96,
   "id": "5eb81438",
   "metadata": {},
   "outputs": [
    {
     "data": {
      "image/png": "[encoded data removed]",
      "text/plain": [
       "<Figure size 600x360 with 1 Axes>"
      ]
     },
     "metadata": {
      "needs_background": "light"
     },
     "output_type": "display_data"
    }
   ],
   "source": [
    "plt.rcParams.update({'figure.figsize':(5,3), 'figure.dpi':120})\n",
    "\n",
    "\n",
    "from statsmodels.graphics.tsaplots import plot_pacf\n",
    "plot_pacf(dft.Travelled,lags=15);"
   ]
  },
  {
   "cell_type": "code",
   "execution_count": 97,
   "id": "a7362dca",
   "metadata": {},
   "outputs": [],
   "source": [
    "X=dft.First_Difference.values\n",
    "Y=dft.Travelled.values"
   ]
  },
  {
   "cell_type": "code",
   "execution_count": 98,
   "id": "7bf613f4",
   "metadata": {},
   "outputs": [],
   "source": [
    "from sklearn.model_selection import train_test_split\n",
    "training_x,test_x,training_y,test_y=train_test_split(X,Y,test_size=0.3,random_state=0)"
   ]
  },
  {
   "cell_type": "code",
   "execution_count": 99,
   "id": "d461e7cf",
   "metadata": {},
   "outputs": [],
   "source": [
    "training_x=training_x.reshape(-1,1)\n",
    "test_x=test_x.reshape(-1,1)"
   ]
  },
  {
   "cell_type": "code",
   "execution_count": 102,
   "id": "f736a033",
   "metadata": {},
   "outputs": [
    {
     "data": {
      "text/plain": [
       "LinearRegression()"
      ]
     },
     "execution_count": 102,
     "metadata": {},
     "output_type": "execute_result"
    }
   ],
   "source": [
    "linear_reg=LinearRegression()\n",
    "linear_reg.fit(training_x,training_y)"
   ]
  },
  {
   "cell_type": "code",
   "execution_count": 103,
   "id": "dec29d80",
   "metadata": {},
   "outputs": [],
   "source": [
    "pred_y=linear_reg.predict(test_x)"
   ]
  },
  {
   "cell_type": "code",
   "execution_count": 104,
   "id": "a9d33a6e",
   "metadata": {},
   "outputs": [
    {
     "data": {
      "text/plain": [
       "array([0.35498231])"
      ]
     },
     "execution_count": 104,
     "metadata": {},
     "output_type": "execute_result"
    }
   ],
   "source": [
    "linear_reg.coef_"
   ]
  },
  {
   "cell_type": "code",
   "execution_count": 105,
   "id": "9e88c8e0",
   "metadata": {},
   "outputs": [
    {
     "data": {
      "text/plain": [
       "27329819.95859071"
      ]
     },
     "execution_count": 105,
     "metadata": {},
     "output_type": "execute_result"
    }
   ],
   "source": [
    "linear_reg.intercept_"
   ]
  },
  {
   "cell_type": "code",
   "execution_count": 108,
   "id": "e63ec455",
   "metadata": {},
   "outputs": [
    {
     "name": "stdout",
     "output_type": "stream",
     "text": [
      "10778735.778679833\n"
     ]
    }
   ],
   "source": [
    "print(np.sqrt(metrics.mean_squared_error(test_y,pred_y)))"
   ]
  },
  {
   "cell_type": "code",
   "execution_count": 109,
   "id": "d9ac0e8d",
   "metadata": {},
   "outputs": [
    {
     "data": {
      "image/png": "[encoded data removed]",
      "text/plain": [
       "<Figure size 1080x360 with 1 Axes>"
      ]
     },
     "metadata": {
      "needs_background": "light"
     },
     "output_type": "display_data"
    }
   ],
   "source": [
    "plt.rcParams.update({'figure.figsize':(9,3), 'figure.dpi':120})\n",
    "\n",
    "plt.plot(test_y,label=\"original test data\")\n",
    "plt.plot(pred_y,label=\"predicted test data\")\n",
    "plt.legend()\n",
    "plt.show()"
   ]
  },
  {
   "cell_type": "code",
   "execution_count": 111,
   "id": "eaec701c",
   "metadata": {},
   "outputs": [
    {
     "name": "stderr",
     "output_type": "stream",
     "text": [
      "C:\\Users\\thuse\\anaconda3\\lib\\site-packages\\statsmodels\\tsa\\arima_model.py:472: FutureWarning: \n",
      "statsmodels.tsa.arima_model.ARMA and statsmodels.tsa.arima_model.ARIMA have\n",
      "been deprecated in favor of statsmodels.tsa.arima.model.ARIMA (note the .\n",
      "between arima and model) and\n",
      "statsmodels.tsa.SARIMAX. These will be removed after the 0.12 release.\n",
      "\n",
      "statsmodels.tsa.arima.model.ARIMA makes use of the statespace framework and\n",
      "is both well tested and maintained.\n",
      "\n",
      "To silence this warning and continue using ARMA and ARIMA until they are\n",
      "removed, use:\n",
      "\n",
      "import warnings\n",
      "warnings.filterwarnings('ignore', 'statsmodels.tsa.arima_model.ARMA',\n",
      "                        FutureWarning)\n",
      "warnings.filterwarnings('ignore', 'statsmodels.tsa.arima_model.ARIMA',\n",
      "                        FutureWarning)\n",
      "\n",
      "  warnings.warn(ARIMA_DEPRECATION_WARN, FutureWarning)\n"
     ]
    }
   ],
   "source": [
    "from statsmodels.tsa.arima_model import ARIMA\n",
    "model=ARIMA(dft['Travelled'],order=(1,0,0))\n",
    "model_fit=model.fit()"
   ]
  },
  {
   "cell_type": "code",
   "execution_count": 112,
   "id": "d6a064ee",
   "metadata": {},
   "outputs": [
    {
     "data": {
      "text/html": [
       "<table class=\"simpletable\">\n",
       "<caption>ARMA Model Results</caption>\n",
       "<tr>\n",
       "  <th>Dep. Variable:</th>     <td>Travelled</td>    <th>  No. Observations:  </th>     <td>63</td>     \n",
       "</tr>\n",
       "<tr>\n",
       "  <th>Model:</th>            <td>ARMA(1, 0)</td>    <th>  Log Likelihood     </th>  <td>-1046.643</td> \n",
       "</tr>\n",
       "<tr>\n",
       "  <th>Method:</th>             <td>css-mle</td>     <th>  S.D. of innovations</th> <td>3909209.652</td>\n",
       "</tr>\n",
       "<tr>\n",
       "  <th>Date:</th>          <td>Wed, 03 Nov 2021</td> <th>  AIC                </th>  <td>2099.285</td>  \n",
       "</tr>\n",
       "<tr>\n",
       "  <th>Time:</th>              <td>00:45:55</td>     <th>  BIC                </th>  <td>2105.715</td>  \n",
       "</tr>\n",
       "<tr>\n",
       "  <th>Sample:</th>                <td>0</td>        <th>  HQIC               </th>  <td>2101.814</td>  \n",
       "</tr>\n",
       "<tr>\n",
       "  <th></th>                       <td> </td>        <th>                     </th>      <td> </td>     \n",
       "</tr>\n",
       "</table>\n",
       "<table class=\"simpletable\">\n",
       "<tr>\n",
       "         <td></td>            <th>coef</th>     <th>std err</th>      <th>z</th>      <th>P>|z|</th>  <th>[0.025</th>    <th>0.975]</th>  \n",
       "</tr>\n",
       "<tr>\n",
       "  <th>const</th>           <td> 2.682e+07</td> <td> 6.06e+06</td> <td>    4.429</td> <td> 0.000</td> <td>  1.5e+07</td> <td> 3.87e+07</td>\n",
       "</tr>\n",
       "<tr>\n",
       "  <th>ar.L1.Travelled</th> <td>    0.9273</td> <td>    0.053</td> <td>   17.498</td> <td> 0.000</td> <td>    0.823</td> <td>    1.031</td>\n",
       "</tr>\n",
       "</table>\n",
       "<table class=\"simpletable\">\n",
       "<caption>Roots</caption>\n",
       "<tr>\n",
       "    <td></td>   <th>            Real</th>  <th>         Imaginary</th> <th>         Modulus</th>  <th>        Frequency</th>\n",
       "</tr>\n",
       "<tr>\n",
       "  <th>AR.1</th> <td>           1.0785</td> <td>          +0.0000j</td> <td>           1.0785</td> <td>           0.0000</td>\n",
       "</tr>\n",
       "</table>"
      ],
      "text/plain": [
       "<class 'statsmodels.iolib.summary.Summary'>\n",
       "\"\"\"\n",
       "                              ARMA Model Results                              \n",
       "==============================================================================\n",
       "Dep. Variable:              Travelled   No. Observations:                   63\n",
       "Model:                     ARMA(1, 0)   Log Likelihood               -1046.643\n",
       "Method:                       css-mle   S.D. of innovations        3909209.652\n",
       "Date:                Wed, 03 Nov 2021   AIC                           2099.285\n",
       "Time:                        00:45:55   BIC                           2105.715\n",
       "Sample:                             0   HQIC                          2101.814\n",
       "                                                                              \n",
       "===================================================================================\n",
       "                      coef    std err          z      P>|z|      [0.025      0.975]\n",
       "-----------------------------------------------------------------------------------\n",
       "const            2.682e+07   6.06e+06      4.429      0.000     1.5e+07    3.87e+07\n",
       "ar.L1.Travelled     0.9273      0.053     17.498      0.000       0.823       1.031\n",
       "                                    Roots                                    \n",
       "=============================================================================\n",
       "                  Real          Imaginary           Modulus         Frequency\n",
       "-----------------------------------------------------------------------------\n",
       "AR.1            1.0785           +0.0000j            1.0785            0.0000\n",
       "-----------------------------------------------------------------------------\n",
       "\"\"\""
      ]
     },
     "execution_count": 112,
     "metadata": {},
     "output_type": "execute_result"
    }
   ],
   "source": [
    "model_fit.summary()"
   ]
  },
  {
   "cell_type": "code",
   "execution_count": 113,
   "id": "3dd41918",
   "metadata": {},
   "outputs": [
    {
     "data": {
      "text/plain": [
       "(array([ 6185164.35402196,  7686652.25535565,  9078908.62525756,\n",
       "        10369879.93299218, 11566934.55125293, 12676904.81202805,\n",
       "        13706126.00295019, 14660472.52670611, 15545391.42989057,\n",
       "        16365933.49267432, 17126782.05673427, 17832279.75598465,\n",
       "        18486453.30267791, 19093036.47034515, 19655491.40475378,\n",
       "        20177028.3845174 , 20660624.14414379, 21109038.86410215,\n",
       "        21524831.92488223, 21910376.51496378, 22267873.17607271,\n",
       "        22599362.3630355 , 22906736.08991842, 23191748.72892346,\n",
       "        23456027.02367685, 23701079.37406236, 23928304.44559348,\n",
       "        24138999.15246366, 24334366.05983871, 24515520.24764093,\n",
       "        24683495.67500069, 24839251.08170154, 24983675.46030179,\n",
       "        25117593.13016561, 25241768.44236408, 25356910.14230007,\n",
       "        25463675.41495715, 25562673.6358613 , 25654469.84916434,\n",
       "        25739587.99270084, 25818513.88842577, 25891698.01530129,\n",
       "        25959558.08045908, 26022481.40331368, 26080827.12623419,\n",
       "        26134928.26439219, 26185093.60648553, 26231609.47718666,\n",
       "        26274741.37137487, 26314735.4694799 , 26351820.04258619,\n",
       "        26386206.75531725, 26418091.87393678, 26447657.38656174,\n",
       "        26475072.04188128, 26500492.31230996, 26524063.28707274,\n",
       "        26545919.50031903, 26566185.6989924 , 26584977.55483862,\n",
       "        26602402.32461594, 26618559.46227585, 26633541.18660837,\n",
       "        26647433.00759178, 26660314.21445099, 26672258.32821029,\n",
       "        26683333.52132338, 26693603.0067757 , 26703125.39888017,\n",
       "        26711955.04782531, 26720142.34988545, 26727734.03506348,\n",
       "        26734773.43380789, 26741300.7243265 , 26747353.16190836,\n",
       "        26752965.29156274, 26758169.14518893, 26762994.42440208,\n",
       "        26767468.67005873, 26771617.41944956, 26775464.35205645,\n",
       "        26779031.42470604, 26782338.99689085, 26785405.94697359,\n",
       "        26788249.77993759, 26790886.72729863, 26793331.83974826,\n",
       "        26795599.07305736, 26797701.36773043, 26799650.72286502,\n",
       "        26801458.26463803, 26803134.3098097 , 26804688.42460771,\n",
       "        26806129.4793276 , 26807465.69896105, 26808704.71014097,\n",
       "        26809853.58467142, 26810918.87989079, 26811906.67609859,\n",
       "        26812822.61125948, 26813671.91318261, 26814459.42935999,\n",
       "        26815189.65463413, 26815866.75685286, 26816494.60065783,\n",
       "        26817076.76954244, 26817616.58630503, 26818117.13201414,\n",
       "        26818581.26359409, 26819011.63013124, 26819410.68799391,\n",
       "        26819780.71485246, 26820123.82267928, 26820441.96980324,\n",
       "        26820736.97208698, 26821010.51329121, 26821264.15468498,\n",
       "        26821499.34395679, 26821717.42347745, 26821919.63796185,\n",
       "        26822107.14157325, 26822281.0045109 , 26822442.21911823,\n",
       "        26822591.70554684, 26822730.31700835, 26822858.84464421,\n",
       "        26822978.02204123, 26823088.52941861, 26823190.9975104 ,\n",
       "        26823286.01116543, 26823374.11268548, 26823455.80492049,\n",
       "        26823531.55413862, 26823601.79268757, 26823666.92146223,\n",
       "        26823727.31219286, 26823783.30956675, 26823835.23319559,\n",
       "        26823883.37943969, 26823928.02309946, 26823969.41898393,\n",
       "        26824007.80336504, 26824043.39532623, 26824076.39801286,\n",
       "        26824106.9997917 , 26824135.37532604, 26824161.68657264,\n",
       "        26824186.08370608, 26824208.7059759 , 26824229.68250141,\n",
       "        26824249.13300862, 26824267.16851363, 26824283.89195623,\n",
       "        26824299.39878746, 26824313.77751441, 26824327.11020539,\n",
       "        26824339.47295832, 26824350.93633507, 26824361.56576425,\n",
       "        26824371.42191459, 26824380.56104123, 26824389.03530684,\n",
       "        26824396.8930793 , 26824404.17920778, 26824410.93527872,\n",
       "        26824417.19985322, 26824423.00868707, 26824428.39493488,\n",
       "        26824433.38933931, 26824438.02040652, 26824442.31456888,\n",
       "        26824446.29633582, 26824449.98843376, 26824453.41193579,\n",
       "        26824456.58638196, 26824459.52989078, 26824462.2592627 ,\n",
       "        26824464.79007593, 26824467.13677539, 26824469.31275513,\n",
       "        26824471.33043483, 26824473.20133064, 26824474.93612091,\n",
       "        26824476.54470717, 26824478.03627061, 26824479.41932452,\n",
       "        26824480.70176283, 26824481.89090522, 26824482.99353885,\n",
       "        26824484.01595715, 26824484.96399568, 26824485.8430655 ,\n",
       "        26824486.65818398, 26824487.41400353, 26824488.11483806,\n",
       "        26824488.76468769, 26824489.36726149, 26824489.92599874,\n",
       "        26824490.44408849, 26824490.92448781, 26824491.36993862,\n",
       "        26824491.78298339, 26824492.16597963, 26824492.52111333,\n",
       "        26824492.85041146, 26824493.15575352, 26824493.4388823 ,\n",
       "        26824493.70141378, 26824493.94484639, 26824494.17056956,\n",
       "        26824494.37987163, 26824494.57394721, 26824494.75390401,\n",
       "        26824494.92076917, 26824495.07549507, 26824495.21896484,\n",
       "        26824495.35199735, 26824495.47535189, 26824495.58973253,\n",
       "        26824495.69579211, 26824495.79413598, 26824495.88532544,\n",
       "        26824495.96988098, 26824496.04828519, 26824496.12098559,\n",
       "        26824496.18839712, 26824496.25090453, 26824496.30886461,\n",
       "        26824496.36260815, 26824496.41244192, 26824496.45865033,\n",
       "        26824496.50149713, 26824496.54122688, 26824496.57806633,\n",
       "        26824496.61222576, 26824496.64390012, 26824496.67327021,\n",
       "        26824496.70050367, 26824496.72575592, 26824496.74917109,\n",
       "        26824496.77088284, 26824496.79101508, 26824496.80968273,\n",
       "        26824496.82699233, 26824496.84304267, 26824496.85792537,\n",
       "        26824496.87172537, 26824496.88452143, 26824496.8963866 ,\n",
       "        26824496.90738859, 26824496.91759019, 26824496.92704964,\n",
       "        26824496.93582093, 26824496.94395412, 26824496.95149563,\n",
       "        26824496.9584885 , 26824496.96497265, 26824496.97098508,\n",
       "        26824496.97656011, 26824496.98172957, 26824496.98652296,\n",
       "        26824496.99096763, 26824496.99508895, 26824496.99891046,\n",
       "        26824497.00245396, 26824497.00573967, 26824497.00878634,\n",
       "        26824497.01161138, 26824497.0142309 , 26824497.01665985,\n",
       "        26824497.0189121 , 26824497.02100049, 26824497.02293696,\n",
       "        26824497.02473256, 26824497.02639752, 26824497.02794136,\n",
       "        26824497.02937289, 26824497.03070028, 26824497.0319311 ,\n",
       "        26824497.03307238, 26824497.03413064, 26824497.0351119 ,\n",
       "        26824497.03602178, 26824497.03686547, 26824497.03764778,\n",
       "        26824497.03837318, 26824497.03904581, 26824497.03966951,\n",
       "        26824497.04024783, 26824497.04078408, 26824497.04128131,\n",
       "        26824497.04174238, 26824497.0421699 , 26824497.04256632,\n",
       "        26824497.0429339 , 26824497.04327474, 26824497.04359078,\n",
       "        26824497.04388384, 26824497.04415557, 26824497.04440754]),\n",
       " array([ 3909209.65183201,  5331156.88067193,  6302249.2483437 ,\n",
       "         7030756.87863399,  7601506.2402774 ,  8059984.34042071,\n",
       "         8434278.90532843,  8743293.79074916,  9000504.68065622,\n",
       "         9215915.57518572,  9397177.63128904,  9550275.57717874,\n",
       "         9679972.61894827,  9790111.80893946,  9883827.6775072 ,\n",
       "         9963699.35700381, 10031864.18187963, 10090103.76689686,\n",
       "        10139910.41212858, 10182539.12078211, 10219048.88350196,\n",
       "        10250335.81334431, 10277159.99720402, 10300167.43592761,\n",
       "        10319908.09932794, 10336850.87520877, 10351396.01202798,\n",
       "        10363885.52242934, 10374611.91579425, 10383825.55283478,\n",
       "        10391740.85757555, 10398541.57729625, 10404385.24587786,\n",
       "        10409406.97817001, 10413722.70075923, 10417431.90660282,\n",
       "        10420620.00645267, 10423360.3381137 , 10425715.88481628,\n",
       "        10427740.74591169, 10429481.39639718, 10430977.766187  ,\n",
       "        10432264.16536505, 10433370.07772213, 10434320.84156734,\n",
       "        10435138.23400307, 10435840.97248229, 10436445.14545479,\n",
       "        10436964.58219893, 10437411.1704793 , 10437795.12942943,\n",
       "        10438125.24399944, 10438409.06640321, 10438653.08922577,\n",
       "        10438862.89418933, 10439043.28000925, 10439198.37228521,\n",
       "        10439331.7179566 , 10439446.3664935 , 10439544.93968878,\n",
       "        10439629.6916534 , 10439702.56039149, 10439765.21213809,\n",
       "        10439819.07947582, 10439865.39410394, 10439905.21501047,\n",
       "        10439939.45269257, 10439968.88997968, 10439994.19993612,\n",
       "        10440015.96125294, 10440034.67148107, 10440050.75840885,\n",
       "        10440064.58984393, 10440076.48202356, 10440086.7068455 ,\n",
       "        10440095.49808498, 10440103.05673999, 10440109.55562697,\n",
       "        10440115.14333218, 10440119.94760899, 10440124.07829886,\n",
       "        10440127.62984273, 10440130.68344028, 10440133.30890649,\n",
       "        10440135.56626784, 10440137.50713472, 10440139.17588146,\n",
       "        10440140.6106608 , 10440141.84427629, 10440142.90493221,\n",
       "        10440143.81687844, 10440144.60096489, 10440145.2751182 ,\n",
       "        10440145.85475159, 10440146.35311727, 10440146.78160942,\n",
       "        10440147.15002467, 10440147.46678613, 10440147.73913594,\n",
       "        10440147.97330085, 10440148.17463459, 10440148.34774027,\n",
       "        10440148.49657561, 10440148.62454344, 10440148.73456949,\n",
       "        10440148.82916931, 10440148.91050573, 10440148.98043835,\n",
       "        10440149.04056604, 10440149.09226351, 10440149.13671272,\n",
       "        10440149.17492992, 10440149.20778886, 10440149.2360408 ,\n",
       "        10440149.26033167, 10440149.28121683, 10440149.29917378,\n",
       "        10440149.31461307, 10440149.32788769, 10440149.33930114,\n",
       "        10440149.34911436, 10440149.35755171, 10440149.36480611,\n",
       "        10440149.37104339, 10440149.37640618, 10440149.38101708,\n",
       "        10440149.3849815 , 10440149.38839009, 10440149.39132078,\n",
       "        10440149.39384057, 10440149.39600707, 10440149.39786982,\n",
       "        10440149.3994714 , 10440149.40084843, 10440149.40203239,\n",
       "        10440149.40305036, 10440149.4039256 , 10440149.40467813,\n",
       "        10440149.40532514, 10440149.40588145, 10440149.40635975,\n",
       "        10440149.406771  , 10440149.40712459, 10440149.4074286 ,\n",
       "        10440149.40768999, 10440149.40791473, 10440149.40810796,\n",
       "        10440149.4082741 , 10440149.40841694, 10440149.40853976,\n",
       "        10440149.40864536, 10440149.40873615, 10440149.40881421,\n",
       "        10440149.40888133, 10440149.40893904, 10440149.40898865,\n",
       "        10440149.40903131, 10440149.40906799, 10440149.40909953,\n",
       "        10440149.40912664, 10440149.40914996, 10440149.40917   ,\n",
       "        10440149.40918723, 10440149.40920205, 10440149.40921479,\n",
       "        10440149.40922575, 10440149.40923517, 10440149.40924326,\n",
       "        10440149.40925023, 10440149.40925621, 10440149.40926136,\n",
       "        10440149.40926578, 10440149.40926959, 10440149.40927286,\n",
       "        10440149.40927567, 10440149.40927809, 10440149.40928017,\n",
       "        10440149.40928196, 10440149.4092835 , 10440149.40928482,\n",
       "        10440149.40928596, 10440149.40928693, 10440149.40928777,\n",
       "        10440149.40928849, 10440149.40928911, 10440149.40928965,\n",
       "        10440149.40929011, 10440149.4092905 , 10440149.40929084,\n",
       "        10440149.40929113, 10440149.40929138, 10440149.4092916 ,\n",
       "        10440149.40929179, 10440149.40929194, 10440149.40929208,\n",
       "        10440149.4092922 , 10440149.4092923 , 10440149.40929239,\n",
       "        10440149.40929246, 10440149.40929253, 10440149.40929258,\n",
       "        10440149.40929263, 10440149.40929267, 10440149.40929271,\n",
       "        10440149.40929274, 10440149.40929276, 10440149.40929278,\n",
       "        10440149.4092928 , 10440149.40929282, 10440149.40929283,\n",
       "        10440149.40929285, 10440149.40929286, 10440149.40929287,\n",
       "        10440149.40929287, 10440149.40929288, 10440149.40929289,\n",
       "        10440149.40929289, 10440149.4092929 , 10440149.4092929 ,\n",
       "        10440149.4092929 , 10440149.4092929 , 10440149.40929291,\n",
       "        10440149.40929291, 10440149.40929291, 10440149.40929291,\n",
       "        10440149.40929291, 10440149.40929292, 10440149.40929292,\n",
       "        10440149.40929292, 10440149.40929292, 10440149.40929292,\n",
       "        10440149.40929292, 10440149.40929292, 10440149.40929292,\n",
       "        10440149.40929292, 10440149.40929292, 10440149.40929292,\n",
       "        10440149.40929292, 10440149.40929292, 10440149.40929292,\n",
       "        10440149.40929292, 10440149.40929292, 10440149.40929292,\n",
       "        10440149.40929292, 10440149.40929292, 10440149.40929292,\n",
       "        10440149.40929292, 10440149.40929292, 10440149.40929292,\n",
       "        10440149.40929292, 10440149.40929292, 10440149.40929292,\n",
       "        10440149.40929292, 10440149.40929292, 10440149.40929292,\n",
       "        10440149.40929292, 10440149.40929292, 10440149.40929292,\n",
       "        10440149.40929292, 10440149.40929292, 10440149.40929292,\n",
       "        10440149.40929292, 10440149.40929292, 10440149.40929292,\n",
       "        10440149.40929292, 10440149.40929292, 10440149.40929292,\n",
       "        10440149.40929292, 10440149.40929292, 10440149.40929292,\n",
       "        10440149.40929292, 10440149.40929292, 10440149.40929292,\n",
       "        10440149.40929292, 10440149.40929292, 10440149.40929292,\n",
       "        10440149.40929292, 10440149.40929292, 10440149.40929292,\n",
       "        10440149.40929292, 10440149.40929292, 10440149.40929292,\n",
       "        10440149.40929292, 10440149.40929292, 10440149.40929292,\n",
       "        10440149.40929292, 10440149.40929292, 10440149.40929292,\n",
       "        10440149.40929292, 10440149.40929292, 10440149.40929292,\n",
       "        10440149.40929292, 10440149.40929292, 10440149.40929292,\n",
       "        10440149.40929292, 10440149.40929292, 10440149.40929292,\n",
       "        10440149.40929292, 10440149.40929292, 10440149.40929292]),\n",
       " array([[-1476745.77158513, 13847074.47962906],\n",
       "        [-2762223.22669423, 18135527.73740553],\n",
       "        [-3273272.92309072, 21431090.17360585],\n",
       "        [-3410150.33318768, 24149910.19917204],\n",
       "        [-3331743.90794726, 26465613.01045312],\n",
       "        [-3120374.21115337, 28474183.83520947],\n",
       "        [-2824756.88705944, 30237008.89295982],\n",
       "        [-2476068.40941493, 31797013.46282716],\n",
       "        [-2095273.58687979, 33186056.44666094],\n",
       "        [-1696929.11925143, 34428796.10460007],\n",
       "        [-1291347.65691768, 35544911.77038621],\n",
       "        [ -885916.41771815, 36550475.92968744],\n",
       "        [ -485944.40179457, 37458851.00715038],\n",
       "        [  -95230.07979647, 38281303.02048677],\n",
       "        [  283545.12743951, 39027437.68206806],\n",
       "        [  648536.49200504, 39705520.27702976],\n",
       "        [  998531.64986234, 40322716.63842525],\n",
       "        [ 1332798.88071236, 40885278.84749193],\n",
       "        [ 1650972.71064752, 41398691.13911694],\n",
       "        [ 1952966.56706069, 41867786.46286687],\n",
       "        [ 2238905.40815461, 42296840.9439908 ],\n",
       "        [ 2509073.33943958, 42689651.38663142],\n",
       "        [ 2763872.63204278, 43049599.54779407],\n",
       "        [ 3003791.51977306, 43379705.93807386],\n",
       "        [ 3229378.82523088, 43682675.22212282],\n",
       "        [ 3441223.94509184, 43960934.80303288],\n",
       "        [ 3639941.07230709, 44216667.81887987],\n",
       "        [ 3826156.78860607, 44451841.51632126],\n",
       "        [ 4000500.35130189, 44668231.76837553],\n",
       "        [ 4163596.14233805, 44867444.3529438 ],\n",
       "        [ 4316057.85747923, 45050933.49252215],\n",
       "        [ 4458484.09845855, 45220018.06494452],\n",
       "        [ 4591455.09710127, 45375895.82350232],\n",
       "        [ 4715530.35253248, 45519655.90779874],\n",
       "        [ 4831247.00388881, 45652289.88083935],\n",
       "        [ 4939118.79396012, 45774701.49064001],\n",
       "        [ 5039635.50573238, 45887715.32418193],\n",
       "        [ 5133262.77527522, 45992084.49644739],\n",
       "        [ 5220442.20187729, 46088497.49645139],\n",
       "        [ 5301591.69059309, 46177584.2948086 ],\n",
       "        [ 5377105.9740568 , 46259921.80279475],\n",
       "        [ 5447357.2700367 , 46336038.76056588],\n",
       "        [ 5512696.03913578, 46406420.12178238],\n",
       "        [ 5573451.81360044, 46471510.99302692],\n",
       "        [ 5629934.07362654, 46531720.17884184],\n",
       "        [ 5682433.15204927, 46587423.37673511],\n",
       "        [ 5731221.15203279, 46638966.06093826],\n",
       "        [ 5776552.8654674 , 46686666.08890593],\n",
       "        [ 5818666.68234483, 46730816.06040491],\n",
       "        [ 5857785.48350443, 46771685.45545538],\n",
       "        [ 5894117.51089692, 46809522.57427546],\n",
       "        [ 5927857.21095999, 46844556.29967451],\n",
       "        [ 5959186.04789012, 46876997.69998343],\n",
       "        [ 5988273.28457146, 46907041.48855202],\n",
       "        [ 6015276.72971864, 46934867.35404392],\n",
       "        [ 6040343.45043696, 46960641.17418295],\n",
       "        [ 6063610.44992457, 46984516.12422092],\n",
       "        [ 6085205.31045745, 47006633.69018061],\n",
       "        [ 6105246.80212761, 47027124.59585719],\n",
       "        [ 6123845.45806123, 47046109.651616  ],\n",
       "        [ 6141104.11704028, 47063700.53219159],\n",
       "        [ 6157118.43459795, 47080000.48995376],\n",
       "        [ 6171977.36376356, 47095105.00945319],\n",
       "        [ 6185763.60670506, 47109102.40847849],\n",
       "        [ 6198554.0385612 , 47122074.39034078],\n",
       "        [ 6210420.10477788, 47134096.55164271],\n",
       "        [ 6221428.19326714, 47145238.84937961],\n",
       "        [ 6231639.98269693, 47155566.03085448],\n",
       "        [ 6241112.76819831, 47165138.02956203],\n",
       "        [ 6249899.76574623, 47174010.32990438],\n",
       "        [ 6258050.39643309, 47182234.3033378 ],\n",
       "        [ 6265610.55181205, 47189857.5183149 ],\n",
       "        [ 6272622.84144185, 47196924.02617393],\n",
       "        [ 6279126.82371669, 47203474.62493631],\n",
       "        [ 6285159.22101581, 47209547.10280091],\n",
       "        [ 6290754.12015742, 47215176.46296807],\n",
       "        [ 6295943.15909202, 47220395.13128585],\n",
       "        [ 6300755.70072075, 47225233.14808341],\n",
       "        [ 6305218.99467644, 47229718.34544103],\n",
       "        [ 6309358.32785773, 47233876.51104138],\n",
       "        [ 6313197.16446125, 47237731.53965165],\n",
       "        [ 6316757.27621277, 47241305.5731993 ],\n",
       "        [ 6320058.86345637, 47244619.13032534],\n",
       "        [ 6323120.66771989, 47247691.22622729],\n",
       "        [ 6325960.07633694, 47250539.48353823],\n",
       "        [ 6328593.21966879, 47253180.23492847],\n",
       "        [ 6331035.06143492, 47255628.61806159],\n",
       "        [ 6333299.48262817, 47257898.66348654],\n",
       "        [ 6335399.35945932, 47260003.37600154],\n",
       "        [ 6337346.63574651, 47261954.80998353],\n",
       "        [ 6339152.39013776, 47263764.1391383 ],\n",
       "        [ 6340826.89852822, 47265441.72109117],\n",
       "        [ 6342379.69201002, 47266997.15720539],\n",
       "        [ 6343819.61066934, 47268439.34798586],\n",
       "        [ 6345154.85352401, 47269776.5443981 ],\n",
       "        [ 6346393.02487475, 47271016.39540718],\n",
       "        [ 6347541.17732458, 47272165.99201825],\n",
       "        [ 6348605.8517029 , 47273231.90807869],\n",
       "        [ 6349593.11411488, 47274220.2380823 ],\n",
       "        [ 6350508.59032097, 47275136.63219799],\n",
       "        [ 6351357.49763722, 47275986.328728  ],\n",
       "        [ 6352144.67453371, 47276774.18418628],\n",
       "        [ 6352874.60809595, 47277504.70117231],\n",
       "        [ 6353551.45950234, 47278182.05420338],\n",
       "        [ 6354179.0876602 , 47278810.11365546],\n",
       "        [ 6354761.07113258, 47279392.46795231],\n",
       "        [ 6355300.72847871, 47279932.44413134],\n",
       "        [ 6355801.13712241, 47280433.12690587],\n",
       "        [ 6356265.15085425, 47280897.37633394],\n",
       "        [ 6356695.41606621, 47281327.84419627],\n",
       "        [ 6357094.38681004, 47281726.98917779],\n",
       "        [ 6357464.33876425, 47282097.09094065],\n",
       "        [ 6357807.38218874, 47282440.26316983],\n",
       "        [ 6358125.47393991, 47282758.46566658],\n",
       "        [ 6358420.42861442, 47283053.51555954],\n",
       "        [ 6358693.92888449, 47283327.09769793],\n",
       "        [ 6358947.53508328, 47283580.77428667],\n",
       "        [ 6359182.69409464, 47283815.99381894],\n",
       "        [ 6359400.74759753, 47284034.09935737],\n",
       "        [ 6359602.93971198, 47284236.33621171],\n",
       "        [ 6359790.42408982, 47284423.85905668],\n",
       "        [ 6359964.27049056, 47284597.73853124],\n",
       "        [ 6360125.47087954, 47284758.96735692],\n",
       "        [ 6360274.94508329, 47284908.46601038],\n",
       "        [ 6360413.54603393, 47285047.08798277],\n",
       "        [ 6360542.0646326 , 47285175.62465582],\n",
       "        [ 6360661.23425949, 47285294.80982297],\n",
       "        [ 6360771.73495616, 47285405.32388107],\n",
       "        [ 6360874.1973039 , 47285507.79771689],\n",
       "        [ 6360969.20602024, 47285602.81631062],\n",
       "        [ 6361057.30329402, 47285690.92207694],\n",
       "        [ 6361138.99187811, 47285772.61796287],\n",
       "        [ 6361214.7379572 , 47285848.37032003],\n",
       "        [ 6361284.97380722, 47285918.61156791],\n",
       "        [ 6361350.10026136, 47285983.7426631 ],\n",
       "        [ 6361410.48899681, 47286044.13538891],\n",
       "        [ 6361466.48465526, 47286100.13447824],\n",
       "        [ 6361518.40680918, 47286152.05958201],\n",
       "        [ 6361566.55178514, 47286200.20709423],\n",
       "        [ 6361611.19435458, 47286244.85184434],\n",
       "        [ 6361652.58930159, 47286286.24866627],\n",
       "        [ 6361690.97287667, 47286324.63385342],\n",
       "        [ 6361726.56414484, 47286360.22650763],\n",
       "        [ 6361759.56623562, 47286393.22979011],\n",
       "        [ 6361790.16750214, 47286423.83208125],\n",
       "        [ 6361818.542596  , 47286452.20805608],\n",
       "        [ 6361844.85346388, 47286478.51968141],\n",
       "        [ 6361869.25027169, 47286502.91714047],\n",
       "        [ 6361891.87226154, 47286525.53969026],\n",
       "        [ 6361912.84854633, 47286546.51645648],\n",
       "        [ 6361932.29884658, 47286565.96717066],\n",
       "        [ 6361950.33417363, 47286584.00285362],\n",
       "        [ 6361967.05746324, 47286600.72644921],\n",
       "        [ 6361982.56416292, 47286616.233412  ],\n",
       "        [ 6361996.94277677, 47286630.61225206],\n",
       "        [ 6362010.2753705 , 47286643.94504028],\n",
       "        [ 6362022.63803981, 47286656.30787682],\n",
       "        [ 6362034.10134467, 47286667.77132547],\n",
       "        [ 6362044.73071205, 47286678.40081646],\n",
       "        [ 6362054.58680924, 47286688.25701994],\n",
       "        [ 6362063.72589019, 47286697.39619227],\n",
       "        [ 6362072.20011652, 47286705.87049717],\n",
       "        [ 6362080.0578552 , 47286713.7283034 ],\n",
       "        [ 6362087.34395463, 47286721.01446092],\n",
       "        [ 6362094.10000061, 47286727.77055684],\n",
       "        [ 6362100.36455363, 47286734.03515281],\n",
       "        [ 6362106.17336902, 47286739.84400512],\n",
       "        [ 6362111.55960096, 47286745.2302688 ],\n",
       "        [ 6362116.55399175, 47286750.22468688],\n",
       "        [ 6362121.18504722, 47286754.85576582],\n",
       "        [ 6362125.47919949, 47286759.14993826],\n",
       "        [ 6362129.46095776, 47286763.13171388],\n",
       "        [ 6362133.15304825, 47286766.82381928],\n",
       "        [ 6362136.57654386, 47286770.24732772],\n",
       "        [ 6362139.75098452, 47286773.42177939],\n",
       "        [ 6362142.6944886 , 47286776.36529297],\n",
       "        [ 6362145.42385645, 47286779.09466895],\n",
       "        [ 6362147.95466617, 47286781.62548569],\n",
       "        [ 6362150.30136261, 47286783.97218816],\n",
       "        [ 6362152.47733977, 47286786.14817049],\n",
       "        [ 6362154.49501724, 47286788.16585243],\n",
       "        [ 6362156.36591113, 47286790.03675015],\n",
       "        [ 6362158.10069976, 47286791.77154206],\n",
       "        [ 6362159.7092846 , 47286793.38012974],\n",
       "        [ 6362161.20084683, 47286794.87169439],\n",
       "        [ 6362162.58389969, 47286796.25474934],\n",
       "        [ 6362163.8663371 , 47286797.53718856],\n",
       "        [ 6362165.05547871, 47286798.72633172],\n",
       "        [ 6362166.15811168, 47286799.82896602],\n",
       "        [ 6362167.18052941, 47286800.85138489],\n",
       "        [ 6362168.12856745, 47286801.79942392],\n",
       "        [ 6362169.00763684, 47286802.67849416],\n",
       "        [ 6362169.82275496, 47286803.493613  ],\n",
       "        [ 6362170.5785742 , 47286804.24943286],\n",
       "        [ 6362171.27940847, 47286804.95026766],\n",
       "        [ 6362171.92925786, 47286805.60011752],\n",
       "        [ 6362172.53183147, 47286806.20269152],\n",
       "        [ 6362173.09056854, 47286806.76142894],\n",
       "        [ 6362173.60865815, 47286807.27951884],\n",
       "        [ 6362174.08905733, 47286807.75991828],\n",
       "        [ 6362174.53450804, 47286808.2053692 ],\n",
       "        [ 6362174.94755272, 47286808.61841407],\n",
       "        [ 6362175.33054888, 47286809.00141038],\n",
       "        [ 6362175.68568251, 47286809.35654415],\n",
       "        [ 6362176.01498058, 47286809.68584234],\n",
       "        [ 6362176.32032259, 47286809.99118445],\n",
       "        [ 6362176.60345132, 47286810.27431327],\n",
       "        [ 6362176.86598276, 47286810.53684479],\n",
       "        [ 6362177.10941534, 47286810.78027744],\n",
       "        [ 6362177.33513849, 47286811.00600064],\n",
       "        [ 6362177.54444053, 47286811.21530272],\n",
       "        [ 6362177.73851609, 47286811.40937833],\n",
       "        [ 6362177.91847288, 47286811.58933515],\n",
       "        [ 6362178.08533802, 47286811.75620031],\n",
       "        [ 6362178.24006391, 47286811.91092623],\n",
       "        [ 6362178.38353366, 47286812.05439602],\n",
       "        [ 6362178.51656616, 47286812.18742853],\n",
       "        [ 6362178.63992069, 47286812.31078309],\n",
       "        [ 6362178.75430133, 47286812.42516373],\n",
       "        [ 6362178.8603609 , 47286812.53122333],\n",
       "        [ 6362178.95870477, 47286812.62956719],\n",
       "        [ 6362179.04989422, 47286812.72075666],\n",
       "        [ 6362179.13444975, 47286812.8053122 ],\n",
       "        [ 6362179.21285396, 47286812.88371642],\n",
       "        [ 6362179.28555436, 47286812.95641682],\n",
       "        [ 6362179.35296588, 47286813.02382835],\n",
       "        [ 6362179.4154733 , 47286813.08633576],\n",
       "        [ 6362179.47343338, 47286813.14429584],\n",
       "        [ 6362179.52717692, 47286813.19803938],\n",
       "        [ 6362179.57701068, 47286813.24787316],\n",
       "        [ 6362179.62321909, 47286813.29408157],\n",
       "        [ 6362179.66606589, 47286813.33692837],\n",
       "        [ 6362179.70579564, 47286813.37665812],\n",
       "        [ 6362179.74263509, 47286813.41349757],\n",
       "        [ 6362179.77679452, 47286813.447657  ],\n",
       "        [ 6362179.80846888, 47286813.47933136],\n",
       "        [ 6362179.83783897, 47286813.50870146],\n",
       "        [ 6362179.86507243, 47286813.53593491],\n",
       "        [ 6362179.89032467, 47286813.56118716],\n",
       "        [ 6362179.91373985, 47286813.58460233],\n",
       "        [ 6362179.9354516 , 47286813.60631408],\n",
       "        [ 6362179.95558384, 47286813.62644632],\n",
       "        [ 6362179.97425149, 47286813.64511397],\n",
       "        [ 6362179.99156108, 47286813.66242357],\n",
       "        [ 6362180.00761143, 47286813.6784739 ],\n",
       "        [ 6362180.02249413, 47286813.6933566 ],\n",
       "        [ 6362180.03629413, 47286813.70715661],\n",
       "        [ 6362180.04909019, 47286813.71995267],\n",
       "        [ 6362180.06095536, 47286813.73181784],\n",
       "        [ 6362180.07195735, 47286813.74281983],\n",
       "        [ 6362180.08215895, 47286813.75302143],\n",
       "        [ 6362180.0916184 , 47286813.76248088],\n",
       "        [ 6362180.10038969, 47286813.77125217],\n",
       "        [ 6362180.10852288, 47286813.77938536],\n",
       "        [ 6362180.11606439, 47286813.78692687],\n",
       "        [ 6362180.12305726, 47286813.79391974],\n",
       "        [ 6362180.1295414 , 47286813.80040389],\n",
       "        [ 6362180.13555384, 47286813.80641632],\n",
       "        [ 6362180.14112887, 47286813.81199135],\n",
       "        [ 6362180.14629833, 47286813.81716082],\n",
       "        [ 6362180.15109172, 47286813.8219542 ],\n",
       "        [ 6362180.15553639, 47286813.82639886],\n",
       "        [ 6362180.15965771, 47286813.8305202 ],\n",
       "        [ 6362180.16347922, 47286813.8343417 ],\n",
       "        [ 6362180.16702272, 47286813.8378852 ],\n",
       "        [ 6362180.17030843, 47286813.84117091],\n",
       "        [ 6362180.1733551 , 47286813.84421758],\n",
       "        [ 6362180.17618014, 47286813.84704262],\n",
       "        [ 6362180.17879966, 47286813.84966214],\n",
       "        [ 6362180.18122861, 47286813.85209109],\n",
       "        [ 6362180.18348086, 47286813.85434334],\n",
       "        [ 6362180.18556925, 47286813.85643174],\n",
       "        [ 6362180.18750572, 47286813.8583682 ],\n",
       "        [ 6362180.18930132, 47286813.86016379],\n",
       "        [ 6362180.19096628, 47286813.86182876],\n",
       "        [ 6362180.19251012, 47286813.86337261],\n",
       "        [ 6362180.19394165, 47286813.86480413],\n",
       "        [ 6362180.19526904, 47286813.86613152],\n",
       "        [ 6362180.19649986, 47286813.86736234],\n",
       "        [ 6362180.19764114, 47286813.86850362],\n",
       "        [ 6362180.1986994 , 47286813.86956188],\n",
       "        [ 6362180.19968066, 47286813.87054314],\n",
       "        [ 6362180.20059054, 47286813.87145302],\n",
       "        [ 6362180.20143423, 47286813.87229671],\n",
       "        [ 6362180.20221654, 47286813.87307902],\n",
       "        [ 6362180.20294194, 47286813.87380442],\n",
       "        [ 6362180.20361457, 47286813.87447705],\n",
       "        [ 6362180.20423827, 47286813.87510075],\n",
       "        [ 6362180.20481659, 47286813.87567907],\n",
       "        [ 6362180.20535284, 47286813.87621532],\n",
       "        [ 6362180.20585007, 47286813.87671255],\n",
       "        [ 6362180.20631114, 47286813.87717362],\n",
       "        [ 6362180.20673866, 47286813.87760114],\n",
       "        [ 6362180.20713508, 47286813.87799756],\n",
       "        [ 6362180.20750266, 47286813.87836514],\n",
       "        [ 6362180.2078435 , 47286813.87870598],\n",
       "        [ 6362180.20815954, 47286813.87902202],\n",
       "        [ 6362180.2084526 , 47286813.87931508],\n",
       "        [ 6362180.20872433, 47286813.87958682],\n",
       "        [ 6362180.20897629, 47286813.87983878]]))"
      ]
     },
     "execution_count": 113,
     "metadata": {},
     "output_type": "execute_result"
    }
   ],
   "source": [
    "forecasted=model_fit.forecast(steps=300)\n",
    "forecasted"
   ]
  },
  {
   "cell_type": "code",
   "execution_count": 114,
   "id": "6f56dac6",
   "metadata": {},
   "outputs": [
    {
     "data": {
      "image/png": "[encoded data removed]",
      "text/plain": [
       "<Figure size 600x360 with 1 Axes>"
      ]
     },
     "metadata": {
      "needs_background": "light"
     },
     "output_type": "display_data"
    }
   ],
   "source": [
    "plt.rcParams.update({'figure.figsize':(5,3), 'figure.dpi':120})\n",
    "model_fit.plot_predict(1,200);"
   ]
  },
  {
   "cell_type": "code",
   "execution_count": null,
   "id": "a34fa684",
   "metadata": {},
   "outputs": [],
   "source": []
  },
  {
   "cell_type": "markdown",
   "id": "dc36455b",
   "metadata": {},
   "source": [
    "## Conclusion\n",
    "\n",
    "Restating our project goals:\n",
    "- Explore with our chosen dataframe.\n",
    "- Take advantage of the various sources to reach an optimal conclusion that will help with either decision making/support.\n",
    "- Provide analysis that will enable us to correlate trends/patterns withreal world activities which will include:\n",
    "  - Distinction between an array of transportation rush hours\n",
    "  - In which month people travel more\n",
    "  - Analysis through outliners\n",
    "  - Analysis through several linear Regresion.\n",
    "  \n",
    "Due to the diverse amount of vogue data we had to clean the data thoroughly to start exploring the data. In the exploration    process we found out the content of the data such as train routes and different travel types. These data where separated in order to carry on further analysis\n",
    "\n",
    "The first analysis was done by spliting the data in to indiviual years. Then using those data we could understand the trends of travelling in each month for the respectable year through line graphs. In the analysis we were able to distinguish when more  people  intented to travel  through train. The second analysis was quite similer but the pie plot was used indicate total people travelling throughout the year.\n",
    "\n",
    "Moreover linear regression were used to predict the travel usuage by train for future. However we cant entirely rely on past records to predict the future and need to consider external factors such as the pandemic. Another regression was done to find the usage of  ticket all over the years in order to predict the usage in the future.\n",
    "\n",
    "\n",
    "Lastly predicting the numbers of travels and passengers, ticket usage is difficult to predict acurately thus given a limited data frrame. Moreover it lacked a major chunk of data and is unable to predict for future based on the running pandemic situation. Nertheless we were able to uphold some analysis.\n"
   ]
  },
  {
   "cell_type": "code",
   "execution_count": null,
   "id": "71c985d1",
   "metadata": {},
   "outputs": [],
   "source": []
  }
 ],
 "metadata": {
  "kernelspec": {
   "display_name": "Python 3",
   "language": "python",
   "name": "python3"
  },
  "language_info": {
   "codemirror_mode": {
    "name": "ipython",
    "version": 3
   },
   "file_extension": ".py",
   "mimetype": "text/x-python",
   "name": "python",
   "nbconvert_exporter": "python",
   "pygments_lexer": "ipython3",
   "version": "3.8.8"
  }
 },
 "nbformat": 4,
 "nbformat_minor": 5
}
