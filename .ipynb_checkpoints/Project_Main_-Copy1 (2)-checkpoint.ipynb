{
 "cells": [
  {
   "cell_type": "markdown",
   "id": "60528c11",
   "metadata": {},
   "source": [
    "# Data Science Group Project\n",
    "### Group 51\n",
    "Thuseevan Nareshkumar 46328785\n",
    "### Name and Student number \n",
    "add you name here then remove this "
   ]
  },
  {
   "cell_type": "markdown",
   "id": "cfe0d606",
   "metadata": {},
   "source": [
    "# Executive Summary\n",
    "work on it"
   ]
  },
  {
   "cell_type": "markdown",
   "id": "4acb2e2d",
   "metadata": {},
   "source": [
    "# Introduction\n",
    "work on it"
   ]
  },
  {
   "cell_type": "markdown",
   "id": "27fa6bed",
   "metadata": {},
   "source": [
    "# Project Goal\n",
    "# work on it make it dot points \n",
    "One key objective we would like to explore with our chosen dataframe is to take\n",
    "advantage of the various sources to reach an optimal conclusion that will help with\n",
    "either decision making/support.\n",
    "We are eager to provide an analysis that will enable us to correlate trends/patterns with\n",
    "real world activities. From this, we aim to provide a sustainable solution that in hope\n",
    "answers the distinction between an array of transportation rush hours, off-peak hours\n",
    "and outliers. We will also aim to challenge ourselves\n"
   ]
  },
  {
   "cell_type": "markdown",
   "id": "b1eb8aa7",
   "metadata": {},
   "source": [
    "# Data source"
   ]
  },
  {
   "cell_type": "markdown",
   "id": "37a1f837",
   "metadata": {},
   "source": [
    "The dataset is from the Bureau of Transport Statistics. This dataset contains NSW trains official train utilisation figures for Intercity train lines only. These figures include the data of passengers who on/tap off well as passeners who bought tickets when entering and exiting the transportation service stations. It is set out as a line and aggregated into a monthly figure for a passenger for their estimated times of travel during that month. \n",
    "The data was collected from opal train trips by month,line and card type, from July 2016 to August 2021. The format of the data set is in CSV. Here is a link to the relevant document page: https://opendata.transport.nsw.gov.au/dataset/opal-trips-train."
   ]
  },
  {
   "cell_type": "code",
   "execution_count": 1,
   "id": "a0ac67b6",
   "metadata": {},
   "outputs": [],
   "source": [
    "import pandas as pd\n",
    "import numpy as np\n",
    "import matplotlib.pyplot as plt\n",
    "import seaborn as sns\n",
    "%matplotlib inline\n",
    "\n",
    "import seaborn as sns"
   ]
  },
  {
   "cell_type": "code",
   "execution_count": 2,
   "id": "ff2367e3",
   "metadata": {},
   "outputs": [],
   "source": [
    "#We tried importing the file, but this method didn’t work for some reason.\n",
    "#pd.show_versions()\n",
    "#data = pd.read_csv(\"files/TrainCardType.csv\")\n",
    "# we had error opeing the file"
   ]
  },
  {
   "cell_type": "code",
   "execution_count": 3,
   "id": "613a747a",
   "metadata": {},
   "outputs": [],
   "source": [
    "#We realised that there was an error with encoding the file. After resolving the the issue, we were able to import the file.\n",
    "# importing the file\n",
    "data = pd.read_csv(\"files/TrainCardType.csv\", encoding='utf-16',sep=\"\\t\")"
   ]
  },
  {
   "cell_type": "code",
   "execution_count": 4,
   "id": "3201a9a6",
   "metadata": {},
   "outputs": [
    {
     "data": {
      "text/html": [
       "<div>\n",
       "<style scoped>\n",
       "    .dataframe tbody tr th:only-of-type {\n",
       "        vertical-align: middle;\n",
       "    }\n",
       "\n",
       "    .dataframe tbody tr th {\n",
       "        vertical-align: top;\n",
       "    }\n",
       "\n",
       "    .dataframe thead th {\n",
       "        text-align: right;\n",
       "    }\n",
       "</style>\n",
       "<table border=\"1\" class=\"dataframe\">\n",
       "  <thead>\n",
       "    <tr style=\"text-align: right;\">\n",
       "      <th></th>\n",
       "      <th>Route</th>\n",
       "      <th>Travel type</th>\n",
       "      <th>1/07/2016+C1:BA1</th>\n",
       "      <th>Aug-16</th>\n",
       "      <th>Sep-16</th>\n",
       "      <th>Oct-16</th>\n",
       "      <th>Nov-16</th>\n",
       "      <th>Dec-16</th>\n",
       "      <th>Jan-17</th>\n",
       "      <th>Feb-17</th>\n",
       "      <th>...</th>\n",
       "      <th>Dec-20</th>\n",
       "      <th>Jan-21</th>\n",
       "      <th>Feb-21</th>\n",
       "      <th>Mar-21</th>\n",
       "      <th>Apr-21</th>\n",
       "      <th>May-21</th>\n",
       "      <th>Jun-21</th>\n",
       "      <th>Jul-21</th>\n",
       "      <th>Aug-21</th>\n",
       "      <th>Sep-21</th>\n",
       "    </tr>\n",
       "  </thead>\n",
       "  <tbody>\n",
       "    <tr>\n",
       "      <th>0</th>\n",
       "      <td>T1 North Shore, Northern and Western Line</td>\n",
       "      <td>Adult</td>\n",
       "      <td>8,575,135</td>\n",
       "      <td>9,484,134</td>\n",
       "      <td>8,956,112</td>\n",
       "      <td>8,778,524</td>\n",
       "      <td>9,221,978</td>\n",
       "      <td>8,036,202</td>\n",
       "      <td>7,774,754</td>\n",
       "      <td>8,446,672</td>\n",
       "      <td>...</td>\n",
       "      <td>NaN</td>\n",
       "      <td>NaN</td>\n",
       "      <td>NaN</td>\n",
       "      <td>NaN</td>\n",
       "      <td>NaN</td>\n",
       "      <td>NaN</td>\n",
       "      <td>NaN</td>\n",
       "      <td>NaN</td>\n",
       "      <td>NaN</td>\n",
       "      <td>NaN</td>\n",
       "    </tr>\n",
       "    <tr>\n",
       "      <th>1</th>\n",
       "      <td>T1 North Shore, Northern and Western Line</td>\n",
       "      <td>Child/Youth</td>\n",
       "      <td>432,083</td>\n",
       "      <td>370,300</td>\n",
       "      <td>425,154</td>\n",
       "      <td>438,430</td>\n",
       "      <td>404,288</td>\n",
       "      <td>505,401</td>\n",
       "      <td>552,039</td>\n",
       "      <td>394,228</td>\n",
       "      <td>...</td>\n",
       "      <td>NaN</td>\n",
       "      <td>NaN</td>\n",
       "      <td>NaN</td>\n",
       "      <td>NaN</td>\n",
       "      <td>NaN</td>\n",
       "      <td>NaN</td>\n",
       "      <td>NaN</td>\n",
       "      <td>NaN</td>\n",
       "      <td>NaN</td>\n",
       "      <td>NaN</td>\n",
       "    </tr>\n",
       "  </tbody>\n",
       "</table>\n",
       "<p>2 rows × 65 columns</p>\n",
       "</div>"
      ],
      "text/plain": [
       "                                       Route  Travel type 1/07/2016+C1:BA1  \\\n",
       "0  T1 North Shore, Northern and Western Line        Adult        8,575,135   \n",
       "1  T1 North Shore, Northern and Western Line  Child/Youth          432,083   \n",
       "\n",
       "      Aug-16     Sep-16     Oct-16     Nov-16     Dec-16     Jan-17  \\\n",
       "0  9,484,134  8,956,112  8,778,524  9,221,978  8,036,202  7,774,754   \n",
       "1    370,300    425,154    438,430    404,288    505,401    552,039   \n",
       "\n",
       "      Feb-17  ... Dec-20 Jan-21 Feb-21 Mar-21 Apr-21 May-21 Jun-21 Jul-21  \\\n",
       "0  8,446,672  ...    NaN    NaN    NaN    NaN    NaN    NaN    NaN    NaN   \n",
       "1    394,228  ...    NaN    NaN    NaN    NaN    NaN    NaN    NaN    NaN   \n",
       "\n",
       "  Aug-21 Sep-21  \n",
       "0    NaN    NaN  \n",
       "1    NaN    NaN  \n",
       "\n",
       "[2 rows x 65 columns]"
      ]
     },
     "execution_count": 4,
     "metadata": {},
     "output_type": "execute_result"
    }
   ],
   "source": [
    "#show data head\n",
    "data.head(2)"
   ]
  },
  {
   "cell_type": "code",
   "execution_count": 5,
   "id": "b6837878",
   "metadata": {},
   "outputs": [],
   "source": [
    "# renaming \n",
    "data = data.rename(columns={\"1/07/2016+C1:BA1\": \"Jul-16\"})\n",
    "#data.head()"
   ]
  },
  {
   "cell_type": "code",
   "execution_count": 6,
   "id": "ad9767d1",
   "metadata": {},
   "outputs": [
    {
     "name": "stdout",
     "output_type": "stream",
     "text": [
      "The size of the data is :  (248, 65)\n",
      "The number of row 248 and number of columns 65 \n"
     ]
    }
   ],
   "source": [
    "#checking the data set size \n",
    "print(\"The size of the data is : \", data.shape) \n",
    "print(\"The number of row {} and number of columns {} \".format(data.shape[0], data.shape[1]))"
   ]
  },
  {
   "cell_type": "code",
   "execution_count": 7,
   "id": "02b8cd86",
   "metadata": {},
   "outputs": [
    {
     "name": "stdout",
     "output_type": "stream",
     "text": [
      "<class 'pandas.core.frame.DataFrame'>\n",
      "<class 'pandas.core.series.Series'>\n",
      "<class 'str'>\n"
     ]
    }
   ],
   "source": [
    "# checking data type \n",
    "print(type(data))\n",
    "print(type(data['Jul-16']))\n",
    "print(type(data['Jul-16'][0]))"
   ]
  },
  {
   "cell_type": "code",
   "execution_count": 8,
   "id": "635b1964",
   "metadata": {},
   "outputs": [],
   "source": [
    "#show infor for data\n",
    "#data.info()"
   ]
  },
  {
   "cell_type": "markdown",
   "id": "bcf7bd04",
   "metadata": {},
   "source": [
    "Note: The data set have too many null value. Dropping the null value drop almost 70% of the data. We tried dropping the value but too many rows and coulmns were droped"
   ]
  },
  {
   "cell_type": "code",
   "execution_count": 9,
   "id": "e1d0981b",
   "metadata": {},
   "outputs": [
    {
     "data": {
      "text/plain": [
       "Route            0\n",
       "Travel type      0\n",
       "Jul-16         139\n",
       "Aug-16         139\n",
       "Sep-16         139\n",
       "              ... \n",
       "May-21          69\n",
       "Jun-21          69\n",
       "Jul-21          75\n",
       "Aug-21          73\n",
       "Sep-21          73\n",
       "Length: 65, dtype: int64"
      ]
     },
     "execution_count": 9,
     "metadata": {},
     "output_type": "execute_result"
    }
   ],
   "source": [
    "# Deal with the NaN values in the data\n",
    "data.isna().sum()"
   ]
  },
  {
   "cell_type": "code",
   "execution_count": 10,
   "id": "f18082f3",
   "metadata": {},
   "outputs": [],
   "source": [
    "#The data set have too many null value. Dropping the null value drop almost 70% of the data.\n",
    "#We tried dropping the value but too many rows and coulmns were droped\n",
    "#data =data.dropna()\n",
    "#data.shape\n",
    "#data.head(2)"
   ]
  },
  {
   "cell_type": "code",
   "execution_count": 11,
   "id": "4e70391d",
   "metadata": {},
   "outputs": [],
   "source": [
    "data_l =data"
   ]
  },
  {
   "cell_type": "code",
   "execution_count": 12,
   "id": "a81eff98",
   "metadata": {},
   "outputs": [],
   "source": [
    "#we decide to assign 0 to null values\n",
    "data.fillna( '0', inplace = True)\n",
    "#data.head(2)"
   ]
  },
  {
   "cell_type": "code",
   "execution_count": 13,
   "id": "bb27d017",
   "metadata": {},
   "outputs": [
    {
     "data": {
      "text/html": [
       "<div>\n",
       "<style scoped>\n",
       "    .dataframe tbody tr th:only-of-type {\n",
       "        vertical-align: middle;\n",
       "    }\n",
       "\n",
       "    .dataframe tbody tr th {\n",
       "        vertical-align: top;\n",
       "    }\n",
       "\n",
       "    .dataframe thead th {\n",
       "        text-align: right;\n",
       "    }\n",
       "</style>\n",
       "<table border=\"1\" class=\"dataframe\">\n",
       "  <thead>\n",
       "    <tr style=\"text-align: right;\">\n",
       "      <th></th>\n",
       "      <th>Route</th>\n",
       "      <th>Travel type</th>\n",
       "      <th>Jul-16</th>\n",
       "      <th>Aug-16</th>\n",
       "      <th>Sep-16</th>\n",
       "      <th>Oct-16</th>\n",
       "      <th>Nov-16</th>\n",
       "      <th>Dec-16</th>\n",
       "      <th>Jan-17</th>\n",
       "      <th>Feb-17</th>\n",
       "      <th>...</th>\n",
       "      <th>Dec-20</th>\n",
       "      <th>Jan-21</th>\n",
       "      <th>Feb-21</th>\n",
       "      <th>Mar-21</th>\n",
       "      <th>Apr-21</th>\n",
       "      <th>May-21</th>\n",
       "      <th>Jun-21</th>\n",
       "      <th>Jul-21</th>\n",
       "      <th>Aug-21</th>\n",
       "      <th>Sep-21</th>\n",
       "    </tr>\n",
       "  </thead>\n",
       "  <tbody>\n",
       "    <tr>\n",
       "      <th>0</th>\n",
       "      <td>T1 North Shore, Northern and Western Line</td>\n",
       "      <td>Adult</td>\n",
       "      <td>8,575,135</td>\n",
       "      <td>9,484,134</td>\n",
       "      <td>8,956,112</td>\n",
       "      <td>8,778,524</td>\n",
       "      <td>9,221,978</td>\n",
       "      <td>8,036,202</td>\n",
       "      <td>7,774,754</td>\n",
       "      <td>8,446,672</td>\n",
       "      <td>...</td>\n",
       "      <td>0</td>\n",
       "      <td>0</td>\n",
       "      <td>0</td>\n",
       "      <td>0</td>\n",
       "      <td>0</td>\n",
       "      <td>0</td>\n",
       "      <td>0</td>\n",
       "      <td>0</td>\n",
       "      <td>0</td>\n",
       "      <td>0</td>\n",
       "    </tr>\n",
       "    <tr>\n",
       "      <th>1</th>\n",
       "      <td>T1 North Shore, Northern and Western Line</td>\n",
       "      <td>Child/Youth</td>\n",
       "      <td>432,083</td>\n",
       "      <td>370,300</td>\n",
       "      <td>425,154</td>\n",
       "      <td>438,430</td>\n",
       "      <td>404,288</td>\n",
       "      <td>505,401</td>\n",
       "      <td>552,039</td>\n",
       "      <td>394,228</td>\n",
       "      <td>...</td>\n",
       "      <td>0</td>\n",
       "      <td>0</td>\n",
       "      <td>0</td>\n",
       "      <td>0</td>\n",
       "      <td>0</td>\n",
       "      <td>0</td>\n",
       "      <td>0</td>\n",
       "      <td>0</td>\n",
       "      <td>0</td>\n",
       "      <td>0</td>\n",
       "    </tr>\n",
       "  </tbody>\n",
       "</table>\n",
       "<p>2 rows × 65 columns</p>\n",
       "</div>"
      ],
      "text/plain": [
       "                                       Route  Travel type     Jul-16  \\\n",
       "0  T1 North Shore, Northern and Western Line        Adult  8,575,135   \n",
       "1  T1 North Shore, Northern and Western Line  Child/Youth    432,083   \n",
       "\n",
       "      Aug-16     Sep-16     Oct-16     Nov-16     Dec-16     Jan-17  \\\n",
       "0  9,484,134  8,956,112  8,778,524  9,221,978  8,036,202  7,774,754   \n",
       "1    370,300    425,154    438,430    404,288    505,401    552,039   \n",
       "\n",
       "      Feb-17  ... Dec-20 Jan-21 Feb-21 Mar-21 Apr-21 May-21 Jun-21 Jul-21  \\\n",
       "0  8,446,672  ...      0      0      0      0      0      0      0      0   \n",
       "1    394,228  ...      0      0      0      0      0      0      0      0   \n",
       "\n",
       "  Aug-21 Sep-21  \n",
       "0      0      0  \n",
       "1      0      0  \n",
       "\n",
       "[2 rows x 65 columns]"
      ]
     },
     "execution_count": 13,
     "metadata": {},
     "output_type": "execute_result"
    }
   ],
   "source": [
    "data.head(2)"
   ]
  },
  {
   "cell_type": "markdown",
   "id": "3b354987",
   "metadata": {},
   "source": [
    "# Functions to remove ',' "
   ]
  },
  {
   "cell_type": "code",
   "execution_count": 14,
   "id": "bd1bf711",
   "metadata": {},
   "outputs": [],
   "source": [
    "data = data.replace(',','', regex=True)"
   ]
  },
  {
   "cell_type": "code",
   "execution_count": 15,
   "id": "f0b2bb05",
   "metadata": {},
   "outputs": [],
   "source": [
    "for x in data.columns[2:]:\n",
    "    data[x] = pd.to_numeric(data[x])"
   ]
  },
  {
   "cell_type": "code",
   "execution_count": 16,
   "id": "ad94bf26",
   "metadata": {},
   "outputs": [
    {
     "name": "stdout",
     "output_type": "stream",
     "text": [
      "<class 'numpy.int64'>\n"
     ]
    }
   ],
   "source": [
    "print(type(data['Jul-16'][0]))"
   ]
  },
  {
   "cell_type": "code",
   "execution_count": 17,
   "id": "639dda75",
   "metadata": {},
   "outputs": [
    {
     "data": {
      "text/plain": [
       "array(['T1 North Shore, Northern and Western Line',\n",
       "       'T2 Airport, Inner West and South Line', 'T3 Bankstown Line',\n",
       "       'T4 Eastern Suburbs and Illawarra Line', 'T5 Cumberland Line',\n",
       "       'T6 Carlingford Line', 'T7 Olympic Park Line',\n",
       "       'Blue Mountains Line', 'Central Coast Newcastle Line',\n",
       "       'Hunter Line', 'South Coast Line', 'Southern Highlands Line',\n",
       "       'Station Link', 'T1 North Shore Line', 'T1 Northern Line',\n",
       "       'T1 Western Line', 'T2 Inner West Line', 'T2 Leppington Line',\n",
       "       'T6 replacement buses', 'T8 Airport and South Line',\n",
       "       'T9 Northern Line', 'Grand Total'], dtype=object)"
      ]
     },
     "execution_count": 17,
     "metadata": {},
     "output_type": "execute_result"
    }
   ],
   "source": [
    "# read the train data file and extract all name of the Route\n",
    "route=pd.read_csv(\"files/TrainCardType.csv\", encoding='utf-16',sep=\"\\t\")[\"Route\"]\n",
    "route.unique()"
   ]
  },
  {
   "cell_type": "code",
   "execution_count": 18,
   "id": "f13ea585",
   "metadata": {},
   "outputs": [
    {
     "ename": "KeyError",
     "evalue": "'Travel_type'",
     "output_type": "error",
     "traceback": [
      "\u001b[0;31m---------------------------------------------------------------------------\u001b[0m",
      "\u001b[0;31mKeyError\u001b[0m                                  Traceback (most recent call last)",
      "\u001b[0;32m~/opt/anaconda3/lib/python3.8/site-packages/pandas/core/indexes/base.py\u001b[0m in \u001b[0;36mget_loc\u001b[0;34m(self, key, method, tolerance)\u001b[0m\n\u001b[1;32m   3079\u001b[0m             \u001b[0;32mtry\u001b[0m\u001b[0;34m:\u001b[0m\u001b[0;34m\u001b[0m\u001b[0;34m\u001b[0m\u001b[0m\n\u001b[0;32m-> 3080\u001b[0;31m                 \u001b[0;32mreturn\u001b[0m \u001b[0mself\u001b[0m\u001b[0;34m.\u001b[0m\u001b[0m_engine\u001b[0m\u001b[0;34m.\u001b[0m\u001b[0mget_loc\u001b[0m\u001b[0;34m(\u001b[0m\u001b[0mcasted_key\u001b[0m\u001b[0;34m)\u001b[0m\u001b[0;34m\u001b[0m\u001b[0;34m\u001b[0m\u001b[0m\n\u001b[0m\u001b[1;32m   3081\u001b[0m             \u001b[0;32mexcept\u001b[0m \u001b[0mKeyError\u001b[0m \u001b[0;32mas\u001b[0m \u001b[0merr\u001b[0m\u001b[0;34m:\u001b[0m\u001b[0;34m\u001b[0m\u001b[0;34m\u001b[0m\u001b[0m\n",
      "\u001b[0;32mpandas/_libs/index.pyx\u001b[0m in \u001b[0;36mpandas._libs.index.IndexEngine.get_loc\u001b[0;34m()\u001b[0m\n",
      "\u001b[0;32mpandas/_libs/index.pyx\u001b[0m in \u001b[0;36mpandas._libs.index.IndexEngine.get_loc\u001b[0;34m()\u001b[0m\n",
      "\u001b[0;32mpandas/_libs/hashtable_class_helper.pxi\u001b[0m in \u001b[0;36mpandas._libs.hashtable.PyObjectHashTable.get_item\u001b[0;34m()\u001b[0m\n",
      "\u001b[0;32mpandas/_libs/hashtable_class_helper.pxi\u001b[0m in \u001b[0;36mpandas._libs.hashtable.PyObjectHashTable.get_item\u001b[0;34m()\u001b[0m\n",
      "\u001b[0;31mKeyError\u001b[0m: 'Travel_type'",
      "\nThe above exception was the direct cause of the following exception:\n",
      "\u001b[0;31mKeyError\u001b[0m                                  Traceback (most recent call last)",
      "\u001b[0;32m<ipython-input-18-7284647acb80>\u001b[0m in \u001b[0;36m<module>\u001b[0;34m\u001b[0m\n\u001b[1;32m      1\u001b[0m \u001b[0;31m# read the train data file and extract all name of the Route\u001b[0m\u001b[0;34m\u001b[0m\u001b[0;34m\u001b[0m\u001b[0;34m\u001b[0m\u001b[0m\n\u001b[0;32m----> 2\u001b[0;31m \u001b[0mdf\u001b[0m\u001b[0;34m=\u001b[0m\u001b[0mpd\u001b[0m\u001b[0;34m.\u001b[0m\u001b[0mread_csv\u001b[0m\u001b[0;34m(\u001b[0m\u001b[0;34m\"files/TrainCardType.csv\"\u001b[0m\u001b[0;34m,\u001b[0m \u001b[0mencoding\u001b[0m\u001b[0;34m=\u001b[0m\u001b[0;34m'utf-16'\u001b[0m\u001b[0;34m,\u001b[0m\u001b[0msep\u001b[0m\u001b[0;34m=\u001b[0m\u001b[0;34m\"\\t\"\u001b[0m\u001b[0;34m)\u001b[0m\u001b[0;34m[\u001b[0m\u001b[0;34m\"Travel_type\"\u001b[0m\u001b[0;34m]\u001b[0m\u001b[0;34m\u001b[0m\u001b[0;34m\u001b[0m\u001b[0m\n\u001b[0m\u001b[1;32m      3\u001b[0m \u001b[0mdf\u001b[0m\u001b[0;34m.\u001b[0m\u001b[0munique\u001b[0m\u001b[0;34m(\u001b[0m\u001b[0;34m)\u001b[0m\u001b[0;34m\u001b[0m\u001b[0;34m\u001b[0m\u001b[0m\n",
      "\u001b[0;32m~/opt/anaconda3/lib/python3.8/site-packages/pandas/core/frame.py\u001b[0m in \u001b[0;36m__getitem__\u001b[0;34m(self, key)\u001b[0m\n\u001b[1;32m   3022\u001b[0m             \u001b[0;32mif\u001b[0m \u001b[0mself\u001b[0m\u001b[0;34m.\u001b[0m\u001b[0mcolumns\u001b[0m\u001b[0;34m.\u001b[0m\u001b[0mnlevels\u001b[0m \u001b[0;34m>\u001b[0m \u001b[0;36m1\u001b[0m\u001b[0;34m:\u001b[0m\u001b[0;34m\u001b[0m\u001b[0;34m\u001b[0m\u001b[0m\n\u001b[1;32m   3023\u001b[0m                 \u001b[0;32mreturn\u001b[0m \u001b[0mself\u001b[0m\u001b[0;34m.\u001b[0m\u001b[0m_getitem_multilevel\u001b[0m\u001b[0;34m(\u001b[0m\u001b[0mkey\u001b[0m\u001b[0;34m)\u001b[0m\u001b[0;34m\u001b[0m\u001b[0;34m\u001b[0m\u001b[0m\n\u001b[0;32m-> 3024\u001b[0;31m             \u001b[0mindexer\u001b[0m \u001b[0;34m=\u001b[0m \u001b[0mself\u001b[0m\u001b[0;34m.\u001b[0m\u001b[0mcolumns\u001b[0m\u001b[0;34m.\u001b[0m\u001b[0mget_loc\u001b[0m\u001b[0;34m(\u001b[0m\u001b[0mkey\u001b[0m\u001b[0;34m)\u001b[0m\u001b[0;34m\u001b[0m\u001b[0;34m\u001b[0m\u001b[0m\n\u001b[0m\u001b[1;32m   3025\u001b[0m             \u001b[0;32mif\u001b[0m \u001b[0mis_integer\u001b[0m\u001b[0;34m(\u001b[0m\u001b[0mindexer\u001b[0m\u001b[0;34m)\u001b[0m\u001b[0;34m:\u001b[0m\u001b[0;34m\u001b[0m\u001b[0;34m\u001b[0m\u001b[0m\n\u001b[1;32m   3026\u001b[0m                 \u001b[0mindexer\u001b[0m \u001b[0;34m=\u001b[0m \u001b[0;34m[\u001b[0m\u001b[0mindexer\u001b[0m\u001b[0;34m]\u001b[0m\u001b[0;34m\u001b[0m\u001b[0;34m\u001b[0m\u001b[0m\n",
      "\u001b[0;32m~/opt/anaconda3/lib/python3.8/site-packages/pandas/core/indexes/base.py\u001b[0m in \u001b[0;36mget_loc\u001b[0;34m(self, key, method, tolerance)\u001b[0m\n\u001b[1;32m   3080\u001b[0m                 \u001b[0;32mreturn\u001b[0m \u001b[0mself\u001b[0m\u001b[0;34m.\u001b[0m\u001b[0m_engine\u001b[0m\u001b[0;34m.\u001b[0m\u001b[0mget_loc\u001b[0m\u001b[0;34m(\u001b[0m\u001b[0mcasted_key\u001b[0m\u001b[0;34m)\u001b[0m\u001b[0;34m\u001b[0m\u001b[0;34m\u001b[0m\u001b[0m\n\u001b[1;32m   3081\u001b[0m             \u001b[0;32mexcept\u001b[0m \u001b[0mKeyError\u001b[0m \u001b[0;32mas\u001b[0m \u001b[0merr\u001b[0m\u001b[0;34m:\u001b[0m\u001b[0;34m\u001b[0m\u001b[0;34m\u001b[0m\u001b[0m\n\u001b[0;32m-> 3082\u001b[0;31m                 \u001b[0;32mraise\u001b[0m \u001b[0mKeyError\u001b[0m\u001b[0;34m(\u001b[0m\u001b[0mkey\u001b[0m\u001b[0;34m)\u001b[0m \u001b[0;32mfrom\u001b[0m \u001b[0merr\u001b[0m\u001b[0;34m\u001b[0m\u001b[0;34m\u001b[0m\u001b[0m\n\u001b[0m\u001b[1;32m   3083\u001b[0m \u001b[0;34m\u001b[0m\u001b[0m\n\u001b[1;32m   3084\u001b[0m         \u001b[0;32mif\u001b[0m \u001b[0mtolerance\u001b[0m \u001b[0;32mis\u001b[0m \u001b[0;32mnot\u001b[0m \u001b[0;32mNone\u001b[0m\u001b[0;34m:\u001b[0m\u001b[0;34m\u001b[0m\u001b[0;34m\u001b[0m\u001b[0m\n",
      "\u001b[0;31mKeyError\u001b[0m: 'Travel_type'"
     ]
    }
   ],
   "source": [
    "# read the train data file and extract all name of the Route\n",
    "df=pd.read_csv(\"files/TrainCardType.csv\", encoding='utf-16',sep=\"\\t\")[\"Travel_type\"]\n",
    "df.unique()"
   ]
  },
  {
   "cell_type": "code",
   "execution_count": null,
   "id": "5178f620",
   "metadata": {},
   "outputs": [],
   "source": [
    "# drop the last raw Grand Total\n",
    "data_c =data.drop(247)\n",
    "data_c.tail(2)"
   ]
  },
  {
   "cell_type": "code",
   "execution_count": 19,
   "id": "e4f54026",
   "metadata": {},
   "outputs": [
    {
     "ename": "NameError",
     "evalue": "name 'data_c' is not defined",
     "output_type": "error",
     "traceback": [
      "\u001b[0;31m---------------------------------------------------------------------------\u001b[0m",
      "\u001b[0;31mNameError\u001b[0m                                 Traceback (most recent call last)",
      "\u001b[0;32m<ipython-input-19-a386416b93c4>\u001b[0m in \u001b[0;36m<module>\u001b[0;34m\u001b[0m\n\u001b[0;32m----> 1\u001b[0;31m \u001b[0mdata_c\u001b[0m\u001b[0;34m.\u001b[0m\u001b[0mRoute\u001b[0m\u001b[0;34m.\u001b[0m\u001b[0mvalue_counts\u001b[0m\u001b[0;34m(\u001b[0m\u001b[0;34m)\u001b[0m\u001b[0;34m\u001b[0m\u001b[0;34m\u001b[0m\u001b[0m\n\u001b[0m",
      "\u001b[0;31mNameError\u001b[0m: name 'data_c' is not defined"
     ]
    }
   ],
   "source": [
    "data_c.Route.value_counts()"
   ]
  },
  {
   "cell_type": "markdown",
   "id": "034a596f",
   "metadata": {},
   "source": [
    "There are 21 differnt train routes "
   ]
  },
  {
   "cell_type": "code",
   "execution_count": 20,
   "id": "a9209b25",
   "metadata": {},
   "outputs": [
    {
     "ename": "NameError",
     "evalue": "name 'data_c' is not defined",
     "output_type": "error",
     "traceback": [
      "\u001b[0;31m---------------------------------------------------------------------------\u001b[0m",
      "\u001b[0;31mNameError\u001b[0m                                 Traceback (most recent call last)",
      "\u001b[0;32m<ipython-input-20-32450094c746>\u001b[0m in \u001b[0;36m<module>\u001b[0;34m\u001b[0m\n\u001b[0;32m----> 1\u001b[0;31m \u001b[0mdata_c\u001b[0m\u001b[0;34m.\u001b[0m\u001b[0mdescribe\u001b[0m\u001b[0;34m(\u001b[0m\u001b[0;34m)\u001b[0m\u001b[0;34m\u001b[0m\u001b[0;34m\u001b[0m\u001b[0m\n\u001b[0m",
      "\u001b[0;31mNameError\u001b[0m: name 'data_c' is not defined"
     ]
    }
   ],
   "source": [
    "data_c.describe()"
   ]
  },
  {
   "cell_type": "markdown",
   "id": "9b60d38b",
   "metadata": {},
   "source": [
    "Note: The data set we have for 2016 is from july  to december 2016 and for 2019 is from januray  to september 2021"
   ]
  },
  {
   "cell_type": "markdown",
   "id": "eaf7c3de",
   "metadata": {},
   "source": [
    "## 'You define a baseline performance with a simple model'"
   ]
  },
  {
   "cell_type": "markdown",
   "id": "6e01d133",
   "metadata": {},
   "source": [
    "The following code below, split the data set by years "
   ]
  },
  {
   "cell_type": "code",
   "execution_count": 21,
   "id": "894bc710",
   "metadata": {},
   "outputs": [
    {
     "ename": "NameError",
     "evalue": "name 'data_c' is not defined",
     "output_type": "error",
     "traceback": [
      "\u001b[0;31m---------------------------------------------------------------------------\u001b[0m",
      "\u001b[0;31mNameError\u001b[0m                                 Traceback (most recent call last)",
      "\u001b[0;32m<ipython-input-21-42dccbfce217>\u001b[0m in \u001b[0;36m<module>\u001b[0;34m\u001b[0m\n\u001b[1;32m      6\u001b[0m \u001b[0mdata_2021\u001b[0m\u001b[0;34m=\u001b[0m\u001b[0;34m[\u001b[0m\u001b[0;34m]\u001b[0m\u001b[0;34m\u001b[0m\u001b[0;34m\u001b[0m\u001b[0m\n\u001b[1;32m      7\u001b[0m \u001b[0;32mfor\u001b[0m \u001b[0mi\u001b[0m \u001b[0;32min\u001b[0m \u001b[0mrange\u001b[0m\u001b[0;34m(\u001b[0m\u001b[0;36m2\u001b[0m\u001b[0;34m,\u001b[0m\u001b[0;36m8\u001b[0m\u001b[0;34m)\u001b[0m\u001b[0;34m:\u001b[0m\u001b[0;34m\u001b[0m\u001b[0;34m\u001b[0m\u001b[0m\n\u001b[0;32m----> 8\u001b[0;31m     \u001b[0mdata_2016\u001b[0m\u001b[0;34m.\u001b[0m\u001b[0mappend\u001b[0m\u001b[0;34m(\u001b[0m\u001b[0mdata_c\u001b[0m\u001b[0;34m.\u001b[0m\u001b[0mcolumns\u001b[0m\u001b[0;34m[\u001b[0m\u001b[0mi\u001b[0m\u001b[0;34m]\u001b[0m\u001b[0;34m)\u001b[0m\u001b[0;34m\u001b[0m\u001b[0;34m\u001b[0m\u001b[0m\n\u001b[0m\u001b[1;32m      9\u001b[0m \u001b[0;32mfor\u001b[0m \u001b[0mi\u001b[0m \u001b[0;32min\u001b[0m \u001b[0mrange\u001b[0m\u001b[0;34m(\u001b[0m\u001b[0;36m8\u001b[0m\u001b[0;34m,\u001b[0m\u001b[0;36m20\u001b[0m\u001b[0;34m)\u001b[0m\u001b[0;34m:\u001b[0m\u001b[0;34m\u001b[0m\u001b[0;34m\u001b[0m\u001b[0m\n\u001b[1;32m     10\u001b[0m     \u001b[0mdata_2017\u001b[0m\u001b[0;34m.\u001b[0m\u001b[0mappend\u001b[0m\u001b[0;34m(\u001b[0m\u001b[0mdata_c\u001b[0m\u001b[0;34m.\u001b[0m\u001b[0mcolumns\u001b[0m\u001b[0;34m[\u001b[0m\u001b[0mi\u001b[0m\u001b[0;34m]\u001b[0m\u001b[0;34m)\u001b[0m\u001b[0;34m\u001b[0m\u001b[0;34m\u001b[0m\u001b[0m\n",
      "\u001b[0;31mNameError\u001b[0m: name 'data_c' is not defined"
     ]
    }
   ],
   "source": [
    "data_2016 = []\n",
    "data_2017 = []\n",
    "data_2018 = []\n",
    "data_2019 =[]\n",
    "data_2020=[]\n",
    "data_2021=[]\n",
    "for i in range(2,8):\n",
    "    data_2016.append(data_c.columns[i])\n",
    "for i in range(8,20):\n",
    "    data_2017.append(data_c.columns[i])\n",
    "for i in range(20,32):\n",
    "    data_2018.append(data_c.columns[i])\n",
    "for i in range(32,44):\n",
    "    data_2019.append(data_c.columns[i])\n",
    "for i in range(44,56):\n",
    "    data_2020.append(data_c.columns[i])\n",
    "for i in range(56,65):\n",
    "    data_2021.append(data_c.columns[i])"
   ]
  },
  {
   "cell_type": "code",
   "execution_count": 22,
   "id": "87679d74",
   "metadata": {},
   "outputs": [
    {
     "data": {
      "text/plain": [
       "[]"
      ]
     },
     "execution_count": 22,
     "metadata": {},
     "output_type": "execute_result"
    }
   ],
   "source": [
    "data_2018"
   ]
  },
  {
   "cell_type": "code",
   "execution_count": 30,
   "id": "ec4c635b",
   "metadata": {},
   "outputs": [],
   "source": [
    "data_16 = data_c[data_2016]\n",
    "data_17 = data_c[data_2017]\n",
    "data_18 = data_c[data_2018]\n",
    "data_19 = data_c[data_2019]\n",
    "data_20 = data_c[data_2020]\n",
    "data_21 = data_c[data_2021]"
   ]
  },
  {
   "cell_type": "code",
   "execution_count": 125,
   "id": "ebb6217a",
   "metadata": {},
   "outputs": [
    {
     "data": {
      "text/plain": [
       "Route          T1 North Shore Northern and Western LineT1 Nor...\n",
       "Travel type    AdultChild/YouthConcessionDay Pass Child/Youth...\n",
       "Jul-16                                                  28819249\n",
       "Aug-16                                                  32393980\n",
       "Sep-16                                                  30648352\n",
       "                                     ...                        \n",
       "May-21                                                  21038609\n",
       "Jun-21                                                  17193476\n",
       "Jul-21                                                   5268833\n",
       "Aug-21                                                   4245889\n",
       "Sep-21                                                   4565875\n",
       "Length: 65, dtype: object"
      ]
     },
     "execution_count": 125,
     "metadata": {},
     "output_type": "execute_result"
    }
   ],
   "source": [
    "data_c.sum()"
   ]
  },
  {
   "cell_type": "code",
   "execution_count": 31,
   "id": "90783ab7",
   "metadata": {},
   "outputs": [],
   "source": [
    "total16 = (data_16.sum()).sum()\n",
    "total17 = (data_17.sum()).sum()\n",
    "total18 = (data_18.sum()).sum()\n",
    "total19 = (data_19.sum()).sum()\n",
    "total20 = (data_20.sum()).sum()\n",
    "total21 = (data_21.sum()).sum()"
   ]
  },
  {
   "cell_type": "code",
   "execution_count": 159,
   "id": "b8d18a5a",
   "metadata": {
    "scrolled": true
   },
   "outputs": [
    {
     "data": {
      "text/plain": [
       "181476277"
      ]
     },
     "execution_count": 159,
     "metadata": {},
     "output_type": "execute_result"
    }
   ],
   "source": [
    "total16.sum()\n"
   ]
  },
  {
   "cell_type": "code",
   "execution_count": 32,
   "id": "b98cf5f1",
   "metadata": {},
   "outputs": [
    {
     "data": {
      "text/plain": [
       "Jul-16    28819249\n",
       "Aug-16    32393980\n",
       "Sep-16    30648352\n",
       "Oct-16    30106833\n",
       "Nov-16    31318279\n",
       "Dec-16    28189584\n",
       "dtype: int64"
      ]
     },
     "execution_count": 32,
     "metadata": {},
     "output_type": "execute_result"
    }
   ],
   "source": [
    "data_16.sum()"
   ]
  },
  {
   "cell_type": "code",
   "execution_count": 33,
   "id": "bad85adf",
   "metadata": {
    "scrolled": true
   },
   "outputs": [
    {
     "data": {
      "image/png": "[encoded data removed]",
      "text/plain": [
       "<Figure size 1080x504 with 1 Axes>"
      ]
     },
     "metadata": {
      "needs_background": "light"
     },
     "output_type": "display_data"
    }
   ],
   "source": [
    "labels = ['2016', '2017','2018','2019','2020','2021']\n",
    "plt.figure(figsize=(15,7))\n",
    "plt.bar(\"2016\", total16, align = 'center', label = '2016') \n",
    "plt.bar( \"2017\", total17,  align = 'center', label = '2017') \n",
    "plt.bar(\"2018\", total18, color = 'red' ,align = 'center', label = '2018') \n",
    "plt.bar( \"2019\", total19,  align = 'center', label = '2019') \n",
    "plt.bar( \"2020\", total20, align = 'center', label = '2020') \n",
    "plt.bar( \"2021\", total21,  align = 'center', label = '2021') \n",
    "plt.title('Comparision for Total People Travelled over years') \n",
    "plt.ylabel('Total People Travelled') \n",
    "plt.xlabel('Year') \n",
    "plt.legend()\n",
    "plt.show()"
   ]
  },
  {
   "cell_type": "markdown",
   "id": "ce252f8b",
   "metadata": {},
   "source": [
    "# Need to modify. add more info\n",
    "We can that 2017 to 2019 number of people travelling incresed but in 2020 it has declined alot, we belive this might be caused becase of covid 19. we can't make any assumtion for 2016 and 2021 because we dont have the full data set "
   ]
  },
  {
   "cell_type": "markdown",
   "id": "5ef69212",
   "metadata": {},
   "source": [
    "## 2016 July to December"
   ]
  },
  {
   "cell_type": "code",
   "execution_count": 135,
   "id": "be048d25",
   "metadata": {
    "scrolled": false
   },
   "outputs": [
    {
     "data": {
      "text/plain": [
       "Text(0, 0.5, 'Number of People Travavelled(M)')"
      ]
     },
     "execution_count": 135,
     "metadata": {},
     "output_type": "execute_result"
    },
    {
     "data": {
      "image/png": "[encoded data removed]",
      "text/plain": [
       "<Figure size 432x288 with 1 Axes>"
      ]
     },
     "metadata": {
      "needs_background": "light"
     },
     "output_type": "display_data"
    }
   ],
   "source": [
    "data_16.sum().plot()\n",
    "plt.xlabel('Month')\n",
    "plt.ylabel('Number of People Travavelled(M)')"
   ]
  },
  {
   "cell_type": "markdown",
   "id": "057a9427",
   "metadata": {},
   "source": [
    "# more info"
   ]
  },
  {
   "cell_type": "markdown",
   "id": "2987e759",
   "metadata": {},
   "source": [
    "## 2017 Jan to December"
   ]
  },
  {
   "cell_type": "code",
   "execution_count": 92,
   "id": "d66683fb",
   "metadata": {},
   "outputs": [
    {
     "data": {
      "text/plain": [
       "Text(0, 0.5, 'Number of People Travavelled(M)')"
      ]
     },
     "execution_count": 92,
     "metadata": {},
     "output_type": "execute_result"
    },
    {
     "data": {
      "image/png": "[encoded data removed]",
      "text/plain": [
       "<Figure size 432x288 with 1 Axes>"
      ]
     },
     "metadata": {
      "needs_background": "light"
     },
     "output_type": "display_data"
    }
   ],
   "source": [
    "data_17.sum().plot()\n",
    "plt.xlabel('Month')\n",
    "plt.ylabel('Number of People Travavelled(M)')"
   ]
  },
  {
   "cell_type": "markdown",
   "id": "ca07417d",
   "metadata": {},
   "source": [
    "# more info"
   ]
  },
  {
   "cell_type": "markdown",
   "id": "e80549b9",
   "metadata": {},
   "source": [
    "## 2018 Jan to December"
   ]
  },
  {
   "cell_type": "code",
   "execution_count": 93,
   "id": "97d73074",
   "metadata": {},
   "outputs": [
    {
     "data": {
      "text/plain": [
       "Text(0, 0.5, 'Number of People Travavelled(M)')"
      ]
     },
     "execution_count": 93,
     "metadata": {},
     "output_type": "execute_result"
    },
    {
     "data": {
      "image/png": "[encoded data removed]",
      "text/plain": [
       "<Figure size 432x288 with 1 Axes>"
      ]
     },
     "metadata": {
      "needs_background": "light"
     },
     "output_type": "display_data"
    }
   ],
   "source": [
    "data_18.sum().plot()\n",
    "plt.xlabel('Month')\n",
    "plt.ylabel('Number of People Travavelled(M)')"
   ]
  },
  {
   "cell_type": "markdown",
   "id": "de0b8407",
   "metadata": {},
   "source": [
    "# more info"
   ]
  },
  {
   "cell_type": "markdown",
   "id": "4e966ffb",
   "metadata": {},
   "source": [
    "## 2019 Jan to December"
   ]
  },
  {
   "cell_type": "code",
   "execution_count": 94,
   "id": "6fe5f8fd",
   "metadata": {},
   "outputs": [
    {
     "data": {
      "text/plain": [
       "Text(0, 0.5, 'Number of People Travavelled(M)')"
      ]
     },
     "execution_count": 94,
     "metadata": {},
     "output_type": "execute_result"
    },
    {
     "data": {
      "image/png": "[encoded data removed]",
      "text/plain": [
       "<Figure size 432x288 with 1 Axes>"
      ]
     },
     "metadata": {
      "needs_background": "light"
     },
     "output_type": "display_data"
    }
   ],
   "source": [
    "data_19.sum().plot()\n",
    "plt.xlabel('Month')\n",
    "plt.ylabel('Number of People Travavelled(M)')"
   ]
  },
  {
   "cell_type": "markdown",
   "id": "6990c873",
   "metadata": {},
   "source": [
    "# more info"
   ]
  },
  {
   "cell_type": "markdown",
   "id": "f67f2868",
   "metadata": {},
   "source": [
    "## 2020 Jan to December"
   ]
  },
  {
   "cell_type": "code",
   "execution_count": 95,
   "id": "49f55e95",
   "metadata": {},
   "outputs": [
    {
     "data": {
      "text/plain": [
       "Text(0, 0.5, 'Number of People Travavelled(M)')"
      ]
     },
     "execution_count": 95,
     "metadata": {},
     "output_type": "execute_result"
    },
    {
     "data": {
      "image/png": "[encoded data removed]",
      "text/plain": [
       "<Figure size 432x288 with 1 Axes>"
      ]
     },
     "metadata": {
      "needs_background": "light"
     },
     "output_type": "display_data"
    }
   ],
   "source": [
    "data_20.sum().plot()\n",
    "plt.xlabel('Month')\n",
    "plt.ylabel('Number of People Travavelled(M)')"
   ]
  },
  {
   "cell_type": "markdown",
   "id": "6f71531e",
   "metadata": {},
   "source": [
    "# more info"
   ]
  },
  {
   "cell_type": "markdown",
   "id": "c609aab1",
   "metadata": {},
   "source": [
    "## 2021 Jan to Sep"
   ]
  },
  {
   "cell_type": "code",
   "execution_count": 96,
   "id": "48fc8bfb",
   "metadata": {},
   "outputs": [
    {
     "data": {
      "text/plain": [
       "Text(0, 0.5, 'Number of People Travavelled(M)')"
      ]
     },
     "execution_count": 96,
     "metadata": {},
     "output_type": "execute_result"
    },
    {
     "data": {
      "image/png": "[encoded data removed]",
      "text/plain": [
       "<Figure size 432x288 with 1 Axes>"
      ]
     },
     "metadata": {
      "needs_background": "light"
     },
     "output_type": "display_data"
    }
   ],
   "source": [
    "data_21.sum().plot()\n",
    "plt.xlabel('Month')\n",
    "plt.ylabel('Number of People Travavelled(M)')"
   ]
  },
  {
   "cell_type": "markdown",
   "id": "287a5889",
   "metadata": {},
   "source": [
    "# more info"
   ]
  },
  {
   "cell_type": "code",
   "execution_count": 105,
   "id": "8940fcf3",
   "metadata": {},
   "outputs": [],
   "source": [
    "#Total People Travel Over Years "
   ]
  },
  {
   "cell_type": "code",
   "execution_count": 107,
   "id": "ce1c8d11",
   "metadata": {
    "scrolled": true
   },
   "outputs": [
    {
     "data": {
      "image/png": "[encoded data removed]",
      "text/plain": [
       "<Figure size 432x288 with 1 Axes>"
      ]
     },
     "metadata": {},
     "output_type": "display_data"
    }
   ],
   "source": [
    "total = [total16,total17,total18,total19,total20,total21]\n",
    "years = ['2016','2017','2018','2019','2020','2021']\n",
    "color = ['r','g','b','m','y', 'b']\n",
    "plt.pie(total, labels = years, colors = color, shadow = True, startangle = 90)\n",
    "plt.legend()\n",
    "plt.show()"
   ]
  },
  {
   "cell_type": "code",
   "execution_count": 106,
   "id": "bc08c4ca",
   "metadata": {},
   "outputs": [],
   "source": [
    "#Total People Travel Over Months "
   ]
  },
  {
   "cell_type": "code",
   "execution_count": 151,
   "id": "6041e9c8",
   "metadata": {},
   "outputs": [
    {
     "data": {
      "image/png": "[encoded data removed]",
      "text/plain": [
       "<Figure size 432x288 with 1 Axes>"
      ]
     },
     "metadata": {},
     "output_type": "display_data"
    }
   ],
   "source": [
    "#2016\n",
    "sum = data_16.sum()\n",
    "months = ['Jul','Aug','Sep','Oct','Nov','Dec']\n",
    "color = ['r','g','b','m','y', 'b']\n",
    "plt.pie(sum, labels = months, colors = color, shadow = True, startangle = 90)\n",
    "plt.legend()\n",
    "plt.show()"
   ]
  },
  {
   "cell_type": "code",
   "execution_count": 152,
   "id": "772cb40e",
   "metadata": {},
   "outputs": [
    {
     "data": {
      "image/png": "[encoded data removed]",
      "text/plain": [
       "<Figure size 432x288 with 1 Axes>"
      ]
     },
     "metadata": {},
     "output_type": "display_data"
    }
   ],
   "source": [
    "#2017\n",
    "sum = data_17.sum()\n",
    "months = ['Jan','Feb','Mar','Apr','May','Jun','Jul','Aug','Sep','Oct','Nov','Dec']\n",
    "color = ['r','g','b','m','y', 'b']\n",
    "plt.pie(sum, labels = months, colors = color, shadow = True, startangle = 90)\n",
    "plt.legend()\n",
    "plt.show()"
   ]
  },
  {
   "cell_type": "code",
   "execution_count": 153,
   "id": "8937bfa7",
   "metadata": {
    "scrolled": true
   },
   "outputs": [
    {
     "data": {
      "image/png": "[encoded data removed]",
      "text/plain": [
       "<Figure size 432x288 with 1 Axes>"
      ]
     },
     "metadata": {},
     "output_type": "display_data"
    }
   ],
   "source": [
    "#2018\n",
    "sum = data_18.sum()\n",
    "months = ['Jan','Feb','Mar','Apr','May','Jun','Jul','Aug','Sep','Oct','Nov','Dec']\n",
    "color = ['r','g','b','m','y', 'b']\n",
    "plt.pie(sum, labels = months, colors = color, shadow = True, startangle = 90)\n",
    "plt.legend()\n",
    "plt.show()"
   ]
  },
  {
   "cell_type": "code",
   "execution_count": 154,
   "id": "9e95923d",
   "metadata": {},
   "outputs": [
    {
     "data": {
      "image/png": "[encoded data removed]",
      "text/plain": [
       "<Figure size 432x288 with 1 Axes>"
      ]
     },
     "metadata": {},
     "output_type": "display_data"
    }
   ],
   "source": [
    "#2019\n",
    "sum = data_19.sum()\n",
    "months = ['Jan','Feb','Mar','Apr','May','Jun','Jul','Aug','Sep','Oct','Nov','Dec']\n",
    "color = ['r','g','b','m','y', 'b']\n",
    "plt.pie(sum, labels = months, colors = color, shadow = True, startangle = 90)\n",
    "plt.legend()\n",
    "plt.show()"
   ]
  },
  {
   "cell_type": "code",
   "execution_count": 155,
   "id": "a4f0c748",
   "metadata": {},
   "outputs": [
    {
     "data": {
      "image/png": "[encoded data removed]",
      "text/plain": [
       "<Figure size 432x288 with 1 Axes>"
      ]
     },
     "metadata": {},
     "output_type": "display_data"
    }
   ],
   "source": [
    "#2020\n",
    "sum = data_20.sum()\n",
    "months = ['Jan','Feb','Mar','Apr','May','Jun','Jul','Aug','Sep','Oct','Nov','Dec']\n",
    "color = ['r','g','b','m','y', 'b']\n",
    "plt.pie(sum, labels = months, colors = color, shadow = True, startangle = 90)\n",
    "plt.legend()\n",
    "plt.show()"
   ]
  },
  {
   "cell_type": "code",
   "execution_count": 156,
   "id": "683aa249",
   "metadata": {
    "scrolled": true
   },
   "outputs": [
    {
     "data": {
      "text/plain": [
       "Jan-21    13616536\n",
       "Feb-21    17765453\n",
       "Mar-21    20925803\n",
       "Apr-21    20552499\n",
       "May-21    21038609\n",
       "Jun-21    17193476\n",
       "Jul-21     5268833\n",
       "Aug-21     4245889\n",
       "Sep-21     4565875\n",
       "dtype: int64"
      ]
     },
     "execution_count": 156,
     "metadata": {},
     "output_type": "execute_result"
    }
   ],
   "source": [
    "data_21.sum()"
   ]
  },
  {
   "cell_type": "code",
   "execution_count": 157,
   "id": "4a2ae010",
   "metadata": {
    "scrolled": true
   },
   "outputs": [
    {
     "data": {
      "image/png": "[encoded data removed]",
      "text/plain": [
       "<Figure size 432x288 with 1 Axes>"
      ]
     },
     "metadata": {},
     "output_type": "display_data"
    }
   ],
   "source": [
    "#2021\n",
    "sum = data_21.sum()\n",
    "months = ['Jan','Feb','Mar','Apr','May','Jun','Jul','Aug','Sep']\n",
    "color = ['r','g','b','m','y', 'b']\n",
    "plt.pie(sum, labels = months, colors = color, shadow = True, startangle = 90)\n",
    "plt.legend()\n",
    "plt.show()"
   ]
  },
  {
   "cell_type": "code",
   "execution_count": 254,
   "id": "c8e2062b",
   "metadata": {},
   "outputs": [],
   "source": [
    "from sklearn.model_selection import train_test_split\n",
    "from sklearn.metrics import mean_squared_error\n",
    "import matplotlib.pyplot as plt\n",
    "\n",
    "import numpy as np\n",
    "import matplotlib.pyplot as plt\n",
    "from sklearn.linear_model import LinearRegression"
   ]
  },
  {
   "cell_type": "code",
   "execution_count": 255,
   "id": "eaf7e962",
   "metadata": {
    "scrolled": false
   },
   "outputs": [
    {
     "data": {
      "text/html": [
       "<div>\n",
       "<style scoped>\n",
       "    .dataframe tbody tr th:only-of-type {\n",
       "        vertical-align: middle;\n",
       "    }\n",
       "\n",
       "    .dataframe tbody tr th {\n",
       "        vertical-align: top;\n",
       "    }\n",
       "\n",
       "    .dataframe thead th {\n",
       "        text-align: right;\n",
       "    }\n",
       "</style>\n",
       "<table border=\"1\" class=\"dataframe\">\n",
       "  <thead>\n",
       "    <tr style=\"text-align: right;\">\n",
       "      <th></th>\n",
       "      <th>Year</th>\n",
       "      <th>Usage</th>\n",
       "    </tr>\n",
       "  </thead>\n",
       "  <tbody>\n",
       "    <tr>\n",
       "      <th>0</th>\n",
       "      <td>2016</td>\n",
       "      <td>181476277</td>\n",
       "    </tr>\n",
       "    <tr>\n",
       "      <th>1</th>\n",
       "      <td>2017</td>\n",
       "      <td>378643158</td>\n",
       "    </tr>\n",
       "    <tr>\n",
       "      <th>2</th>\n",
       "      <td>2018</td>\n",
       "      <td>394847825</td>\n",
       "    </tr>\n",
       "    <tr>\n",
       "      <th>3</th>\n",
       "      <td>2019</td>\n",
       "      <td>403164448</td>\n",
       "    </tr>\n",
       "    <tr>\n",
       "      <th>4</th>\n",
       "      <td>2020</td>\n",
       "      <td>206638633</td>\n",
       "    </tr>\n",
       "    <tr>\n",
       "      <th>5</th>\n",
       "      <td>2021</td>\n",
       "      <td>125172973</td>\n",
       "    </tr>\n",
       "  </tbody>\n",
       "</table>\n",
       "</div>"
      ],
      "text/plain": [
       "   Year      Usage\n",
       "0  2016  181476277\n",
       "1  2017  378643158\n",
       "2  2018  394847825\n",
       "3  2019  403164448\n",
       "4  2020  206638633\n",
       "5  2021  125172973"
      ]
     },
     "execution_count": 255,
     "metadata": {},
     "output_type": "execute_result"
    }
   ],
   "source": [
    "lst = [['2016', total16],['2017', total17],['2018', total18],['2019', total19],['2020', total20],['2021', total21],]\n",
    "df = pd.DataFrame(lst, columns = ['Year', 'Usage'])\n",
    "df"
   ]
  },
  {
   "cell_type": "code",
   "execution_count": 256,
   "id": "c97ad9b3",
   "metadata": {},
   "outputs": [
    {
     "name": "stdout",
     "output_type": "stream",
     "text": [
      "(4, 2)\n",
      "(2, 2)\n"
     ]
    }
   ],
   "source": [
    "train, test = train_test_split(df, test_size = 0.2, random_state=142)\n",
    "print(train.shape)\n",
    "print(test.shape)"
   ]
  },
  {
   "cell_type": "code",
   "execution_count": 257,
   "id": "5d8fc199",
   "metadata": {},
   "outputs": [
    {
     "name": "stdout",
     "output_type": "stream",
     "text": [
      "(4, 1)\n",
      "(4,)\n",
      "(2, 1)\n",
      "(2,)\n"
     ]
    }
   ],
   "source": [
    "x_train = train[['Year']]\n",
    "y_train = train['Usage']\n",
    "\n",
    "x_test = test[['Year']]\n",
    "y_test = test['Usage']\n",
    "\n",
    "print(x_train.shape)\n",
    "print(y_train.shape)\n",
    "\n",
    "print(x_test.shape)\n",
    "print(y_test.shape)"
   ]
  },
  {
   "cell_type": "code",
   "execution_count": 258,
   "id": "1c73a0ff",
   "metadata": {
    "scrolled": true
   },
   "outputs": [
    {
     "data": {
      "text/plain": [
       "LinearRegression()"
      ]
     },
     "execution_count": 258,
     "metadata": {},
     "output_type": "execute_result"
    }
   ],
   "source": [
    "lr = linear_model.LinearRegression()\n",
    "lr.fit(x_train, y_train)"
   ]
  },
  {
   "cell_type": "code",
   "execution_count": 259,
   "id": "feac2c5f",
   "metadata": {},
   "outputs": [
    {
     "data": {
      "text/plain": [
       "array([2.41605119e+08, 2.35359101e+08])"
      ]
     },
     "execution_count": 259,
     "metadata": {},
     "output_type": "execute_result"
    }
   ],
   "source": [
    "y_pred = lr.predict(x_test)\n",
    "y_pred"
   ]
  },
  {
   "cell_type": "code",
   "execution_count": 260,
   "id": "589e48f8",
   "metadata": {},
   "outputs": [
    {
     "data": {
      "text/plain": [
       "2.210803868218854e+16"
      ]
     },
     "execution_count": 260,
     "metadata": {},
     "output_type": "execute_result"
    }
   ],
   "source": [
    "mse_lr = mean_squared_error(y_test, y_pred)\n",
    "mse_lr"
   ]
  },
  {
   "cell_type": "code",
   "execution_count": 1,
   "id": "8fd0ca17",
   "metadata": {
    "scrolled": false
   },
   "outputs": [
    {
     "ename": "NameError",
     "evalue": "name 'plt' is not defined",
     "output_type": "error",
     "traceback": [
      "\u001b[0;31m---------------------------------------------------------------------------\u001b[0m",
      "\u001b[0;31mNameError\u001b[0m                                 Traceback (most recent call last)",
      "\u001b[0;32m<ipython-input-1-03597c3f5e92>\u001b[0m in \u001b[0;36m<module>\u001b[0;34m\u001b[0m\n\u001b[0;32m----> 1\u001b[0;31m \u001b[0mplt\u001b[0m\u001b[0;34m.\u001b[0m\u001b[0mscatter\u001b[0m\u001b[0;34m(\u001b[0m\u001b[0mx\u001b[0m\u001b[0;34m,\u001b[0m\u001b[0my\u001b[0m\u001b[0;34m,\u001b[0m \u001b[0mcolor\u001b[0m\u001b[0;34m=\u001b[0m\u001b[0;34m'blue'\u001b[0m\u001b[0;34m)\u001b[0m\u001b[0;34m\u001b[0m\u001b[0;34m\u001b[0m\u001b[0m\n\u001b[0m\u001b[1;32m      2\u001b[0m \u001b[0mplt\u001b[0m\u001b[0;34m.\u001b[0m\u001b[0mplot\u001b[0m\u001b[0;34m(\u001b[0m\u001b[0;34m[\u001b[0m\u001b[0;36m0\u001b[0m\u001b[0;34m,\u001b[0m\u001b[0;36m2025\u001b[0m\u001b[0;34m]\u001b[0m\u001b[0;34m,\u001b[0m\u001b[0;34m[\u001b[0m\u001b[0mb\u001b[0m\u001b[0;34m,\u001b[0m\u001b[0mm\u001b[0m\u001b[0;34m*\u001b[0m\u001b[0;36m100\u001b[0m\u001b[0;34m+\u001b[0m\u001b[0mb\u001b[0m\u001b[0;34m]\u001b[0m\u001b[0;34m,\u001b[0m\u001b[0;34m'r'\u001b[0m\u001b[0;34m)\u001b[0m\u001b[0;34m\u001b[0m\u001b[0;34m\u001b[0m\u001b[0m\n\u001b[1;32m      3\u001b[0m \u001b[0mplt\u001b[0m\u001b[0;34m.\u001b[0m\u001b[0mtitle\u001b[0m\u001b[0;34m(\u001b[0m\u001b[0;34m'Ticket use over time'\u001b[0m\u001b[0;34m,\u001b[0m \u001b[0mfontsize\u001b[0m \u001b[0;34m=\u001b[0m \u001b[0;36m20\u001b[0m\u001b[0;34m)\u001b[0m\u001b[0;34m\u001b[0m\u001b[0;34m\u001b[0m\u001b[0m\n\u001b[1;32m      4\u001b[0m \u001b[0mplt\u001b[0m\u001b[0;34m.\u001b[0m\u001b[0mxlabel\u001b[0m\u001b[0;34m(\u001b[0m\u001b[0;34m'Year'\u001b[0m\u001b[0;34m,\u001b[0m \u001b[0mfontsize\u001b[0m \u001b[0;34m=\u001b[0m \u001b[0;36m15\u001b[0m\u001b[0;34m)\u001b[0m\u001b[0;34m\u001b[0m\u001b[0;34m\u001b[0m\u001b[0m\n\u001b[1;32m      5\u001b[0m \u001b[0mplt\u001b[0m\u001b[0;34m.\u001b[0m\u001b[0mylabel\u001b[0m\u001b[0;34m(\u001b[0m\u001b[0;34m'Usage'\u001b[0m\u001b[0;34m,\u001b[0m \u001b[0mfontsize\u001b[0m \u001b[0;34m=\u001b[0m \u001b[0;36m15\u001b[0m\u001b[0;34m)\u001b[0m\u001b[0;34m\u001b[0m\u001b[0;34m\u001b[0m\u001b[0m\n",
      "\u001b[0;31mNameError\u001b[0m: name 'plt' is not defined"
     ]
    }
   ],
   "source": [
    "plt.scatter(x,y, color='blue')\n",
    "plt.plot([0,2025],[b,m*100+b],'r')\n",
    "plt.title('Ticket use over time', fontsize = 20)\n",
    "plt.xlabel('Year', fontsize = 15)\n",
    "plt.ylabel('Usage', fontsize = 15)\n",
    "plt.show()"
   ]
  },
  {
   "cell_type": "code",
   "execution_count": 263,
   "id": "495e422e",
   "metadata": {
    "scrolled": false
   },
   "outputs": [
    {
     "data": {
      "text/html": [
       "<div>\n",
       "<style scoped>\n",
       "    .dataframe tbody tr th:only-of-type {\n",
       "        vertical-align: middle;\n",
       "    }\n",
       "\n",
       "    .dataframe tbody tr th {\n",
       "        vertical-align: top;\n",
       "    }\n",
       "\n",
       "    .dataframe thead th {\n",
       "        text-align: right;\n",
       "    }\n",
       "</style>\n",
       "<table border=\"1\" class=\"dataframe\">\n",
       "  <thead>\n",
       "    <tr style=\"text-align: right;\">\n",
       "      <th></th>\n",
       "      <th>Actual Value</th>\n",
       "      <th>Predicted Value</th>\n",
       "      <th>Difference</th>\n",
       "    </tr>\n",
       "  </thead>\n",
       "  <tbody>\n",
       "    <tr>\n",
       "      <th>1</th>\n",
       "      <td>378643158</td>\n",
       "      <td>2.416051e+08</td>\n",
       "      <td>1.370380e+08</td>\n",
       "    </tr>\n",
       "    <tr>\n",
       "      <th>2</th>\n",
       "      <td>394847825</td>\n",
       "      <td>2.353591e+08</td>\n",
       "      <td>1.594887e+08</td>\n",
       "    </tr>\n",
       "  </tbody>\n",
       "</table>\n",
       "</div>"
      ],
      "text/plain": [
       "   Actual Value  Predicted Value    Difference\n",
       "1     378643158     2.416051e+08  1.370380e+08\n",
       "2     394847825     2.353591e+08  1.594887e+08"
      ]
     },
     "execution_count": 263,
     "metadata": {},
     "output_type": "execute_result"
    }
   ],
   "source": [
    "pred_y_df=pd.DataFrame({'Actual Value': y_test, 'Predicted Value': y_pred, 'Difference': y_test - y_pred})\n",
    "pred_y_df[0:20]"
   ]
  },
  {
   "cell_type": "code",
   "execution_count": 265,
   "id": "9cb0d52c",
   "metadata": {},
   "outputs": [],
   "source": [
    "###I think 3 is done? Regression is hella sus above^ will need 2 fix later "
   ]
  },
  {
   "cell_type": "markdown",
   "id": "d6aa3a6c",
   "metadata": {},
   "source": [
    "# Model"
   ]
  },
  {
   "cell_type": "code",
   "execution_count": 199,
   "id": "bdad2e4a",
   "metadata": {},
   "outputs": [],
   "source": [
    "from sklearn.model_selection import train_test_split\n",
    "from sklearn import linear_model\n",
    "from sklearn.metrics import r2_score\n",
    "from sklearn.linear_model import LogisticRegression\n",
    "from sklearn.metrics import confusion_matrix, accuracy_score\n",
    "from sklearn.metrics import confusion_matrix, accuracy_score\n",
    "from sklearn.feature_selection import RFE\n",
    "from sklearn.preprocessing import LabelEncoder\n",
    "from sklearn.metrics import confusion_matrix\n",
    "from sklearn.metrics import classification_report\n",
    "import warnings\n",
    "warnings.filterwarnings(\"ignore\")"
   ]
  },
  {
   "cell_type": "code",
   "execution_count": 78,
   "id": "be52bef8",
   "metadata": {},
   "outputs": [],
   "source": [
    "data_l =data_c"
   ]
  },
  {
   "cell_type": "code",
   "execution_count": 79,
   "id": "de4b0aac",
   "metadata": {},
   "outputs": [
    {
     "data": {
      "text/plain": [
       "{0,\n",
       " 1,\n",
       " 2,\n",
       " 4,\n",
       " 6,\n",
       " 8,\n",
       " 10,\n",
       " 12,\n",
       " 13,\n",
       " 14,\n",
       " 15,\n",
       " 16,\n",
       " 26,\n",
       " 28,\n",
       " 29,\n",
       " 35,\n",
       " 39,\n",
       " 43,\n",
       " 44,\n",
       " 55,\n",
       " 57,\n",
       " 59,\n",
       " 64,\n",
       " 75,\n",
       " 76,\n",
       " 80,\n",
       " 83,\n",
       " 89,\n",
       " 91,\n",
       " 95,\n",
       " 100,\n",
       " 105,\n",
       " 115,\n",
       " 130,\n",
       " 132,\n",
       " 138,\n",
       " 145,\n",
       " 148,\n",
       " 153,\n",
       " 159,\n",
       " 166,\n",
       " 178,\n",
       " 184,\n",
       " 185,\n",
       " 187,\n",
       " 196,\n",
       " 202,\n",
       " 235,\n",
       " 245,\n",
       " 273,\n",
       " 280,\n",
       " 287,\n",
       " 318,\n",
       " 345,\n",
       " 378,\n",
       " 389,\n",
       " 437,\n",
       " 473,\n",
       " 493,\n",
       " 499,\n",
       " 503,\n",
       " 530,\n",
       " 543,\n",
       " 577,\n",
       " 590,\n",
       " 593,\n",
       " 600,\n",
       " 631,\n",
       " 699,\n",
       " 752,\n",
       " 805,\n",
       " 861,\n",
       " 905,\n",
       " 1010,\n",
       " 1054,\n",
       " 1058,\n",
       " 1096,\n",
       " 1099,\n",
       " 1129,\n",
       " 1136,\n",
       " 1169,\n",
       " 1190,\n",
       " 1315,\n",
       " 1380,\n",
       " 1435,\n",
       " 1439,\n",
       " 1462,\n",
       " 1525,\n",
       " 1561,\n",
       " 1687,\n",
       " 1745,\n",
       " 1814,\n",
       " 2016,\n",
       " 2023,\n",
       " 2032,\n",
       " 2179,\n",
       " 2292,\n",
       " 2388,\n",
       " 2584,\n",
       " 2859,\n",
       " 2886,\n",
       " 2908,\n",
       " 2980,\n",
       " 3310,\n",
       " 3401,\n",
       " 3801,\n",
       " 3905,\n",
       " 3919,\n",
       " 4640,\n",
       " 4889,\n",
       " 4985,\n",
       " 5664,\n",
       " 5884,\n",
       " 6179,\n",
       " 6379,\n",
       " 8183,\n",
       " 8662,\n",
       " 8781,\n",
       " 8798,\n",
       " 9501,\n",
       " 10211,\n",
       " 10687,\n",
       " 10911,\n",
       " 11544,\n",
       " 11707,\n",
       " 12325,\n",
       " 12893,\n",
       " 13460,\n",
       " 14923,\n",
       " 15319,\n",
       " 17699,\n",
       " 18860,\n",
       " 19470,\n",
       " 20934,\n",
       " 21986,\n",
       " 22091,\n",
       " 23371,\n",
       " 27327,\n",
       " 32939,\n",
       " 35077,\n",
       " 41827,\n",
       " 45223,\n",
       " 46862,\n",
       " 51589,\n",
       " 51628,\n",
       " 58138,\n",
       " 58425,\n",
       " 61334,\n",
       " 62668,\n",
       " 64364,\n",
       " 83095,\n",
       " 85163,\n",
       " 91711,\n",
       " 94234,\n",
       " 111678,\n",
       " 128767,\n",
       " 170416,\n",
       " 187027,\n",
       " 198920,\n",
       " 209472,\n",
       " 255058,\n",
       " 278681,\n",
       " 316967,\n",
       " 427969,\n",
       " 530477}"
      ]
     },
     "execution_count": 79,
     "metadata": {},
     "output_type": "execute_result"
    }
   ],
   "source": [
    "set(data_l['Aug-21'])"
   ]
  },
  {
   "cell_type": "code",
   "execution_count": 80,
   "id": "70191f36",
   "metadata": {},
   "outputs": [
    {
     "name": "stdout",
     "output_type": "stream",
     "text": [
      "categorical columns in data: ['Route', 'Travel_type']\n"
     ]
    }
   ],
   "source": [
    "# changeing strings to intiger value \n",
    "def get_categorical_col(df):\n",
    "    s = (data_l.dtypes == 'object')\n",
    "    cols = list(s[s].index)\n",
    "    return cols\n",
    "print(\"categorical columns in data:\",get_categorical_col(data_l))"
   ]
  },
  {
   "cell_type": "code",
   "execution_count": 81,
   "id": "d23e4914",
   "metadata": {},
   "outputs": [],
   "source": [
    "# calling the function GET \n",
    "def enc(data_l):\n",
    "    lab_enc=LabelEncoder()\n",
    "    #onehot_enc=OneHotEncoder(drop='first', sparse=False)\n",
    "    data_l['Route'] = lab_enc.fit_transform(data_l['Route'])\n",
    "    data_l['Travel_type'] = lab_enc.fit_transform(data_l['Travel_type'])\n",
    "\n",
    "enc(data_l)"
   ]
  },
  {
   "cell_type": "code",
   "execution_count": 82,
   "id": "405921d2",
   "metadata": {},
   "outputs": [
    {
     "data": {
      "text/html": [
       "<div>\n",
       "<style scoped>\n",
       "    .dataframe tbody tr th:only-of-type {\n",
       "        vertical-align: middle;\n",
       "    }\n",
       "\n",
       "    .dataframe tbody tr th {\n",
       "        vertical-align: top;\n",
       "    }\n",
       "\n",
       "    .dataframe thead th {\n",
       "        text-align: right;\n",
       "    }\n",
       "</style>\n",
       "<table border=\"1\" class=\"dataframe\">\n",
       "  <thead>\n",
       "    <tr style=\"text-align: right;\">\n",
       "      <th></th>\n",
       "      <th>Route</th>\n",
       "      <th>Travel_type</th>\n",
       "      <th>Jul-16</th>\n",
       "      <th>Aug-16</th>\n",
       "      <th>Sep-16</th>\n",
       "      <th>Oct-16</th>\n",
       "      <th>Nov-16</th>\n",
       "      <th>Dec-16</th>\n",
       "      <th>Jan-17</th>\n",
       "      <th>Feb-17</th>\n",
       "      <th>...</th>\n",
       "      <th>Dec-20</th>\n",
       "      <th>Jan-21</th>\n",
       "      <th>Feb-21</th>\n",
       "      <th>Mar-21</th>\n",
       "      <th>Apr-21</th>\n",
       "      <th>May-21</th>\n",
       "      <th>Jun-21</th>\n",
       "      <th>Jul-21</th>\n",
       "      <th>Aug-21</th>\n",
       "      <th>Sep-21</th>\n",
       "    </tr>\n",
       "  </thead>\n",
       "  <tbody>\n",
       "    <tr>\n",
       "      <th>0</th>\n",
       "      <td>7</td>\n",
       "      <td>0</td>\n",
       "      <td>8575135</td>\n",
       "      <td>9484134</td>\n",
       "      <td>8956112</td>\n",
       "      <td>8778524</td>\n",
       "      <td>9221978</td>\n",
       "      <td>8036202</td>\n",
       "      <td>7774754</td>\n",
       "      <td>8446672</td>\n",
       "      <td>...</td>\n",
       "      <td>0</td>\n",
       "      <td>0</td>\n",
       "      <td>0</td>\n",
       "      <td>0</td>\n",
       "      <td>0</td>\n",
       "      <td>0</td>\n",
       "      <td>0</td>\n",
       "      <td>0</td>\n",
       "      <td>0</td>\n",
       "      <td>0</td>\n",
       "    </tr>\n",
       "    <tr>\n",
       "      <th>1</th>\n",
       "      <td>7</td>\n",
       "      <td>2</td>\n",
       "      <td>432083</td>\n",
       "      <td>370300</td>\n",
       "      <td>425154</td>\n",
       "      <td>438430</td>\n",
       "      <td>404288</td>\n",
       "      <td>505401</td>\n",
       "      <td>552039</td>\n",
       "      <td>394228</td>\n",
       "      <td>...</td>\n",
       "      <td>0</td>\n",
       "      <td>0</td>\n",
       "      <td>0</td>\n",
       "      <td>0</td>\n",
       "      <td>0</td>\n",
       "      <td>0</td>\n",
       "      <td>0</td>\n",
       "      <td>0</td>\n",
       "      <td>0</td>\n",
       "      <td>0</td>\n",
       "    </tr>\n",
       "    <tr>\n",
       "      <th>2</th>\n",
       "      <td>7</td>\n",
       "      <td>3</td>\n",
       "      <td>790206</td>\n",
       "      <td>1081373</td>\n",
       "      <td>855554</td>\n",
       "      <td>839434</td>\n",
       "      <td>677907</td>\n",
       "      <td>524749</td>\n",
       "      <td>488489</td>\n",
       "      <td>607040</td>\n",
       "      <td>...</td>\n",
       "      <td>0</td>\n",
       "      <td>0</td>\n",
       "      <td>0</td>\n",
       "      <td>0</td>\n",
       "      <td>0</td>\n",
       "      <td>0</td>\n",
       "      <td>0</td>\n",
       "      <td>0</td>\n",
       "      <td>0</td>\n",
       "      <td>0</td>\n",
       "    </tr>\n",
       "    <tr>\n",
       "      <th>3</th>\n",
       "      <td>7</td>\n",
       "      <td>4</td>\n",
       "      <td>0</td>\n",
       "      <td>0</td>\n",
       "      <td>0</td>\n",
       "      <td>0</td>\n",
       "      <td>0</td>\n",
       "      <td>0</td>\n",
       "      <td>0</td>\n",
       "      <td>0</td>\n",
       "      <td>...</td>\n",
       "      <td>0</td>\n",
       "      <td>0</td>\n",
       "      <td>0</td>\n",
       "      <td>0</td>\n",
       "      <td>0</td>\n",
       "      <td>0</td>\n",
       "      <td>0</td>\n",
       "      <td>0</td>\n",
       "      <td>0</td>\n",
       "      <td>0</td>\n",
       "    </tr>\n",
       "    <tr>\n",
       "      <th>4</th>\n",
       "      <td>7</td>\n",
       "      <td>5</td>\n",
       "      <td>0</td>\n",
       "      <td>0</td>\n",
       "      <td>0</td>\n",
       "      <td>0</td>\n",
       "      <td>0</td>\n",
       "      <td>0</td>\n",
       "      <td>0</td>\n",
       "      <td>0</td>\n",
       "      <td>...</td>\n",
       "      <td>0</td>\n",
       "      <td>0</td>\n",
       "      <td>0</td>\n",
       "      <td>0</td>\n",
       "      <td>0</td>\n",
       "      <td>0</td>\n",
       "      <td>0</td>\n",
       "      <td>0</td>\n",
       "      <td>0</td>\n",
       "      <td>0</td>\n",
       "    </tr>\n",
       "    <tr>\n",
       "      <th>...</th>\n",
       "      <td>...</td>\n",
       "      <td>...</td>\n",
       "      <td>...</td>\n",
       "      <td>...</td>\n",
       "      <td>...</td>\n",
       "      <td>...</td>\n",
       "      <td>...</td>\n",
       "      <td>...</td>\n",
       "      <td>...</td>\n",
       "      <td>...</td>\n",
       "      <td>...</td>\n",
       "      <td>...</td>\n",
       "      <td>...</td>\n",
       "      <td>...</td>\n",
       "      <td>...</td>\n",
       "      <td>...</td>\n",
       "      <td>...</td>\n",
       "      <td>...</td>\n",
       "      <td>...</td>\n",
       "      <td>...</td>\n",
       "      <td>...</td>\n",
       "    </tr>\n",
       "    <tr>\n",
       "      <th>242</th>\n",
       "      <td>20</td>\n",
       "      <td>7</td>\n",
       "      <td>0</td>\n",
       "      <td>0</td>\n",
       "      <td>0</td>\n",
       "      <td>0</td>\n",
       "      <td>0</td>\n",
       "      <td>0</td>\n",
       "      <td>0</td>\n",
       "      <td>0</td>\n",
       "      <td>...</td>\n",
       "      <td>709</td>\n",
       "      <td>527</td>\n",
       "      <td>767</td>\n",
       "      <td>778</td>\n",
       "      <td>977</td>\n",
       "      <td>905</td>\n",
       "      <td>713</td>\n",
       "      <td>146</td>\n",
       "      <td>91</td>\n",
       "      <td>129</td>\n",
       "    </tr>\n",
       "    <tr>\n",
       "      <th>243</th>\n",
       "      <td>20</td>\n",
       "      <td>8</td>\n",
       "      <td>0</td>\n",
       "      <td>0</td>\n",
       "      <td>0</td>\n",
       "      <td>0</td>\n",
       "      <td>0</td>\n",
       "      <td>0</td>\n",
       "      <td>0</td>\n",
       "      <td>0</td>\n",
       "      <td>...</td>\n",
       "      <td>32803</td>\n",
       "      <td>4464</td>\n",
       "      <td>76522</td>\n",
       "      <td>88883</td>\n",
       "      <td>40886</td>\n",
       "      <td>85542</td>\n",
       "      <td>60247</td>\n",
       "      <td>218</td>\n",
       "      <td>280</td>\n",
       "      <td>218</td>\n",
       "    </tr>\n",
       "    <tr>\n",
       "      <th>244</th>\n",
       "      <td>20</td>\n",
       "      <td>9</td>\n",
       "      <td>0</td>\n",
       "      <td>0</td>\n",
       "      <td>0</td>\n",
       "      <td>0</td>\n",
       "      <td>0</td>\n",
       "      <td>0</td>\n",
       "      <td>0</td>\n",
       "      <td>0</td>\n",
       "      <td>...</td>\n",
       "      <td>109387</td>\n",
       "      <td>86556</td>\n",
       "      <td>116405</td>\n",
       "      <td>134217</td>\n",
       "      <td>149381</td>\n",
       "      <td>155281</td>\n",
       "      <td>112473</td>\n",
       "      <td>28833</td>\n",
       "      <td>22091</td>\n",
       "      <td>24927</td>\n",
       "    </tr>\n",
       "    <tr>\n",
       "      <th>245</th>\n",
       "      <td>20</td>\n",
       "      <td>10</td>\n",
       "      <td>0</td>\n",
       "      <td>0</td>\n",
       "      <td>0</td>\n",
       "      <td>0</td>\n",
       "      <td>0</td>\n",
       "      <td>0</td>\n",
       "      <td>0</td>\n",
       "      <td>0</td>\n",
       "      <td>...</td>\n",
       "      <td>1331</td>\n",
       "      <td>836</td>\n",
       "      <td>1189</td>\n",
       "      <td>1295</td>\n",
       "      <td>2172</td>\n",
       "      <td>1663</td>\n",
       "      <td>927</td>\n",
       "      <td>187</td>\n",
       "      <td>130</td>\n",
       "      <td>162</td>\n",
       "    </tr>\n",
       "    <tr>\n",
       "      <th>246</th>\n",
       "      <td>20</td>\n",
       "      <td>11</td>\n",
       "      <td>0</td>\n",
       "      <td>0</td>\n",
       "      <td>0</td>\n",
       "      <td>0</td>\n",
       "      <td>0</td>\n",
       "      <td>0</td>\n",
       "      <td>0</td>\n",
       "      <td>0</td>\n",
       "      <td>...</td>\n",
       "      <td>957</td>\n",
       "      <td>941</td>\n",
       "      <td>726</td>\n",
       "      <td>783</td>\n",
       "      <td>1897</td>\n",
       "      <td>1020</td>\n",
       "      <td>634</td>\n",
       "      <td>169</td>\n",
       "      <td>80</td>\n",
       "      <td>104</td>\n",
       "    </tr>\n",
       "  </tbody>\n",
       "</table>\n",
       "<p>247 rows × 65 columns</p>\n",
       "</div>"
      ],
      "text/plain": [
       "     Route  Travel_type   Jul-16   Aug-16   Sep-16   Oct-16   Nov-16   Dec-16  \\\n",
       "0        7            0  8575135  9484134  8956112  8778524  9221978  8036202   \n",
       "1        7            2   432083   370300   425154   438430   404288   505401   \n",
       "2        7            3   790206  1081373   855554   839434   677907   524749   \n",
       "3        7            4        0        0        0        0        0        0   \n",
       "4        7            5        0        0        0        0        0        0   \n",
       "..     ...          ...      ...      ...      ...      ...      ...      ...   \n",
       "242     20            7        0        0        0        0        0        0   \n",
       "243     20            8        0        0        0        0        0        0   \n",
       "244     20            9        0        0        0        0        0        0   \n",
       "245     20           10        0        0        0        0        0        0   \n",
       "246     20           11        0        0        0        0        0        0   \n",
       "\n",
       "      Jan-17   Feb-17  ...  Dec-20  Jan-21  Feb-21  Mar-21  Apr-21  May-21  \\\n",
       "0    7774754  8446672  ...       0       0       0       0       0       0   \n",
       "1     552039   394228  ...       0       0       0       0       0       0   \n",
       "2     488489   607040  ...       0       0       0       0       0       0   \n",
       "3          0        0  ...       0       0       0       0       0       0   \n",
       "4          0        0  ...       0       0       0       0       0       0   \n",
       "..       ...      ...  ...     ...     ...     ...     ...     ...     ...   \n",
       "242        0        0  ...     709     527     767     778     977     905   \n",
       "243        0        0  ...   32803    4464   76522   88883   40886   85542   \n",
       "244        0        0  ...  109387   86556  116405  134217  149381  155281   \n",
       "245        0        0  ...    1331     836    1189    1295    2172    1663   \n",
       "246        0        0  ...     957     941     726     783    1897    1020   \n",
       "\n",
       "     Jun-21  Jul-21  Aug-21  Sep-21  \n",
       "0         0       0       0       0  \n",
       "1         0       0       0       0  \n",
       "2         0       0       0       0  \n",
       "3         0       0       0       0  \n",
       "4         0       0       0       0  \n",
       "..      ...     ...     ...     ...  \n",
       "242     713     146      91     129  \n",
       "243   60247     218     280     218  \n",
       "244  112473   28833   22091   24927  \n",
       "245     927     187     130     162  \n",
       "246     634     169      80     104  \n",
       "\n",
       "[247 rows x 65 columns]"
      ]
     },
     "execution_count": 82,
     "metadata": {},
     "output_type": "execute_result"
    }
   ],
   "source": [
    "data_l"
   ]
  },
  {
   "cell_type": "code",
   "execution_count": 83,
   "id": "b5a9ff99",
   "metadata": {},
   "outputs": [
    {
     "name": "stdout",
     "output_type": "stream",
     "text": [
      "(197, 65)\n",
      "(50, 65)\n"
     ]
    }
   ],
   "source": [
    "# Split your data into training(80%) and testing data (20%) and use random_state=42\n",
    "train, test = train_test_split(data_l, test_size=0.2, random_state=42)\n",
    "print(train.shape)\n",
    "print(test.shape)"
   ]
  },
  {
   "cell_type": "code",
   "execution_count": 84,
   "id": "76d0a280",
   "metadata": {},
   "outputs": [
    {
     "name": "stdout",
     "output_type": "stream",
     "text": [
      "(197, 64) train x\n",
      "(197,) train y\n",
      "(50, 64) test x\n",
      "(50,) test y\n"
     ]
    },
    {
     "data": {
      "text/html": [
       "<div>\n",
       "<style scoped>\n",
       "    .dataframe tbody tr th:only-of-type {\n",
       "        vertical-align: middle;\n",
       "    }\n",
       "\n",
       "    .dataframe tbody tr th {\n",
       "        vertical-align: top;\n",
       "    }\n",
       "\n",
       "    .dataframe thead th {\n",
       "        text-align: right;\n",
       "    }\n",
       "</style>\n",
       "<table border=\"1\" class=\"dataframe\">\n",
       "  <thead>\n",
       "    <tr style=\"text-align: right;\">\n",
       "      <th></th>\n",
       "      <th>Route</th>\n",
       "      <th>Travel_type</th>\n",
       "      <th>Jul-16</th>\n",
       "      <th>Aug-16</th>\n",
       "      <th>Sep-16</th>\n",
       "      <th>Oct-16</th>\n",
       "      <th>Nov-16</th>\n",
       "      <th>Dec-16</th>\n",
       "      <th>Jan-17</th>\n",
       "      <th>Feb-17</th>\n",
       "      <th>...</th>\n",
       "      <th>Nov-20</th>\n",
       "      <th>Dec-20</th>\n",
       "      <th>Jan-21</th>\n",
       "      <th>Feb-21</th>\n",
       "      <th>Mar-21</th>\n",
       "      <th>Apr-21</th>\n",
       "      <th>May-21</th>\n",
       "      <th>Jun-21</th>\n",
       "      <th>Jul-21</th>\n",
       "      <th>Sep-21</th>\n",
       "    </tr>\n",
       "  </thead>\n",
       "  <tbody>\n",
       "    <tr>\n",
       "      <th>154</th>\n",
       "      <td>6</td>\n",
       "      <td>2</td>\n",
       "      <td>0</td>\n",
       "      <td>0</td>\n",
       "      <td>0</td>\n",
       "      <td>0</td>\n",
       "      <td>0</td>\n",
       "      <td>0</td>\n",
       "      <td>0</td>\n",
       "      <td>0</td>\n",
       "      <td>...</td>\n",
       "      <td>81995</td>\n",
       "      <td>103142</td>\n",
       "      <td>108736</td>\n",
       "      <td>96922</td>\n",
       "      <td>85477</td>\n",
       "      <td>140999</td>\n",
       "      <td>91420</td>\n",
       "      <td>65984</td>\n",
       "      <td>8051</td>\n",
       "      <td>10075</td>\n",
       "    </tr>\n",
       "    <tr>\n",
       "      <th>211</th>\n",
       "      <td>12</td>\n",
       "      <td>10</td>\n",
       "      <td>0</td>\n",
       "      <td>0</td>\n",
       "      <td>0</td>\n",
       "      <td>0</td>\n",
       "      <td>0</td>\n",
       "      <td>0</td>\n",
       "      <td>0</td>\n",
       "      <td>0</td>\n",
       "      <td>...</td>\n",
       "      <td>3402</td>\n",
       "      <td>3956</td>\n",
       "      <td>2653</td>\n",
       "      <td>3370</td>\n",
       "      <td>4680</td>\n",
       "      <td>6097</td>\n",
       "      <td>3980</td>\n",
       "      <td>3651</td>\n",
       "      <td>1061</td>\n",
       "      <td>795</td>\n",
       "    </tr>\n",
       "    <tr>\n",
       "      <th>118</th>\n",
       "      <td>3</td>\n",
       "      <td>0</td>\n",
       "      <td>534213</td>\n",
       "      <td>602210</td>\n",
       "      <td>577663</td>\n",
       "      <td>561571</td>\n",
       "      <td>614058</td>\n",
       "      <td>563097</td>\n",
       "      <td>527438</td>\n",
       "      <td>559752</td>\n",
       "      <td>...</td>\n",
       "      <td>219354</td>\n",
       "      <td>193559</td>\n",
       "      <td>177807</td>\n",
       "      <td>210234</td>\n",
       "      <td>243704</td>\n",
       "      <td>231810</td>\n",
       "      <td>248470</td>\n",
       "      <td>194903</td>\n",
       "      <td>59002</td>\n",
       "      <td>49825</td>\n",
       "    </tr>\n",
       "    <tr>\n",
       "      <th>195</th>\n",
       "      <td>11</td>\n",
       "      <td>6</td>\n",
       "      <td>0</td>\n",
       "      <td>0</td>\n",
       "      <td>0</td>\n",
       "      <td>0</td>\n",
       "      <td>0</td>\n",
       "      <td>0</td>\n",
       "      <td>0</td>\n",
       "      <td>0</td>\n",
       "      <td>...</td>\n",
       "      <td>12958</td>\n",
       "      <td>12240</td>\n",
       "      <td>10894</td>\n",
       "      <td>12826</td>\n",
       "      <td>13733</td>\n",
       "      <td>12230</td>\n",
       "      <td>12515</td>\n",
       "      <td>9164</td>\n",
       "      <td>4087</td>\n",
       "      <td>2070</td>\n",
       "    </tr>\n",
       "    <tr>\n",
       "      <th>240</th>\n",
       "      <td>20</td>\n",
       "      <td>5</td>\n",
       "      <td>0</td>\n",
       "      <td>0</td>\n",
       "      <td>0</td>\n",
       "      <td>0</td>\n",
       "      <td>0</td>\n",
       "      <td>0</td>\n",
       "      <td>0</td>\n",
       "      <td>0</td>\n",
       "      <td>...</td>\n",
       "      <td>7</td>\n",
       "      <td>1</td>\n",
       "      <td>2</td>\n",
       "      <td>1</td>\n",
       "      <td>7</td>\n",
       "      <td>6</td>\n",
       "      <td>7</td>\n",
       "      <td>3</td>\n",
       "      <td>2</td>\n",
       "      <td>1</td>\n",
       "    </tr>\n",
       "  </tbody>\n",
       "</table>\n",
       "<p>5 rows × 64 columns</p>\n",
       "</div>"
      ],
      "text/plain": [
       "     Route  Travel_type  Jul-16  Aug-16  Sep-16  Oct-16  Nov-16  Dec-16  \\\n",
       "154      6            2       0       0       0       0       0       0   \n",
       "211     12           10       0       0       0       0       0       0   \n",
       "118      3            0  534213  602210  577663  561571  614058  563097   \n",
       "195     11            6       0       0       0       0       0       0   \n",
       "240     20            5       0       0       0       0       0       0   \n",
       "\n",
       "     Jan-17  Feb-17  ...  Nov-20  Dec-20  Jan-21  Feb-21  Mar-21  Apr-21  \\\n",
       "154       0       0  ...   81995  103142  108736   96922   85477  140999   \n",
       "211       0       0  ...    3402    3956    2653    3370    4680    6097   \n",
       "118  527438  559752  ...  219354  193559  177807  210234  243704  231810   \n",
       "195       0       0  ...   12958   12240   10894   12826   13733   12230   \n",
       "240       0       0  ...       7       1       2       1       7       6   \n",
       "\n",
       "     May-21  Jun-21  Jul-21  Sep-21  \n",
       "154   91420   65984    8051   10075  \n",
       "211    3980    3651    1061     795  \n",
       "118  248470  194903   59002   49825  \n",
       "195   12515    9164    4087    2070  \n",
       "240       7       3       2       1  \n",
       "\n",
       "[5 rows x 64 columns]"
      ]
     },
     "execution_count": 84,
     "metadata": {},
     "output_type": "execute_result"
    }
   ],
   "source": [
    "# Logistic Regression model\n",
    "# Getting input data and targets for building prediction model\n",
    "X_train =train.drop(['Aug-21'],axis=1)\n",
    "y_train = train['Aug-21']\n",
    "X_test =test.drop(['Aug-21'],axis=1)\n",
    "y_test=test['Aug-21']\n",
    "\n",
    "print(X_train.shape,\"train x\")\n",
    "print(y_train.shape,\"train y\")\n",
    "print(X_test.shape, \"test x\")\n",
    "print(y_test.shape, \"test y\")\n",
    "X_train.head()"
   ]
  },
  {
   "cell_type": "code",
   "execution_count": 85,
   "id": "7e12fe48",
   "metadata": {},
   "outputs": [
    {
     "data": {
      "text/plain": [
       "3752810"
      ]
     },
     "execution_count": 85,
     "metadata": {},
     "output_type": "execute_result"
    }
   ],
   "source": [
    "y_train.sum()"
   ]
  },
  {
   "cell_type": "code",
   "execution_count": 86,
   "id": "776dd9cf",
   "metadata": {},
   "outputs": [
    {
     "data": {
      "text/plain": [
       "LogisticRegression()"
      ]
     },
     "execution_count": 86,
     "metadata": {},
     "output_type": "execute_result"
    }
   ],
   "source": [
    "# Training Logistic Regression model\n",
    "model = LogisticRegression()\n",
    "model.fit(X_train,y_train)"
   ]
  },
  {
   "cell_type": "code",
   "execution_count": 87,
   "id": "e279f6c8",
   "metadata": {},
   "outputs": [],
   "source": [
    "# Do predictions on test set\n",
    "# Doing predictions on train and test set\n",
    "y_test_pred=model.predict(X_test)\n",
    "y_train_pred = model.predict(X_train)"
   ]
  },
  {
   "cell_type": "markdown",
   "id": "66357b64",
   "metadata": {},
   "source": [
    "# Evaluation"
   ]
  },
  {
   "cell_type": "code",
   "execution_count": 88,
   "id": "e4609ea5",
   "metadata": {},
   "outputs": [
    {
     "name": "stdout",
     "output_type": "stream",
     "text": [
      "Accuracy score on training set:  0.3604060913705584\n",
      "Accuracy score on testing set:  0.24\n"
     ]
    }
   ],
   "source": [
    "# Evaluate the performance of your trained model\n",
    "print(\"Accuracy score on training set: \", accuracy_score(y_train, y_train_pred))\n",
    "print(\"Accuracy score on testing set: \", accuracy_score(y_test, y_test_pred))"
   ]
  },
  {
   "cell_type": "code",
   "execution_count": 89,
   "id": "a22b8fc5",
   "metadata": {},
   "outputs": [
    {
     "name": "stdout",
     "output_type": "stream",
     "text": [
      "Confusion matrix on test set: \n",
      "[[12  0  0 ...  0  1  1]\n",
      " [ 0  0  0 ...  0  1  0]\n",
      " [ 0  0  0 ...  0  0  1]\n",
      " ...\n",
      " [ 0  0  0 ...  0  0  1]\n",
      " [ 0  0  0 ...  0  0  0]\n",
      " [ 0  0  0 ...  0  0  0]]\n"
     ]
    }
   ],
   "source": [
    "# Checking confusion matrix\n",
    "print(\"Confusion matrix on test set: \")\n",
    "print(confusion_matrix(y_test, y_test_pred))"
   ]
  },
  {
   "cell_type": "markdown",
   "id": "b7786542",
   "metadata": {},
   "source": [
    "# due to figsize cant fix this "
   ]
  },
  {
   "cell_type": "code",
   "execution_count": 35,
   "id": "12c6e7ea",
   "metadata": {},
   "outputs": [
    {
     "ename": "NameError",
     "evalue": "name 'X_train' is not defined",
     "output_type": "error",
     "traceback": [
      "\u001b[1;31m---------------------------------------------------------------------------\u001b[0m",
      "\u001b[1;31mNameError\u001b[0m                                 Traceback (most recent call last)",
      "\u001b[1;32m<ipython-input-35-fa6e1c648fb8>\u001b[0m in \u001b[0;36m<module>\u001b[1;34m\u001b[0m\n\u001b[0;32m      1\u001b[0m \u001b[1;31m# future modification / relationship\u001b[0m\u001b[1;33m\u001b[0m\u001b[1;33m\u001b[0m\u001b[1;33m\u001b[0m\u001b[0m\n\u001b[1;32m----> 2\u001b[1;33m \u001b[0mcorrmat\u001b[0m \u001b[1;33m=\u001b[0m \u001b[0mX_train\u001b[0m\u001b[1;33m.\u001b[0m\u001b[0mcorr\u001b[0m\u001b[1;33m(\u001b[0m\u001b[1;33m)\u001b[0m\u001b[1;33m\u001b[0m\u001b[1;33m\u001b[0m\u001b[0m\n\u001b[0m\u001b[0;32m      3\u001b[0m \u001b[0mtop_corr_features\u001b[0m \u001b[1;33m=\u001b[0m \u001b[0mcorrmat\u001b[0m\u001b[1;33m.\u001b[0m\u001b[0mindex\u001b[0m\u001b[1;33m\u001b[0m\u001b[1;33m\u001b[0m\u001b[0m\n\u001b[0;32m      4\u001b[0m \u001b[0mplt\u001b[0m\u001b[1;33m.\u001b[0m\u001b[0mfigure\u001b[0m\u001b[1;33m(\u001b[0m\u001b[0mfigsize\u001b[0m\u001b[1;33m=\u001b[0m\u001b[1;33m(\u001b[0m\u001b[1;36m20\u001b[0m\u001b[1;33m,\u001b[0m\u001b[1;36m10\u001b[0m\u001b[1;33m)\u001b[0m\u001b[1;33m)\u001b[0m\u001b[1;33m\u001b[0m\u001b[1;33m\u001b[0m\u001b[0m\n\u001b[0;32m      5\u001b[0m \u001b[0mg\u001b[0m\u001b[1;33m=\u001b[0m\u001b[0msns\u001b[0m\u001b[1;33m.\u001b[0m\u001b[0mheatmap\u001b[0m\u001b[1;33m(\u001b[0m\u001b[0mX_train\u001b[0m\u001b[1;33m[\u001b[0m\u001b[0mtop_corr_features\u001b[0m\u001b[1;33m]\u001b[0m\u001b[1;33m.\u001b[0m\u001b[0mcorr\u001b[0m\u001b[1;33m(\u001b[0m\u001b[1;33m)\u001b[0m\u001b[1;33m,\u001b[0m \u001b[0mannot\u001b[0m\u001b[1;33m=\u001b[0m\u001b[1;32mTrue\u001b[0m\u001b[1;33m,\u001b[0m \u001b[0mcmap\u001b[0m\u001b[1;33m=\u001b[0m\u001b[1;34m\"RdYlGn\"\u001b[0m\u001b[1;33m)\u001b[0m\u001b[1;33m\u001b[0m\u001b[1;33m\u001b[0m\u001b[0m\n",
      "\u001b[1;31mNameError\u001b[0m: name 'X_train' is not defined"
     ]
    }
   ],
   "source": [
    "# future modification / relationship\n",
    "corrmat = X_train.corr()\n",
    "top_corr_features = corrmat.index\n",
    "plt.figure(figsize=(20,10))\n",
    "g=sns.heatmap(X_train[top_corr_features].corr(), annot=True, cmap=\"RdYlGn\")"
   ]
  },
  {
   "cell_type": "code",
   "execution_count": 101,
   "id": "bdba3d6b",
   "metadata": {},
   "outputs": [
    {
     "data": {
      "text/plain": [
       "RFE(estimator=LogisticRegression(), n_features_to_select=5)"
      ]
     },
     "execution_count": 101,
     "metadata": {},
     "output_type": "execute_result"
    }
   ],
   "source": [
    "# creating RFE object\n",
    "lr_model=LogisticRegression()\n",
    "rfe= RFE(estimator=lr_model, n_features_to_select=5, step=1)\n",
    "rfe.fit(X_train, y_train)"
   ]
  },
  {
   "cell_type": "code",
   "execution_count": 102,
   "id": "bbd20bb6",
   "metadata": {},
   "outputs": [
    {
     "name": "stdout",
     "output_type": "stream",
     "text": [
      "accuracy score on test set:  0.26\n"
     ]
    }
   ],
   "source": [
    "# doing evaluation\n",
    "y_test_hat = rfe.predict(X_test)\n",
    "print(\"accuracy score on test set: \", accuracy_score(y_test, y_test_hat))"
   ]
  },
  {
   "cell_type": "code",
   "execution_count": 103,
   "id": "830bb58f",
   "metadata": {},
   "outputs": [
    {
     "name": "stdout",
     "output_type": "stream",
     "text": [
      "Column: 0, Selected False, Rank: 59.000\n",
      "Column: 1, Selected False, Rank: 60.000\n",
      "Column: 2, Selected False, Rank: 52.000\n",
      "Column: 3, Selected False, Rank: 24.000\n",
      "Column: 4, Selected False, Rank: 32.000\n",
      "Column: 5, Selected False, Rank: 36.000\n",
      "Column: 6, Selected False, Rank: 28.000\n",
      "Column: 7, Selected False, Rank: 37.000\n",
      "Column: 8, Selected False, Rank: 45.000\n",
      "Column: 9, Selected False, Rank: 49.000\n",
      "Column: 10, Selected False, Rank: 3.000\n",
      "Column: 11, Selected False, Rank: 43.000\n",
      "Column: 12, Selected False, Rank: 7.000\n",
      "Column: 13, Selected False, Rank: 21.000\n",
      "Column: 14, Selected False, Rank: 9.000\n",
      "Column: 15, Selected True, Rank: 1.000\n",
      "Column: 16, Selected False, Rank: 18.000\n",
      "Column: 17, Selected False, Rank: 13.000\n",
      "Column: 18, Selected False, Rank: 41.000\n",
      "Column: 19, Selected False, Rank: 25.000\n",
      "Column: 20, Selected False, Rank: 15.000\n",
      "Column: 21, Selected False, Rank: 54.000\n",
      "Column: 22, Selected False, Rank: 11.000\n",
      "Column: 23, Selected False, Rank: 30.000\n",
      "Column: 24, Selected False, Rank: 5.000\n",
      "Column: 25, Selected False, Rank: 50.000\n",
      "Column: 26, Selected False, Rank: 44.000\n",
      "Column: 27, Selected False, Rank: 20.000\n",
      "Column: 28, Selected False, Rank: 38.000\n",
      "Column: 29, Selected False, Rank: 22.000\n",
      "Column: 30, Selected False, Rank: 27.000\n",
      "Column: 31, Selected False, Rank: 40.000\n",
      "Column: 32, Selected False, Rank: 34.000\n",
      "Column: 33, Selected False, Rank: 33.000\n",
      "Column: 34, Selected True, Rank: 1.000\n",
      "Column: 35, Selected False, Rank: 17.000\n",
      "Column: 36, Selected False, Rank: 23.000\n",
      "Column: 37, Selected False, Rank: 12.000\n",
      "Column: 38, Selected True, Rank: 1.000\n",
      "Column: 39, Selected True, Rank: 1.000\n",
      "Column: 40, Selected False, Rank: 10.000\n",
      "Column: 41, Selected False, Rank: 6.000\n",
      "Column: 42, Selected False, Rank: 8.000\n",
      "Column: 43, Selected False, Rank: 16.000\n",
      "Column: 44, Selected False, Rank: 2.000\n",
      "Column: 45, Selected False, Rank: 4.000\n",
      "Column: 46, Selected False, Rank: 26.000\n",
      "Column: 47, Selected False, Rank: 56.000\n",
      "Column: 48, Selected False, Rank: 55.000\n",
      "Column: 49, Selected False, Rank: 51.000\n",
      "Column: 50, Selected False, Rank: 48.000\n",
      "Column: 51, Selected False, Rank: 53.000\n",
      "Column: 52, Selected False, Rank: 46.000\n",
      "Column: 53, Selected False, Rank: 42.000\n",
      "Column: 54, Selected False, Rank: 35.000\n",
      "Column: 55, Selected False, Rank: 39.000\n",
      "Column: 56, Selected False, Rank: 47.000\n",
      "Column: 57, Selected False, Rank: 31.000\n",
      "Column: 58, Selected False, Rank: 14.000\n",
      "Column: 59, Selected False, Rank: 19.000\n",
      "Column: 60, Selected True, Rank: 1.000\n",
      "Column: 61, Selected False, Rank: 29.000\n",
      "Column: 62, Selected False, Rank: 57.000\n",
      "Column: 63, Selected False, Rank: 58.000\n"
     ]
    }
   ],
   "source": [
    "# summarize all features\n",
    "for i in range(X_train.shape[1]):\n",
    "    print('Column: %d, Selected %s, Rank: %.3f' % (i, rfe.support_[i], rfe.ranking_[i]))"
   ]
  },
  {
   "cell_type": "code",
   "execution_count": null,
   "id": "1b443a8f",
   "metadata": {},
   "outputs": [
    {
     "name": "stdout",
     "output_type": "stream",
     "text": [
      "Acc on test set using 1 features:  0.32\n",
      "Acc on test set using 2 features:  0.26\n",
      "Acc on test set using 3 features:  0.24\n",
      "Acc on test set using 4 features:  0.26\n",
      "Acc on test set using 5 features:  0.26\n",
      "Acc on test set using 6 features:  0.26\n",
      "Acc on test set using 7 features:  0.26\n",
      "Acc on test set using 8 features:  0.3\n",
      "Acc on test set using 9 features:  0.3\n",
      "Acc on test set using 10 features:  0.24\n",
      "Acc on test set using 11 features:  0.24\n",
      "Acc on test set using 12 features:  0.24\n"
     ]
    }
   ],
   "source": [
    "# to increment number of features, one at each time\n",
    "acc_scores = []\n",
    "for i in range(1,64):\n",
    "    clf = LogisticRegression()\n",
    "    rfe = RFE(estimator=clf, n_features_to_select=i)\n",
    "    # training model\n",
    "    rfe.fit(X_train, y_train)\n",
    "    # predicting on test set\n",
    "    y_pred = rfe.predict(X_test)\n",
    "    acc_score = accuracy_score(y_test, y_pred)\n",
    "    # print this\n",
    "    print(\"Acc on test set using\", i, \"features: \", acc_score)\n",
    "    # append to the list\n",
    "    acc_scores.append(acc_score)"
   ]
  },
  {
   "cell_type": "code",
   "execution_count": null,
   "id": "f8454a8a",
   "metadata": {},
   "outputs": [],
   "source": [
    "# Estimating accuracy score on test set using RFE by using different number of features\n",
    "estimator = LogisticRegression()\n",
    "acc_scores = []\n",
    "for i in range(1, 64):\n",
    "    selector = RFE(estimator, i)\n",
    "    selector = selector.fit(X_train, y_train)\n",
    "    supp = selector.get_support()\n",
    "\n",
    "    predicted = selector.predict(X_test)\n",
    "    acc_score = accuracy_score(y_test, predicted)\n",
    "    acc_scores.append(acc_score)\n",
    "  \n",
    "best = 1\n",
    "for item in acc_scores:\n",
    "    if item < acc_scores[best - 1]:\n",
    "        best = acc_scores.index(item) + 1\n",
    "\n",
    "plt.grid()   \n",
    "plt.xlabel('# No. of features')\n",
    "plt.ylabel('Accuracy score on test set')\n",
    "plt.plot(range(1, 64), acc_scores, marker = 'o', color = 'lightblue', markeredgewidth = 1 ,markeredgecolor = 'lightblue', markerfacecolor = 'None')\n",
    "plt.plot(best, acc_scores[best-1], marker = 'o', markerfacecolor = 'lightblue')"
   ]
  },
  {
   "cell_type": "code",
   "execution_count": null,
   "id": "82264ec8",
   "metadata": {},
   "outputs": [],
   "source": []
  },
  {
   "cell_type": "code",
   "execution_count": null,
   "id": "7824649f",
   "metadata": {},
   "outputs": [],
   "source": []
  },
  {
   "cell_type": "code",
   "execution_count": null,
   "id": "016a61e0",
   "metadata": {},
   "outputs": [],
   "source": []
  },
  {
   "cell_type": "code",
   "execution_count": null,
   "id": "a95de99e",
   "metadata": {},
   "outputs": [],
   "source": []
  },
  {
   "cell_type": "code",
   "execution_count": null,
   "id": "5885d083",
   "metadata": {},
   "outputs": [],
   "source": []
  },
  {
   "cell_type": "code",
   "execution_count": null,
   "id": "33552cfb",
   "metadata": {},
   "outputs": [],
   "source": []
  },
  {
   "cell_type": "code",
   "execution_count": null,
   "id": "9ed824ec",
   "metadata": {},
   "outputs": [],
   "source": []
  },
  {
   "cell_type": "code",
   "execution_count": null,
   "id": "6905c3de",
   "metadata": {},
   "outputs": [],
   "source": []
  },
  {
   "cell_type": "code",
   "execution_count": null,
   "id": "8f39b6f0",
   "metadata": {},
   "outputs": [],
   "source": []
  },
  {
   "cell_type": "code",
   "execution_count": null,
   "id": "c5698d99",
   "metadata": {},
   "outputs": [],
   "source": []
  },
  {
   "cell_type": "markdown",
   "id": "d85c1782",
   "metadata": {},
   "source": [
    "# some useful functions # notes only"
   ]
  },
  {
   "cell_type": "code",
   "execution_count": null,
   "id": "ffefa06f",
   "metadata": {},
   "outputs": [],
   "source": [
    "# use to drop columns\n",
    "#data.drop('1/07/2016+C1:BA1', inplace=True, axis=1)"
   ]
  },
  {
   "cell_type": "code",
   "execution_count": null,
   "id": "29e1e35a",
   "metadata": {},
   "outputs": [],
   "source": [
    "#use to rename colums\n",
    "#data = data.rename(columns={\"1/07/2016+C1:BA1\": \"Jul-16\"})"
   ]
  },
  {
   "cell_type": "markdown",
   "id": "7324775b",
   "metadata": {},
   "source": [
    "# dont worry about this for now/ it works / i will make it simple later \n",
    "remove(data['Jul-16'])\n",
    "remove(data['Aug-16'])\n",
    "remove(data['Sep-16'])\n",
    "remove(data['Oct-16'])\n",
    "remove(data['Nov-16'])\n",
    "remove(data['Dec-16'])\n",
    "\n",
    "remove(data['Jan-17'])\n",
    "remove(data['Feb-17'])\n",
    "remove(data['Mar-17'])\n",
    "remove(data['Apr-17'])\n",
    "remove(data['May-17'])\n",
    "remove(data['Jun-17'])\n",
    "remove(data['Jul-17'])\n",
    "remove(data['Aug-17'])\n",
    "remove(data['Sep-17'])\n",
    "remove(data['Oct-17'])\n",
    "remove(data['Nov-17'])\n",
    "remove(data['Dec-17'])\n",
    "\n",
    "remove(data['Jan-18'])\n",
    "remove(data['Feb-18'])\n",
    "remove(data['Mar-18'])\n",
    "remove(data['Apr-18'])\n",
    "remove(data['May-18'])\n",
    "remove(data['Jun-18'])\n",
    "remove(data['Jul-18'])\n",
    "remove(data['Aug-18'])\n",
    "remove(data['Sep-18'])\n",
    "remove(data['Oct-18'])\n",
    "remove(data['Nov-18'])\n",
    "remove(data['Dec-18'])\n",
    "\n",
    "remove(data['Jan-19'])\n",
    "remove(data['Feb-19'])\n",
    "remove(data['Mar-19'])\n",
    "remove(data['Apr-19'])\n",
    "remove(data['May-19'])\n",
    "remove(data['Jun-19'])\n",
    "remove(data['Jul-19'])\n",
    "remove(data['Aug-19'])\n",
    "remove(data['Sep-19'])\n",
    "remove(data['Oct-19'])\n",
    "remove(data['Nov-19'])\n",
    "remove(data['Dec-19'])\n",
    "\n",
    "remove(data['Jan-20'])\n",
    "remove(data['Feb-20'])\n",
    "remove(data['Mar-20'])\n",
    "remove(data['Apr-20'])\n",
    "remove(data['May-20'])\n",
    "remove(data['Jun-20'])\n",
    "remove(data['Jul-20'])\n",
    "remove(data['Aug-20'])\n",
    "remove(data['Sep-20'])\n",
    "remove(data['Oct-20'])\n",
    "remove(data['Nov-20'])\n",
    "remove(data['Dec-20'])\n",
    "\n",
    "remove(data['Jan-21'])\n",
    "remove(data['Feb-21'])\n",
    "remove(data['Mar-21'])\n",
    "remove(data['Apr-21'])\n",
    "remove(data['May-21'])\n",
    "remove(data['Jun-21'])\n",
    "remove(data['Jul-21'])\n",
    "remove(data['Aug-21'])\n",
    "remove(data['Sep-21'])"
   ]
  },
  {
   "cell_type": "code",
   "execution_count": null,
   "id": "ec7102c3",
   "metadata": {},
   "outputs": [],
   "source": [
    "#data['Aug-16']= data['Aug-16'].astype(int)"
   ]
  },
  {
   "cell_type": "code",
   "execution_count": null,
   "id": "95e378e4",
   "metadata": {},
   "outputs": [],
   "source": []
  },
  {
   "cell_type": "code",
   "execution_count": null,
   "id": "d42c4574",
   "metadata": {},
   "outputs": [],
   "source": []
  },
  {
   "cell_type": "code",
   "execution_count": null,
   "id": "b3e67937",
   "metadata": {},
   "outputs": [],
   "source": []
  },
  {
   "cell_type": "code",
   "execution_count": null,
   "id": "e48ba396",
   "metadata": {},
   "outputs": [],
   "source": []
  },
  {
   "cell_type": "code",
   "execution_count": null,
   "id": "fd94fb19",
   "metadata": {},
   "outputs": [],
   "source": []
  },
  {
   "cell_type": "code",
   "execution_count": null,
   "id": "e7166469",
   "metadata": {},
   "outputs": [],
   "source": []
  },
  {
   "cell_type": "code",
   "execution_count": null,
   "id": "0e28cf4a",
   "metadata": {},
   "outputs": [],
   "source": []
  },
  {
   "cell_type": "code",
   "execution_count": null,
   "id": "d47a6564",
   "metadata": {},
   "outputs": [],
   "source": []
  }
 ],
 "metadata": {
  "kernelspec": {
   "display_name": "Python 3",
   "language": "python",
   "name": "python3"
  },
  "language_info": {
   "codemirror_mode": {
    "name": "ipython",
    "version": 3
   },
   "file_extension": ".py",
   "mimetype": "text/x-python",
   "name": "python",
   "nbconvert_exporter": "python",
   "pygments_lexer": "ipython3",
   "version": "3.8.8"
  }
 },
 "nbformat": 4,
 "nbformat_minor": 5
}
