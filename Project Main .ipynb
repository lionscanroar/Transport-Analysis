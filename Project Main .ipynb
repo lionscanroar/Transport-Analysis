{
 "cells": [
  {
   "cell_type": "markdown",
   "id": "60528c11",
   "metadata": {},
   "source": [
    "# Data Science Group Project\n",
    "### Group 51\n",
    "Thuseevan Nareshkumar 46328785 <br>\n",
    "Ryan Lam 45951292\n",
    "### Name and Student number \n",
    "add you name here then remove this "
   ]
  },
  {
   "cell_type": "markdown",
   "id": "cfe0d606",
   "metadata": {},
   "source": [
    "# Executive Summary\n",
    "work on it"
   ]
  },
  {
   "cell_type": "markdown",
   "id": "4acb2e2d",
   "metadata": {},
   "source": [
    "# Introduction\n",
    "work on it"
   ]
  },
  {
   "cell_type": "markdown",
   "id": "27fa6bed",
   "metadata": {},
   "source": [
    "# Project Goal\n",
    "# work on it make it dot points \n",
    "One key objective we would like to explore with our chosen dataframe is to take\n",
    "advantage of the various sources to reach an optimal conclusion that will help with\n",
    "either decision making/support.\n",
    "We are eager to provide an analysis that will enable us to correlate trends/patterns with\n",
    "real world activities. From this, we aim to provide a sustainable solution that in hope\n",
    "answers the distinction between an array of transportation rush hours, off-peak hours\n",
    "and outliers. We will also aim to challenge ourselves\n"
   ]
  },
  {
   "cell_type": "markdown",
   "id": "b1eb8aa7",
   "metadata": {},
   "source": [
    "# Data source"
   ]
  },
  {
   "cell_type": "markdown",
   "id": "37a1f837",
   "metadata": {},
   "source": [
    "The dataset is from the Bureau of Transport Statistics. This dataset contains NSW trains official train utilisation figures for Intercity train lines only. These figures include the data of passengers who on/tap off well as passeners who bought tickets when entering and exiting the transportation service stations. It is set out as a line and aggregated into a monthly figure for a passenger for their estimated times of travel during that month. \n",
    "The data was collected from opal train trips by month,line and card type, from July 2016 to August 2021. The format of the data set is in CSV. Here is a link to the relevant document page: https://opendata.transport.nsw.gov.au/dataset/opal-trips-train."
   ]
  },
  {
   "cell_type": "markdown",
   "id": "d2497125",
   "metadata": {},
   "source": [
    "# Cleaning the data"
   ]
  },
  {
   "cell_type": "code",
   "execution_count": 420,
   "id": "a0ac67b6",
   "metadata": {},
   "outputs": [],
   "source": [
    "import pandas as pd\n",
    "import numpy as np\n",
    "import seaborn as sns\n",
    "\n",
    "import matplotlib.pylab as plt\n",
    "from matplotlib.pyplot import imread\n",
    "%matplotlib inline\n",
    "\n",
    "#---Linear Regression\n",
    "from sklearn.model_selection import train_test_split\n",
    "from sklearn import linear_model\n",
    "from sklearn.metrics import r2_score\n",
    "\n",
    "#---naive bayes\n",
    "from sklearn.naive_bayes import GaussianNB\n",
    "from sklearn.naive_bayes import MultinomialNB\n",
    "\n",
    "#---KMeans Clustering \n",
    "from sklearn.cluster import KMeans\n",
    "\n",
    "#---feature selection\n",
    "from sklearn.datasets import make_classification\n",
    "from sklearn.ensemble import ExtraTreesClassifier\n",
    "\n",
    "#---data processing\n",
    "from sklearn import preprocessing\n",
    "from sklearn.preprocessing import KBinsDiscretizer\n",
    "from sklearn.model_selection import train_test_split\n",
    "\n",
    "import warnings"
   ]
  },
  {
   "cell_type": "code",
   "execution_count": 421,
   "id": "ff2367e3",
   "metadata": {},
   "outputs": [],
   "source": [
    "#We tried importing the file, but this method didn’t work for some reason.\n",
    "#pd.show_versions()\n",
    "#data = pd.read_csv(\"files/TrainCardType.csv\")\n",
    "# we had error opeing the file"
   ]
  },
  {
   "cell_type": "code",
   "execution_count": 422,
   "id": "613a747a",
   "metadata": {},
   "outputs": [],
   "source": [
    "#We realised that there was an error with encoding the file. After resolving the the issue, we were able to import the file.\n",
    "# importing the file\n",
    "data = pd.read_csv(\"files/TrainCardType.csv\", encoding='utf-16',sep=\"\\t\")"
   ]
  },
  {
   "cell_type": "code",
   "execution_count": 423,
   "id": "b6837878",
   "metadata": {},
   "outputs": [],
   "source": [
    "# renaming \n",
    "data = data.rename(columns={\"1/07/2016+C1:BA1\": \"Jul-16\",\"Travel type\": \"Travel_type\" })\n",
    "#data.head()"
   ]
  },
  {
   "cell_type": "code",
   "execution_count": 424,
   "id": "ad9767d1",
   "metadata": {},
   "outputs": [
    {
     "name": "stdout",
     "output_type": "stream",
     "text": [
      "The size of the data is :  (248, 65)\n",
      "The number of row 248 and number of columns 65 \n"
     ]
    }
   ],
   "source": [
    "#checking the data set size \n",
    "print(\"The size of the data is : \", data.shape) \n",
    "print(\"The number of row {} and number of columns {} \".format(data.shape[0], data.shape[1]))"
   ]
  },
  {
   "cell_type": "code",
   "execution_count": 425,
   "id": "02b8cd86",
   "metadata": {},
   "outputs": [
    {
     "name": "stdout",
     "output_type": "stream",
     "text": [
      "<class 'pandas.core.frame.DataFrame'>\n",
      "<class 'pandas.core.series.Series'>\n",
      "<class 'str'>\n"
     ]
    }
   ],
   "source": [
    "# checking data type \n",
    "print(type(data))\n",
    "print(type(data['Jul-16']))\n",
    "print(type(data['Jul-16'][0]))"
   ]
  },
  {
   "cell_type": "markdown",
   "id": "bcf7bd04",
   "metadata": {},
   "source": [
    "Note: The data set have too many null value. Dropping the null value drop almost 70% of the data. We tried dropping the value but too many rows and coulmns were droped"
   ]
  },
  {
   "cell_type": "code",
   "execution_count": 426,
   "id": "e1d0981b",
   "metadata": {},
   "outputs": [
    {
     "data": {
      "text/plain": [
       "Route            0\n",
       "Travel_type      0\n",
       "Jul-16         139\n",
       "Aug-16         139\n",
       "Sep-16         139\n",
       "              ... \n",
       "May-21          69\n",
       "Jun-21          69\n",
       "Jul-21          75\n",
       "Aug-21          73\n",
       "Sep-21          73\n",
       "Length: 65, dtype: int64"
      ]
     },
     "execution_count": 426,
     "metadata": {},
     "output_type": "execute_result"
    }
   ],
   "source": [
    "# Deal with the NaN values in the data\n",
    "data.isna().sum()"
   ]
  },
  {
   "cell_type": "code",
   "execution_count": 427,
   "id": "1fa7133a",
   "metadata": {},
   "outputs": [],
   "source": [
    "# data_name = list(data)\n",
    "# data_name_length = len(data_name)\n",
    "# data_name_length"
   ]
  },
  {
   "cell_type": "markdown",
   "id": "c1d5ae0d",
   "metadata": {},
   "source": [
    "# Functions to remove ',' "
   ]
  },
  {
   "cell_type": "code",
   "execution_count": 428,
   "id": "ed73f372",
   "metadata": {},
   "outputs": [],
   "source": [
    "data = data.replace(',','', regex=True)\n"
   ]
  },
  {
   "cell_type": "code",
   "execution_count": 429,
   "id": "24d431e2",
   "metadata": {},
   "outputs": [],
   "source": [
    "\n",
    "for x in data.columns[2:]:\n",
    "    data[x] = pd.to_numeric(data[x])\n",
    "# data.columns = pd.to_numeric(data.columns[2:])\n"
   ]
  },
  {
   "cell_type": "code",
   "execution_count": 430,
   "id": "f18082f3",
   "metadata": {},
   "outputs": [],
   "source": [
    "#The data set have too many null value. Dropping the null value drop almost 70% of the data.\n",
    "#We tried dropping the value but too many rows and coulmns were droped\n",
    "#data =data.dropna()\n",
    "#data.shape\n",
    "#data.head(2)\n",
    "\n",
    "\n",
    "\n"
   ]
  },
  {
   "cell_type": "code",
   "execution_count": 431,
   "id": "5f2ffc09",
   "metadata": {},
   "outputs": [],
   "source": [
    "data = data.drop(data.index[247]) ## drop the grand total from the dataframe \n"
   ]
  },
  {
   "cell_type": "code",
   "execution_count": 432,
   "id": "a81eff98",
   "metadata": {},
   "outputs": [],
   "source": [
    "#we decide to assign 0 to null values\n",
    "data.fillna( 0, inplace = True)\n",
    "#data.head(2)"
   ]
  },
  {
   "cell_type": "code",
   "execution_count": 433,
   "id": "b4d3d084",
   "metadata": {},
   "outputs": [
    {
     "data": {
      "text/plain": [
       "0      T1\n",
       "1      T1\n",
       "2      T1\n",
       "3      T1\n",
       "4      T1\n",
       "       ..\n",
       "242    T9\n",
       "243    T9\n",
       "244    T9\n",
       "245    T9\n",
       "246    T9\n",
       "Name: TrainLine, Length: 247, dtype: object"
      ]
     },
     "execution_count": 433,
     "metadata": {},
     "output_type": "execute_result"
    }
   ],
   "source": [
    "## new column to merge all trainline \n",
    "\n",
    "data['TrainLine'] = data['Route'].str[0:2] ## targets the first two string from order date \n",
    "data['TrainLine'] = data['TrainLine'].astype('object')\n",
    "data.head(25)\n",
    "\n",
    "data['TrainLine']"
   ]
  },
  {
   "cell_type": "code",
   "execution_count": 434,
   "id": "1039fde3",
   "metadata": {},
   "outputs": [],
   "source": [
    "## reset index\n",
    "data = data.dropna()\n",
    "data = data.reset_index(drop=True)\n"
   ]
  },
  {
   "cell_type": "code",
   "execution_count": 435,
   "id": "5178f620",
   "metadata": {},
   "outputs": [
    {
     "data": {
      "text/html": [
       "<div>\n",
       "<style scoped>\n",
       "    .dataframe tbody tr th:only-of-type {\n",
       "        vertical-align: middle;\n",
       "    }\n",
       "\n",
       "    .dataframe tbody tr th {\n",
       "        vertical-align: top;\n",
       "    }\n",
       "\n",
       "    .dataframe thead th {\n",
       "        text-align: right;\n",
       "    }\n",
       "</style>\n",
       "<table border=\"1\" class=\"dataframe\">\n",
       "  <thead>\n",
       "    <tr style=\"text-align: right;\">\n",
       "      <th></th>\n",
       "      <th>Route</th>\n",
       "      <th>Travel_type</th>\n",
       "      <th>Jul-16</th>\n",
       "      <th>Aug-16</th>\n",
       "      <th>Sep-16</th>\n",
       "      <th>Oct-16</th>\n",
       "      <th>Nov-16</th>\n",
       "      <th>Dec-16</th>\n",
       "      <th>Jan-17</th>\n",
       "      <th>Feb-17</th>\n",
       "      <th>...</th>\n",
       "      <th>Jan-21</th>\n",
       "      <th>Feb-21</th>\n",
       "      <th>Mar-21</th>\n",
       "      <th>Apr-21</th>\n",
       "      <th>May-21</th>\n",
       "      <th>Jun-21</th>\n",
       "      <th>Jul-21</th>\n",
       "      <th>Aug-21</th>\n",
       "      <th>Sep-21</th>\n",
       "      <th>TrainLine</th>\n",
       "    </tr>\n",
       "  </thead>\n",
       "  <tbody>\n",
       "    <tr>\n",
       "      <th>0</th>\n",
       "      <td>T1 North Shore Northern and Western Line</td>\n",
       "      <td>Adult</td>\n",
       "      <td>8575135.0</td>\n",
       "      <td>9484134.0</td>\n",
       "      <td>8956112.0</td>\n",
       "      <td>8778524.0</td>\n",
       "      <td>9221978.0</td>\n",
       "      <td>8036202.0</td>\n",
       "      <td>7774754.0</td>\n",
       "      <td>8446672.0</td>\n",
       "      <td>...</td>\n",
       "      <td>0.0</td>\n",
       "      <td>0.0</td>\n",
       "      <td>0.0</td>\n",
       "      <td>0.0</td>\n",
       "      <td>0.0</td>\n",
       "      <td>0.0</td>\n",
       "      <td>0.0</td>\n",
       "      <td>0.0</td>\n",
       "      <td>0.0</td>\n",
       "      <td>T1</td>\n",
       "    </tr>\n",
       "    <tr>\n",
       "      <th>1</th>\n",
       "      <td>T1 North Shore Northern and Western Line</td>\n",
       "      <td>Child/Youth</td>\n",
       "      <td>432083.0</td>\n",
       "      <td>370300.0</td>\n",
       "      <td>425154.0</td>\n",
       "      <td>438430.0</td>\n",
       "      <td>404288.0</td>\n",
       "      <td>505401.0</td>\n",
       "      <td>552039.0</td>\n",
       "      <td>394228.0</td>\n",
       "      <td>...</td>\n",
       "      <td>0.0</td>\n",
       "      <td>0.0</td>\n",
       "      <td>0.0</td>\n",
       "      <td>0.0</td>\n",
       "      <td>0.0</td>\n",
       "      <td>0.0</td>\n",
       "      <td>0.0</td>\n",
       "      <td>0.0</td>\n",
       "      <td>0.0</td>\n",
       "      <td>T1</td>\n",
       "    </tr>\n",
       "    <tr>\n",
       "      <th>2</th>\n",
       "      <td>T1 North Shore Northern and Western Line</td>\n",
       "      <td>Concession</td>\n",
       "      <td>790206.0</td>\n",
       "      <td>1081373.0</td>\n",
       "      <td>855554.0</td>\n",
       "      <td>839434.0</td>\n",
       "      <td>677907.0</td>\n",
       "      <td>524749.0</td>\n",
       "      <td>488489.0</td>\n",
       "      <td>607040.0</td>\n",
       "      <td>...</td>\n",
       "      <td>0.0</td>\n",
       "      <td>0.0</td>\n",
       "      <td>0.0</td>\n",
       "      <td>0.0</td>\n",
       "      <td>0.0</td>\n",
       "      <td>0.0</td>\n",
       "      <td>0.0</td>\n",
       "      <td>0.0</td>\n",
       "      <td>0.0</td>\n",
       "      <td>T1</td>\n",
       "    </tr>\n",
       "    <tr>\n",
       "      <th>3</th>\n",
       "      <td>T1 North Shore Northern and Western Line</td>\n",
       "      <td>Day Pass Child/Youth w/o SAF</td>\n",
       "      <td>0.0</td>\n",
       "      <td>0.0</td>\n",
       "      <td>0.0</td>\n",
       "      <td>0.0</td>\n",
       "      <td>0.0</td>\n",
       "      <td>0.0</td>\n",
       "      <td>0.0</td>\n",
       "      <td>0.0</td>\n",
       "      <td>...</td>\n",
       "      <td>0.0</td>\n",
       "      <td>0.0</td>\n",
       "      <td>0.0</td>\n",
       "      <td>0.0</td>\n",
       "      <td>0.0</td>\n",
       "      <td>0.0</td>\n",
       "      <td>0.0</td>\n",
       "      <td>0.0</td>\n",
       "      <td>0.0</td>\n",
       "      <td>T1</td>\n",
       "    </tr>\n",
       "    <tr>\n",
       "      <th>4</th>\n",
       "      <td>T1 North Shore Northern and Western Line</td>\n",
       "      <td>Day Pass without SAF</td>\n",
       "      <td>0.0</td>\n",
       "      <td>0.0</td>\n",
       "      <td>0.0</td>\n",
       "      <td>0.0</td>\n",
       "      <td>0.0</td>\n",
       "      <td>0.0</td>\n",
       "      <td>0.0</td>\n",
       "      <td>0.0</td>\n",
       "      <td>...</td>\n",
       "      <td>0.0</td>\n",
       "      <td>0.0</td>\n",
       "      <td>0.0</td>\n",
       "      <td>0.0</td>\n",
       "      <td>0.0</td>\n",
       "      <td>0.0</td>\n",
       "      <td>0.0</td>\n",
       "      <td>0.0</td>\n",
       "      <td>0.0</td>\n",
       "      <td>T1</td>\n",
       "    </tr>\n",
       "    <tr>\n",
       "      <th>...</th>\n",
       "      <td>...</td>\n",
       "      <td>...</td>\n",
       "      <td>...</td>\n",
       "      <td>...</td>\n",
       "      <td>...</td>\n",
       "      <td>...</td>\n",
       "      <td>...</td>\n",
       "      <td>...</td>\n",
       "      <td>...</td>\n",
       "      <td>...</td>\n",
       "      <td>...</td>\n",
       "      <td>...</td>\n",
       "      <td>...</td>\n",
       "      <td>...</td>\n",
       "      <td>...</td>\n",
       "      <td>...</td>\n",
       "      <td>...</td>\n",
       "      <td>...</td>\n",
       "      <td>...</td>\n",
       "      <td>...</td>\n",
       "      <td>...</td>\n",
       "    </tr>\n",
       "    <tr>\n",
       "      <th>242</th>\n",
       "      <td>T9 Northern Line</td>\n",
       "      <td>Free Travel</td>\n",
       "      <td>0.0</td>\n",
       "      <td>0.0</td>\n",
       "      <td>0.0</td>\n",
       "      <td>0.0</td>\n",
       "      <td>0.0</td>\n",
       "      <td>0.0</td>\n",
       "      <td>0.0</td>\n",
       "      <td>0.0</td>\n",
       "      <td>...</td>\n",
       "      <td>527.0</td>\n",
       "      <td>767.0</td>\n",
       "      <td>778.0</td>\n",
       "      <td>977.0</td>\n",
       "      <td>905.0</td>\n",
       "      <td>713.0</td>\n",
       "      <td>146.0</td>\n",
       "      <td>91.0</td>\n",
       "      <td>129.0</td>\n",
       "      <td>T9</td>\n",
       "    </tr>\n",
       "    <tr>\n",
       "      <th>243</th>\n",
       "      <td>T9 Northern Line</td>\n",
       "      <td>School Student</td>\n",
       "      <td>0.0</td>\n",
       "      <td>0.0</td>\n",
       "      <td>0.0</td>\n",
       "      <td>0.0</td>\n",
       "      <td>0.0</td>\n",
       "      <td>0.0</td>\n",
       "      <td>0.0</td>\n",
       "      <td>0.0</td>\n",
       "      <td>...</td>\n",
       "      <td>4464.0</td>\n",
       "      <td>76522.0</td>\n",
       "      <td>88883.0</td>\n",
       "      <td>40886.0</td>\n",
       "      <td>85542.0</td>\n",
       "      <td>60247.0</td>\n",
       "      <td>218.0</td>\n",
       "      <td>280.0</td>\n",
       "      <td>218.0</td>\n",
       "      <td>T9</td>\n",
       "    </tr>\n",
       "    <tr>\n",
       "      <th>244</th>\n",
       "      <td>T9 Northern Line</td>\n",
       "      <td>Senior/Pensioner</td>\n",
       "      <td>0.0</td>\n",
       "      <td>0.0</td>\n",
       "      <td>0.0</td>\n",
       "      <td>0.0</td>\n",
       "      <td>0.0</td>\n",
       "      <td>0.0</td>\n",
       "      <td>0.0</td>\n",
       "      <td>0.0</td>\n",
       "      <td>...</td>\n",
       "      <td>86556.0</td>\n",
       "      <td>116405.0</td>\n",
       "      <td>134217.0</td>\n",
       "      <td>149381.0</td>\n",
       "      <td>155281.0</td>\n",
       "      <td>112473.0</td>\n",
       "      <td>28833.0</td>\n",
       "      <td>22091.0</td>\n",
       "      <td>24927.0</td>\n",
       "      <td>T9</td>\n",
       "    </tr>\n",
       "    <tr>\n",
       "      <th>245</th>\n",
       "      <td>T9 Northern Line</td>\n",
       "      <td>Sgl Trip Rail Adult</td>\n",
       "      <td>0.0</td>\n",
       "      <td>0.0</td>\n",
       "      <td>0.0</td>\n",
       "      <td>0.0</td>\n",
       "      <td>0.0</td>\n",
       "      <td>0.0</td>\n",
       "      <td>0.0</td>\n",
       "      <td>0.0</td>\n",
       "      <td>...</td>\n",
       "      <td>836.0</td>\n",
       "      <td>1189.0</td>\n",
       "      <td>1295.0</td>\n",
       "      <td>2172.0</td>\n",
       "      <td>1663.0</td>\n",
       "      <td>927.0</td>\n",
       "      <td>187.0</td>\n",
       "      <td>130.0</td>\n",
       "      <td>162.0</td>\n",
       "      <td>T9</td>\n",
       "    </tr>\n",
       "    <tr>\n",
       "      <th>246</th>\n",
       "      <td>T9 Northern Line</td>\n",
       "      <td>Sgl Trip Rail Child/Youth</td>\n",
       "      <td>0.0</td>\n",
       "      <td>0.0</td>\n",
       "      <td>0.0</td>\n",
       "      <td>0.0</td>\n",
       "      <td>0.0</td>\n",
       "      <td>0.0</td>\n",
       "      <td>0.0</td>\n",
       "      <td>0.0</td>\n",
       "      <td>...</td>\n",
       "      <td>941.0</td>\n",
       "      <td>726.0</td>\n",
       "      <td>783.0</td>\n",
       "      <td>1897.0</td>\n",
       "      <td>1020.0</td>\n",
       "      <td>634.0</td>\n",
       "      <td>169.0</td>\n",
       "      <td>80.0</td>\n",
       "      <td>104.0</td>\n",
       "      <td>T9</td>\n",
       "    </tr>\n",
       "  </tbody>\n",
       "</table>\n",
       "<p>247 rows × 66 columns</p>\n",
       "</div>"
      ],
      "text/plain": [
       "                                        Route                   Travel_type  \\\n",
       "0    T1 North Shore Northern and Western Line                         Adult   \n",
       "1    T1 North Shore Northern and Western Line                   Child/Youth   \n",
       "2    T1 North Shore Northern and Western Line                    Concession   \n",
       "3    T1 North Shore Northern and Western Line  Day Pass Child/Youth w/o SAF   \n",
       "4    T1 North Shore Northern and Western Line          Day Pass without SAF   \n",
       "..                                        ...                           ...   \n",
       "242                          T9 Northern Line                   Free Travel   \n",
       "243                          T9 Northern Line                School Student   \n",
       "244                          T9 Northern Line              Senior/Pensioner   \n",
       "245                          T9 Northern Line           Sgl Trip Rail Adult   \n",
       "246                          T9 Northern Line     Sgl Trip Rail Child/Youth   \n",
       "\n",
       "        Jul-16     Aug-16     Sep-16     Oct-16     Nov-16     Dec-16  \\\n",
       "0    8575135.0  9484134.0  8956112.0  8778524.0  9221978.0  8036202.0   \n",
       "1     432083.0   370300.0   425154.0   438430.0   404288.0   505401.0   \n",
       "2     790206.0  1081373.0   855554.0   839434.0   677907.0   524749.0   \n",
       "3          0.0        0.0        0.0        0.0        0.0        0.0   \n",
       "4          0.0        0.0        0.0        0.0        0.0        0.0   \n",
       "..         ...        ...        ...        ...        ...        ...   \n",
       "242        0.0        0.0        0.0        0.0        0.0        0.0   \n",
       "243        0.0        0.0        0.0        0.0        0.0        0.0   \n",
       "244        0.0        0.0        0.0        0.0        0.0        0.0   \n",
       "245        0.0        0.0        0.0        0.0        0.0        0.0   \n",
       "246        0.0        0.0        0.0        0.0        0.0        0.0   \n",
       "\n",
       "        Jan-17     Feb-17  ...   Jan-21    Feb-21    Mar-21    Apr-21  \\\n",
       "0    7774754.0  8446672.0  ...      0.0       0.0       0.0       0.0   \n",
       "1     552039.0   394228.0  ...      0.0       0.0       0.0       0.0   \n",
       "2     488489.0   607040.0  ...      0.0       0.0       0.0       0.0   \n",
       "3          0.0        0.0  ...      0.0       0.0       0.0       0.0   \n",
       "4          0.0        0.0  ...      0.0       0.0       0.0       0.0   \n",
       "..         ...        ...  ...      ...       ...       ...       ...   \n",
       "242        0.0        0.0  ...    527.0     767.0     778.0     977.0   \n",
       "243        0.0        0.0  ...   4464.0   76522.0   88883.0   40886.0   \n",
       "244        0.0        0.0  ...  86556.0  116405.0  134217.0  149381.0   \n",
       "245        0.0        0.0  ...    836.0    1189.0    1295.0    2172.0   \n",
       "246        0.0        0.0  ...    941.0     726.0     783.0    1897.0   \n",
       "\n",
       "       May-21    Jun-21   Jul-21   Aug-21   Sep-21  TrainLine  \n",
       "0         0.0       0.0      0.0      0.0      0.0         T1  \n",
       "1         0.0       0.0      0.0      0.0      0.0         T1  \n",
       "2         0.0       0.0      0.0      0.0      0.0         T1  \n",
       "3         0.0       0.0      0.0      0.0      0.0         T1  \n",
       "4         0.0       0.0      0.0      0.0      0.0         T1  \n",
       "..        ...       ...      ...      ...      ...        ...  \n",
       "242     905.0     713.0    146.0     91.0    129.0         T9  \n",
       "243   85542.0   60247.0    218.0    280.0    218.0         T9  \n",
       "244  155281.0  112473.0  28833.0  22091.0  24927.0         T9  \n",
       "245    1663.0     927.0    187.0    130.0    162.0         T9  \n",
       "246    1020.0     634.0    169.0     80.0    104.0         T9  \n",
       "\n",
       "[247 rows x 66 columns]"
      ]
     },
     "execution_count": 435,
     "metadata": {},
     "output_type": "execute_result"
    }
   ],
   "source": [
    "# str to int before we work on the data\n",
    "#x= data['Jul-16'][0].replace(\",\",\"\")\n",
    "data"
   ]
  },
  {
   "cell_type": "markdown",
   "id": "38a14479",
   "metadata": {},
   "source": [
    "# we can split the data fram into years 2016,2017,2018,2019,2020,2021"
   ]
  },
  {
   "cell_type": "code",
   "execution_count": 436,
   "id": "772cb40e",
   "metadata": {},
   "outputs": [],
   "source": [
    "df2016 = data[['TrainLine','Travel_type','Jul-16','Aug-16','Sep-16','Oct-16','Nov-16','Dec-16']]\n",
    "df2017 = data[['TrainLine','Travel_type','Jan-17','Feb-17','Mar-17','Apr-17','May-17','Jun-17','Jul-17','Aug-17','Sep-17','Oct-17','Nov-17','Dec-17']]\n",
    "df2018 = data[['TrainLine','Travel_type','Jan-18','Feb-18','Mar-18','Apr-18','May-18','Jun-18','Jul-18','Aug-18','Sep-18','Oct-18','Nov-18','Dec-18']]\n",
    "df2019 = data[['TrainLine','Travel_type','Jan-19','Feb-19','Mar-19','Apr-19','May-19','Jun-19','Jul-19','Aug-19','Sep-19','Oct-19','Nov-19','Dec-19']]\n",
    "df2020 = data[['TrainLine','Travel_type','Jan-20','Feb-20','Mar-20','Apr-20','May-20','Jun-20','Jul-20','Aug-20','Sep-20','Oct-20','Nov-20','Dec-20']]\n",
    "df2021 = data[['TrainLine','Travel_type','Jan-21','Feb-21','Mar-21','Apr-21','May-21','Jun-21','Jul-21','Aug-21','Sep-21']]\n"
   ]
  },
  {
   "cell_type": "code",
   "execution_count": 437,
   "id": "8b59b0e2",
   "metadata": {},
   "outputs": [],
   "source": [
    "## filtering adult coloumn \n",
    "adult16 = df2016[df2016.Travel_type == 'Adult']\n",
    "adult17 = df2017[df2017.Travel_type == 'Adult']\n",
    "adult18 = df2018[df2018.Travel_type == 'Adult']\n",
    "adult19 = df2019[df2019.Travel_type == 'Adult']\n",
    "adult20 = df2020[df2020.Travel_type == 'Adult']\n",
    "adult21 = df2021[df2021.Travel_type == 'Adult']\n",
    "\n",
    "Concession16 = df2016[df2016.Travel_type == 'Concession']\n",
    "Concession17 = df2017[df2017.Travel_type == 'Concession']\n",
    "Concession18 = df2018[df2018.Travel_type == 'Concession']\n",
    "Concession19 = df2019[df2019.Travel_type == 'Concession']\n",
    "Concession20 = df2020[df2020.Travel_type == 'Concession']\n",
    "Concession21 = df2021[df2021.Travel_type == 'Concession']\n"
   ]
  },
  {
   "cell_type": "code",
   "execution_count": 438,
   "id": "c5d28067",
   "metadata": {},
   "outputs": [],
   "source": [
    "## group by the trainline and travel type \n",
    "adult16 = adult16.groupby(['Travel_type','TrainLine'])\n",
    "adult17 = adult17.groupby(['Travel_type','TrainLine'])\n",
    "adult18 = adult18.groupby(['Travel_type','TrainLine'])\n",
    "adult19 = adult19.groupby(['Travel_type','TrainLine'])\n",
    "adult20 = adult20.groupby(['Travel_type','TrainLine'])\n",
    "adult21 = adult21.groupby(['Travel_type','TrainLine'])\n",
    "\n",
    "Concession16 = Concession16.groupby(['Travel_type','TrainLine'])\n",
    "Concession17 = Concession17.groupby(['Travel_type','TrainLine'])\n",
    "Concession18 = Concession18.groupby(['Travel_type','TrainLine'])\n",
    "Concession19 = Concession19.groupby(['Travel_type','TrainLine'])\n",
    "Concession20 = Concession20.groupby(['Travel_type','TrainLine'])\n",
    "Concession21 = Concession21.groupby(['Travel_type','TrainLine'])\n",
    "\n",
    "\n"
   ]
  },
  {
   "cell_type": "code",
   "execution_count": 439,
   "id": "f8c8634a",
   "metadata": {},
   "outputs": [],
   "source": [
    "## multiple row Referring to the same trainline \n"
   ]
  },
  {
   "cell_type": "code",
   "execution_count": 440,
   "id": "cfe12f94",
   "metadata": {},
   "outputs": [],
   "source": [
    "## final sum of the tables yearly "
   ]
  },
  {
   "cell_type": "code",
   "execution_count": 441,
   "id": "8b15f462",
   "metadata": {},
   "outputs": [],
   "source": [
    "sumadult16 = adult16.sum()\n",
    "sumadult17 = adult17.sum()\n",
    "sumadult18 = adult18.sum()\n",
    "sumadult19 = adult19.sum()\n",
    "sumadult20 = adult20.sum()\n",
    "sumadult21 = adult21.sum()\n",
    "\n",
    "sumConcession16 = Concession16.sum()\n",
    "sumConcession17 = Concession17.sum()\n",
    "sumConcession18 = Concession18.sum()\n",
    "sumConcession19 = Concession19.sum()\n",
    "sumConcession20 = Concession20.sum()\n",
    "sumConcession21 = Concession21.sum()\n",
    "\n",
    "## final table that has the total adult table with yearly total "
   ]
  },
  {
   "cell_type": "code",
   "execution_count": 442,
   "id": "1bfd9dbe",
   "metadata": {},
   "outputs": [
    {
     "data": {
      "text/html": [
       "<div>\n",
       "<style scoped>\n",
       "    .dataframe tbody tr th:only-of-type {\n",
       "        vertical-align: middle;\n",
       "    }\n",
       "\n",
       "    .dataframe tbody tr th {\n",
       "        vertical-align: top;\n",
       "    }\n",
       "\n",
       "    .dataframe thead th {\n",
       "        text-align: right;\n",
       "    }\n",
       "</style>\n",
       "<table border=\"1\" class=\"dataframe\">\n",
       "  <thead>\n",
       "    <tr style=\"text-align: right;\">\n",
       "      <th></th>\n",
       "      <th></th>\n",
       "      <th>Jan-21</th>\n",
       "      <th>Feb-21</th>\n",
       "      <th>Mar-21</th>\n",
       "      <th>Apr-21</th>\n",
       "      <th>May-21</th>\n",
       "      <th>Jun-21</th>\n",
       "      <th>Jul-21</th>\n",
       "      <th>Aug-21</th>\n",
       "      <th>Sep-21</th>\n",
       "    </tr>\n",
       "    <tr>\n",
       "      <th>Travel_type</th>\n",
       "      <th>TrainLine</th>\n",
       "      <th></th>\n",
       "      <th></th>\n",
       "      <th></th>\n",
       "      <th></th>\n",
       "      <th></th>\n",
       "      <th></th>\n",
       "      <th></th>\n",
       "      <th></th>\n",
       "      <th></th>\n",
       "    </tr>\n",
       "  </thead>\n",
       "  <tbody>\n",
       "    <tr>\n",
       "      <th rowspan=\"14\" valign=\"top\">Adult</th>\n",
       "      <th>Bl</th>\n",
       "      <td>191587.0</td>\n",
       "      <td>215611.0</td>\n",
       "      <td>248167.0</td>\n",
       "      <td>267221.0</td>\n",
       "      <td>243592.0</td>\n",
       "      <td>218192.0</td>\n",
       "      <td>73486.0</td>\n",
       "      <td>51628.0</td>\n",
       "      <td>54772.0</td>\n",
       "    </tr>\n",
       "    <tr>\n",
       "      <th>Ce</th>\n",
       "      <td>306328.0</td>\n",
       "      <td>400043.0</td>\n",
       "      <td>456765.0</td>\n",
       "      <td>474845.0</td>\n",
       "      <td>478407.0</td>\n",
       "      <td>364493.0</td>\n",
       "      <td>115111.0</td>\n",
       "      <td>91711.0</td>\n",
       "      <td>92176.0</td>\n",
       "    </tr>\n",
       "    <tr>\n",
       "      <th>Hu</th>\n",
       "      <td>15693.0</td>\n",
       "      <td>19030.0</td>\n",
       "      <td>19000.0</td>\n",
       "      <td>21817.0</td>\n",
       "      <td>22552.0</td>\n",
       "      <td>18955.0</td>\n",
       "      <td>13904.0</td>\n",
       "      <td>6379.0</td>\n",
       "      <td>4551.0</td>\n",
       "    </tr>\n",
       "    <tr>\n",
       "      <th>So</th>\n",
       "      <td>194022.0</td>\n",
       "      <td>231817.0</td>\n",
       "      <td>268885.0</td>\n",
       "      <td>258594.0</td>\n",
       "      <td>272613.0</td>\n",
       "      <td>216014.0</td>\n",
       "      <td>65771.0</td>\n",
       "      <td>56574.0</td>\n",
       "      <td>54467.0</td>\n",
       "    </tr>\n",
       "    <tr>\n",
       "      <th>St</th>\n",
       "      <td>0.0</td>\n",
       "      <td>0.0</td>\n",
       "      <td>0.0</td>\n",
       "      <td>0.0</td>\n",
       "      <td>0.0</td>\n",
       "      <td>0.0</td>\n",
       "      <td>0.0</td>\n",
       "      <td>0.0</td>\n",
       "      <td>0.0</td>\n",
       "    </tr>\n",
       "    <tr>\n",
       "      <th>T1</th>\n",
       "      <td>2072890.0</td>\n",
       "      <td>2732176.0</td>\n",
       "      <td>3186268.0</td>\n",
       "      <td>3139610.0</td>\n",
       "      <td>3270742.0</td>\n",
       "      <td>2671322.0</td>\n",
       "      <td>922742.0</td>\n",
       "      <td>744936.0</td>\n",
       "      <td>789155.0</td>\n",
       "    </tr>\n",
       "    <tr>\n",
       "      <th>T2</th>\n",
       "      <td>1265795.0</td>\n",
       "      <td>1531228.0</td>\n",
       "      <td>1798040.0</td>\n",
       "      <td>1642978.0</td>\n",
       "      <td>1600892.0</td>\n",
       "      <td>1494399.0</td>\n",
       "      <td>559423.0</td>\n",
       "      <td>449097.0</td>\n",
       "      <td>479690.0</td>\n",
       "    </tr>\n",
       "    <tr>\n",
       "      <th>T3</th>\n",
       "      <td>639096.0</td>\n",
       "      <td>781137.0</td>\n",
       "      <td>851759.0</td>\n",
       "      <td>850934.0</td>\n",
       "      <td>846030.0</td>\n",
       "      <td>706701.0</td>\n",
       "      <td>208600.0</td>\n",
       "      <td>198920.0</td>\n",
       "      <td>231984.0</td>\n",
       "    </tr>\n",
       "    <tr>\n",
       "      <th>T4</th>\n",
       "      <td>1538773.0</td>\n",
       "      <td>1713603.0</td>\n",
       "      <td>1982189.0</td>\n",
       "      <td>1856641.0</td>\n",
       "      <td>1937118.0</td>\n",
       "      <td>1596551.0</td>\n",
       "      <td>631262.0</td>\n",
       "      <td>530477.0</td>\n",
       "      <td>534231.0</td>\n",
       "    </tr>\n",
       "    <tr>\n",
       "      <th>T5</th>\n",
       "      <td>201514.0</td>\n",
       "      <td>293372.0</td>\n",
       "      <td>284364.0</td>\n",
       "      <td>279616.0</td>\n",
       "      <td>305354.0</td>\n",
       "      <td>244406.0</td>\n",
       "      <td>100527.0</td>\n",
       "      <td>62668.0</td>\n",
       "      <td>71368.0</td>\n",
       "    </tr>\n",
       "    <tr>\n",
       "      <th>T6</th>\n",
       "      <td>5673.0</td>\n",
       "      <td>6984.0</td>\n",
       "      <td>8548.0</td>\n",
       "      <td>7824.0</td>\n",
       "      <td>8229.0</td>\n",
       "      <td>7560.0</td>\n",
       "      <td>3908.0</td>\n",
       "      <td>3310.0</td>\n",
       "      <td>4102.0</td>\n",
       "    </tr>\n",
       "    <tr>\n",
       "      <th>T7</th>\n",
       "      <td>19725.0</td>\n",
       "      <td>29285.0</td>\n",
       "      <td>37870.0</td>\n",
       "      <td>65358.0</td>\n",
       "      <td>48087.0</td>\n",
       "      <td>51312.0</td>\n",
       "      <td>25498.0</td>\n",
       "      <td>35077.0</td>\n",
       "      <td>33909.0</td>\n",
       "    </tr>\n",
       "    <tr>\n",
       "      <th>T8</th>\n",
       "      <td>827040.0</td>\n",
       "      <td>1028685.0</td>\n",
       "      <td>1228446.0</td>\n",
       "      <td>1195959.0</td>\n",
       "      <td>1203356.0</td>\n",
       "      <td>999705.0</td>\n",
       "      <td>362972.0</td>\n",
       "      <td>255058.0</td>\n",
       "      <td>269797.0</td>\n",
       "    </tr>\n",
       "    <tr>\n",
       "      <th>T9</th>\n",
       "      <td>591055.0</td>\n",
       "      <td>698236.0</td>\n",
       "      <td>772130.0</td>\n",
       "      <td>790858.0</td>\n",
       "      <td>846242.0</td>\n",
       "      <td>618143.0</td>\n",
       "      <td>220326.0</td>\n",
       "      <td>187027.0</td>\n",
       "      <td>194425.0</td>\n",
       "    </tr>\n",
       "  </tbody>\n",
       "</table>\n",
       "</div>"
      ],
      "text/plain": [
       "                          Jan-21     Feb-21     Mar-21     Apr-21     May-21  \\\n",
       "Travel_type TrainLine                                                          \n",
       "Adult       Bl          191587.0   215611.0   248167.0   267221.0   243592.0   \n",
       "            Ce          306328.0   400043.0   456765.0   474845.0   478407.0   \n",
       "            Hu           15693.0    19030.0    19000.0    21817.0    22552.0   \n",
       "            So          194022.0   231817.0   268885.0   258594.0   272613.0   \n",
       "            St               0.0        0.0        0.0        0.0        0.0   \n",
       "            T1         2072890.0  2732176.0  3186268.0  3139610.0  3270742.0   \n",
       "            T2         1265795.0  1531228.0  1798040.0  1642978.0  1600892.0   \n",
       "            T3          639096.0   781137.0   851759.0   850934.0   846030.0   \n",
       "            T4         1538773.0  1713603.0  1982189.0  1856641.0  1937118.0   \n",
       "            T5          201514.0   293372.0   284364.0   279616.0   305354.0   \n",
       "            T6            5673.0     6984.0     8548.0     7824.0     8229.0   \n",
       "            T7           19725.0    29285.0    37870.0    65358.0    48087.0   \n",
       "            T8          827040.0  1028685.0  1228446.0  1195959.0  1203356.0   \n",
       "            T9          591055.0   698236.0   772130.0   790858.0   846242.0   \n",
       "\n",
       "                          Jun-21    Jul-21    Aug-21    Sep-21  \n",
       "Travel_type TrainLine                                           \n",
       "Adult       Bl          218192.0   73486.0   51628.0   54772.0  \n",
       "            Ce          364493.0  115111.0   91711.0   92176.0  \n",
       "            Hu           18955.0   13904.0    6379.0    4551.0  \n",
       "            So          216014.0   65771.0   56574.0   54467.0  \n",
       "            St               0.0       0.0       0.0       0.0  \n",
       "            T1         2671322.0  922742.0  744936.0  789155.0  \n",
       "            T2         1494399.0  559423.0  449097.0  479690.0  \n",
       "            T3          706701.0  208600.0  198920.0  231984.0  \n",
       "            T4         1596551.0  631262.0  530477.0  534231.0  \n",
       "            T5          244406.0  100527.0   62668.0   71368.0  \n",
       "            T6            7560.0    3908.0    3310.0    4102.0  \n",
       "            T7           51312.0   25498.0   35077.0   33909.0  \n",
       "            T8          999705.0  362972.0  255058.0  269797.0  \n",
       "            T9          618143.0  220326.0  187027.0  194425.0  "
      ]
     },
     "execution_count": 442,
     "metadata": {},
     "output_type": "execute_result"
    }
   ],
   "source": [
    "sumadult21"
   ]
  },
  {
   "cell_type": "code",
   "execution_count": 443,
   "id": "a5177a8a",
   "metadata": {},
   "outputs": [
    {
     "data": {
      "text/html": [
       "<div>\n",
       "<style scoped>\n",
       "    .dataframe tbody tr th:only-of-type {\n",
       "        vertical-align: middle;\n",
       "    }\n",
       "\n",
       "    .dataframe tbody tr th {\n",
       "        vertical-align: top;\n",
       "    }\n",
       "\n",
       "    .dataframe thead th {\n",
       "        text-align: right;\n",
       "    }\n",
       "</style>\n",
       "<table border=\"1\" class=\"dataframe\">\n",
       "  <thead>\n",
       "    <tr style=\"text-align: right;\">\n",
       "      <th></th>\n",
       "      <th></th>\n",
       "      <th>Jan-21</th>\n",
       "      <th>Feb-21</th>\n",
       "      <th>Mar-21</th>\n",
       "      <th>Apr-21</th>\n",
       "      <th>May-21</th>\n",
       "      <th>Jun-21</th>\n",
       "      <th>Jul-21</th>\n",
       "      <th>Aug-21</th>\n",
       "      <th>Sep-21</th>\n",
       "    </tr>\n",
       "    <tr>\n",
       "      <th>Travel_type</th>\n",
       "      <th>TrainLine</th>\n",
       "      <th></th>\n",
       "      <th></th>\n",
       "      <th></th>\n",
       "      <th></th>\n",
       "      <th></th>\n",
       "      <th></th>\n",
       "      <th></th>\n",
       "      <th></th>\n",
       "      <th></th>\n",
       "    </tr>\n",
       "  </thead>\n",
       "  <tbody>\n",
       "    <tr>\n",
       "      <th rowspan=\"14\" valign=\"top\">Concession</th>\n",
       "      <th>Bl</th>\n",
       "      <td>14093.0</td>\n",
       "      <td>20488.0</td>\n",
       "      <td>34830.0</td>\n",
       "      <td>29678.0</td>\n",
       "      <td>28821.0</td>\n",
       "      <td>20729.0</td>\n",
       "      <td>3274.0</td>\n",
       "      <td>2023.0</td>\n",
       "      <td>2095.0</td>\n",
       "    </tr>\n",
       "    <tr>\n",
       "      <th>Ce</th>\n",
       "      <td>27603.0</td>\n",
       "      <td>44189.0</td>\n",
       "      <td>75823.0</td>\n",
       "      <td>61827.0</td>\n",
       "      <td>68375.0</td>\n",
       "      <td>40290.0</td>\n",
       "      <td>6683.0</td>\n",
       "      <td>4640.0</td>\n",
       "      <td>4599.0</td>\n",
       "    </tr>\n",
       "    <tr>\n",
       "      <th>Hu</th>\n",
       "      <td>2066.0</td>\n",
       "      <td>3834.0</td>\n",
       "      <td>7063.0</td>\n",
       "      <td>5815.0</td>\n",
       "      <td>7781.0</td>\n",
       "      <td>3289.0</td>\n",
       "      <td>2510.0</td>\n",
       "      <td>905.0</td>\n",
       "      <td>527.0</td>\n",
       "    </tr>\n",
       "    <tr>\n",
       "      <th>So</th>\n",
       "      <td>14634.0</td>\n",
       "      <td>22587.0</td>\n",
       "      <td>37549.0</td>\n",
       "      <td>30148.0</td>\n",
       "      <td>33217.0</td>\n",
       "      <td>22117.0</td>\n",
       "      <td>3618.0</td>\n",
       "      <td>3215.0</td>\n",
       "      <td>2800.0</td>\n",
       "    </tr>\n",
       "    <tr>\n",
       "      <th>St</th>\n",
       "      <td>0.0</td>\n",
       "      <td>0.0</td>\n",
       "      <td>0.0</td>\n",
       "      <td>0.0</td>\n",
       "      <td>0.0</td>\n",
       "      <td>0.0</td>\n",
       "      <td>0.0</td>\n",
       "      <td>0.0</td>\n",
       "      <td>0.0</td>\n",
       "    </tr>\n",
       "    <tr>\n",
       "      <th>T1</th>\n",
       "      <td>174608.0</td>\n",
       "      <td>279788.0</td>\n",
       "      <td>458033.0</td>\n",
       "      <td>366573.0</td>\n",
       "      <td>382740.0</td>\n",
       "      <td>261707.0</td>\n",
       "      <td>51850.0</td>\n",
       "      <td>38330.0</td>\n",
       "      <td>39946.0</td>\n",
       "    </tr>\n",
       "    <tr>\n",
       "      <th>T2</th>\n",
       "      <td>100849.0</td>\n",
       "      <td>161106.0</td>\n",
       "      <td>252608.0</td>\n",
       "      <td>188122.0</td>\n",
       "      <td>185025.0</td>\n",
       "      <td>151407.0</td>\n",
       "      <td>25580.0</td>\n",
       "      <td>16866.0</td>\n",
       "      <td>18259.0</td>\n",
       "    </tr>\n",
       "    <tr>\n",
       "      <th>T3</th>\n",
       "      <td>50544.0</td>\n",
       "      <td>84021.0</td>\n",
       "      <td>125427.0</td>\n",
       "      <td>103522.0</td>\n",
       "      <td>100372.0</td>\n",
       "      <td>73846.0</td>\n",
       "      <td>10789.0</td>\n",
       "      <td>9501.0</td>\n",
       "      <td>10790.0</td>\n",
       "    </tr>\n",
       "    <tr>\n",
       "      <th>T4</th>\n",
       "      <td>108039.0</td>\n",
       "      <td>145573.0</td>\n",
       "      <td>215502.0</td>\n",
       "      <td>171811.0</td>\n",
       "      <td>181152.0</td>\n",
       "      <td>133337.0</td>\n",
       "      <td>30578.0</td>\n",
       "      <td>23371.0</td>\n",
       "      <td>24111.0</td>\n",
       "    </tr>\n",
       "    <tr>\n",
       "      <th>T5</th>\n",
       "      <td>14194.0</td>\n",
       "      <td>29189.0</td>\n",
       "      <td>42656.0</td>\n",
       "      <td>33213.0</td>\n",
       "      <td>36245.0</td>\n",
       "      <td>23978.0</td>\n",
       "      <td>3587.0</td>\n",
       "      <td>1315.0</td>\n",
       "      <td>1654.0</td>\n",
       "    </tr>\n",
       "    <tr>\n",
       "      <th>T6</th>\n",
       "      <td>421.0</td>\n",
       "      <td>543.0</td>\n",
       "      <td>803.0</td>\n",
       "      <td>694.0</td>\n",
       "      <td>732.0</td>\n",
       "      <td>642.0</td>\n",
       "      <td>238.0</td>\n",
       "      <td>178.0</td>\n",
       "      <td>134.0</td>\n",
       "    </tr>\n",
       "    <tr>\n",
       "      <th>T7</th>\n",
       "      <td>1121.0</td>\n",
       "      <td>2042.0</td>\n",
       "      <td>3669.0</td>\n",
       "      <td>6312.0</td>\n",
       "      <td>4302.0</td>\n",
       "      <td>4321.0</td>\n",
       "      <td>1061.0</td>\n",
       "      <td>1745.0</td>\n",
       "      <td>1595.0</td>\n",
       "    </tr>\n",
       "    <tr>\n",
       "      <th>T8</th>\n",
       "      <td>65615.0</td>\n",
       "      <td>102730.0</td>\n",
       "      <td>157702.0</td>\n",
       "      <td>123187.0</td>\n",
       "      <td>125765.0</td>\n",
       "      <td>93683.0</td>\n",
       "      <td>19999.0</td>\n",
       "      <td>11707.0</td>\n",
       "      <td>12947.0</td>\n",
       "    </tr>\n",
       "    <tr>\n",
       "      <th>T9</th>\n",
       "      <td>55153.0</td>\n",
       "      <td>84507.0</td>\n",
       "      <td>129248.0</td>\n",
       "      <td>106726.0</td>\n",
       "      <td>114341.0</td>\n",
       "      <td>72774.0</td>\n",
       "      <td>12120.0</td>\n",
       "      <td>8798.0</td>\n",
       "      <td>8911.0</td>\n",
       "    </tr>\n",
       "  </tbody>\n",
       "</table>\n",
       "</div>"
      ],
      "text/plain": [
       "                         Jan-21    Feb-21    Mar-21    Apr-21    May-21  \\\n",
       "Travel_type TrainLine                                                     \n",
       "Concession  Bl          14093.0   20488.0   34830.0   29678.0   28821.0   \n",
       "            Ce          27603.0   44189.0   75823.0   61827.0   68375.0   \n",
       "            Hu           2066.0    3834.0    7063.0    5815.0    7781.0   \n",
       "            So          14634.0   22587.0   37549.0   30148.0   33217.0   \n",
       "            St              0.0       0.0       0.0       0.0       0.0   \n",
       "            T1         174608.0  279788.0  458033.0  366573.0  382740.0   \n",
       "            T2         100849.0  161106.0  252608.0  188122.0  185025.0   \n",
       "            T3          50544.0   84021.0  125427.0  103522.0  100372.0   \n",
       "            T4         108039.0  145573.0  215502.0  171811.0  181152.0   \n",
       "            T5          14194.0   29189.0   42656.0   33213.0   36245.0   \n",
       "            T6            421.0     543.0     803.0     694.0     732.0   \n",
       "            T7           1121.0    2042.0    3669.0    6312.0    4302.0   \n",
       "            T8          65615.0  102730.0  157702.0  123187.0  125765.0   \n",
       "            T9          55153.0   84507.0  129248.0  106726.0  114341.0   \n",
       "\n",
       "                         Jun-21   Jul-21   Aug-21   Sep-21  \n",
       "Travel_type TrainLine                                       \n",
       "Concession  Bl          20729.0   3274.0   2023.0   2095.0  \n",
       "            Ce          40290.0   6683.0   4640.0   4599.0  \n",
       "            Hu           3289.0   2510.0    905.0    527.0  \n",
       "            So          22117.0   3618.0   3215.0   2800.0  \n",
       "            St              0.0      0.0      0.0      0.0  \n",
       "            T1         261707.0  51850.0  38330.0  39946.0  \n",
       "            T2         151407.0  25580.0  16866.0  18259.0  \n",
       "            T3          73846.0  10789.0   9501.0  10790.0  \n",
       "            T4         133337.0  30578.0  23371.0  24111.0  \n",
       "            T5          23978.0   3587.0   1315.0   1654.0  \n",
       "            T6            642.0    238.0    178.0    134.0  \n",
       "            T7           4321.0   1061.0   1745.0   1595.0  \n",
       "            T8          93683.0  19999.0  11707.0  12947.0  \n",
       "            T9          72774.0  12120.0   8798.0   8911.0  "
      ]
     },
     "execution_count": 443,
     "metadata": {},
     "output_type": "execute_result"
    }
   ],
   "source": [
    "sumConcession21"
   ]
  },
  {
   "cell_type": "code",
   "execution_count": 444,
   "id": "8937bfa7",
   "metadata": {},
   "outputs": [],
   "source": [
    "# df2016 = df2016.groupby(['TrainLine','Travel_type'])\n",
    "# df2017 = df2017.groupby(['TrainLine','Travel_type'])\n",
    "# df2018 = df2018.groupby(['TrainLine','Travel_type'])\n",
    "# df2019 = df2019.groupby(['TrainLine','Travel_type'])\n",
    "# df2020 = df2020.groupby(['TrainLine','Travel_type'])\n",
    "# df2021 = df2021.groupby(['TrainLine','Travel_type'])\n"
   ]
  },
  {
   "cell_type": "code",
   "execution_count": null,
   "id": "07454c41",
   "metadata": {},
   "outputs": [],
   "source": []
  },
  {
   "cell_type": "code",
   "execution_count": 445,
   "id": "9bffe451",
   "metadata": {},
   "outputs": [
    {
     "data": {
      "text/plain": [
       "Text(0, 0.5, 'Number of hits')"
      ]
     },
     "execution_count": 445,
     "metadata": {},
     "output_type": "execute_result"
    },
    {
     "data": {
      "image/png": "[encoded data removed]",
      "text/plain": [
       "<Figure size 1080x576 with 1 Axes>"
      ]
     },
     "metadata": {
      "needs_background": "light"
     },
     "output_type": "display_data"
    }
   ],
   "source": [
    "plot = sumadult16.plot(kind='bar',figsize=(15,8), title=\"Number of hits per Weapon\",)\n",
    "plot.set_xlabel(\"Weapon Name\")\n",
    "plot.set_ylabel(\"Number of hits\")\n"
   ]
  },
  {
   "cell_type": "code",
   "execution_count": 446,
   "id": "8bcde70b",
   "metadata": {},
   "outputs": [
    {
     "data": {
      "text/plain": [
       "Text(0, 0.5, 'Number of hits')"
      ]
     },
     "execution_count": 446,
     "metadata": {},
     "output_type": "execute_result"
    },
    {
     "data": {
      "image/png": "[encoded data removed]",
      "text/plain": [
       "<Figure size 1080x576 with 1 Axes>"
      ]
     },
     "metadata": {
      "needs_background": "light"
     },
     "output_type": "display_data"
    }
   ],
   "source": [
    "plot = sumadult17.plot(kind='bar',figsize=(15,8), title=\"Number of hits per Weapon\",)\n",
    "plot.set_xlabel(\"Weapon Name\")\n",
    "plot.set_ylabel(\"Number of hits\")\n"
   ]
  },
  {
   "cell_type": "code",
   "execution_count": 447,
   "id": "9b98fc20",
   "metadata": {},
   "outputs": [
    {
     "data": {
      "text/plain": [
       "Text(0, 0.5, 'Number of hits')"
      ]
     },
     "execution_count": 447,
     "metadata": {},
     "output_type": "execute_result"
    },
    {
     "data": {
      "image/png": "[encoded data removed]",
      "text/plain": [
       "<Figure size 1080x576 with 1 Axes>"
      ]
     },
     "metadata": {
      "needs_background": "light"
     },
     "output_type": "display_data"
    }
   ],
   "source": [
    "plot = sumadult18.plot(kind='bar',figsize=(15,8), title=\"Number of hits per Weapon\",)\n",
    "plot.set_xlabel(\"Weapon Name\")\n",
    "plot.set_ylabel(\"Number of hits\")\n"
   ]
  },
  {
   "cell_type": "code",
   "execution_count": 448,
   "id": "6f5f56cb",
   "metadata": {},
   "outputs": [
    {
     "data": {
      "text/plain": [
       "Text(0, 0.5, 'Number of hits')"
      ]
     },
     "execution_count": 448,
     "metadata": {},
     "output_type": "execute_result"
    },
    {
     "data": {
      "image/png": "[encoded data removed]",
      "text/plain": [
       "<Figure size 1080x576 with 1 Axes>"
      ]
     },
     "metadata": {
      "needs_background": "light"
     },
     "output_type": "display_data"
    }
   ],
   "source": [
    "plot = sumadult19.plot(kind='bar',figsize=(15,8), title=\"Number of hits per Weapon\",)\n",
    "plot.set_xlabel(\"Weapon Name\")\n",
    "plot.set_ylabel(\"Number of hits\")\n"
   ]
  },
  {
   "cell_type": "code",
   "execution_count": 449,
   "id": "2b6161d5",
   "metadata": {},
   "outputs": [
    {
     "data": {
      "text/plain": [
       "Text(0, 0.5, 'Number of hits')"
      ]
     },
     "execution_count": 449,
     "metadata": {},
     "output_type": "execute_result"
    },
    {
     "data": {
      "image/png": "[encoded data removed]",
      "text/plain": [
       "<Figure size 1080x576 with 1 Axes>"
      ]
     },
     "metadata": {
      "needs_background": "light"
     },
     "output_type": "display_data"
    }
   ],
   "source": [
    "plot = sumadult20.plot(kind='bar',figsize=(15,8), title=\"Number of hits per Weapon\",)\n",
    "plot.set_xlabel(\"Weapon Name\")\n",
    "plot.set_ylabel(\"Number of hits\")\n"
   ]
  },
  {
   "cell_type": "code",
   "execution_count": 450,
   "id": "95815fd1",
   "metadata": {},
   "outputs": [
    {
     "data": {
      "text/plain": [
       "Text(0, 0.5, 'Number of hits')"
      ]
     },
     "execution_count": 450,
     "metadata": {},
     "output_type": "execute_result"
    },
    {
     "data": {
      "image/png": "[encoded data removed]",
      "text/plain": [
       "<Figure size 1080x576 with 1 Axes>"
      ]
     },
     "metadata": {
      "needs_background": "light"
     },
     "output_type": "display_data"
    }
   ],
   "source": [
    "plot = sumadult21.plot(kind='bar',figsize=(15,8), title=\"Number of hits per Weapon\",)\n",
    "plot.set_xlabel(\"Weapon Name\")\n",
    "plot.set_ylabel(\"Number of hits\")\n"
   ]
  },
  {
   "cell_type": "code",
   "execution_count": 451,
   "id": "eab0c937",
   "metadata": {},
   "outputs": [],
   "source": [
    "sum2016 = adult16.sum()\n",
    "sum2017 = adult17.sum()\n",
    "sum2018 = adult18.sum()\n",
    "sum2019 = adult19.sum()\n",
    "sum2020 = adult20.sum()\n",
    "sum2021 = adult21.sum()"
   ]
  },
  {
   "cell_type": "code",
   "execution_count": 452,
   "id": "5d665072",
   "metadata": {},
   "outputs": [
    {
     "data": {
      "text/html": [
       "<div>\n",
       "<style scoped>\n",
       "    .dataframe tbody tr th:only-of-type {\n",
       "        vertical-align: middle;\n",
       "    }\n",
       "\n",
       "    .dataframe tbody tr th {\n",
       "        vertical-align: top;\n",
       "    }\n",
       "\n",
       "    .dataframe thead th {\n",
       "        text-align: right;\n",
       "    }\n",
       "</style>\n",
       "<table border=\"1\" class=\"dataframe\">\n",
       "  <thead>\n",
       "    <tr style=\"text-align: right;\">\n",
       "      <th></th>\n",
       "      <th></th>\n",
       "      <th>Jul-16</th>\n",
       "      <th>Aug-16</th>\n",
       "      <th>Sep-16</th>\n",
       "      <th>Oct-16</th>\n",
       "      <th>Nov-16</th>\n",
       "      <th>Dec-16</th>\n",
       "    </tr>\n",
       "    <tr>\n",
       "      <th>Travel_type</th>\n",
       "      <th>TrainLine</th>\n",
       "      <th></th>\n",
       "      <th></th>\n",
       "      <th></th>\n",
       "      <th></th>\n",
       "      <th></th>\n",
       "      <th></th>\n",
       "    </tr>\n",
       "  </thead>\n",
       "  <tbody>\n",
       "    <tr>\n",
       "      <th rowspan=\"14\" valign=\"top\">Adult</th>\n",
       "      <th>Bl</th>\n",
       "      <td>537669.0</td>\n",
       "      <td>578758.0</td>\n",
       "      <td>570413.0</td>\n",
       "      <td>571910.0</td>\n",
       "      <td>585478.0</td>\n",
       "      <td>541787.0</td>\n",
       "    </tr>\n",
       "    <tr>\n",
       "      <th>Ce</th>\n",
       "      <td>1073971.0</td>\n",
       "      <td>1125393.0</td>\n",
       "      <td>1090172.0</td>\n",
       "      <td>1051048.0</td>\n",
       "      <td>1126345.0</td>\n",
       "      <td>998680.0</td>\n",
       "    </tr>\n",
       "    <tr>\n",
       "      <th>Hu</th>\n",
       "      <td>35095.0</td>\n",
       "      <td>29693.0</td>\n",
       "      <td>36901.0</td>\n",
       "      <td>35439.0</td>\n",
       "      <td>39132.0</td>\n",
       "      <td>33766.0</td>\n",
       "    </tr>\n",
       "    <tr>\n",
       "      <th>So</th>\n",
       "      <td>578349.0</td>\n",
       "      <td>649695.0</td>\n",
       "      <td>626685.0</td>\n",
       "      <td>609826.0</td>\n",
       "      <td>663417.0</td>\n",
       "      <td>608878.0</td>\n",
       "    </tr>\n",
       "    <tr>\n",
       "      <th>St</th>\n",
       "      <td>0.0</td>\n",
       "      <td>0.0</td>\n",
       "      <td>0.0</td>\n",
       "      <td>0.0</td>\n",
       "      <td>0.0</td>\n",
       "      <td>0.0</td>\n",
       "    </tr>\n",
       "    <tr>\n",
       "      <th>T1</th>\n",
       "      <td>8575135.0</td>\n",
       "      <td>9484134.0</td>\n",
       "      <td>8956112.0</td>\n",
       "      <td>8778524.0</td>\n",
       "      <td>9221978.0</td>\n",
       "      <td>8036202.0</td>\n",
       "    </tr>\n",
       "    <tr>\n",
       "      <th>T2</th>\n",
       "      <td>5266404.0</td>\n",
       "      <td>5568667.0</td>\n",
       "      <td>5382635.0</td>\n",
       "      <td>5328090.0</td>\n",
       "      <td>5519508.0</td>\n",
       "      <td>5124055.0</td>\n",
       "    </tr>\n",
       "    <tr>\n",
       "      <th>T3</th>\n",
       "      <td>1615473.0</td>\n",
       "      <td>1767064.0</td>\n",
       "      <td>1689548.0</td>\n",
       "      <td>1691384.0</td>\n",
       "      <td>1747282.0</td>\n",
       "      <td>1588061.0</td>\n",
       "    </tr>\n",
       "    <tr>\n",
       "      <th>T4</th>\n",
       "      <td>3970697.0</td>\n",
       "      <td>4389115.0</td>\n",
       "      <td>4212808.0</td>\n",
       "      <td>4042741.0</td>\n",
       "      <td>4461496.0</td>\n",
       "      <td>4147929.0</td>\n",
       "    </tr>\n",
       "    <tr>\n",
       "      <th>T5</th>\n",
       "      <td>335951.0</td>\n",
       "      <td>372709.0</td>\n",
       "      <td>358049.0</td>\n",
       "      <td>349051.0</td>\n",
       "      <td>362326.0</td>\n",
       "      <td>322395.0</td>\n",
       "    </tr>\n",
       "    <tr>\n",
       "      <th>T6</th>\n",
       "      <td>31864.0</td>\n",
       "      <td>40123.0</td>\n",
       "      <td>35855.0</td>\n",
       "      <td>33920.0</td>\n",
       "      <td>36327.0</td>\n",
       "      <td>30726.0</td>\n",
       "    </tr>\n",
       "    <tr>\n",
       "      <th>T7</th>\n",
       "      <td>124590.0</td>\n",
       "      <td>124612.0</td>\n",
       "      <td>102987.0</td>\n",
       "      <td>116328.0</td>\n",
       "      <td>104223.0</td>\n",
       "      <td>99922.0</td>\n",
       "    </tr>\n",
       "    <tr>\n",
       "      <th>T8</th>\n",
       "      <td>0.0</td>\n",
       "      <td>0.0</td>\n",
       "      <td>0.0</td>\n",
       "      <td>0.0</td>\n",
       "      <td>0.0</td>\n",
       "      <td>0.0</td>\n",
       "    </tr>\n",
       "    <tr>\n",
       "      <th>T9</th>\n",
       "      <td>0.0</td>\n",
       "      <td>0.0</td>\n",
       "      <td>0.0</td>\n",
       "      <td>0.0</td>\n",
       "      <td>0.0</td>\n",
       "      <td>0.0</td>\n",
       "    </tr>\n",
       "  </tbody>\n",
       "</table>\n",
       "</div>"
      ],
      "text/plain": [
       "                          Jul-16     Aug-16     Sep-16     Oct-16     Nov-16  \\\n",
       "Travel_type TrainLine                                                          \n",
       "Adult       Bl          537669.0   578758.0   570413.0   571910.0   585478.0   \n",
       "            Ce         1073971.0  1125393.0  1090172.0  1051048.0  1126345.0   \n",
       "            Hu           35095.0    29693.0    36901.0    35439.0    39132.0   \n",
       "            So          578349.0   649695.0   626685.0   609826.0   663417.0   \n",
       "            St               0.0        0.0        0.0        0.0        0.0   \n",
       "            T1         8575135.0  9484134.0  8956112.0  8778524.0  9221978.0   \n",
       "            T2         5266404.0  5568667.0  5382635.0  5328090.0  5519508.0   \n",
       "            T3         1615473.0  1767064.0  1689548.0  1691384.0  1747282.0   \n",
       "            T4         3970697.0  4389115.0  4212808.0  4042741.0  4461496.0   \n",
       "            T5          335951.0   372709.0   358049.0   349051.0   362326.0   \n",
       "            T6           31864.0    40123.0    35855.0    33920.0    36327.0   \n",
       "            T7          124590.0   124612.0   102987.0   116328.0   104223.0   \n",
       "            T8               0.0        0.0        0.0        0.0        0.0   \n",
       "            T9               0.0        0.0        0.0        0.0        0.0   \n",
       "\n",
       "                          Dec-16  \n",
       "Travel_type TrainLine             \n",
       "Adult       Bl          541787.0  \n",
       "            Ce          998680.0  \n",
       "            Hu           33766.0  \n",
       "            So          608878.0  \n",
       "            St               0.0  \n",
       "            T1         8036202.0  \n",
       "            T2         5124055.0  \n",
       "            T3         1588061.0  \n",
       "            T4         4147929.0  \n",
       "            T5          322395.0  \n",
       "            T6           30726.0  \n",
       "            T7           99922.0  \n",
       "            T8               0.0  \n",
       "            T9               0.0  "
      ]
     },
     "execution_count": 452,
     "metadata": {},
     "output_type": "execute_result"
    }
   ],
   "source": [
    "sum2016"
   ]
  },
  {
   "cell_type": "code",
   "execution_count": 453,
   "id": "77e5d698",
   "metadata": {},
   "outputs": [
    {
     "data": {
      "text/plain": [
       "Text(0, 0.5, 'Number of hits')"
      ]
     },
     "execution_count": 453,
     "metadata": {},
     "output_type": "execute_result"
    },
    {
     "data": {
      "image/png": "[encoded data removed]",
      "text/plain": [
       "<Figure size 1080x576 with 1 Axes>"
      ]
     },
     "metadata": {
      "needs_background": "light"
     },
     "output_type": "display_data"
    }
   ],
   "source": [
    "plot = sum2016.plot(kind='bar',figsize=(15,8), title=\"Number of hits per Weapon\",)\n",
    "plot.set_xlabel(\"Weapon Name\")\n",
    "plot.set_ylabel(\"Number of hits\")\n"
   ]
  },
  {
   "cell_type": "code",
   "execution_count": 454,
   "id": "099c905a",
   "metadata": {},
   "outputs": [],
   "source": [
    "## create separate dataframes\n",
    "## add total column \n",
    "sumadult16['TotalCountbyTrainLine'] = sumadult16['Jul-16'] + sumadult16['Aug-16'] + sumadult16['Sep-16'] + sumadult16['Oct-16'] + sumadult16['Nov-16'] + sumadult16['Dec-16'] \n",
    "sumadult17['TotalCountbyTrainLine'] = sumadult17['Jan-17'] + sumadult17['Feb-17'] + sumadult17['Mar-17'] + sumadult17['Apr-17'] + sumadult17['May-17'] + sumadult17['Jun-17'] + sumadult17['Jul-17'] + sumadult17['Aug-17'] + sumadult17['Sep-17'] + sumadult17['Oct-17'] + sumadult17['Nov-17'] + sumadult17['Dec-17'] \n",
    "sumadult18['TotalCountbyTrainLine'] = sumadult18['Jan-18'] + sumadult18['Feb-18'] + sumadult18['Mar-18'] + sumadult18['Apr-18'] + sumadult18['May-18'] + sumadult18['Jun-18'] + sumadult18['Jul-18'] + sumadult18['Aug-18'] + sumadult18['Sep-18'] + sumadult18['Oct-18'] + sumadult18['Nov-18'] + sumadult18['Dec-18'] \n",
    "sumadult19['TotalCountbyTrainLine'] = sumadult19['Jan-19'] + sumadult19['Feb-19'] + sumadult19['Mar-19'] + sumadult19['Apr-19'] + sumadult19['May-19'] + sumadult19['Jun-19'] + sumadult19['Jul-19'] + sumadult19['Aug-19'] + sumadult19['Sep-19'] + sumadult19['Oct-19'] + sumadult19['Nov-19'] + sumadult19['Dec-19'] \n",
    "sumadult20['TotalCountbyTrainLine'] = sumadult20['Jan-20'] + sumadult20['Feb-20'] + sumadult20['Mar-20'] + sumadult20['Apr-20'] + sumadult20['May-20'] + sumadult20['Jun-20'] + sumadult20['Jul-20'] + sumadult20['Aug-20'] + sumadult20['Sep-20'] + sumadult20['Oct-20'] + sumadult20['Nov-20'] + sumadult20['Dec-20'] \n",
    "sumadult21['TotalCountbyTrainLine'] = sumadult21['Jan-21'] + sumadult21['Feb-21'] + sumadult21['Mar-21'] + sumadult21['Apr-21'] + sumadult21['May-21'] + sumadult21['Jun-21'] + sumadult21['Jul-21'] + sumadult21['Aug-21'] + sumadult21['Sep-21'] \n",
    "#sumadult20['TotalCountbyTrainLine'] = sumadult20['TotalCountbyTrainLine'].astype('int32')\n"
   ]
  },
  {
   "cell_type": "code",
   "execution_count": 455,
   "id": "52f3e0ce",
   "metadata": {},
   "outputs": [
    {
     "data": {
      "text/html": [
       "<div>\n",
       "<style scoped>\n",
       "    .dataframe tbody tr th:only-of-type {\n",
       "        vertical-align: middle;\n",
       "    }\n",
       "\n",
       "    .dataframe tbody tr th {\n",
       "        vertical-align: top;\n",
       "    }\n",
       "\n",
       "    .dataframe thead th {\n",
       "        text-align: right;\n",
       "    }\n",
       "</style>\n",
       "<table border=\"1\" class=\"dataframe\">\n",
       "  <thead>\n",
       "    <tr style=\"text-align: right;\">\n",
       "      <th></th>\n",
       "      <th></th>\n",
       "      <th>Jan-21</th>\n",
       "      <th>Feb-21</th>\n",
       "      <th>Mar-21</th>\n",
       "      <th>Apr-21</th>\n",
       "      <th>May-21</th>\n",
       "      <th>Jun-21</th>\n",
       "      <th>Jul-21</th>\n",
       "      <th>Aug-21</th>\n",
       "      <th>Sep-21</th>\n",
       "      <th>TotalCountbyTrainLine</th>\n",
       "    </tr>\n",
       "    <tr>\n",
       "      <th>Travel_type</th>\n",
       "      <th>TrainLine</th>\n",
       "      <th></th>\n",
       "      <th></th>\n",
       "      <th></th>\n",
       "      <th></th>\n",
       "      <th></th>\n",
       "      <th></th>\n",
       "      <th></th>\n",
       "      <th></th>\n",
       "      <th></th>\n",
       "      <th></th>\n",
       "    </tr>\n",
       "  </thead>\n",
       "  <tbody>\n",
       "    <tr>\n",
       "      <th rowspan=\"14\" valign=\"top\">Adult</th>\n",
       "      <th>Bl</th>\n",
       "      <td>191587.0</td>\n",
       "      <td>215611.0</td>\n",
       "      <td>248167.0</td>\n",
       "      <td>267221.0</td>\n",
       "      <td>243592.0</td>\n",
       "      <td>218192.0</td>\n",
       "      <td>73486.0</td>\n",
       "      <td>51628.0</td>\n",
       "      <td>54772.0</td>\n",
       "      <td>1564256.0</td>\n",
       "    </tr>\n",
       "    <tr>\n",
       "      <th>Ce</th>\n",
       "      <td>306328.0</td>\n",
       "      <td>400043.0</td>\n",
       "      <td>456765.0</td>\n",
       "      <td>474845.0</td>\n",
       "      <td>478407.0</td>\n",
       "      <td>364493.0</td>\n",
       "      <td>115111.0</td>\n",
       "      <td>91711.0</td>\n",
       "      <td>92176.0</td>\n",
       "      <td>2779879.0</td>\n",
       "    </tr>\n",
       "    <tr>\n",
       "      <th>Hu</th>\n",
       "      <td>15693.0</td>\n",
       "      <td>19030.0</td>\n",
       "      <td>19000.0</td>\n",
       "      <td>21817.0</td>\n",
       "      <td>22552.0</td>\n",
       "      <td>18955.0</td>\n",
       "      <td>13904.0</td>\n",
       "      <td>6379.0</td>\n",
       "      <td>4551.0</td>\n",
       "      <td>141881.0</td>\n",
       "    </tr>\n",
       "    <tr>\n",
       "      <th>So</th>\n",
       "      <td>194022.0</td>\n",
       "      <td>231817.0</td>\n",
       "      <td>268885.0</td>\n",
       "      <td>258594.0</td>\n",
       "      <td>272613.0</td>\n",
       "      <td>216014.0</td>\n",
       "      <td>65771.0</td>\n",
       "      <td>56574.0</td>\n",
       "      <td>54467.0</td>\n",
       "      <td>1618757.0</td>\n",
       "    </tr>\n",
       "    <tr>\n",
       "      <th>St</th>\n",
       "      <td>0.0</td>\n",
       "      <td>0.0</td>\n",
       "      <td>0.0</td>\n",
       "      <td>0.0</td>\n",
       "      <td>0.0</td>\n",
       "      <td>0.0</td>\n",
       "      <td>0.0</td>\n",
       "      <td>0.0</td>\n",
       "      <td>0.0</td>\n",
       "      <td>0.0</td>\n",
       "    </tr>\n",
       "    <tr>\n",
       "      <th>T1</th>\n",
       "      <td>2072890.0</td>\n",
       "      <td>2732176.0</td>\n",
       "      <td>3186268.0</td>\n",
       "      <td>3139610.0</td>\n",
       "      <td>3270742.0</td>\n",
       "      <td>2671322.0</td>\n",
       "      <td>922742.0</td>\n",
       "      <td>744936.0</td>\n",
       "      <td>789155.0</td>\n",
       "      <td>19529841.0</td>\n",
       "    </tr>\n",
       "    <tr>\n",
       "      <th>T2</th>\n",
       "      <td>1265795.0</td>\n",
       "      <td>1531228.0</td>\n",
       "      <td>1798040.0</td>\n",
       "      <td>1642978.0</td>\n",
       "      <td>1600892.0</td>\n",
       "      <td>1494399.0</td>\n",
       "      <td>559423.0</td>\n",
       "      <td>449097.0</td>\n",
       "      <td>479690.0</td>\n",
       "      <td>10821542.0</td>\n",
       "    </tr>\n",
       "    <tr>\n",
       "      <th>T3</th>\n",
       "      <td>639096.0</td>\n",
       "      <td>781137.0</td>\n",
       "      <td>851759.0</td>\n",
       "      <td>850934.0</td>\n",
       "      <td>846030.0</td>\n",
       "      <td>706701.0</td>\n",
       "      <td>208600.0</td>\n",
       "      <td>198920.0</td>\n",
       "      <td>231984.0</td>\n",
       "      <td>5315161.0</td>\n",
       "    </tr>\n",
       "    <tr>\n",
       "      <th>T4</th>\n",
       "      <td>1538773.0</td>\n",
       "      <td>1713603.0</td>\n",
       "      <td>1982189.0</td>\n",
       "      <td>1856641.0</td>\n",
       "      <td>1937118.0</td>\n",
       "      <td>1596551.0</td>\n",
       "      <td>631262.0</td>\n",
       "      <td>530477.0</td>\n",
       "      <td>534231.0</td>\n",
       "      <td>12320845.0</td>\n",
       "    </tr>\n",
       "    <tr>\n",
       "      <th>T5</th>\n",
       "      <td>201514.0</td>\n",
       "      <td>293372.0</td>\n",
       "      <td>284364.0</td>\n",
       "      <td>279616.0</td>\n",
       "      <td>305354.0</td>\n",
       "      <td>244406.0</td>\n",
       "      <td>100527.0</td>\n",
       "      <td>62668.0</td>\n",
       "      <td>71368.0</td>\n",
       "      <td>1843189.0</td>\n",
       "    </tr>\n",
       "    <tr>\n",
       "      <th>T6</th>\n",
       "      <td>5673.0</td>\n",
       "      <td>6984.0</td>\n",
       "      <td>8548.0</td>\n",
       "      <td>7824.0</td>\n",
       "      <td>8229.0</td>\n",
       "      <td>7560.0</td>\n",
       "      <td>3908.0</td>\n",
       "      <td>3310.0</td>\n",
       "      <td>4102.0</td>\n",
       "      <td>56138.0</td>\n",
       "    </tr>\n",
       "    <tr>\n",
       "      <th>T7</th>\n",
       "      <td>19725.0</td>\n",
       "      <td>29285.0</td>\n",
       "      <td>37870.0</td>\n",
       "      <td>65358.0</td>\n",
       "      <td>48087.0</td>\n",
       "      <td>51312.0</td>\n",
       "      <td>25498.0</td>\n",
       "      <td>35077.0</td>\n",
       "      <td>33909.0</td>\n",
       "      <td>346121.0</td>\n",
       "    </tr>\n",
       "    <tr>\n",
       "      <th>T8</th>\n",
       "      <td>827040.0</td>\n",
       "      <td>1028685.0</td>\n",
       "      <td>1228446.0</td>\n",
       "      <td>1195959.0</td>\n",
       "      <td>1203356.0</td>\n",
       "      <td>999705.0</td>\n",
       "      <td>362972.0</td>\n",
       "      <td>255058.0</td>\n",
       "      <td>269797.0</td>\n",
       "      <td>7371018.0</td>\n",
       "    </tr>\n",
       "    <tr>\n",
       "      <th>T9</th>\n",
       "      <td>591055.0</td>\n",
       "      <td>698236.0</td>\n",
       "      <td>772130.0</td>\n",
       "      <td>790858.0</td>\n",
       "      <td>846242.0</td>\n",
       "      <td>618143.0</td>\n",
       "      <td>220326.0</td>\n",
       "      <td>187027.0</td>\n",
       "      <td>194425.0</td>\n",
       "      <td>4918442.0</td>\n",
       "    </tr>\n",
       "  </tbody>\n",
       "</table>\n",
       "</div>"
      ],
      "text/plain": [
       "                          Jan-21     Feb-21     Mar-21     Apr-21     May-21  \\\n",
       "Travel_type TrainLine                                                          \n",
       "Adult       Bl          191587.0   215611.0   248167.0   267221.0   243592.0   \n",
       "            Ce          306328.0   400043.0   456765.0   474845.0   478407.0   \n",
       "            Hu           15693.0    19030.0    19000.0    21817.0    22552.0   \n",
       "            So          194022.0   231817.0   268885.0   258594.0   272613.0   \n",
       "            St               0.0        0.0        0.0        0.0        0.0   \n",
       "            T1         2072890.0  2732176.0  3186268.0  3139610.0  3270742.0   \n",
       "            T2         1265795.0  1531228.0  1798040.0  1642978.0  1600892.0   \n",
       "            T3          639096.0   781137.0   851759.0   850934.0   846030.0   \n",
       "            T4         1538773.0  1713603.0  1982189.0  1856641.0  1937118.0   \n",
       "            T5          201514.0   293372.0   284364.0   279616.0   305354.0   \n",
       "            T6            5673.0     6984.0     8548.0     7824.0     8229.0   \n",
       "            T7           19725.0    29285.0    37870.0    65358.0    48087.0   \n",
       "            T8          827040.0  1028685.0  1228446.0  1195959.0  1203356.0   \n",
       "            T9          591055.0   698236.0   772130.0   790858.0   846242.0   \n",
       "\n",
       "                          Jun-21    Jul-21    Aug-21    Sep-21  \\\n",
       "Travel_type TrainLine                                            \n",
       "Adult       Bl          218192.0   73486.0   51628.0   54772.0   \n",
       "            Ce          364493.0  115111.0   91711.0   92176.0   \n",
       "            Hu           18955.0   13904.0    6379.0    4551.0   \n",
       "            So          216014.0   65771.0   56574.0   54467.0   \n",
       "            St               0.0       0.0       0.0       0.0   \n",
       "            T1         2671322.0  922742.0  744936.0  789155.0   \n",
       "            T2         1494399.0  559423.0  449097.0  479690.0   \n",
       "            T3          706701.0  208600.0  198920.0  231984.0   \n",
       "            T4         1596551.0  631262.0  530477.0  534231.0   \n",
       "            T5          244406.0  100527.0   62668.0   71368.0   \n",
       "            T6            7560.0    3908.0    3310.0    4102.0   \n",
       "            T7           51312.0   25498.0   35077.0   33909.0   \n",
       "            T8          999705.0  362972.0  255058.0  269797.0   \n",
       "            T9          618143.0  220326.0  187027.0  194425.0   \n",
       "\n",
       "                       TotalCountbyTrainLine  \n",
       "Travel_type TrainLine                         \n",
       "Adult       Bl                     1564256.0  \n",
       "            Ce                     2779879.0  \n",
       "            Hu                      141881.0  \n",
       "            So                     1618757.0  \n",
       "            St                           0.0  \n",
       "            T1                    19529841.0  \n",
       "            T2                    10821542.0  \n",
       "            T3                     5315161.0  \n",
       "            T4                    12320845.0  \n",
       "            T5                     1843189.0  \n",
       "            T6                       56138.0  \n",
       "            T7                      346121.0  \n",
       "            T8                     7371018.0  \n",
       "            T9                     4918442.0  "
      ]
     },
     "execution_count": 455,
     "metadata": {},
     "output_type": "execute_result"
    }
   ],
   "source": [
    "sumadult21"
   ]
  },
  {
   "cell_type": "code",
   "execution_count": 456,
   "id": "d1c2e098",
   "metadata": {},
   "outputs": [
    {
     "name": "stdout",
     "output_type": "stream",
     "text": [
      "(197, 66)\n",
      "(50, 66)\n"
     ]
    }
   ],
   "source": [
    "# Initalise train and test variable \n",
    "train, test = train_test_split(data, test_size = 0.2, random_state=142)\n",
    "print(train.shape)\n",
    "print(test.shape)"
   ]
  },
  {
   "cell_type": "code",
   "execution_count": 457,
   "id": "daeea758",
   "metadata": {},
   "outputs": [
    {
     "name": "stdout",
     "output_type": "stream",
     "text": [
      "y = x * [-0.094839 0.558936] + 10136.300965680646\n"
     ]
    }
   ],
   "source": [
    "reg = linear_model.LinearRegression()\n",
    "X_train = train[['Dec-18', 'Dec-19']]\n",
    "y_train = train['Dec-20']\n",
    "X_test = test[['Dec-18', 'Dec-19']]\n",
    "y_test = test['Dec-20']\n",
    "reg.fit(X_train, y_train)\n",
    "print(\"y = x *\", reg.coef_, \"+\", reg.intercept_) "
   ]
  },
  {
   "cell_type": "code",
   "execution_count": 458,
   "id": "50f2fe33",
   "metadata": {},
   "outputs": [
    {
     "name": "stdout",
     "output_type": "stream",
     "text": [
      "MSE: 2011424333.764968\n",
      "R Squared: 0.9381552198818713\n"
     ]
    }
   ],
   "source": [
    "predicted = reg.predict(X_test)\n",
    "mse = ((np.array(y_test)-predicted)**2).sum()/len(y_test)\n",
    "r2 = r2_score(y_test, predicted)\n",
    "print(\"MSE:\", mse) ##mean square error if it's too low means its good\n",
    "print(\"R Squared:\", r2) "
   ]
  },
  {
   "cell_type": "code",
   "execution_count": 459,
   "id": "6e2ff0db",
   "metadata": {},
   "outputs": [
    {
     "name": "stdout",
     "output_type": "stream",
     "text": [
      "MSE: 2011424333.764968\n",
      "R Squared: 0.9381552198818713\n"
     ]
    }
   ],
   "source": [
    "predicted = reg.predict(X_test)\n",
    "mse = ((np.array(y_test)-predicted)**2).sum()/len(y_test)\n",
    "r2 = r2_score(y_test, predicted)\n",
    "print(\"MSE:\", mse)\n",
    "print(\"R Squared:\", r2) \n"
   ]
  },
  {
   "cell_type": "code",
   "execution_count": 460,
   "id": "ecb05e52",
   "metadata": {},
   "outputs": [],
   "source": [
    "#there are no apparent curves in the plots (meaning the model is linear in the parameters and its residuals)\n",
    "#the process of obtaining one observation does not affect the process of obtaining the next observations (independence)\n",
    "# why the r square is close to 1, the model is bias and we cannot rely on a regression to predict future outcome by past records\n",
    "# we will now move on to multinomial naive bayes below in order to see if it can be predicted by past records."
   ]
  },
  {
   "cell_type": "code",
   "execution_count": 461,
   "id": "02f52447",
   "metadata": {},
   "outputs": [
    {
     "data": {
      "text/plain": [
       "<bound method NDFrame._add_numeric_operations.<locals>.max of 0           0.0\n",
       "1           0.0\n",
       "2           0.0\n",
       "3           0.0\n",
       "4           0.0\n",
       "         ...   \n",
       "242      1143.0\n",
       "243     40937.0\n",
       "244    183786.0\n",
       "245      4832.0\n",
       "246      1671.0\n",
       "Name: Dec-19, Length: 247, dtype: float64>"
      ]
     },
     "execution_count": 461,
     "metadata": {},
     "output_type": "execute_result"
    }
   ],
   "source": [
    "data['Dec-19'].max"
   ]
  },
  {
   "cell_type": "code",
   "execution_count": 462,
   "id": "5365b4d8",
   "metadata": {},
   "outputs": [
    {
     "data": {
      "text/plain": [
       "1671861.0"
      ]
     },
     "execution_count": 462,
     "metadata": {},
     "output_type": "execute_result"
    }
   ],
   "source": [
    "data['Dec-20'].max()"
   ]
  },
  {
   "cell_type": "code",
   "execution_count": 463,
   "id": "5b0e71a4",
   "metadata": {},
   "outputs": [
    {
     "data": {
      "text/plain": [
       "4108485.0"
      ]
     },
     "execution_count": 463,
     "metadata": {},
     "output_type": "execute_result"
    }
   ],
   "source": [
    "data['Dec-18'].max()"
   ]
  },
  {
   "cell_type": "code",
   "execution_count": 464,
   "id": "c52a5b6f",
   "metadata": {},
   "outputs": [
    {
     "data": {
      "text/plain": [
       "3673566.0"
      ]
     },
     "execution_count": 464,
     "metadata": {},
     "output_type": "execute_result"
    }
   ],
   "source": [
    "data['Dec-19'].max()"
   ]
  },
  {
   "cell_type": "code",
   "execution_count": 465,
   "id": "47613065",
   "metadata": {},
   "outputs": [],
   "source": [
    "#---creating a new dataframe with the relevant datasets\n",
    "dftest = data[['Dec-18','Dec-19','Dec-20']]\n",
    "\n",
    "#---dropping null values and resetting the index\n",
    "dftest = df_hits.dropna()\n",
    "dftest = df_hits.reset_index(drop=True)"
   ]
  },
  {
   "cell_type": "code",
   "execution_count": null,
   "id": "ea7b7fdc",
   "metadata": {},
   "outputs": [],
   "source": []
  },
  {
   "cell_type": "code",
   "execution_count": null,
   "id": "ae2a22b6",
   "metadata": {},
   "outputs": [],
   "source": []
  },
  {
   "cell_type": "markdown",
   "id": "a4c5aeaa",
   "metadata": {},
   "source": [
    "# performing a multinomial naive bayes analysis on the data\n"
   ]
  },
  {
   "cell_type": "code",
   "execution_count": 466,
   "id": "bc53f98f",
   "metadata": {},
   "outputs": [
    {
     "name": "stdout",
     "output_type": "stream",
     "text": [
      "Multinomial: 0.08284444444444444\n"
     ]
    }
   ],
   "source": [
    "#---performing a multinomial naive bayes analysis on the data\n",
    "clf = MultinomialNB()\n",
    "data = dftest[['Dec-18','Dec-19']]\n",
    "target = dftest[['Dec-20']]\n",
    "X_train, X_test, y_train, y_test = train_test_split(data, target, train_size = 0.70, random_state=0)\n",
    "\n",
    "y_train=y_train.values\n",
    "clf.fit (X_train, y_train)\n",
    "\n",
    "y_test=y_test.values\n",
    "y_pred = clf.predict(X_test)\n",
    "\n",
    "print(\"Multinomial:\", np.mean(y_pred==y_test))"
   ]
  },
  {
   "cell_type": "markdown",
   "id": "d7eae51a",
   "metadata": {},
   "source": [
    "The results from the naive bayes analysis -- similar to the linear regression -- are poor in the context of the data, though there is some level of prediction to be made. What this means is that past records from previous year can change due to external circumstances. for example, due to the covid pandemic, the sum of train attendance has staggared in comparison to previous years\n"
   ]
  },
  {
   "cell_type": "code",
   "execution_count": 304,
   "id": "c71e4dec",
   "metadata": {},
   "outputs": [
    {
     "name": "stdout",
     "output_type": "stream",
     "text": [
      "Testing accuracy is: 0.8000\n",
      "\n"
     ]
    }
   ],
   "source": []
  },
  {
   "cell_type": "code",
   "execution_count": null,
   "id": "aebeb9d9",
   "metadata": {},
   "outputs": [],
   "source": []
  },
  {
   "cell_type": "code",
   "execution_count": null,
   "id": "43fa7e9b",
   "metadata": {},
   "outputs": [],
   "source": []
  },
  {
   "cell_type": "code",
   "execution_count": null,
   "id": "2838508c",
   "metadata": {},
   "outputs": [],
   "source": []
  },
  {
   "cell_type": "code",
   "execution_count": null,
   "id": "565cda72",
   "metadata": {},
   "outputs": [],
   "source": []
  },
  {
   "cell_type": "code",
   "execution_count": 102,
   "id": "bc5145da",
   "metadata": {},
   "outputs": [
    {
     "name": "stdout",
     "output_type": "stream",
     "text": [
      "Estimated probability of classess: \n",
      " [0.24864865 0.01621622 0.00540541 0.01081081 0.01081081 0.00540541\n",
      " 0.00540541 0.00540541 0.00540541 0.00540541 0.01081081 0.00540541\n",
      " 0.00540541 0.00540541 0.00540541 0.00540541 0.00540541 0.00540541\n",
      " 0.00540541 0.00540541 0.00540541 0.00540541 0.00540541 0.00540541\n",
      " 0.00540541 0.00540541 0.00540541 0.00540541 0.00540541 0.00540541\n",
      " 0.00540541 0.00540541 0.00540541 0.00540541 0.00540541 0.00540541\n",
      " 0.00540541 0.00540541 0.00540541 0.00540541 0.00540541 0.00540541\n",
      " 0.00540541 0.00540541 0.00540541 0.00540541 0.00540541 0.00540541\n",
      " 0.00540541 0.00540541 0.00540541 0.00540541 0.00540541 0.00540541\n",
      " 0.00540541 0.00540541 0.00540541 0.00540541 0.00540541 0.00540541\n",
      " 0.00540541 0.00540541 0.00540541 0.00540541 0.00540541 0.00540541\n",
      " 0.00540541 0.00540541 0.00540541 0.00540541 0.00540541 0.00540541\n",
      " 0.00540541 0.00540541 0.00540541 0.00540541 0.00540541 0.00540541\n",
      " 0.00540541 0.00540541 0.00540541 0.00540541 0.00540541 0.00540541\n",
      " 0.00540541 0.00540541 0.00540541 0.00540541 0.00540541 0.00540541\n",
      " 0.00540541 0.00540541 0.00540541 0.00540541 0.00540541 0.00540541\n",
      " 0.00540541 0.00540541 0.00540541 0.00540541 0.00540541 0.00540541\n",
      " 0.00540541 0.00540541 0.00540541 0.00540541 0.00540541 0.00540541\n",
      " 0.00540541 0.00540541 0.00540541 0.00540541 0.00540541 0.00540541\n",
      " 0.00540541 0.00540541 0.00540541 0.00540541 0.00540541 0.00540541\n",
      " 0.00540541 0.00540541 0.00540541 0.00540541 0.00540541 0.00540541\n",
      " 0.00540541 0.00540541 0.00540541 0.00540541 0.00540541 0.00540541\n",
      " 0.00540541 0.00540541 0.00540541]\n",
      "Estimated class-conditional probabilities for each feature: \n",
      " [[1.]\n",
      " [1.]\n",
      " [1.]\n",
      " [1.]\n",
      " [1.]\n",
      " [1.]\n",
      " [1.]\n",
      " [1.]\n",
      " [1.]\n",
      " [1.]\n",
      " [1.]\n",
      " [1.]\n",
      " [1.]\n",
      " [1.]\n",
      " [1.]\n",
      " [1.]\n",
      " [1.]\n",
      " [1.]\n",
      " [1.]\n",
      " [1.]\n",
      " [1.]\n",
      " [1.]\n",
      " [1.]\n",
      " [1.]\n",
      " [1.]\n",
      " [1.]\n",
      " [1.]\n",
      " [1.]\n",
      " [1.]\n",
      " [1.]\n",
      " [1.]\n",
      " [1.]\n",
      " [1.]\n",
      " [1.]\n",
      " [1.]\n",
      " [1.]\n",
      " [1.]\n",
      " [1.]\n",
      " [1.]\n",
      " [1.]\n",
      " [1.]\n",
      " [1.]\n",
      " [1.]\n",
      " [1.]\n",
      " [1.]\n",
      " [1.]\n",
      " [1.]\n",
      " [1.]\n",
      " [1.]\n",
      " [1.]\n",
      " [1.]\n",
      " [1.]\n",
      " [1.]\n",
      " [1.]\n",
      " [1.]\n",
      " [1.]\n",
      " [1.]\n",
      " [1.]\n",
      " [1.]\n",
      " [1.]\n",
      " [1.]\n",
      " [1.]\n",
      " [1.]\n",
      " [1.]\n",
      " [1.]\n",
      " [1.]\n",
      " [1.]\n",
      " [1.]\n",
      " [1.]\n",
      " [1.]\n",
      " [1.]\n",
      " [1.]\n",
      " [1.]\n",
      " [1.]\n",
      " [1.]\n",
      " [1.]\n",
      " [1.]\n",
      " [1.]\n",
      " [1.]\n",
      " [1.]\n",
      " [1.]\n",
      " [1.]\n",
      " [1.]\n",
      " [1.]\n",
      " [1.]\n",
      " [1.]\n",
      " [1.]\n",
      " [1.]\n",
      " [1.]\n",
      " [1.]\n",
      " [1.]\n",
      " [1.]\n",
      " [1.]\n",
      " [1.]\n",
      " [1.]\n",
      " [1.]\n",
      " [1.]\n",
      " [1.]\n",
      " [1.]\n",
      " [1.]\n",
      " [1.]\n",
      " [1.]\n",
      " [1.]\n",
      " [1.]\n",
      " [1.]\n",
      " [1.]\n",
      " [1.]\n",
      " [1.]\n",
      " [1.]\n",
      " [1.]\n",
      " [1.]\n",
      " [1.]\n",
      " [1.]\n",
      " [1.]\n",
      " [1.]\n",
      " [1.]\n",
      " [1.]\n",
      " [1.]\n",
      " [1.]\n",
      " [1.]\n",
      " [1.]\n",
      " [1.]\n",
      " [1.]\n",
      " [1.]\n",
      " [1.]\n",
      " [1.]\n",
      " [1.]\n",
      " [1.]\n",
      " [1.]\n",
      " [1.]\n",
      " [1.]\n",
      " [1.]\n",
      " [1.]\n",
      " [1.]\n",
      " [1.]]\n"
     ]
    }
   ],
   "source": [
    "# Explore the learned model parameters (probabilities)\n",
    "# Note that the probabilities are in the logorithmic form. Why? The log-sum-exp trick for underflow of probability products\n",
    "print('Estimated probability of classess: \\n', np.e**clf_mnb.class_log_prior_)\n",
    "print('Estimated class-conditional probabilities for each feature: \\n', np.e**clf_mnb.feature_log_prob_)"
   ]
  },
  {
   "cell_type": "code",
   "execution_count": null,
   "id": "7c471257",
   "metadata": {},
   "outputs": [],
   "source": []
  },
  {
   "cell_type": "code",
   "execution_count": null,
   "id": "62ac6c1d",
   "metadata": {},
   "outputs": [],
   "source": []
  },
  {
   "cell_type": "code",
   "execution_count": null,
   "id": "3c890811",
   "metadata": {},
   "outputs": [],
   "source": []
  },
  {
   "cell_type": "code",
   "execution_count": null,
   "id": "95a11ef9",
   "metadata": {},
   "outputs": [],
   "source": []
  },
  {
   "cell_type": "code",
   "execution_count": null,
   "id": "20be7c94",
   "metadata": {},
   "outputs": [],
   "source": []
  },
  {
   "cell_type": "code",
   "execution_count": null,
   "id": "56c2f7c7",
   "metadata": {},
   "outputs": [],
   "source": []
  },
  {
   "cell_type": "code",
   "execution_count": 46,
   "id": "10c33a0d",
   "metadata": {},
   "outputs": [],
   "source": [
    "# ## indiviudal trainline from 2016\n",
    "# T1_2016 = df2016[df2016 == \"T1 North Shore, Northern and Western Line\"] + df2016[df2016 == \"T1 North Shore Line\"] + df2016[df2016 == \"T1 Northern Line\"] + df2016[df2016 == \"T1 Western Line\"] \n",
    "# T2_2016 = df2016[df2016.Route == \"T2 Airport, Inner West and South Line\"] + df2016[df2016.Route == \"T2 Inner West Line\"] + df2016[df2016.Route == \"T2 Leppington Line\"]\n",
    "# T3_2016 = df2016[df2016.Route == \"T3 Bankstown Line\"]\n",
    "# T4_2016 = df2016[df2016.Route == \"T4 Eastern Suburbs and Illawarra Line\"]\n",
    "# T5_2016 = df2016[df2016.Route == \"T5 Cumberland Line\"]\n",
    "# T6_2016 = df2016[df2016.Route == \"T6 Carlingford Line\"] + df2016[df2016.Route == \"T6 replacement buses\"]\n",
    "# T7_2016 = df2016[df2016.Route == \"T7 Olympic Park Line\"]\n",
    "# T8_2016 = df2016[df2016.Route == \"T8 Airport and South Line\"]\n",
    "# T9_2016 = df2016[df2016.Route == \"T9 Northern Line\"]\n",
    "# BM_2016 = df2016[df2016.Route == \"Blue Mountains Line\"]\n",
    "# CC_2016 = df2016[df2016.Route == \"Central Coast Newcastle Line\"]\n",
    "# HL_2016 = df2016[df2016.Route == \"Hunter Line\"]\n",
    "# SC_2016 = df2016[df2016.Route == \"South Coast Line\"]\n",
    "# SH_2016 = df2016[df2016.Route == \"Southern Highlands Line\"]\n",
    "# SL_2016 = df2016[df2016.Route == \"Station Link\"]\n",
    "\n",
    "\n",
    "\n"
   ]
  },
  {
   "cell_type": "code",
   "execution_count": null,
   "id": "4a78cdb0",
   "metadata": {},
   "outputs": [],
   "source": []
  },
  {
   "cell_type": "code",
   "execution_count": 47,
   "id": "bdad2e4a",
   "metadata": {},
   "outputs": [],
   "source": [
    "# ## indiviudal trainline from 2017\n",
    "# T1_2017 = df2017[df2017.Route == \"T1 North Shore, Northern and Western Line\"] + df2017[df2017.Route == \"T1 North Shore Line\"] + df2017[df2017.Route == \"T1 Northern Line\"] + df2017[df2017.Route == \"T1 Western Line\"] \n",
    "# T2_2017 = df2017[df2017.Route == \"T2 Airport, Inner West and South Line\"] + df2017[df2017.Route == \"T2 Inner West Line\"] + df2017[df2017.Route == \"T2 Leppington Line\"]\n",
    "# T3_2017 = df2017[df2017.Route == \"T3 Bankstown Line\"]\n",
    "# T4_2017 = df2017[df2017.Route == \"T4 Eastern Suburbs and Illawarra Line\"]\n",
    "# T5_2017 = df2017[df2017.Route == \"T5 Cumberland Line\"]\n",
    "# T6_2017 = df2017[df2017.Route == \"T6 Carlingford Line\"] + df2017[df2017.Route == \"T6 replacement buses\"]\n",
    "# T7_2017 = df2017[df2017.Route == \"T7 Olympic Park Line\"]\n",
    "# T8_2017 = df2017[df2017.Route == \"T8 Airport and South Line\"]\n",
    "# T9_2017 = df2017[df2017.Route == \"T9 Northern Line\"]\n",
    "# BM_2017 = df2017[df2017.Route == \"Blue Mountains Line\"]\n",
    "# CC_2017 = df2017[df2017.Route == \"Central Coast Newcastle Line\"]\n",
    "# HL_2017 = df2017[df2017.Route == \"Hunter Line\"]\n",
    "# SC_2017 = df2017[df2017.Route == \"South Coast Line\"]\n",
    "# SH_2017 = df2017[df2017.Route == \"Southern Highlands Line\"]\n",
    "# SL_2017 = df2017[df2017.Route == \"Station Link\"]"
   ]
  },
  {
   "cell_type": "code",
   "execution_count": 48,
   "id": "70191f36",
   "metadata": {},
   "outputs": [],
   "source": [
    "# ## inIndividual trainlines from 2017\n",
    "# T1_2018 = df2018[df2018.Route == \"T1 North Shore, Northern and Western Line\"] + df2018[df2018.Route == \"T1 North Shore Line\"] + df2018[df2018.Route == \"T1 Northern Line\"] + df2018[df2018.Route == \"T1 Western Line\"] \n",
    "# T2_2018 = df2018[df2018.Route == \"T2 Airport, Inner West and South Line\"] + df2018[df2018.Route == \"T2 Inner West Line\"] + df2018[df2018.Route == \"T2 Leppington Line\"]\n",
    "# T3_2018 = df2018[df2018.Route == \"T3 Bankstown Line\"]\n",
    "# T4_2018 = df2018[df2018.Route == \"T4 Eastern Suburbs and Illawarra Line\"]\n",
    "# T5_2018 = df2018[df2018.Route == \"T5 Cumberland Line\"]\n",
    "# T6_2018 = df2018[df2018.Route == \"T6 Carlingford Line\"] + df2018[df2018.Route == \"T6 replacement buses\"]\n",
    "# T7_2018 = df2018[df2018.Route == \"T7 Olympic Park Line\"]\n",
    "# T8_2018 = df2018[df2018.Route == \"T8 Airport and South Line\"]\n",
    "# T9_2018 = df2018[df2018.Route == \"T9 Northern Line\"]\n",
    "# BM_2018 = df2018[df2018.Route == \"Blue Mountains Line\"]\n",
    "# CC_2018 = df2018[df2018.Route == \"Central Coast Newcastle Line\"]\n",
    "# HL_2018 = df2018[df2018.Route == \"Hunter Line\"]\n",
    "# SC_2018 = df2018[df2018.Route == \"South Coast Line\"]\n",
    "# SH_2018 = df2018[df2018.Route == \"Southern Highlands Line\"]\n",
    "# SL_2018 = df2018[df2018.Route == \"Station Link\"]"
   ]
  },
  {
   "cell_type": "code",
   "execution_count": 49,
   "id": "35c764c0",
   "metadata": {},
   "outputs": [],
   "source": [
    "# ## inIndividual trainlines from 2019\n",
    "# T1_2019 = df2019[df2019.Route == \"T1 North Shore, Northern and Western Line\"] + df2019[df2019.Route == \"T1 North Shore Line\"] + df2019[df2019.Route == \"T1 Northern Line\"] + df2019[df2019.Route == \"T1 Western Line\"] \n",
    "# T2_2019 = df2019[df2019.Route == \"T2 Airport, Inner West and South Line\"] + df2019[df2019.Route == \"T2 Inner West Line\"] + df2019[df2019.Route == \"T2 Leppington Line\"]\n",
    "# T3_2019 = df2019[df2019.Route == \"T3 Bankstown Line\"]\n",
    "# T4_2019 = df2019[df2019.Route == \"T4 Eastern Suburbs and Illawarra Line\"]\n",
    "# T5_2019 = df2019[df2019.Route == \"T5 Cumberland Line\"]\n",
    "# T6_2019 = df2019[df2019.Route == \"T6 Carlingford Line\"] + df2019[df2019.Route == \"T6 replacement buses\"]\n",
    "# T7_2019 = df2019[df2019.Route == \"T7 Olympic Park Line\"]\n",
    "# T8_2019 = df2019[df2019.Route == \"T8 Airport and South Line\"]\n",
    "# T9_2019 = df2019[df2019.Route == \"T9 Northern Line\"]\n",
    "# BM_2019 = df2019[df2019.Route == \"Blue Mountains Line\"]\n",
    "# CC_2019 = df2019[df2019.Route == \"Central Coast Newcastle Line\"]\n",
    "# HL_2019 = df2019[df2019.Route == \"Hunter Line\"]\n",
    "# SC_2019 = df2019[df2019.Route == \"South Coast Line\"]\n",
    "# SH_2019 = df2019[df2019.Route == \"Southern Highlands Line\"]\n",
    "# SL_2019 = df2019[df2019.Route == \"Station Link\"]\n",
    "\n",
    "\n"
   ]
  },
  {
   "cell_type": "code",
   "execution_count": 50,
   "id": "9bc73f73",
   "metadata": {},
   "outputs": [],
   "source": [
    "# ## Individual trainlines from 2020\n",
    "# T1_2020 = df2020[df2020.Route == \"T1 North Shore, Northern and Western Line\"] + df2020[df2020.Route == \"T1 North Shore Line\"] + df2020[df2020.Route == \"T1 Northern Line\"] + df2020[df2020.Route == \"T1 Western Line\"] \n",
    "# T2_2020 = df2020[df2020.Route == \"T2 Airport, Inner West and South Line\"] + df2020[df2020.Route == \"T2 Inner West Line\"] + df2020[df2020.Route == \"T2 Leppington Line\"]\n",
    "# T3_2020 = df2020[df2020.Route == \"T3 Bankstown Line\"]\n",
    "# T4_2020 = df2020[df2020.Route == \"T4 Eastern Suburbs and Illawarra Line\"]\n",
    "# T5_2020 = df2020[df2020.Route == \"T5 Cumberland Line\"]\n",
    "# T6_2020 = df2020[df2020.Route == \"T6 Carlingford Line\"] + df2020[df2020.Route == \"T6 replacement buses\"]\n",
    "# T7_2020 = df2020[df2020.Route == \"T7 Olympic Park Line\"]\n",
    "# T8_2020 = df2020[df2020.Route == \"T8 Airport and South Line\"]\n",
    "# T9_2020 = df2020[df2020.Route == \"T9 Northern Line\"]\n",
    "# BM_2020 = df2020[df2020.Route == \"Blue Mountains Line\"]\n",
    "# CC_2020 = df2020[df2020.Route == \"Central Coast Newcastle Line\"]\n",
    "# HL_2020 = df2020[df2020.Route == \"Hunter Line\"]\n",
    "# SC_2020 = df2020[df2020.Route == \"South Coast Line\"]\n",
    "# SH_2020 = df2020[df2020.Route == \"Southern Highlands Line\"]\n",
    "# SL_2020 = df2020[df2020.Route == \"Station Link\"]\n"
   ]
  },
  {
   "cell_type": "code",
   "execution_count": 51,
   "id": "b5874841",
   "metadata": {},
   "outputs": [],
   "source": [
    "# ## Individual trainlines from 2020\n",
    "# T1_2021 = df2021[df2021.Route == \"T1 North Shore, Northern and Western Line\"] + df2021[df2021.Route == \"T1 North Shore Line\"] + df2021[df2021.Route == \"T1 Northern Line\"] + df2021[df2021.Route == \"T1 Western Line\"] \n",
    "# T2_2021 = df2021[df2021.Route == \"T2 Airport, Inner West and South Line\"] + df2021[df2021.Route == \"T2 Inner West Line\"] + df2021[df2021.Route == \"T2 Leppington Line\"]\n",
    "# T3_2021 = df2021[df2021.Route == \"T3 Bankstown Line\"]\n",
    "# T4_2021 = df2021[df2021.Route == \"T4 Eastern Suburbs and Illawarra Line\"]\n",
    "# T5_2021 = df2021[df2021.Route == \"T5 Cumberland Line\"]\n",
    "# T6_2021 = df2021[df2021.Route == \"T6 Carlingford Line\"] + df2021[df2021.Route == \"T6 replacement buses\"]\n",
    "# T7_2021 = df2021[df2021.Route == \"T7 Olympic Park Line\"]\n",
    "# T8_2021 = df2021[df2021.Route == \"T8 Airport and South Line\"]\n",
    "# T9_2021 = df2021[df2021.Route == \"T9 Northern Line\"]\n",
    "# BM_2021 = df2021[df2021.Route == \"Blue Mountains Line\"]\n",
    "# CC_2021 = df2021[df2021.Route == \"Central Coast Newcastle Line\"]\n",
    "# HL_2021 = df2021[df2021.Route == \"Hunter Line\"]\n",
    "# SC_2021 = df2021[df2021.Route == \"South Coast Line\"]\n",
    "# SH_2021 = df2021[df2021.Route == \"Southern Highlands Line\"]\n",
    "# SL_2021 = df2021[df2021.Route == \"Station Link\"]\n",
    "\n"
   ]
  },
  {
   "cell_type": "code",
   "execution_count": 52,
   "id": "d23e4914",
   "metadata": {},
   "outputs": [
    {
     "data": {
      "text/plain": [
       "array(['T1 North Shore, Northern and Western Line',\n",
       "       'T2 Airport, Inner West and South Line', 'T3 Bankstown Line',\n",
       "       'T4 Eastern Suburbs and Illawarra Line', 'T5 Cumberland Line',\n",
       "       'T6 Carlingford Line', 'T7 Olympic Park Line',\n",
       "       'Blue Mountains Line', 'Central Coast Newcastle Line',\n",
       "       'Hunter Line', 'South Coast Line', 'Southern Highlands Line',\n",
       "       'Station Link', 'T1 North Shore Line', 'T1 Northern Line',\n",
       "       'T1 Western Line', 'T2 Inner West Line', 'T2 Leppington Line',\n",
       "       'T6 replacement buses', 'T8 Airport and South Line',\n",
       "       'T9 Northern Line', 'Grand Total'], dtype=object)"
      ]
     },
     "execution_count": 52,
     "metadata": {},
     "output_type": "execute_result"
    }
   ],
   "source": [
    "# read the train data file and extract all name of the Route\n",
    "route=pd.read_csv(\"files/TrainCardType.csv\", encoding='utf-16',sep=\"\\t\")[\"Route\"]\n",
    "route.unique()\n",
    "\n"
   ]
  },
  {
   "cell_type": "code",
   "execution_count": 53,
   "id": "abeedc6f",
   "metadata": {},
   "outputs": [
    {
     "ename": "KeyError",
     "evalue": "'Travel_type'",
     "output_type": "error",
     "traceback": [
      "\u001b[0;31m---------------------------------------------------------------------------\u001b[0m",
      "\u001b[0;31mKeyError\u001b[0m                                  Traceback (most recent call last)",
      "\u001b[0;32m~/opt/anaconda3/lib/python3.8/site-packages/pandas/core/indexes/base.py\u001b[0m in \u001b[0;36mget_loc\u001b[0;34m(self, key, method, tolerance)\u001b[0m\n\u001b[1;32m   3079\u001b[0m             \u001b[0;32mtry\u001b[0m\u001b[0;34m:\u001b[0m\u001b[0;34m\u001b[0m\u001b[0;34m\u001b[0m\u001b[0m\n\u001b[0;32m-> 3080\u001b[0;31m                 \u001b[0;32mreturn\u001b[0m \u001b[0mself\u001b[0m\u001b[0;34m.\u001b[0m\u001b[0m_engine\u001b[0m\u001b[0;34m.\u001b[0m\u001b[0mget_loc\u001b[0m\u001b[0;34m(\u001b[0m\u001b[0mcasted_key\u001b[0m\u001b[0;34m)\u001b[0m\u001b[0;34m\u001b[0m\u001b[0;34m\u001b[0m\u001b[0m\n\u001b[0m\u001b[1;32m   3081\u001b[0m             \u001b[0;32mexcept\u001b[0m \u001b[0mKeyError\u001b[0m \u001b[0;32mas\u001b[0m \u001b[0merr\u001b[0m\u001b[0;34m:\u001b[0m\u001b[0;34m\u001b[0m\u001b[0;34m\u001b[0m\u001b[0m\n",
      "\u001b[0;32mpandas/_libs/index.pyx\u001b[0m in \u001b[0;36mpandas._libs.index.IndexEngine.get_loc\u001b[0;34m()\u001b[0m\n",
      "\u001b[0;32mpandas/_libs/index.pyx\u001b[0m in \u001b[0;36mpandas._libs.index.IndexEngine.get_loc\u001b[0;34m()\u001b[0m\n",
      "\u001b[0;32mpandas/_libs/hashtable_class_helper.pxi\u001b[0m in \u001b[0;36mpandas._libs.hashtable.PyObjectHashTable.get_item\u001b[0;34m()\u001b[0m\n",
      "\u001b[0;32mpandas/_libs/hashtable_class_helper.pxi\u001b[0m in \u001b[0;36mpandas._libs.hashtable.PyObjectHashTable.get_item\u001b[0;34m()\u001b[0m\n",
      "\u001b[0;31mKeyError\u001b[0m: 'Travel_type'",
      "\nThe above exception was the direct cause of the following exception:\n",
      "\u001b[0;31mKeyError\u001b[0m                                  Traceback (most recent call last)",
      "\u001b[0;32m<ipython-input-53-ff0fe01634dd>\u001b[0m in \u001b[0;36m<module>\u001b[0;34m\u001b[0m\n\u001b[1;32m      1\u001b[0m \u001b[0;31m# read the train data file and extract all name of the Route\u001b[0m\u001b[0;34m\u001b[0m\u001b[0;34m\u001b[0m\u001b[0;34m\u001b[0m\u001b[0m\n\u001b[0;32m----> 2\u001b[0;31m \u001b[0mdf\u001b[0m\u001b[0;34m=\u001b[0m\u001b[0mpd\u001b[0m\u001b[0;34m.\u001b[0m\u001b[0mread_csv\u001b[0m\u001b[0;34m(\u001b[0m\u001b[0;34m\"files/TrainCardType.csv\"\u001b[0m\u001b[0;34m,\u001b[0m \u001b[0mencoding\u001b[0m\u001b[0;34m=\u001b[0m\u001b[0;34m'utf-16'\u001b[0m\u001b[0;34m,\u001b[0m\u001b[0msep\u001b[0m\u001b[0;34m=\u001b[0m\u001b[0;34m\"\\t\"\u001b[0m\u001b[0;34m)\u001b[0m\u001b[0;34m[\u001b[0m\u001b[0;34m\"Travel_type\"\u001b[0m\u001b[0;34m]\u001b[0m\u001b[0;34m\u001b[0m\u001b[0;34m\u001b[0m\u001b[0m\n\u001b[0m\u001b[1;32m      3\u001b[0m \u001b[0mdf\u001b[0m\u001b[0;34m.\u001b[0m\u001b[0munique\u001b[0m\u001b[0;34m(\u001b[0m\u001b[0;34m)\u001b[0m\u001b[0;34m\u001b[0m\u001b[0;34m\u001b[0m\u001b[0m\n\u001b[1;32m      4\u001b[0m \u001b[0;34m\u001b[0m\u001b[0m\n\u001b[1;32m      5\u001b[0m \u001b[0;34m\u001b[0m\u001b[0m\n",
      "\u001b[0;32m~/opt/anaconda3/lib/python3.8/site-packages/pandas/core/frame.py\u001b[0m in \u001b[0;36m__getitem__\u001b[0;34m(self, key)\u001b[0m\n\u001b[1;32m   3022\u001b[0m             \u001b[0;32mif\u001b[0m \u001b[0mself\u001b[0m\u001b[0;34m.\u001b[0m\u001b[0mcolumns\u001b[0m\u001b[0;34m.\u001b[0m\u001b[0mnlevels\u001b[0m \u001b[0;34m>\u001b[0m \u001b[0;36m1\u001b[0m\u001b[0;34m:\u001b[0m\u001b[0;34m\u001b[0m\u001b[0;34m\u001b[0m\u001b[0m\n\u001b[1;32m   3023\u001b[0m                 \u001b[0;32mreturn\u001b[0m \u001b[0mself\u001b[0m\u001b[0;34m.\u001b[0m\u001b[0m_getitem_multilevel\u001b[0m\u001b[0;34m(\u001b[0m\u001b[0mkey\u001b[0m\u001b[0;34m)\u001b[0m\u001b[0;34m\u001b[0m\u001b[0;34m\u001b[0m\u001b[0m\n\u001b[0;32m-> 3024\u001b[0;31m             \u001b[0mindexer\u001b[0m \u001b[0;34m=\u001b[0m \u001b[0mself\u001b[0m\u001b[0;34m.\u001b[0m\u001b[0mcolumns\u001b[0m\u001b[0;34m.\u001b[0m\u001b[0mget_loc\u001b[0m\u001b[0;34m(\u001b[0m\u001b[0mkey\u001b[0m\u001b[0;34m)\u001b[0m\u001b[0;34m\u001b[0m\u001b[0;34m\u001b[0m\u001b[0m\n\u001b[0m\u001b[1;32m   3025\u001b[0m             \u001b[0;32mif\u001b[0m \u001b[0mis_integer\u001b[0m\u001b[0;34m(\u001b[0m\u001b[0mindexer\u001b[0m\u001b[0;34m)\u001b[0m\u001b[0;34m:\u001b[0m\u001b[0;34m\u001b[0m\u001b[0;34m\u001b[0m\u001b[0m\n\u001b[1;32m   3026\u001b[0m                 \u001b[0mindexer\u001b[0m \u001b[0;34m=\u001b[0m \u001b[0;34m[\u001b[0m\u001b[0mindexer\u001b[0m\u001b[0;34m]\u001b[0m\u001b[0;34m\u001b[0m\u001b[0;34m\u001b[0m\u001b[0m\n",
      "\u001b[0;32m~/opt/anaconda3/lib/python3.8/site-packages/pandas/core/indexes/base.py\u001b[0m in \u001b[0;36mget_loc\u001b[0;34m(self, key, method, tolerance)\u001b[0m\n\u001b[1;32m   3080\u001b[0m                 \u001b[0;32mreturn\u001b[0m \u001b[0mself\u001b[0m\u001b[0;34m.\u001b[0m\u001b[0m_engine\u001b[0m\u001b[0;34m.\u001b[0m\u001b[0mget_loc\u001b[0m\u001b[0;34m(\u001b[0m\u001b[0mcasted_key\u001b[0m\u001b[0;34m)\u001b[0m\u001b[0;34m\u001b[0m\u001b[0;34m\u001b[0m\u001b[0m\n\u001b[1;32m   3081\u001b[0m             \u001b[0;32mexcept\u001b[0m \u001b[0mKeyError\u001b[0m \u001b[0;32mas\u001b[0m \u001b[0merr\u001b[0m\u001b[0;34m:\u001b[0m\u001b[0;34m\u001b[0m\u001b[0;34m\u001b[0m\u001b[0m\n\u001b[0;32m-> 3082\u001b[0;31m                 \u001b[0;32mraise\u001b[0m \u001b[0mKeyError\u001b[0m\u001b[0;34m(\u001b[0m\u001b[0mkey\u001b[0m\u001b[0;34m)\u001b[0m \u001b[0;32mfrom\u001b[0m \u001b[0merr\u001b[0m\u001b[0;34m\u001b[0m\u001b[0;34m\u001b[0m\u001b[0m\n\u001b[0m\u001b[1;32m   3083\u001b[0m \u001b[0;34m\u001b[0m\u001b[0m\n\u001b[1;32m   3084\u001b[0m         \u001b[0;32mif\u001b[0m \u001b[0mtolerance\u001b[0m \u001b[0;32mis\u001b[0m \u001b[0;32mnot\u001b[0m \u001b[0;32mNone\u001b[0m\u001b[0;34m:\u001b[0m\u001b[0;34m\u001b[0m\u001b[0;34m\u001b[0m\u001b[0m\n",
      "\u001b[0;31mKeyError\u001b[0m: 'Travel_type'"
     ]
    }
   ],
   "source": [
    "# read the train data file and extract all name of the Route\n",
    "df=pd.read_csv(\"files/TrainCardType.csv\", encoding='utf-16',sep=\"\\t\")[\"Travel_type\"]\n",
    "df.unique()\n",
    "    \n",
    "    \n",
    "\n",
    "\n",
    "\n",
    "               \n"
   ]
  },
  {
   "cell_type": "code",
   "execution_count": 59,
   "id": "405921d2",
   "metadata": {},
   "outputs": [
    {
     "data": {
      "text/html": [
       "<div>\n",
       "<style scoped>\n",
       "    .dataframe tbody tr th:only-of-type {\n",
       "        vertical-align: middle;\n",
       "    }\n",
       "\n",
       "    .dataframe tbody tr th {\n",
       "        vertical-align: top;\n",
       "    }\n",
       "\n",
       "    .dataframe thead th {\n",
       "        text-align: right;\n",
       "    }\n",
       "</style>\n",
       "<table border=\"1\" class=\"dataframe\">\n",
       "  <thead>\n",
       "    <tr style=\"text-align: right;\">\n",
       "      <th></th>\n",
       "      <th>Route</th>\n",
       "      <th>Travel_type</th>\n",
       "      <th>Jul-16</th>\n",
       "      <th>Aug-16</th>\n",
       "      <th>Sep-16</th>\n",
       "      <th>Oct-16</th>\n",
       "      <th>Nov-16</th>\n",
       "      <th>Dec-16</th>\n",
       "      <th>Jan-17</th>\n",
       "      <th>Feb-17</th>\n",
       "      <th>...</th>\n",
       "      <th>Jan-21</th>\n",
       "      <th>Feb-21</th>\n",
       "      <th>Mar-21</th>\n",
       "      <th>Apr-21</th>\n",
       "      <th>May-21</th>\n",
       "      <th>Jun-21</th>\n",
       "      <th>Jul-21</th>\n",
       "      <th>Aug-21</th>\n",
       "      <th>Sep-21</th>\n",
       "      <th>TrainLine</th>\n",
       "    </tr>\n",
       "  </thead>\n",
       "  <tbody>\n",
       "    <tr>\n",
       "      <th>244</th>\n",
       "      <td>T9 Northern Line</td>\n",
       "      <td>Senior/Pensioner</td>\n",
       "      <td>0.0</td>\n",
       "      <td>0.0</td>\n",
       "      <td>0.0</td>\n",
       "      <td>0.0</td>\n",
       "      <td>0.0</td>\n",
       "      <td>0.0</td>\n",
       "      <td>0.0</td>\n",
       "      <td>0.0</td>\n",
       "      <td>...</td>\n",
       "      <td>86556.0</td>\n",
       "      <td>116405.0</td>\n",
       "      <td>134217.0</td>\n",
       "      <td>149381.0</td>\n",
       "      <td>155281.0</td>\n",
       "      <td>112473.0</td>\n",
       "      <td>28833.0</td>\n",
       "      <td>22091.0</td>\n",
       "      <td>24927.0</td>\n",
       "      <td>T9</td>\n",
       "    </tr>\n",
       "    <tr>\n",
       "      <th>245</th>\n",
       "      <td>T9 Northern Line</td>\n",
       "      <td>Sgl Trip Rail Child/Youth</td>\n",
       "      <td>0.0</td>\n",
       "      <td>0.0</td>\n",
       "      <td>0.0</td>\n",
       "      <td>0.0</td>\n",
       "      <td>0.0</td>\n",
       "      <td>0.0</td>\n",
       "      <td>0.0</td>\n",
       "      <td>0.0</td>\n",
       "      <td>...</td>\n",
       "      <td>941.0</td>\n",
       "      <td>726.0</td>\n",
       "      <td>783.0</td>\n",
       "      <td>1897.0</td>\n",
       "      <td>1020.0</td>\n",
       "      <td>634.0</td>\n",
       "      <td>169.0</td>\n",
       "      <td>80.0</td>\n",
       "      <td>104.0</td>\n",
       "      <td>T9</td>\n",
       "    </tr>\n",
       "  </tbody>\n",
       "</table>\n",
       "<p>2 rows × 66 columns</p>\n",
       "</div>"
      ],
      "text/plain": [
       "                Route                Travel_type  Jul-16  Aug-16  Sep-16  \\\n",
       "244  T9 Northern Line           Senior/Pensioner     0.0     0.0     0.0   \n",
       "245  T9 Northern Line  Sgl Trip Rail Child/Youth     0.0     0.0     0.0   \n",
       "\n",
       "     Oct-16  Nov-16  Dec-16  Jan-17  Feb-17  ...   Jan-21    Feb-21    Mar-21  \\\n",
       "244     0.0     0.0     0.0     0.0     0.0  ...  86556.0  116405.0  134217.0   \n",
       "245     0.0     0.0     0.0     0.0     0.0  ...    941.0     726.0     783.0   \n",
       "\n",
       "       Apr-21    May-21    Jun-21   Jul-21   Aug-21   Sep-21  TrainLine  \n",
       "244  149381.0  155281.0  112473.0  28833.0  22091.0  24927.0         T9  \n",
       "245    1897.0    1020.0     634.0    169.0     80.0    104.0         T9  \n",
       "\n",
       "[2 rows x 66 columns]"
      ]
     },
     "execution_count": 59,
     "metadata": {},
     "output_type": "execute_result"
    }
   ],
   "source": [
    "# drop the last raw Grand Total\n",
    "data_c =data.drop(246)\n",
    "data_c.tail(2)"
   ]
  },
  {
   "cell_type": "code",
   "execution_count": 60,
   "id": "b5a9ff99",
   "metadata": {},
   "outputs": [
    {
     "data": {
      "text/plain": [
       "T2 Leppington Line                          12\n",
       "T7 Olympic Park Line                        12\n",
       "Southern Highlands Line                     12\n",
       "T2 Inner West Line                          12\n",
       "T1 Northern Line                            12\n",
       "Central Coast Newcastle Line                12\n",
       "Hunter Line                                 12\n",
       "T1 Western Line                             12\n",
       "T1 North Shore Line                         12\n",
       "South Coast Line                            12\n",
       "T4 Eastern Suburbs and Illawarra Line       12\n",
       "Blue Mountains Line                         12\n",
       "T6 Carlingford Line                         12\n",
       "T8 Airport and South Line                   12\n",
       "T3 Bankstown Line                           12\n",
       "T5 Cumberland Line                          12\n",
       "T1 North Shore Northern and Western Line    11\n",
       "T2 Airport Inner West and South Line        11\n",
       "Station Link                                11\n",
       "T9 Northern Line                            11\n",
       "T6 replacement buses                        10\n",
       "Name: Route, dtype: int64"
      ]
     },
     "execution_count": 60,
     "metadata": {},
     "output_type": "execute_result"
    }
   ],
   "source": [
    "data_c.Route.value_counts()\n"
   ]
  },
  {
   "cell_type": "markdown",
   "id": "da7dcb2c",
   "metadata": {},
   "source": [
    "There are 21 differnt train routes \n"
   ]
  },
  {
   "cell_type": "code",
   "execution_count": 61,
   "id": "7e12fe48",
   "metadata": {},
   "outputs": [
    {
     "data": {
      "text/html": [
       "<div>\n",
       "<style scoped>\n",
       "    .dataframe tbody tr th:only-of-type {\n",
       "        vertical-align: middle;\n",
       "    }\n",
       "\n",
       "    .dataframe tbody tr th {\n",
       "        vertical-align: top;\n",
       "    }\n",
       "\n",
       "    .dataframe thead th {\n",
       "        text-align: right;\n",
       "    }\n",
       "</style>\n",
       "<table border=\"1\" class=\"dataframe\">\n",
       "  <thead>\n",
       "    <tr style=\"text-align: right;\">\n",
       "      <th></th>\n",
       "      <th>Jul-16</th>\n",
       "      <th>Aug-16</th>\n",
       "      <th>Sep-16</th>\n",
       "      <th>Oct-16</th>\n",
       "      <th>Nov-16</th>\n",
       "      <th>Dec-16</th>\n",
       "      <th>Jan-17</th>\n",
       "      <th>Feb-17</th>\n",
       "      <th>Mar-17</th>\n",
       "      <th>Apr-17</th>\n",
       "      <th>...</th>\n",
       "      <th>Dec-20</th>\n",
       "      <th>Jan-21</th>\n",
       "      <th>Feb-21</th>\n",
       "      <th>Mar-21</th>\n",
       "      <th>Apr-21</th>\n",
       "      <th>May-21</th>\n",
       "      <th>Jun-21</th>\n",
       "      <th>Jul-21</th>\n",
       "      <th>Aug-21</th>\n",
       "      <th>Sep-21</th>\n",
       "    </tr>\n",
       "  </thead>\n",
       "  <tbody>\n",
       "    <tr>\n",
       "      <th>count</th>\n",
       "      <td>2.460000e+02</td>\n",
       "      <td>2.460000e+02</td>\n",
       "      <td>2.460000e+02</td>\n",
       "      <td>2.460000e+02</td>\n",
       "      <td>2.460000e+02</td>\n",
       "      <td>2.460000e+02</td>\n",
       "      <td>2.460000e+02</td>\n",
       "      <td>2.460000e+02</td>\n",
       "      <td>2.460000e+02</td>\n",
       "      <td>2.460000e+02</td>\n",
       "      <td>...</td>\n",
       "      <td>2.460000e+02</td>\n",
       "      <td>2.460000e+02</td>\n",
       "      <td>2.460000e+02</td>\n",
       "      <td>2.460000e+02</td>\n",
       "      <td>2.460000e+02</td>\n",
       "      <td>2.460000e+02</td>\n",
       "      <td>2.460000e+02</td>\n",
       "      <td>246.000000</td>\n",
       "      <td>246.000000</td>\n",
       "      <td>246.000000</td>\n",
       "    </tr>\n",
       "    <tr>\n",
       "      <th>mean</th>\n",
       "      <td>1.171514e+05</td>\n",
       "      <td>1.316828e+05</td>\n",
       "      <td>1.245868e+05</td>\n",
       "      <td>1.223855e+05</td>\n",
       "      <td>1.273101e+05</td>\n",
       "      <td>1.145918e+05</td>\n",
       "      <td>1.086806e+05</td>\n",
       "      <td>1.169392e+05</td>\n",
       "      <td>1.405138e+05</td>\n",
       "      <td>1.168526e+05</td>\n",
       "      <td>...</td>\n",
       "      <td>6.574173e+04</td>\n",
       "      <td>5.534837e+04</td>\n",
       "      <td>7.221246e+04</td>\n",
       "      <td>8.505898e+04</td>\n",
       "      <td>8.353791e+04</td>\n",
       "      <td>8.551604e+04</td>\n",
       "      <td>6.988841e+04</td>\n",
       "      <td>21417.260163</td>\n",
       "      <td>17259.182927</td>\n",
       "      <td>18559.808943</td>\n",
       "    </tr>\n",
       "    <tr>\n",
       "      <th>std</th>\n",
       "      <td>7.025108e+05</td>\n",
       "      <td>7.700106e+05</td>\n",
       "      <td>7.318773e+05</td>\n",
       "      <td>7.174205e+05</td>\n",
       "      <td>7.551649e+05</td>\n",
       "      <td>6.749103e+05</td>\n",
       "      <td>6.502254e+05</td>\n",
       "      <td>6.945896e+05</td>\n",
       "      <td>8.155599e+05</td>\n",
       "      <td>6.760672e+05</td>\n",
       "      <td>...</td>\n",
       "      <td>2.021812e+05</td>\n",
       "      <td>1.746573e+05</td>\n",
       "      <td>2.128097e+05</td>\n",
       "      <td>2.480527e+05</td>\n",
       "      <td>2.415379e+05</td>\n",
       "      <td>2.492477e+05</td>\n",
       "      <td>2.061809e+05</td>\n",
       "      <td>73792.407977</td>\n",
       "      <td>59959.022071</td>\n",
       "      <td>63298.606554</td>\n",
       "    </tr>\n",
       "    <tr>\n",
       "      <th>min</th>\n",
       "      <td>0.000000e+00</td>\n",
       "      <td>0.000000e+00</td>\n",
       "      <td>0.000000e+00</td>\n",
       "      <td>0.000000e+00</td>\n",
       "      <td>0.000000e+00</td>\n",
       "      <td>0.000000e+00</td>\n",
       "      <td>0.000000e+00</td>\n",
       "      <td>0.000000e+00</td>\n",
       "      <td>0.000000e+00</td>\n",
       "      <td>0.000000e+00</td>\n",
       "      <td>...</td>\n",
       "      <td>0.000000e+00</td>\n",
       "      <td>0.000000e+00</td>\n",
       "      <td>0.000000e+00</td>\n",
       "      <td>0.000000e+00</td>\n",
       "      <td>0.000000e+00</td>\n",
       "      <td>0.000000e+00</td>\n",
       "      <td>0.000000e+00</td>\n",
       "      <td>0.000000</td>\n",
       "      <td>0.000000</td>\n",
       "      <td>0.000000</td>\n",
       "    </tr>\n",
       "    <tr>\n",
       "      <th>25%</th>\n",
       "      <td>0.000000e+00</td>\n",
       "      <td>0.000000e+00</td>\n",
       "      <td>0.000000e+00</td>\n",
       "      <td>0.000000e+00</td>\n",
       "      <td>0.000000e+00</td>\n",
       "      <td>0.000000e+00</td>\n",
       "      <td>0.000000e+00</td>\n",
       "      <td>0.000000e+00</td>\n",
       "      <td>0.000000e+00</td>\n",
       "      <td>0.000000e+00</td>\n",
       "      <td>...</td>\n",
       "      <td>0.000000e+00</td>\n",
       "      <td>0.000000e+00</td>\n",
       "      <td>0.000000e+00</td>\n",
       "      <td>0.000000e+00</td>\n",
       "      <td>0.000000e+00</td>\n",
       "      <td>0.000000e+00</td>\n",
       "      <td>0.000000e+00</td>\n",
       "      <td>0.000000</td>\n",
       "      <td>0.000000</td>\n",
       "      <td>0.000000</td>\n",
       "    </tr>\n",
       "    <tr>\n",
       "      <th>50%</th>\n",
       "      <td>0.000000e+00</td>\n",
       "      <td>0.000000e+00</td>\n",
       "      <td>0.000000e+00</td>\n",
       "      <td>0.000000e+00</td>\n",
       "      <td>0.000000e+00</td>\n",
       "      <td>0.000000e+00</td>\n",
       "      <td>0.000000e+00</td>\n",
       "      <td>0.000000e+00</td>\n",
       "      <td>0.000000e+00</td>\n",
       "      <td>0.000000e+00</td>\n",
       "      <td>...</td>\n",
       "      <td>1.217500e+03</td>\n",
       "      <td>9.390000e+02</td>\n",
       "      <td>1.407500e+03</td>\n",
       "      <td>1.754000e+03</td>\n",
       "      <td>1.873500e+03</td>\n",
       "      <td>1.755500e+03</td>\n",
       "      <td>1.479000e+03</td>\n",
       "      <td>223.500000</td>\n",
       "      <td>181.000000</td>\n",
       "      <td>141.500000</td>\n",
       "    </tr>\n",
       "    <tr>\n",
       "      <th>75%</th>\n",
       "      <td>7.538500e+03</td>\n",
       "      <td>1.074775e+04</td>\n",
       "      <td>9.349250e+03</td>\n",
       "      <td>1.049575e+04</td>\n",
       "      <td>8.984500e+03</td>\n",
       "      <td>7.902250e+03</td>\n",
       "      <td>6.202750e+03</td>\n",
       "      <td>7.972500e+03</td>\n",
       "      <td>1.190250e+04</td>\n",
       "      <td>1.112500e+04</td>\n",
       "      <td>...</td>\n",
       "      <td>3.237475e+04</td>\n",
       "      <td>1.665600e+04</td>\n",
       "      <td>3.801225e+04</td>\n",
       "      <td>4.241475e+04</td>\n",
       "      <td>4.078750e+04</td>\n",
       "      <td>4.272225e+04</td>\n",
       "      <td>3.161875e+04</td>\n",
       "      <td>4786.750000</td>\n",
       "      <td>3227.500000</td>\n",
       "      <td>3624.500000</td>\n",
       "    </tr>\n",
       "    <tr>\n",
       "      <th>max</th>\n",
       "      <td>8.575135e+06</td>\n",
       "      <td>9.484134e+06</td>\n",
       "      <td>8.956112e+06</td>\n",
       "      <td>8.778524e+06</td>\n",
       "      <td>9.221978e+06</td>\n",
       "      <td>8.036202e+06</td>\n",
       "      <td>7.774754e+06</td>\n",
       "      <td>8.446672e+06</td>\n",
       "      <td>9.994667e+06</td>\n",
       "      <td>8.111738e+06</td>\n",
       "      <td>...</td>\n",
       "      <td>1.671861e+06</td>\n",
       "      <td>1.538773e+06</td>\n",
       "      <td>1.713603e+06</td>\n",
       "      <td>1.982189e+06</td>\n",
       "      <td>1.856641e+06</td>\n",
       "      <td>1.937118e+06</td>\n",
       "      <td>1.596551e+06</td>\n",
       "      <td>631262.000000</td>\n",
       "      <td>530477.000000</td>\n",
       "      <td>534231.000000</td>\n",
       "    </tr>\n",
       "  </tbody>\n",
       "</table>\n",
       "<p>8 rows × 63 columns</p>\n",
       "</div>"
      ],
      "text/plain": [
       "             Jul-16        Aug-16        Sep-16        Oct-16        Nov-16  \\\n",
       "count  2.460000e+02  2.460000e+02  2.460000e+02  2.460000e+02  2.460000e+02   \n",
       "mean   1.171514e+05  1.316828e+05  1.245868e+05  1.223855e+05  1.273101e+05   \n",
       "std    7.025108e+05  7.700106e+05  7.318773e+05  7.174205e+05  7.551649e+05   \n",
       "min    0.000000e+00  0.000000e+00  0.000000e+00  0.000000e+00  0.000000e+00   \n",
       "25%    0.000000e+00  0.000000e+00  0.000000e+00  0.000000e+00  0.000000e+00   \n",
       "50%    0.000000e+00  0.000000e+00  0.000000e+00  0.000000e+00  0.000000e+00   \n",
       "75%    7.538500e+03  1.074775e+04  9.349250e+03  1.049575e+04  8.984500e+03   \n",
       "max    8.575135e+06  9.484134e+06  8.956112e+06  8.778524e+06  9.221978e+06   \n",
       "\n",
       "             Dec-16        Jan-17        Feb-17        Mar-17        Apr-17  \\\n",
       "count  2.460000e+02  2.460000e+02  2.460000e+02  2.460000e+02  2.460000e+02   \n",
       "mean   1.145918e+05  1.086806e+05  1.169392e+05  1.405138e+05  1.168526e+05   \n",
       "std    6.749103e+05  6.502254e+05  6.945896e+05  8.155599e+05  6.760672e+05   \n",
       "min    0.000000e+00  0.000000e+00  0.000000e+00  0.000000e+00  0.000000e+00   \n",
       "25%    0.000000e+00  0.000000e+00  0.000000e+00  0.000000e+00  0.000000e+00   \n",
       "50%    0.000000e+00  0.000000e+00  0.000000e+00  0.000000e+00  0.000000e+00   \n",
       "75%    7.902250e+03  6.202750e+03  7.972500e+03  1.190250e+04  1.112500e+04   \n",
       "max    8.036202e+06  7.774754e+06  8.446672e+06  9.994667e+06  8.111738e+06   \n",
       "\n",
       "       ...        Dec-20        Jan-21        Feb-21        Mar-21  \\\n",
       "count  ...  2.460000e+02  2.460000e+02  2.460000e+02  2.460000e+02   \n",
       "mean   ...  6.574173e+04  5.534837e+04  7.221246e+04  8.505898e+04   \n",
       "std    ...  2.021812e+05  1.746573e+05  2.128097e+05  2.480527e+05   \n",
       "min    ...  0.000000e+00  0.000000e+00  0.000000e+00  0.000000e+00   \n",
       "25%    ...  0.000000e+00  0.000000e+00  0.000000e+00  0.000000e+00   \n",
       "50%    ...  1.217500e+03  9.390000e+02  1.407500e+03  1.754000e+03   \n",
       "75%    ...  3.237475e+04  1.665600e+04  3.801225e+04  4.241475e+04   \n",
       "max    ...  1.671861e+06  1.538773e+06  1.713603e+06  1.982189e+06   \n",
       "\n",
       "             Apr-21        May-21        Jun-21         Jul-21         Aug-21  \\\n",
       "count  2.460000e+02  2.460000e+02  2.460000e+02     246.000000     246.000000   \n",
       "mean   8.353791e+04  8.551604e+04  6.988841e+04   21417.260163   17259.182927   \n",
       "std    2.415379e+05  2.492477e+05  2.061809e+05   73792.407977   59959.022071   \n",
       "min    0.000000e+00  0.000000e+00  0.000000e+00       0.000000       0.000000   \n",
       "25%    0.000000e+00  0.000000e+00  0.000000e+00       0.000000       0.000000   \n",
       "50%    1.873500e+03  1.755500e+03  1.479000e+03     223.500000     181.000000   \n",
       "75%    4.078750e+04  4.272225e+04  3.161875e+04    4786.750000    3227.500000   \n",
       "max    1.856641e+06  1.937118e+06  1.596551e+06  631262.000000  530477.000000   \n",
       "\n",
       "              Sep-21  \n",
       "count     246.000000  \n",
       "mean    18559.808943  \n",
       "std     63298.606554  \n",
       "min         0.000000  \n",
       "25%         0.000000  \n",
       "50%       141.500000  \n",
       "75%      3624.500000  \n",
       "max    534231.000000  \n",
       "\n",
       "[8 rows x 63 columns]"
      ]
     },
     "execution_count": 61,
     "metadata": {},
     "output_type": "execute_result"
    }
   ],
   "source": [
    "data_c.describe()"
   ]
  },
  {
   "cell_type": "markdown",
   "id": "3fd8029d",
   "metadata": {},
   "source": [
    "Note: The data set we have for 2016 is from july  to december 2016 and for 2019 is from januray  to september 2021"
   ]
  },
  {
   "cell_type": "markdown",
   "id": "8e8d128d",
   "metadata": {},
   "source": [
    "## Observations"
   ]
  },
  {
   "cell_type": "markdown",
   "id": "432efe9b",
   "metadata": {},
   "source": [
    "The following code below, split the data set by years "
   ]
  },
  {
   "cell_type": "code",
   "execution_count": 62,
   "id": "e4609ea5",
   "metadata": {},
   "outputs": [],
   "source": [
    "data_2016 = []\n",
    "data_2017 = []\n",
    "data_2018 = []\n",
    "data_2019 =[]\n",
    "data_2020=[]\n",
    "data_2021=[]\n",
    "for i in range(2,8):\n",
    "    data_2016.append(data_c.columns[i])\n",
    "for i in range(8,20):\n",
    "    data_2017.append(data_c.columns[i])\n",
    "for i in range(20,32):\n",
    "    data_2018.append(data_c.columns[i])\n",
    "for i in range(32,44):\n",
    "    data_2019.append(data_c.columns[i])\n",
    "for i in range(44,56):\n",
    "    data_2020.append(data_c.columns[i])\n",
    "for i in range(56,65):\n",
    "    data_2021.append(data_c.columns[i])"
   ]
  },
  {
   "cell_type": "code",
   "execution_count": 63,
   "id": "a22b8fc5",
   "metadata": {},
   "outputs": [
    {
     "data": {
      "text/plain": [
       "['Jan-18',\n",
       " 'Feb-18',\n",
       " 'Mar-18',\n",
       " 'Apr-18',\n",
       " 'May-18',\n",
       " 'Jun-18',\n",
       " 'Jul-18',\n",
       " 'Aug-18',\n",
       " 'Sep-18',\n",
       " 'Oct-18',\n",
       " 'Nov-18',\n",
       " 'Dec-18']"
      ]
     },
     "execution_count": 63,
     "metadata": {},
     "output_type": "execute_result"
    }
   ],
   "source": [
    "data_2018"
   ]
  },
  {
   "cell_type": "code",
   "execution_count": 64,
   "id": "12c6e7ea",
   "metadata": {},
   "outputs": [],
   "source": [
    "data_16 = data_c[data_2016]\n",
    "data_17 = data_c[data_2017]\n",
    "data_18 = data_c[data_2018]\n",
    "data_19 = data_c[data_2019]\n",
    "data_20 = data_c[data_2020]\n",
    "data_21 = data_c[data_2021]"
   ]
  },
  {
   "cell_type": "code",
   "execution_count": null,
   "id": "bdba3d6b",
   "metadata": {},
   "outputs": [],
   "source": []
  },
  {
   "cell_type": "code",
   "execution_count": 70,
   "id": "bbd20bb6",
   "metadata": {},
   "outputs": [],
   "source": [
    "total16 = (data_16.sum()).sum()\n",
    "total17 = (data_17.sum()).sum()\n",
    "total18 = (data_18.sum()).sum()\n",
    "total19 = (data_19.sum()).sum()\n",
    "total20 = (data_20.sum()).sum()\n",
    "total21 = (data_21.sum()).sum()"
   ]
  },
  {
   "cell_type": "code",
   "execution_count": 71,
   "id": "830bb58f",
   "metadata": {},
   "outputs": [
    {
     "data": {
      "image/png": "[encoded data removed]",
      "text/plain": [
       "<Figure size 1080x504 with 1 Axes>"
      ]
     },
     "metadata": {
      "needs_background": "light"
     },
     "output_type": "display_data"
    }
   ],
   "source": [
    "labels = ['2016', '2017','2018','2019','2020','2021']\n",
    "plt.figure(figsize=(15,7))\n",
    "plt.bar(\"2016\", total16, align = 'center', label = '2016') \n",
    "plt.bar( \"2017\", total17,  align = 'center', label = '2017') \n",
    "plt.bar(\"2018\", total18, color = 'red' ,align = 'center', label = '2018') \n",
    "plt.bar( \"2019\", total19,  align = 'center', label = '2019') \n",
    "plt.bar( \"2020\", total20, align = 'center', label = '2020') \n",
    "plt.bar( \"2021\", total21,  align = 'center', label = '2021') \n",
    "plt.title('Comparision for Total People Travelled over years') \n",
    "plt.ylabel('Total People Travelled') \n",
    "plt.xlabel('Year') \n",
    "plt.legend()\n",
    "plt.show()"
   ]
  },
  {
   "cell_type": "markdown",
   "id": "ddd2f66c",
   "metadata": {},
   "source": [
    "# Need to modify. add more info\n",
    "We can that 2017 to 2019 number of people travelling incresed but in 2020 it has declined alot, we belive this might be caused becase of covid 19. we can't make any assumtion for 2016 and 2021 because we dont have the full data set "
   ]
  },
  {
   "cell_type": "code",
   "execution_count": 72,
   "id": "f8454a8a",
   "metadata": {},
   "outputs": [
    {
     "data": {
      "text/plain": [
       "<AxesSubplot:>"
      ]
     },
     "execution_count": 72,
     "metadata": {},
     "output_type": "execute_result"
    },
    {
     "data": {
      "image/png": "[encoded data removed]",
      "text/plain": [
       "<Figure size 432x288 with 1 Axes>"
      ]
     },
     "metadata": {
      "needs_background": "light"
     },
     "output_type": "display_data"
    }
   ],
   "source": [
    "data_16.sum().plot()"
   ]
  },
  {
   "cell_type": "code",
   "execution_count": 73,
   "id": "82264ec8",
   "metadata": {},
   "outputs": [
    {
     "data": {
      "text/plain": [
       "<AxesSubplot:>"
      ]
     },
     "execution_count": 73,
     "metadata": {},
     "output_type": "execute_result"
    },
    {
     "data": {
      "image/png": "[encoded data removed]",
      "text/plain": [
       "<Figure size 432x288 with 1 Axes>"
      ]
     },
     "metadata": {
      "needs_background": "light"
     },
     "output_type": "display_data"
    }
   ],
   "source": [
    "data_17.sum().plot()"
   ]
  },
  {
   "cell_type": "code",
   "execution_count": 74,
   "id": "7824649f",
   "metadata": {},
   "outputs": [
    {
     "data": {
      "text/plain": [
       "<AxesSubplot:>"
      ]
     },
     "execution_count": 74,
     "metadata": {},
     "output_type": "execute_result"
    },
    {
     "data": {
      "image/png": "[encoded data removed]",
      "text/plain": [
       "<Figure size 432x288 with 1 Axes>"
      ]
     },
     "metadata": {
      "needs_background": "light"
     },
     "output_type": "display_data"
    }
   ],
   "source": [
    "data_18.sum().plot()"
   ]
  },
  {
   "cell_type": "code",
   "execution_count": 75,
   "id": "016a61e0",
   "metadata": {},
   "outputs": [
    {
     "data": {
      "text/plain": [
       "<AxesSubplot:>"
      ]
     },
     "execution_count": 75,
     "metadata": {},
     "output_type": "execute_result"
    },
    {
     "data": {
      "image/png": "[encoded data removed]",
      "text/plain": [
       "<Figure size 432x288 with 1 Axes>"
      ]
     },
     "metadata": {
      "needs_background": "light"
     },
     "output_type": "display_data"
    }
   ],
   "source": [
    "data_19.sum().plot()"
   ]
  },
  {
   "cell_type": "code",
   "execution_count": 76,
   "id": "a95de99e",
   "metadata": {},
   "outputs": [
    {
     "data": {
      "text/plain": [
       "<AxesSubplot:>"
      ]
     },
     "execution_count": 76,
     "metadata": {},
     "output_type": "execute_result"
    },
    {
     "data": {
      "image/png": "[encoded data removed]",
      "text/plain": [
       "<Figure size 432x288 with 1 Axes>"
      ]
     },
     "metadata": {
      "needs_background": "light"
     },
     "output_type": "display_data"
    }
   ],
   "source": [
    "data_20.sum().plot()"
   ]
  },
  {
   "cell_type": "code",
   "execution_count": 77,
   "id": "5885d083",
   "metadata": {},
   "outputs": [
    {
     "data": {
      "text/plain": [
       "<AxesSubplot:>"
      ]
     },
     "execution_count": 77,
     "metadata": {},
     "output_type": "execute_result"
    },
    {
     "data": {
      "image/png": "[encoded data removed]",
      "text/plain": [
       "<Figure size 432x288 with 1 Axes>"
      ]
     },
     "metadata": {
      "needs_background": "light"
     },
     "output_type": "display_data"
    }
   ],
   "source": [
    "data_21.sum().plot()"
   ]
  },
  {
   "cell_type": "code",
   "execution_count": null,
   "id": "a02afd39",
   "metadata": {},
   "outputs": [],
   "source": []
  },
  {
   "cell_type": "code",
   "execution_count": 78,
   "id": "9ed824ec",
   "metadata": {},
   "outputs": [
    {
     "data": {
      "text/plain": [
       "array(['T1 North Shore, Northern and Western Line',\n",
       "       'T2 Airport, Inner West and South Line', 'T3 Bankstown Line',\n",
       "       'T4 Eastern Suburbs and Illawarra Line', 'T5 Cumberland Line',\n",
       "       'T6 Carlingford Line', 'T7 Olympic Park Line',\n",
       "       'Blue Mountains Line', 'Central Coast Newcastle Line',\n",
       "       'Hunter Line', 'South Coast Line', 'Southern Highlands Line',\n",
       "       'Station Link', 'T1 North Shore Line', 'T1 Northern Line',\n",
       "       'T1 Western Line', 'T2 Inner West Line', 'T2 Leppington Line',\n",
       "       'T6 replacement buses', 'T8 Airport and South Line',\n",
       "       'T9 Northern Line', 'Grand Total'], dtype=object)"
      ]
     },
     "execution_count": 78,
     "metadata": {},
     "output_type": "execute_result"
    }
   ],
   "source": [
    "# read the train data file and extract all name of the Route\n",
    "route=pd.read_csv(\"files/TrainCardType.csv\", encoding='utf-16',sep=\"\\t\")[\"Route\"]\n",
    "route.unique()"
   ]
  },
  {
   "cell_type": "code",
   "execution_count": 79,
   "id": "6905c3de",
   "metadata": {},
   "outputs": [
    {
     "data": {
      "text/plain": [
       "array(['Adult', 'Child/Youth', 'Concession',\n",
       "       'Day Pass Child/Youth w/o SAF', 'Day Pass without SAF', 'Employee',\n",
       "       'Free Travel', 'School Student', 'Senior/Pensioner',\n",
       "       'Sgl Trip Rail Adult', 'Sgl Trip Rail Child/Youth', 'CTP', 'Total'],\n",
       "      dtype=object)"
      ]
     },
     "execution_count": 79,
     "metadata": {},
     "output_type": "execute_result"
    }
   ],
   "source": [
    "# read the train data file and extract all name of the Route\n",
    "df=pd.read_csv(\"files/TrainCardType.csv\", encoding='utf-16',sep=\"\\t\")[\"Travel type\"]\n",
    "df.unique()"
   ]
  },
  {
   "cell_type": "code",
   "execution_count": null,
   "id": "8f39b6f0",
   "metadata": {},
   "outputs": [],
   "source": []
  },
  {
   "cell_type": "code",
   "execution_count": null,
   "id": "c5698d99",
   "metadata": {},
   "outputs": [],
   "source": []
  },
  {
   "cell_type": "markdown",
   "id": "d85c1782",
   "metadata": {},
   "source": [
    "# some useful functions "
   ]
  },
  {
   "cell_type": "code",
   "execution_count": null,
   "id": "ffefa06f",
   "metadata": {},
   "outputs": [],
   "source": [
    "# use to drop columns\n",
    "#data.drop('1/07/2016+C1:BA1', inplace=True, axis=1)"
   ]
  },
  {
   "cell_type": "code",
   "execution_count": null,
   "id": "29e1e35a",
   "metadata": {},
   "outputs": [],
   "source": [
    "#use to rename colums\n",
    "#data = data.rename(columns={\"1/07/2016+C1:BA1\": \"Jul-16\"})"
   ]
  },
  {
   "cell_type": "code",
   "execution_count": null,
   "id": "ae34e89d",
   "metadata": {},
   "outputs": [],
   "source": []
  }
 ],
 "metadata": {
  "kernelspec": {
   "display_name": "Python 3",
   "language": "python",
   "name": "python3"
  },
  "language_info": {
   "codemirror_mode": {
    "name": "ipython",
    "version": 3
   },
   "file_extension": ".py",
   "mimetype": "text/x-python",
   "name": "python",
   "nbconvert_exporter": "python",
   "pygments_lexer": "ipython3",
   "version": "3.8.8"
  }
 },
 "nbformat": 4,
 "nbformat_minor": 5
}
