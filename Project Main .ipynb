{
 "cells": [
  {
   "cell_type": "markdown",
   "id": "60528c11",
   "metadata": {},
   "source": [
    "# Data Science Group Project\n",
    "### Group 51\n",
    "Thuseevan Nareshkumar 46328785 <br>\n",
    "Ryan Lam 45951292\n",
    "### Name and Student number \n",
    "add you name here then remove this "
   ]
  },
  {
   "cell_type": "markdown",
   "id": "cfe0d606",
   "metadata": {},
   "source": [
    "# Executive Summary\n",
    "work on it"
   ]
  },
  {
   "cell_type": "markdown",
   "id": "4acb2e2d",
   "metadata": {},
   "source": [
    "# Introduction\n",
    "work on it"
   ]
  },
  {
   "cell_type": "markdown",
   "id": "27fa6bed",
   "metadata": {},
   "source": [
    "# Project Goal\n",
    "# work on it make it dot points \n",
    "One key objective we would like to explore with our chosen dataframe is to take\n",
    "advantage of the various sources to reach an optimal conclusion that will help with\n",
    "either decision making/support.\n",
    "We are eager to provide an analysis that will enable us to correlate trends/patterns with\n",
    "real world activities. From this, we aim to provide a sustainable solution that in hope\n",
    "answers the distinction between an array of transportation rush hours, off-peak hours\n",
    "and outliers. We will also aim to challenge ourselves\n"
   ]
  },
  {
   "cell_type": "markdown",
   "id": "b1eb8aa7",
   "metadata": {},
   "source": [
    "# Data source"
   ]
  },
  {
   "cell_type": "markdown",
   "id": "37a1f837",
   "metadata": {},
   "source": [
    "The dataset is from the Bureau of Transport Statistics. This dataset contains NSW trains official train utilisation figures for Intercity train lines only. These figures include the data of passengers who on/tap off well as passeners who bought tickets when entering and exiting the transportation service stations. It is set out as a line and aggregated into a monthly figure for a passenger for their estimated times of travel during that month. \n",
    "The data was collected from opal train trips by month,line and card type, from July 2016 to August 2021. The format of the data set is in CSV. Here is a link to the relevant document page: https://opendata.transport.nsw.gov.au/dataset/opal-trips-train."
   ]
  },
  {
   "cell_type": "markdown",
   "id": "d2497125",
   "metadata": {},
   "source": [
    "# Cleaning the data"
   ]
  },
  {
   "cell_type": "code",
   "execution_count": 4,
   "id": "a0ac67b6",
   "metadata": {},
   "outputs": [],
   "source": [
    "import pandas as pd\n",
    "import numpy as np\n",
    "import seaborn as sns\n",
    "\n",
    "import matplotlib.pylab as plt\n",
    "from matplotlib.pyplot import imread\n",
    "%matplotlib inline\n",
    "\n",
    "#---Linear Regression\n",
    "from sklearn.model_selection import train_test_split\n",
    "from sklearn import linear_model\n",
    "from sklearn.metrics import r2_score\n",
    "\n",
    "#---naive bayes\n",
    "from sklearn.naive_bayes import GaussianNB\n",
    "from sklearn.naive_bayes import MultinomialNB\n",
    "\n",
    "#---KMeans Clustering \n",
    "from sklearn.cluster import KMeans\n",
    "\n",
    "#---feature selection\n",
    "from sklearn.datasets import make_classification\n",
    "from sklearn.ensemble import ExtraTreesClassifier\n",
    "\n",
    "#---data processing\n",
    "from sklearn import preprocessing\n",
    "from sklearn.preprocessing import KBinsDiscretizer\n",
    "from sklearn.model_selection import train_test_split\n",
    "\n",
    "import warnings"
   ]
  },
  {
   "cell_type": "code",
   "execution_count": 5,
   "id": "ff2367e3",
   "metadata": {},
   "outputs": [],
   "source": [
    "#We tried importing the file, but this method didn’t work for some reason.\n",
    "#pd.show_versions()\n",
    "#data = pd.read_csv(\"files/TrainCardType.csv\")\n",
    "# we had error opeing the file"
   ]
  },
  {
   "cell_type": "code",
   "execution_count": 6,
   "id": "613a747a",
   "metadata": {},
   "outputs": [],
   "source": [
    "#We realised that there was an error with encoding the file. After resolving the the issue, we were able to import the file.\n",
    "# importing the file\n",
    "data = pd.read_csv(\"files/TrainCardType.csv\", encoding='utf-16',sep=\"\\t\")"
   ]
  },
  {
   "cell_type": "code",
   "execution_count": 7,
   "id": "b6837878",
   "metadata": {},
   "outputs": [],
   "source": [
    "# renaming \n",
    "data = data.rename(columns={\"1/07/2016+C1:BA1\": \"Jul-16\",\"Travel type\": \"Travel_type\" })\n",
    "#data.head()"
   ]
  },
  {
   "cell_type": "code",
   "execution_count": 8,
   "id": "ad9767d1",
   "metadata": {},
   "outputs": [
    {
     "name": "stdout",
     "output_type": "stream",
     "text": [
      "The size of the data is :  (248, 65)\n",
      "The number of row 248 and number of columns 65 \n"
     ]
    }
   ],
   "source": [
    "#checking the data set size \n",
    "print(\"The size of the data is : \", data.shape) \n",
    "print(\"The number of row {} and number of columns {} \".format(data.shape[0], data.shape[1]))"
   ]
  },
  {
   "cell_type": "code",
   "execution_count": 9,
   "id": "02b8cd86",
   "metadata": {},
   "outputs": [
    {
     "name": "stdout",
     "output_type": "stream",
     "text": [
      "<class 'pandas.core.frame.DataFrame'>\n",
      "<class 'pandas.core.series.Series'>\n",
      "<class 'str'>\n"
     ]
    }
   ],
   "source": [
    "# checking data type \n",
    "print(type(data))\n",
    "print(type(data['Jul-16']))\n",
    "print(type(data['Jul-16'][0]))"
   ]
  },
  {
   "cell_type": "markdown",
   "id": "bcf7bd04",
   "metadata": {},
   "source": [
    "Note: The data set have too many null value. Dropping the null value drop almost 70% of the data. We tried dropping the value but too many rows and coulmns were droped"
   ]
  },
  {
   "cell_type": "code",
   "execution_count": 10,
   "id": "e1d0981b",
   "metadata": {},
   "outputs": [
    {
     "data": {
      "text/plain": [
       "Route            0\n",
       "Travel_type      0\n",
       "Jul-16         139\n",
       "Aug-16         139\n",
       "Sep-16         139\n",
       "              ... \n",
       "May-21          69\n",
       "Jun-21          69\n",
       "Jul-21          75\n",
       "Aug-21          73\n",
       "Sep-21          73\n",
       "Length: 65, dtype: int64"
      ]
     },
     "execution_count": 10,
     "metadata": {},
     "output_type": "execute_result"
    }
   ],
   "source": [
    "# Deal with the NaN values in the data\n",
    "data.isna().sum()"
   ]
  },
  {
   "cell_type": "code",
   "execution_count": 11,
   "id": "1fa7133a",
   "metadata": {},
   "outputs": [],
   "source": [
    "# data_name = list(data)\n",
    "# data_name_length = len(data_name)\n",
    "# data_name_length"
   ]
  },
  {
   "cell_type": "code",
   "execution_count": 12,
   "id": "ed73f372",
   "metadata": {},
   "outputs": [],
   "source": [
    "data = data.replace(',','', regex=True)\n"
   ]
  },
  {
   "cell_type": "code",
   "execution_count": 13,
   "id": "24d431e2",
   "metadata": {},
   "outputs": [],
   "source": [
    "\n",
    "for x in data.columns[2:]:\n",
    "    data[x] = pd.to_numeric(data[x])\n",
    "# data.columns = pd.to_numeric(data.columns[2:])\n"
   ]
  },
  {
   "cell_type": "code",
   "execution_count": 14,
   "id": "f18082f3",
   "metadata": {},
   "outputs": [],
   "source": [
    "#The data set have too many null value. Dropping the null value drop almost 70% of the data.\n",
    "#We tried dropping the value but too many rows and coulmns were droped\n",
    "#data =data.dropna()\n",
    "#data.shape\n",
    "#data.head(2)\n",
    "\n",
    "\n",
    "\n",
    "\n"
   ]
  },
  {
   "cell_type": "code",
   "execution_count": 15,
   "id": "5f2ffc09",
   "metadata": {},
   "outputs": [],
   "source": [
    "data = data.drop(data.index[245]) ## drop the grand total from the dataframe \n"
   ]
  },
  {
   "cell_type": "code",
   "execution_count": 16,
   "id": "a81eff98",
   "metadata": {},
   "outputs": [],
   "source": [
    "#we decide to assign 0 to null values\n",
    "data.fillna( 0, inplace = True)\n",
    "#data.head(2)"
   ]
  },
  {
   "cell_type": "code",
   "execution_count": 17,
   "id": "b4d3d084",
   "metadata": {},
   "outputs": [
    {
     "data": {
      "text/plain": [
       "0      T1\n",
       "1      T1\n",
       "2      T1\n",
       "3      T1\n",
       "4      T1\n",
       "       ..\n",
       "242    T9\n",
       "243    T9\n",
       "244    T9\n",
       "246    T9\n",
       "247    Gr\n",
       "Name: TrainLine, Length: 247, dtype: object"
      ]
     },
     "execution_count": 17,
     "metadata": {},
     "output_type": "execute_result"
    }
   ],
   "source": [
    "## new column to merge all trainline \n",
    "\n",
    "data['TrainLine'] = data['Route'].str[0:2] ## targets the first two string from order date \n",
    "data['TrainLine'] = data['TrainLine'].astype('object')\n",
    "data.head(25)\n",
    "\n",
    "data['TrainLine']"
   ]
  },
  {
   "cell_type": "code",
   "execution_count": 18,
   "id": "1039fde3",
   "metadata": {},
   "outputs": [],
   "source": [
    "## reset index\n",
    "data = data.dropna()\n",
    "data = data.reset_index(drop=True)\n"
   ]
  },
  {
   "cell_type": "code",
   "execution_count": 113,
   "id": "5178f620",
   "metadata": {},
   "outputs": [
    {
     "data": {
      "text/html": [
       "<div>\n",
       "<style scoped>\n",
       "    .dataframe tbody tr th:only-of-type {\n",
       "        vertical-align: middle;\n",
       "    }\n",
       "\n",
       "    .dataframe tbody tr th {\n",
       "        vertical-align: top;\n",
       "    }\n",
       "\n",
       "    .dataframe thead th {\n",
       "        text-align: right;\n",
       "    }\n",
       "</style>\n",
       "<table border=\"1\" class=\"dataframe\">\n",
       "  <thead>\n",
       "    <tr style=\"text-align: right;\">\n",
       "      <th></th>\n",
       "      <th>Route</th>\n",
       "      <th>Travel_type</th>\n",
       "      <th>Jul-16</th>\n",
       "      <th>Aug-16</th>\n",
       "      <th>Sep-16</th>\n",
       "      <th>Oct-16</th>\n",
       "      <th>Nov-16</th>\n",
       "      <th>Dec-16</th>\n",
       "      <th>Jan-17</th>\n",
       "      <th>Feb-17</th>\n",
       "      <th>...</th>\n",
       "      <th>Jan-21</th>\n",
       "      <th>Feb-21</th>\n",
       "      <th>Mar-21</th>\n",
       "      <th>Apr-21</th>\n",
       "      <th>May-21</th>\n",
       "      <th>Jun-21</th>\n",
       "      <th>Jul-21</th>\n",
       "      <th>Aug-21</th>\n",
       "      <th>Sep-21</th>\n",
       "      <th>TrainLine</th>\n",
       "    </tr>\n",
       "  </thead>\n",
       "  <tbody>\n",
       "    <tr>\n",
       "      <th>0</th>\n",
       "      <td>T1 North Shore Northern and Western Line</td>\n",
       "      <td>Adult</td>\n",
       "      <td>8575135.0</td>\n",
       "      <td>9484134.0</td>\n",
       "      <td>8956112.0</td>\n",
       "      <td>8778524.0</td>\n",
       "      <td>9221978.0</td>\n",
       "      <td>8036202.0</td>\n",
       "      <td>7774754.0</td>\n",
       "      <td>8446672.0</td>\n",
       "      <td>...</td>\n",
       "      <td>0.0</td>\n",
       "      <td>0.0</td>\n",
       "      <td>0.0</td>\n",
       "      <td>0.0</td>\n",
       "      <td>0.0</td>\n",
       "      <td>0.0</td>\n",
       "      <td>0.0</td>\n",
       "      <td>0.0</td>\n",
       "      <td>0.0</td>\n",
       "      <td>T1</td>\n",
       "    </tr>\n",
       "    <tr>\n",
       "      <th>1</th>\n",
       "      <td>T1 North Shore Northern and Western Line</td>\n",
       "      <td>Child/Youth</td>\n",
       "      <td>432083.0</td>\n",
       "      <td>370300.0</td>\n",
       "      <td>425154.0</td>\n",
       "      <td>438430.0</td>\n",
       "      <td>404288.0</td>\n",
       "      <td>505401.0</td>\n",
       "      <td>552039.0</td>\n",
       "      <td>394228.0</td>\n",
       "      <td>...</td>\n",
       "      <td>0.0</td>\n",
       "      <td>0.0</td>\n",
       "      <td>0.0</td>\n",
       "      <td>0.0</td>\n",
       "      <td>0.0</td>\n",
       "      <td>0.0</td>\n",
       "      <td>0.0</td>\n",
       "      <td>0.0</td>\n",
       "      <td>0.0</td>\n",
       "      <td>T1</td>\n",
       "    </tr>\n",
       "    <tr>\n",
       "      <th>2</th>\n",
       "      <td>T1 North Shore Northern and Western Line</td>\n",
       "      <td>Concession</td>\n",
       "      <td>790206.0</td>\n",
       "      <td>1081373.0</td>\n",
       "      <td>855554.0</td>\n",
       "      <td>839434.0</td>\n",
       "      <td>677907.0</td>\n",
       "      <td>524749.0</td>\n",
       "      <td>488489.0</td>\n",
       "      <td>607040.0</td>\n",
       "      <td>...</td>\n",
       "      <td>0.0</td>\n",
       "      <td>0.0</td>\n",
       "      <td>0.0</td>\n",
       "      <td>0.0</td>\n",
       "      <td>0.0</td>\n",
       "      <td>0.0</td>\n",
       "      <td>0.0</td>\n",
       "      <td>0.0</td>\n",
       "      <td>0.0</td>\n",
       "      <td>T1</td>\n",
       "    </tr>\n",
       "    <tr>\n",
       "      <th>3</th>\n",
       "      <td>T1 North Shore Northern and Western Line</td>\n",
       "      <td>Day Pass Child/Youth w/o SAF</td>\n",
       "      <td>0.0</td>\n",
       "      <td>0.0</td>\n",
       "      <td>0.0</td>\n",
       "      <td>0.0</td>\n",
       "      <td>0.0</td>\n",
       "      <td>0.0</td>\n",
       "      <td>0.0</td>\n",
       "      <td>0.0</td>\n",
       "      <td>...</td>\n",
       "      <td>0.0</td>\n",
       "      <td>0.0</td>\n",
       "      <td>0.0</td>\n",
       "      <td>0.0</td>\n",
       "      <td>0.0</td>\n",
       "      <td>0.0</td>\n",
       "      <td>0.0</td>\n",
       "      <td>0.0</td>\n",
       "      <td>0.0</td>\n",
       "      <td>T1</td>\n",
       "    </tr>\n",
       "    <tr>\n",
       "      <th>4</th>\n",
       "      <td>T1 North Shore Northern and Western Line</td>\n",
       "      <td>Day Pass without SAF</td>\n",
       "      <td>0.0</td>\n",
       "      <td>0.0</td>\n",
       "      <td>0.0</td>\n",
       "      <td>0.0</td>\n",
       "      <td>0.0</td>\n",
       "      <td>0.0</td>\n",
       "      <td>0.0</td>\n",
       "      <td>0.0</td>\n",
       "      <td>...</td>\n",
       "      <td>0.0</td>\n",
       "      <td>0.0</td>\n",
       "      <td>0.0</td>\n",
       "      <td>0.0</td>\n",
       "      <td>0.0</td>\n",
       "      <td>0.0</td>\n",
       "      <td>0.0</td>\n",
       "      <td>0.0</td>\n",
       "      <td>0.0</td>\n",
       "      <td>T1</td>\n",
       "    </tr>\n",
       "    <tr>\n",
       "      <th>...</th>\n",
       "      <td>...</td>\n",
       "      <td>...</td>\n",
       "      <td>...</td>\n",
       "      <td>...</td>\n",
       "      <td>...</td>\n",
       "      <td>...</td>\n",
       "      <td>...</td>\n",
       "      <td>...</td>\n",
       "      <td>...</td>\n",
       "      <td>...</td>\n",
       "      <td>...</td>\n",
       "      <td>...</td>\n",
       "      <td>...</td>\n",
       "      <td>...</td>\n",
       "      <td>...</td>\n",
       "      <td>...</td>\n",
       "      <td>...</td>\n",
       "      <td>...</td>\n",
       "      <td>...</td>\n",
       "      <td>...</td>\n",
       "      <td>...</td>\n",
       "    </tr>\n",
       "    <tr>\n",
       "      <th>242</th>\n",
       "      <td>T9 Northern Line</td>\n",
       "      <td>Free Travel</td>\n",
       "      <td>0.0</td>\n",
       "      <td>0.0</td>\n",
       "      <td>0.0</td>\n",
       "      <td>0.0</td>\n",
       "      <td>0.0</td>\n",
       "      <td>0.0</td>\n",
       "      <td>0.0</td>\n",
       "      <td>0.0</td>\n",
       "      <td>...</td>\n",
       "      <td>527.0</td>\n",
       "      <td>767.0</td>\n",
       "      <td>778.0</td>\n",
       "      <td>977.0</td>\n",
       "      <td>905.0</td>\n",
       "      <td>713.0</td>\n",
       "      <td>146.0</td>\n",
       "      <td>91.0</td>\n",
       "      <td>129.0</td>\n",
       "      <td>T9</td>\n",
       "    </tr>\n",
       "    <tr>\n",
       "      <th>243</th>\n",
       "      <td>T9 Northern Line</td>\n",
       "      <td>School Student</td>\n",
       "      <td>0.0</td>\n",
       "      <td>0.0</td>\n",
       "      <td>0.0</td>\n",
       "      <td>0.0</td>\n",
       "      <td>0.0</td>\n",
       "      <td>0.0</td>\n",
       "      <td>0.0</td>\n",
       "      <td>0.0</td>\n",
       "      <td>...</td>\n",
       "      <td>4464.0</td>\n",
       "      <td>76522.0</td>\n",
       "      <td>88883.0</td>\n",
       "      <td>40886.0</td>\n",
       "      <td>85542.0</td>\n",
       "      <td>60247.0</td>\n",
       "      <td>218.0</td>\n",
       "      <td>280.0</td>\n",
       "      <td>218.0</td>\n",
       "      <td>T9</td>\n",
       "    </tr>\n",
       "    <tr>\n",
       "      <th>244</th>\n",
       "      <td>T9 Northern Line</td>\n",
       "      <td>Senior/Pensioner</td>\n",
       "      <td>0.0</td>\n",
       "      <td>0.0</td>\n",
       "      <td>0.0</td>\n",
       "      <td>0.0</td>\n",
       "      <td>0.0</td>\n",
       "      <td>0.0</td>\n",
       "      <td>0.0</td>\n",
       "      <td>0.0</td>\n",
       "      <td>...</td>\n",
       "      <td>86556.0</td>\n",
       "      <td>116405.0</td>\n",
       "      <td>134217.0</td>\n",
       "      <td>149381.0</td>\n",
       "      <td>155281.0</td>\n",
       "      <td>112473.0</td>\n",
       "      <td>28833.0</td>\n",
       "      <td>22091.0</td>\n",
       "      <td>24927.0</td>\n",
       "      <td>T9</td>\n",
       "    </tr>\n",
       "    <tr>\n",
       "      <th>245</th>\n",
       "      <td>T9 Northern Line</td>\n",
       "      <td>Sgl Trip Rail Child/Youth</td>\n",
       "      <td>0.0</td>\n",
       "      <td>0.0</td>\n",
       "      <td>0.0</td>\n",
       "      <td>0.0</td>\n",
       "      <td>0.0</td>\n",
       "      <td>0.0</td>\n",
       "      <td>0.0</td>\n",
       "      <td>0.0</td>\n",
       "      <td>...</td>\n",
       "      <td>941.0</td>\n",
       "      <td>726.0</td>\n",
       "      <td>783.0</td>\n",
       "      <td>1897.0</td>\n",
       "      <td>1020.0</td>\n",
       "      <td>634.0</td>\n",
       "      <td>169.0</td>\n",
       "      <td>80.0</td>\n",
       "      <td>104.0</td>\n",
       "      <td>T9</td>\n",
       "    </tr>\n",
       "    <tr>\n",
       "      <th>246</th>\n",
       "      <td>Grand Total</td>\n",
       "      <td>Total</td>\n",
       "      <td>28819249.0</td>\n",
       "      <td>32393980.0</td>\n",
       "      <td>30648352.0</td>\n",
       "      <td>30106833.0</td>\n",
       "      <td>31318279.0</td>\n",
       "      <td>28189584.0</td>\n",
       "      <td>26735422.0</td>\n",
       "      <td>28767036.0</td>\n",
       "      <td>...</td>\n",
       "      <td>13616536.0</td>\n",
       "      <td>17765453.0</td>\n",
       "      <td>20925803.0</td>\n",
       "      <td>20552499.0</td>\n",
       "      <td>21038609.0</td>\n",
       "      <td>17193476.0</td>\n",
       "      <td>5268833.0</td>\n",
       "      <td>4245889.0</td>\n",
       "      <td>4565875.0</td>\n",
       "      <td>Gr</td>\n",
       "    </tr>\n",
       "  </tbody>\n",
       "</table>\n",
       "<p>247 rows × 66 columns</p>\n",
       "</div>"
      ],
      "text/plain": [
       "                                        Route                   Travel_type  \\\n",
       "0    T1 North Shore Northern and Western Line                         Adult   \n",
       "1    T1 North Shore Northern and Western Line                   Child/Youth   \n",
       "2    T1 North Shore Northern and Western Line                    Concession   \n",
       "3    T1 North Shore Northern and Western Line  Day Pass Child/Youth w/o SAF   \n",
       "4    T1 North Shore Northern and Western Line          Day Pass without SAF   \n",
       "..                                        ...                           ...   \n",
       "242                          T9 Northern Line                   Free Travel   \n",
       "243                          T9 Northern Line                School Student   \n",
       "244                          T9 Northern Line              Senior/Pensioner   \n",
       "245                          T9 Northern Line     Sgl Trip Rail Child/Youth   \n",
       "246                               Grand Total                         Total   \n",
       "\n",
       "         Jul-16      Aug-16      Sep-16      Oct-16      Nov-16      Dec-16  \\\n",
       "0     8575135.0   9484134.0   8956112.0   8778524.0   9221978.0   8036202.0   \n",
       "1      432083.0    370300.0    425154.0    438430.0    404288.0    505401.0   \n",
       "2      790206.0   1081373.0    855554.0    839434.0    677907.0    524749.0   \n",
       "3           0.0         0.0         0.0         0.0         0.0         0.0   \n",
       "4           0.0         0.0         0.0         0.0         0.0         0.0   \n",
       "..          ...         ...         ...         ...         ...         ...   \n",
       "242         0.0         0.0         0.0         0.0         0.0         0.0   \n",
       "243         0.0         0.0         0.0         0.0         0.0         0.0   \n",
       "244         0.0         0.0         0.0         0.0         0.0         0.0   \n",
       "245         0.0         0.0         0.0         0.0         0.0         0.0   \n",
       "246  28819249.0  32393980.0  30648352.0  30106833.0  31318279.0  28189584.0   \n",
       "\n",
       "         Jan-17      Feb-17  ...      Jan-21      Feb-21      Mar-21  \\\n",
       "0     7774754.0   8446672.0  ...         0.0         0.0         0.0   \n",
       "1      552039.0    394228.0  ...         0.0         0.0         0.0   \n",
       "2      488489.0    607040.0  ...         0.0         0.0         0.0   \n",
       "3           0.0         0.0  ...         0.0         0.0         0.0   \n",
       "4           0.0         0.0  ...         0.0         0.0         0.0   \n",
       "..          ...         ...  ...         ...         ...         ...   \n",
       "242         0.0         0.0  ...       527.0       767.0       778.0   \n",
       "243         0.0         0.0  ...      4464.0     76522.0     88883.0   \n",
       "244         0.0         0.0  ...     86556.0    116405.0    134217.0   \n",
       "245         0.0         0.0  ...       941.0       726.0       783.0   \n",
       "246  26735422.0  28767036.0  ...  13616536.0  17765453.0  20925803.0   \n",
       "\n",
       "         Apr-21      May-21      Jun-21     Jul-21     Aug-21     Sep-21  \\\n",
       "0           0.0         0.0         0.0        0.0        0.0        0.0   \n",
       "1           0.0         0.0         0.0        0.0        0.0        0.0   \n",
       "2           0.0         0.0         0.0        0.0        0.0        0.0   \n",
       "3           0.0         0.0         0.0        0.0        0.0        0.0   \n",
       "4           0.0         0.0         0.0        0.0        0.0        0.0   \n",
       "..          ...         ...         ...        ...        ...        ...   \n",
       "242       977.0       905.0       713.0      146.0       91.0      129.0   \n",
       "243     40886.0     85542.0     60247.0      218.0      280.0      218.0   \n",
       "244    149381.0    155281.0    112473.0    28833.0    22091.0    24927.0   \n",
       "245      1897.0      1020.0       634.0      169.0       80.0      104.0   \n",
       "246  20552499.0  21038609.0  17193476.0  5268833.0  4245889.0  4565875.0   \n",
       "\n",
       "     TrainLine  \n",
       "0           T1  \n",
       "1           T1  \n",
       "2           T1  \n",
       "3           T1  \n",
       "4           T1  \n",
       "..         ...  \n",
       "242         T9  \n",
       "243         T9  \n",
       "244         T9  \n",
       "245         T9  \n",
       "246         Gr  \n",
       "\n",
       "[247 rows x 66 columns]"
      ]
     },
     "execution_count": 113,
     "metadata": {},
     "output_type": "execute_result"
    }
   ],
   "source": [
    "# str to int before we work on the data\n",
    "#x= data['Jul-16'][0].replace(\",\",\"\")\n",
    "data"
   ]
  },
  {
   "cell_type": "markdown",
   "id": "38a14479",
   "metadata": {},
   "source": [
    "# we can split the data fram into years 2016,2017,2018,2019,2020,2021"
   ]
  },
  {
   "cell_type": "code",
   "execution_count": 97,
   "id": "772cb40e",
   "metadata": {},
   "outputs": [],
   "source": [
    "df2016 = data[['TrainLine','Travel_type','Jul-16','Aug-16','Sep-16','Oct-16','Nov-16','Dec-16']]\n",
    "df2017 = data[['TrainLine','Travel_type','Jan-17','Feb-17','Mar-17','Apr-17','May-17','Jun-17','Jul-17','Aug-17','Sep-17','Oct-17','Nov-17','Dec-17']]\n",
    "df2018 = data[['TrainLine','Travel_type','Jan-18','Feb-18','Mar-18','Apr-18','May-18','Jun-18','Jul-18','Aug-18','Sep-18','Oct-18','Nov-18','Dec-18']]\n",
    "df2019 = data[['TrainLine','Travel_type','Jan-19','Feb-19','Mar-19','Apr-19','May-19','Jun-19','Jul-19','Aug-19','Sep-19','Oct-19','Nov-19','Dec-19']]\n",
    "df2020 = data[['TrainLine','Travel_type','Jan-20','Feb-20','Mar-20','Apr-20','May-20','Jun-20','Jul-20','Aug-20','Sep-20','Oct-20','Nov-20','Dec-20']]\n",
    "df2021 = data[['TrainLine','Travel_type','Jan-21','Feb-21','Mar-21','Apr-21','May-21','Jun-21','Jul-21','Aug-21','Sep-21']]\n"
   ]
  },
  {
   "cell_type": "code",
   "execution_count": 98,
   "id": "8b59b0e2",
   "metadata": {},
   "outputs": [],
   "source": [
    "## filtering adult coloumn \n",
    "adult16 = df2016[df2016.Travel_type == 'Adult']\n",
    "adult17 = df2017[df2017.Travel_type == 'Adult']\n",
    "adult18 = df2018[df2018.Travel_type == 'Adult']\n",
    "adult19 = df2019[df2019.Travel_type == 'Adult']\n",
    "adult20 = df2020[df2020.Travel_type == 'Adult']\n",
    "adult21 = df2021[df2021.Travel_type == 'Adult']\n",
    "\n",
    "Concession16 = df2016[df2016.Travel_type == 'Concession']\n",
    "Concession17 = df2017[df2017.Travel_type == 'Concession']\n",
    "Concession18 = df2018[df2018.Travel_type == 'Concession']\n",
    "Concession19 = df2019[df2019.Travel_type == 'Concession']\n",
    "Concession20 = df2020[df2020.Travel_type == 'Concession']\n",
    "Concession21 = df2021[df2021.Travel_type == 'Concession']\n"
   ]
  },
  {
   "cell_type": "code",
   "execution_count": 99,
   "id": "c5d28067",
   "metadata": {},
   "outputs": [],
   "source": [
    "## group by the trainline and travel type \n",
    "adult16 = adult16.groupby(['Travel_type','TrainLine'])\n",
    "adult17 = adult17.groupby(['Travel_type','TrainLine'])\n",
    "adult18 = adult18.groupby(['Travel_type','TrainLine'])\n",
    "adult19 = adult19.groupby(['Travel_type','TrainLine'])\n",
    "adult20 = adult20.groupby(['Travel_type','TrainLine'])\n",
    "adult21 = adult21.groupby(['Travel_type','TrainLine'])\n",
    "\n",
    "Concession16 = Concession16.groupby(['Travel_type','TrainLine'])\n",
    "Concession17 = Concession17.groupby(['Travel_type','TrainLine'])\n",
    "Concession18 = Concession18.groupby(['Travel_type','TrainLine'])\n",
    "Concession19 = Concession19.groupby(['Travel_type','TrainLine'])\n",
    "Concession20 = Concession20.groupby(['Travel_type','TrainLine'])\n",
    "Concession21 = Concession21.groupby(['Travel_type','TrainLine'])\n",
    "\n",
    "\n"
   ]
  },
  {
   "cell_type": "code",
   "execution_count": 100,
   "id": "f8c8634a",
   "metadata": {},
   "outputs": [],
   "source": [
    "## multiple row Referring to the same trainline \n"
   ]
  },
  {
   "cell_type": "code",
   "execution_count": 101,
   "id": "cfe12f94",
   "metadata": {},
   "outputs": [],
   "source": [
    "## final sum of the tables yearly "
   ]
  },
  {
   "cell_type": "code",
   "execution_count": 102,
   "id": "8b15f462",
   "metadata": {},
   "outputs": [],
   "source": [
    "sumadult16 = adult16.sum()\n",
    "sumadult17 = adult17.sum()\n",
    "sumadult18 = adult18.sum()\n",
    "sumadult19 = adult19.sum()\n",
    "sumadult20 = adult20.sum()\n",
    "sumadult21 = adult21.sum()\n",
    "\n",
    "sumConcession16 = Concession16.sum()\n",
    "sumConcession17 = Concession17.sum()\n",
    "sumConcession18 = Concession18.sum()\n",
    "sumConcession19 = Concession19.sum()\n",
    "sumConcession20 = Concession20.sum()\n",
    "sumConcession21 = Concession21.sum()\n",
    "\n",
    "## final table that has the total adult table with yearly total "
   ]
  },
  {
   "cell_type": "code",
   "execution_count": 106,
   "id": "1bfd9dbe",
   "metadata": {},
   "outputs": [
    {
     "data": {
      "text/html": [
       "<div>\n",
       "<style scoped>\n",
       "    .dataframe tbody tr th:only-of-type {\n",
       "        vertical-align: middle;\n",
       "    }\n",
       "\n",
       "    .dataframe tbody tr th {\n",
       "        vertical-align: top;\n",
       "    }\n",
       "\n",
       "    .dataframe thead th {\n",
       "        text-align: right;\n",
       "    }\n",
       "</style>\n",
       "<table border=\"1\" class=\"dataframe\">\n",
       "  <thead>\n",
       "    <tr style=\"text-align: right;\">\n",
       "      <th></th>\n",
       "      <th></th>\n",
       "      <th>Jan-21</th>\n",
       "      <th>Feb-21</th>\n",
       "      <th>Mar-21</th>\n",
       "      <th>Apr-21</th>\n",
       "      <th>May-21</th>\n",
       "      <th>Jun-21</th>\n",
       "      <th>Jul-21</th>\n",
       "      <th>Aug-21</th>\n",
       "      <th>Sep-21</th>\n",
       "    </tr>\n",
       "    <tr>\n",
       "      <th>Travel_type</th>\n",
       "      <th>TrainLine</th>\n",
       "      <th></th>\n",
       "      <th></th>\n",
       "      <th></th>\n",
       "      <th></th>\n",
       "      <th></th>\n",
       "      <th></th>\n",
       "      <th></th>\n",
       "      <th></th>\n",
       "      <th></th>\n",
       "    </tr>\n",
       "  </thead>\n",
       "  <tbody>\n",
       "    <tr>\n",
       "      <th rowspan=\"14\" valign=\"top\">Adult</th>\n",
       "      <th>Bl</th>\n",
       "      <td>191587.0</td>\n",
       "      <td>215611.0</td>\n",
       "      <td>248167.0</td>\n",
       "      <td>267221.0</td>\n",
       "      <td>243592.0</td>\n",
       "      <td>218192.0</td>\n",
       "      <td>73486.0</td>\n",
       "      <td>51628.0</td>\n",
       "      <td>54772.0</td>\n",
       "    </tr>\n",
       "    <tr>\n",
       "      <th>Ce</th>\n",
       "      <td>306328.0</td>\n",
       "      <td>400043.0</td>\n",
       "      <td>456765.0</td>\n",
       "      <td>474845.0</td>\n",
       "      <td>478407.0</td>\n",
       "      <td>364493.0</td>\n",
       "      <td>115111.0</td>\n",
       "      <td>91711.0</td>\n",
       "      <td>92176.0</td>\n",
       "    </tr>\n",
       "    <tr>\n",
       "      <th>Hu</th>\n",
       "      <td>15693.0</td>\n",
       "      <td>19030.0</td>\n",
       "      <td>19000.0</td>\n",
       "      <td>21817.0</td>\n",
       "      <td>22552.0</td>\n",
       "      <td>18955.0</td>\n",
       "      <td>13904.0</td>\n",
       "      <td>6379.0</td>\n",
       "      <td>4551.0</td>\n",
       "    </tr>\n",
       "    <tr>\n",
       "      <th>So</th>\n",
       "      <td>194022.0</td>\n",
       "      <td>231817.0</td>\n",
       "      <td>268885.0</td>\n",
       "      <td>258594.0</td>\n",
       "      <td>272613.0</td>\n",
       "      <td>216014.0</td>\n",
       "      <td>65771.0</td>\n",
       "      <td>56574.0</td>\n",
       "      <td>54467.0</td>\n",
       "    </tr>\n",
       "    <tr>\n",
       "      <th>St</th>\n",
       "      <td>0.0</td>\n",
       "      <td>0.0</td>\n",
       "      <td>0.0</td>\n",
       "      <td>0.0</td>\n",
       "      <td>0.0</td>\n",
       "      <td>0.0</td>\n",
       "      <td>0.0</td>\n",
       "      <td>0.0</td>\n",
       "      <td>0.0</td>\n",
       "    </tr>\n",
       "    <tr>\n",
       "      <th>T1</th>\n",
       "      <td>2072890.0</td>\n",
       "      <td>2732176.0</td>\n",
       "      <td>3186268.0</td>\n",
       "      <td>3139610.0</td>\n",
       "      <td>3270742.0</td>\n",
       "      <td>2671322.0</td>\n",
       "      <td>922742.0</td>\n",
       "      <td>744936.0</td>\n",
       "      <td>789155.0</td>\n",
       "    </tr>\n",
       "    <tr>\n",
       "      <th>T2</th>\n",
       "      <td>1265795.0</td>\n",
       "      <td>1531228.0</td>\n",
       "      <td>1798040.0</td>\n",
       "      <td>1642978.0</td>\n",
       "      <td>1600892.0</td>\n",
       "      <td>1494399.0</td>\n",
       "      <td>559423.0</td>\n",
       "      <td>449097.0</td>\n",
       "      <td>479690.0</td>\n",
       "    </tr>\n",
       "    <tr>\n",
       "      <th>T3</th>\n",
       "      <td>639096.0</td>\n",
       "      <td>781137.0</td>\n",
       "      <td>851759.0</td>\n",
       "      <td>850934.0</td>\n",
       "      <td>846030.0</td>\n",
       "      <td>706701.0</td>\n",
       "      <td>208600.0</td>\n",
       "      <td>198920.0</td>\n",
       "      <td>231984.0</td>\n",
       "    </tr>\n",
       "    <tr>\n",
       "      <th>T4</th>\n",
       "      <td>1538773.0</td>\n",
       "      <td>1713603.0</td>\n",
       "      <td>1982189.0</td>\n",
       "      <td>1856641.0</td>\n",
       "      <td>1937118.0</td>\n",
       "      <td>1596551.0</td>\n",
       "      <td>631262.0</td>\n",
       "      <td>530477.0</td>\n",
       "      <td>534231.0</td>\n",
       "    </tr>\n",
       "    <tr>\n",
       "      <th>T5</th>\n",
       "      <td>201514.0</td>\n",
       "      <td>293372.0</td>\n",
       "      <td>284364.0</td>\n",
       "      <td>279616.0</td>\n",
       "      <td>305354.0</td>\n",
       "      <td>244406.0</td>\n",
       "      <td>100527.0</td>\n",
       "      <td>62668.0</td>\n",
       "      <td>71368.0</td>\n",
       "    </tr>\n",
       "    <tr>\n",
       "      <th>T6</th>\n",
       "      <td>5673.0</td>\n",
       "      <td>6984.0</td>\n",
       "      <td>8548.0</td>\n",
       "      <td>7824.0</td>\n",
       "      <td>8229.0</td>\n",
       "      <td>7560.0</td>\n",
       "      <td>3908.0</td>\n",
       "      <td>3310.0</td>\n",
       "      <td>4102.0</td>\n",
       "    </tr>\n",
       "    <tr>\n",
       "      <th>T7</th>\n",
       "      <td>19725.0</td>\n",
       "      <td>29285.0</td>\n",
       "      <td>37870.0</td>\n",
       "      <td>65358.0</td>\n",
       "      <td>48087.0</td>\n",
       "      <td>51312.0</td>\n",
       "      <td>25498.0</td>\n",
       "      <td>35077.0</td>\n",
       "      <td>33909.0</td>\n",
       "    </tr>\n",
       "    <tr>\n",
       "      <th>T8</th>\n",
       "      <td>827040.0</td>\n",
       "      <td>1028685.0</td>\n",
       "      <td>1228446.0</td>\n",
       "      <td>1195959.0</td>\n",
       "      <td>1203356.0</td>\n",
       "      <td>999705.0</td>\n",
       "      <td>362972.0</td>\n",
       "      <td>255058.0</td>\n",
       "      <td>269797.0</td>\n",
       "    </tr>\n",
       "    <tr>\n",
       "      <th>T9</th>\n",
       "      <td>591055.0</td>\n",
       "      <td>698236.0</td>\n",
       "      <td>772130.0</td>\n",
       "      <td>790858.0</td>\n",
       "      <td>846242.0</td>\n",
       "      <td>618143.0</td>\n",
       "      <td>220326.0</td>\n",
       "      <td>187027.0</td>\n",
       "      <td>194425.0</td>\n",
       "    </tr>\n",
       "  </tbody>\n",
       "</table>\n",
       "</div>"
      ],
      "text/plain": [
       "                          Jan-21     Feb-21     Mar-21     Apr-21     May-21  \\\n",
       "Travel_type TrainLine                                                          \n",
       "Adult       Bl          191587.0   215611.0   248167.0   267221.0   243592.0   \n",
       "            Ce          306328.0   400043.0   456765.0   474845.0   478407.0   \n",
       "            Hu           15693.0    19030.0    19000.0    21817.0    22552.0   \n",
       "            So          194022.0   231817.0   268885.0   258594.0   272613.0   \n",
       "            St               0.0        0.0        0.0        0.0        0.0   \n",
       "            T1         2072890.0  2732176.0  3186268.0  3139610.0  3270742.0   \n",
       "            T2         1265795.0  1531228.0  1798040.0  1642978.0  1600892.0   \n",
       "            T3          639096.0   781137.0   851759.0   850934.0   846030.0   \n",
       "            T4         1538773.0  1713603.0  1982189.0  1856641.0  1937118.0   \n",
       "            T5          201514.0   293372.0   284364.0   279616.0   305354.0   \n",
       "            T6            5673.0     6984.0     8548.0     7824.0     8229.0   \n",
       "            T7           19725.0    29285.0    37870.0    65358.0    48087.0   \n",
       "            T8          827040.0  1028685.0  1228446.0  1195959.0  1203356.0   \n",
       "            T9          591055.0   698236.0   772130.0   790858.0   846242.0   \n",
       "\n",
       "                          Jun-21    Jul-21    Aug-21    Sep-21  \n",
       "Travel_type TrainLine                                           \n",
       "Adult       Bl          218192.0   73486.0   51628.0   54772.0  \n",
       "            Ce          364493.0  115111.0   91711.0   92176.0  \n",
       "            Hu           18955.0   13904.0    6379.0    4551.0  \n",
       "            So          216014.0   65771.0   56574.0   54467.0  \n",
       "            St               0.0       0.0       0.0       0.0  \n",
       "            T1         2671322.0  922742.0  744936.0  789155.0  \n",
       "            T2         1494399.0  559423.0  449097.0  479690.0  \n",
       "            T3          706701.0  208600.0  198920.0  231984.0  \n",
       "            T4         1596551.0  631262.0  530477.0  534231.0  \n",
       "            T5          244406.0  100527.0   62668.0   71368.0  \n",
       "            T6            7560.0    3908.0    3310.0    4102.0  \n",
       "            T7           51312.0   25498.0   35077.0   33909.0  \n",
       "            T8          999705.0  362972.0  255058.0  269797.0  \n",
       "            T9          618143.0  220326.0  187027.0  194425.0  "
      ]
     },
     "execution_count": 106,
     "metadata": {},
     "output_type": "execute_result"
    }
   ],
   "source": [
    "sumadult21"
   ]
  },
  {
   "cell_type": "code",
   "execution_count": 104,
   "id": "c44667e7",
   "metadata": {},
   "outputs": [
    {
     "data": {
      "text/html": [
       "<div>\n",
       "<style scoped>\n",
       "    .dataframe tbody tr th:only-of-type {\n",
       "        vertical-align: middle;\n",
       "    }\n",
       "\n",
       "    .dataframe tbody tr th {\n",
       "        vertical-align: top;\n",
       "    }\n",
       "\n",
       "    .dataframe thead th {\n",
       "        text-align: right;\n",
       "    }\n",
       "</style>\n",
       "<table border=\"1\" class=\"dataframe\">\n",
       "  <thead>\n",
       "    <tr style=\"text-align: right;\">\n",
       "      <th></th>\n",
       "      <th></th>\n",
       "      <th>Jan-21</th>\n",
       "      <th>Feb-21</th>\n",
       "      <th>Mar-21</th>\n",
       "      <th>Apr-21</th>\n",
       "      <th>May-21</th>\n",
       "      <th>Jun-21</th>\n",
       "      <th>Jul-21</th>\n",
       "      <th>Aug-21</th>\n",
       "      <th>Sep-21</th>\n",
       "    </tr>\n",
       "    <tr>\n",
       "      <th>Travel_type</th>\n",
       "      <th>TrainLine</th>\n",
       "      <th></th>\n",
       "      <th></th>\n",
       "      <th></th>\n",
       "      <th></th>\n",
       "      <th></th>\n",
       "      <th></th>\n",
       "      <th></th>\n",
       "      <th></th>\n",
       "      <th></th>\n",
       "    </tr>\n",
       "  </thead>\n",
       "  <tbody>\n",
       "    <tr>\n",
       "      <th rowspan=\"14\" valign=\"top\">Concession</th>\n",
       "      <th>Bl</th>\n",
       "      <td>14093.0</td>\n",
       "      <td>20488.0</td>\n",
       "      <td>34830.0</td>\n",
       "      <td>29678.0</td>\n",
       "      <td>28821.0</td>\n",
       "      <td>20729.0</td>\n",
       "      <td>3274.0</td>\n",
       "      <td>2023.0</td>\n",
       "      <td>2095.0</td>\n",
       "    </tr>\n",
       "    <tr>\n",
       "      <th>Ce</th>\n",
       "      <td>27603.0</td>\n",
       "      <td>44189.0</td>\n",
       "      <td>75823.0</td>\n",
       "      <td>61827.0</td>\n",
       "      <td>68375.0</td>\n",
       "      <td>40290.0</td>\n",
       "      <td>6683.0</td>\n",
       "      <td>4640.0</td>\n",
       "      <td>4599.0</td>\n",
       "    </tr>\n",
       "    <tr>\n",
       "      <th>Hu</th>\n",
       "      <td>2066.0</td>\n",
       "      <td>3834.0</td>\n",
       "      <td>7063.0</td>\n",
       "      <td>5815.0</td>\n",
       "      <td>7781.0</td>\n",
       "      <td>3289.0</td>\n",
       "      <td>2510.0</td>\n",
       "      <td>905.0</td>\n",
       "      <td>527.0</td>\n",
       "    </tr>\n",
       "    <tr>\n",
       "      <th>So</th>\n",
       "      <td>14634.0</td>\n",
       "      <td>22587.0</td>\n",
       "      <td>37549.0</td>\n",
       "      <td>30148.0</td>\n",
       "      <td>33217.0</td>\n",
       "      <td>22117.0</td>\n",
       "      <td>3618.0</td>\n",
       "      <td>3215.0</td>\n",
       "      <td>2800.0</td>\n",
       "    </tr>\n",
       "    <tr>\n",
       "      <th>St</th>\n",
       "      <td>0.0</td>\n",
       "      <td>0.0</td>\n",
       "      <td>0.0</td>\n",
       "      <td>0.0</td>\n",
       "      <td>0.0</td>\n",
       "      <td>0.0</td>\n",
       "      <td>0.0</td>\n",
       "      <td>0.0</td>\n",
       "      <td>0.0</td>\n",
       "    </tr>\n",
       "    <tr>\n",
       "      <th>T1</th>\n",
       "      <td>174608.0</td>\n",
       "      <td>279788.0</td>\n",
       "      <td>458033.0</td>\n",
       "      <td>366573.0</td>\n",
       "      <td>382740.0</td>\n",
       "      <td>261707.0</td>\n",
       "      <td>51850.0</td>\n",
       "      <td>38330.0</td>\n",
       "      <td>39946.0</td>\n",
       "    </tr>\n",
       "    <tr>\n",
       "      <th>T2</th>\n",
       "      <td>100849.0</td>\n",
       "      <td>161106.0</td>\n",
       "      <td>252608.0</td>\n",
       "      <td>188122.0</td>\n",
       "      <td>185025.0</td>\n",
       "      <td>151407.0</td>\n",
       "      <td>25580.0</td>\n",
       "      <td>16866.0</td>\n",
       "      <td>18259.0</td>\n",
       "    </tr>\n",
       "    <tr>\n",
       "      <th>T3</th>\n",
       "      <td>50544.0</td>\n",
       "      <td>84021.0</td>\n",
       "      <td>125427.0</td>\n",
       "      <td>103522.0</td>\n",
       "      <td>100372.0</td>\n",
       "      <td>73846.0</td>\n",
       "      <td>10789.0</td>\n",
       "      <td>9501.0</td>\n",
       "      <td>10790.0</td>\n",
       "    </tr>\n",
       "    <tr>\n",
       "      <th>T4</th>\n",
       "      <td>108039.0</td>\n",
       "      <td>145573.0</td>\n",
       "      <td>215502.0</td>\n",
       "      <td>171811.0</td>\n",
       "      <td>181152.0</td>\n",
       "      <td>133337.0</td>\n",
       "      <td>30578.0</td>\n",
       "      <td>23371.0</td>\n",
       "      <td>24111.0</td>\n",
       "    </tr>\n",
       "    <tr>\n",
       "      <th>T5</th>\n",
       "      <td>14194.0</td>\n",
       "      <td>29189.0</td>\n",
       "      <td>42656.0</td>\n",
       "      <td>33213.0</td>\n",
       "      <td>36245.0</td>\n",
       "      <td>23978.0</td>\n",
       "      <td>3587.0</td>\n",
       "      <td>1315.0</td>\n",
       "      <td>1654.0</td>\n",
       "    </tr>\n",
       "    <tr>\n",
       "      <th>T6</th>\n",
       "      <td>421.0</td>\n",
       "      <td>543.0</td>\n",
       "      <td>803.0</td>\n",
       "      <td>694.0</td>\n",
       "      <td>732.0</td>\n",
       "      <td>642.0</td>\n",
       "      <td>238.0</td>\n",
       "      <td>178.0</td>\n",
       "      <td>134.0</td>\n",
       "    </tr>\n",
       "    <tr>\n",
       "      <th>T7</th>\n",
       "      <td>1121.0</td>\n",
       "      <td>2042.0</td>\n",
       "      <td>3669.0</td>\n",
       "      <td>6312.0</td>\n",
       "      <td>4302.0</td>\n",
       "      <td>4321.0</td>\n",
       "      <td>1061.0</td>\n",
       "      <td>1745.0</td>\n",
       "      <td>1595.0</td>\n",
       "    </tr>\n",
       "    <tr>\n",
       "      <th>T8</th>\n",
       "      <td>65615.0</td>\n",
       "      <td>102730.0</td>\n",
       "      <td>157702.0</td>\n",
       "      <td>123187.0</td>\n",
       "      <td>125765.0</td>\n",
       "      <td>93683.0</td>\n",
       "      <td>19999.0</td>\n",
       "      <td>11707.0</td>\n",
       "      <td>12947.0</td>\n",
       "    </tr>\n",
       "    <tr>\n",
       "      <th>T9</th>\n",
       "      <td>55153.0</td>\n",
       "      <td>84507.0</td>\n",
       "      <td>129248.0</td>\n",
       "      <td>106726.0</td>\n",
       "      <td>114341.0</td>\n",
       "      <td>72774.0</td>\n",
       "      <td>12120.0</td>\n",
       "      <td>8798.0</td>\n",
       "      <td>8911.0</td>\n",
       "    </tr>\n",
       "  </tbody>\n",
       "</table>\n",
       "</div>"
      ],
      "text/plain": [
       "                         Jan-21    Feb-21    Mar-21    Apr-21    May-21  \\\n",
       "Travel_type TrainLine                                                     \n",
       "Concession  Bl          14093.0   20488.0   34830.0   29678.0   28821.0   \n",
       "            Ce          27603.0   44189.0   75823.0   61827.0   68375.0   \n",
       "            Hu           2066.0    3834.0    7063.0    5815.0    7781.0   \n",
       "            So          14634.0   22587.0   37549.0   30148.0   33217.0   \n",
       "            St              0.0       0.0       0.0       0.0       0.0   \n",
       "            T1         174608.0  279788.0  458033.0  366573.0  382740.0   \n",
       "            T2         100849.0  161106.0  252608.0  188122.0  185025.0   \n",
       "            T3          50544.0   84021.0  125427.0  103522.0  100372.0   \n",
       "            T4         108039.0  145573.0  215502.0  171811.0  181152.0   \n",
       "            T5          14194.0   29189.0   42656.0   33213.0   36245.0   \n",
       "            T6            421.0     543.0     803.0     694.0     732.0   \n",
       "            T7           1121.0    2042.0    3669.0    6312.0    4302.0   \n",
       "            T8          65615.0  102730.0  157702.0  123187.0  125765.0   \n",
       "            T9          55153.0   84507.0  129248.0  106726.0  114341.0   \n",
       "\n",
       "                         Jun-21   Jul-21   Aug-21   Sep-21  \n",
       "Travel_type TrainLine                                       \n",
       "Concession  Bl          20729.0   3274.0   2023.0   2095.0  \n",
       "            Ce          40290.0   6683.0   4640.0   4599.0  \n",
       "            Hu           3289.0   2510.0    905.0    527.0  \n",
       "            So          22117.0   3618.0   3215.0   2800.0  \n",
       "            St              0.0      0.0      0.0      0.0  \n",
       "            T1         261707.0  51850.0  38330.0  39946.0  \n",
       "            T2         151407.0  25580.0  16866.0  18259.0  \n",
       "            T3          73846.0  10789.0   9501.0  10790.0  \n",
       "            T4         133337.0  30578.0  23371.0  24111.0  \n",
       "            T5          23978.0   3587.0   1315.0   1654.0  \n",
       "            T6            642.0    238.0    178.0    134.0  \n",
       "            T7           4321.0   1061.0   1745.0   1595.0  \n",
       "            T8          93683.0  19999.0  11707.0  12947.0  \n",
       "            T9          72774.0  12120.0   8798.0   8911.0  "
      ]
     },
     "execution_count": 104,
     "metadata": {},
     "output_type": "execute_result"
    }
   ],
   "source": [
    "sumConcession21"
   ]
  },
  {
   "cell_type": "code",
   "execution_count": 105,
   "id": "8937bfa7",
   "metadata": {},
   "outputs": [],
   "source": [
    "# df2016 = df2016.groupby(['TrainLine','Travel_type'])\n",
    "# df2017 = df2017.groupby(['TrainLine','Travel_type'])\n",
    "# df2018 = df2018.groupby(['TrainLine','Travel_type'])\n",
    "# df2019 = df2019.groupby(['TrainLine','Travel_type'])\n",
    "# df2020 = df2020.groupby(['TrainLine','Travel_type'])\n",
    "# df2021 = df2021.groupby(['TrainLine','Travel_type'])\n"
   ]
  },
  {
   "cell_type": "code",
   "execution_count": null,
   "id": "07454c41",
   "metadata": {},
   "outputs": [],
   "source": []
  },
  {
   "cell_type": "code",
   "execution_count": 28,
   "id": "9bffe451",
   "metadata": {},
   "outputs": [
    {
     "data": {
      "text/plain": [
       "Text(0, 0.5, 'Number of hits')"
      ]
     },
     "execution_count": 28,
     "metadata": {},
     "output_type": "execute_result"
    },
    {
     "data": {
      "image/png": "[encoded data removed]",
      "text/plain": [
       "<Figure size 1080x576 with 1 Axes>"
      ]
     },
     "metadata": {
      "needs_background": "light"
     },
     "output_type": "display_data"
    }
   ],
   "source": [
    "plot = sumadult16.plot(kind='bar',figsize=(15,8), title=\"Number of hits per Weapon\",)\n",
    "plot.set_xlabel(\"Weapon Name\")\n",
    "plot.set_ylabel(\"Number of hits\")\n"
   ]
  },
  {
   "cell_type": "code",
   "execution_count": 29,
   "id": "8bcde70b",
   "metadata": {},
   "outputs": [
    {
     "data": {
      "text/plain": [
       "Text(0, 0.5, 'Number of hits')"
      ]
     },
     "execution_count": 29,
     "metadata": {},
     "output_type": "execute_result"
    },
    {
     "data": {
      "image/png": "[encoded data removed]",
      "text/plain": [
       "<Figure size 1080x576 with 1 Axes>"
      ]
     },
     "metadata": {
      "needs_background": "light"
     },
     "output_type": "display_data"
    }
   ],
   "source": [
    "plot = sumadult17.plot(kind='bar',figsize=(15,8), title=\"Number of hits per Weapon\",)\n",
    "plot.set_xlabel(\"Weapon Name\")\n",
    "plot.set_ylabel(\"Number of hits\")\n"
   ]
  },
  {
   "cell_type": "code",
   "execution_count": 30,
   "id": "9b98fc20",
   "metadata": {},
   "outputs": [
    {
     "data": {
      "text/plain": [
       "Text(0, 0.5, 'Number of hits')"
      ]
     },
     "execution_count": 30,
     "metadata": {},
     "output_type": "execute_result"
    },
    {
     "data": {
      "image/png": "[encoded data removed]",
      "text/plain": [
       "<Figure size 1080x576 with 1 Axes>"
      ]
     },
     "metadata": {
      "needs_background": "light"
     },
     "output_type": "display_data"
    }
   ],
   "source": [
    "plot = sumadult18.plot(kind='bar',figsize=(15,8), title=\"Number of hits per Weapon\",)\n",
    "plot.set_xlabel(\"Weapon Name\")\n",
    "plot.set_ylabel(\"Number of hits\")\n"
   ]
  },
  {
   "cell_type": "code",
   "execution_count": 31,
   "id": "6f5f56cb",
   "metadata": {},
   "outputs": [
    {
     "data": {
      "text/plain": [
       "Text(0, 0.5, 'Number of hits')"
      ]
     },
     "execution_count": 31,
     "metadata": {},
     "output_type": "execute_result"
    },
    {
     "data": {
      "image/png": "[encoded data removed]",
      "text/plain": [
       "<Figure size 1080x576 with 1 Axes>"
      ]
     },
     "metadata": {
      "needs_background": "light"
     },
     "output_type": "display_data"
    }
   ],
   "source": [
    "plot = sumadult19.plot(kind='bar',figsize=(15,8), title=\"Number of hits per Weapon\",)\n",
    "plot.set_xlabel(\"Weapon Name\")\n",
    "plot.set_ylabel(\"Number of hits\")\n"
   ]
  },
  {
   "cell_type": "code",
   "execution_count": 32,
   "id": "2b6161d5",
   "metadata": {},
   "outputs": [
    {
     "data": {
      "text/plain": [
       "Text(0, 0.5, 'Number of hits')"
      ]
     },
     "execution_count": 32,
     "metadata": {},
     "output_type": "execute_result"
    },
    {
     "data": {
      "image/png": "[encoded data removed]",
      "text/plain": [
       "<Figure size 1080x576 with 1 Axes>"
      ]
     },
     "metadata": {
      "needs_background": "light"
     },
     "output_type": "display_data"
    }
   ],
   "source": [
    "plot = sumadult20.plot(kind='bar',figsize=(15,8), title=\"Number of hits per Weapon\",)\n",
    "plot.set_xlabel(\"Weapon Name\")\n",
    "plot.set_ylabel(\"Number of hits\")\n"
   ]
  },
  {
   "cell_type": "code",
   "execution_count": 33,
   "id": "95815fd1",
   "metadata": {},
   "outputs": [
    {
     "data": {
      "text/plain": [
       "Text(0, 0.5, 'Number of hits')"
      ]
     },
     "execution_count": 33,
     "metadata": {},
     "output_type": "execute_result"
    },
    {
     "data": {
      "image/png": "[encoded data removed]",
      "text/plain": [
       "<Figure size 1080x576 with 1 Axes>"
      ]
     },
     "metadata": {
      "needs_background": "light"
     },
     "output_type": "display_data"
    }
   ],
   "source": [
    "plot = sumadult21.plot(kind='bar',figsize=(15,8), title=\"Number of hits per Weapon\",)\n",
    "plot.set_xlabel(\"Weapon Name\")\n",
    "plot.set_ylabel(\"Number of hits\")\n"
   ]
  },
  {
   "cell_type": "code",
   "execution_count": 34,
   "id": "eab0c937",
   "metadata": {},
   "outputs": [],
   "source": [
    "sum2016 = adult16.sum()\n",
    "sum2017 = adult17.sum()\n",
    "sum2018 = adult18.sum()\n",
    "sum2019 = adult19.sum()\n",
    "sum2020 = adult20.sum()\n",
    "sum2021 = adult21.sum()"
   ]
  },
  {
   "cell_type": "code",
   "execution_count": 35,
   "id": "5d665072",
   "metadata": {},
   "outputs": [
    {
     "data": {
      "text/html": [
       "<div>\n",
       "<style scoped>\n",
       "    .dataframe tbody tr th:only-of-type {\n",
       "        vertical-align: middle;\n",
       "    }\n",
       "\n",
       "    .dataframe tbody tr th {\n",
       "        vertical-align: top;\n",
       "    }\n",
       "\n",
       "    .dataframe thead th {\n",
       "        text-align: right;\n",
       "    }\n",
       "</style>\n",
       "<table border=\"1\" class=\"dataframe\">\n",
       "  <thead>\n",
       "    <tr style=\"text-align: right;\">\n",
       "      <th></th>\n",
       "      <th></th>\n",
       "      <th>Jul-16</th>\n",
       "      <th>Aug-16</th>\n",
       "      <th>Sep-16</th>\n",
       "      <th>Oct-16</th>\n",
       "      <th>Nov-16</th>\n",
       "      <th>Dec-16</th>\n",
       "    </tr>\n",
       "    <tr>\n",
       "      <th>Travel_type</th>\n",
       "      <th>TrainLine</th>\n",
       "      <th></th>\n",
       "      <th></th>\n",
       "      <th></th>\n",
       "      <th></th>\n",
       "      <th></th>\n",
       "      <th></th>\n",
       "    </tr>\n",
       "  </thead>\n",
       "  <tbody>\n",
       "    <tr>\n",
       "      <th rowspan=\"14\" valign=\"top\">Adult</th>\n",
       "      <th>Bl</th>\n",
       "      <td>537669.0</td>\n",
       "      <td>578758.0</td>\n",
       "      <td>570413.0</td>\n",
       "      <td>571910.0</td>\n",
       "      <td>585478.0</td>\n",
       "      <td>541787.0</td>\n",
       "    </tr>\n",
       "    <tr>\n",
       "      <th>Ce</th>\n",
       "      <td>1073971.0</td>\n",
       "      <td>1125393.0</td>\n",
       "      <td>1090172.0</td>\n",
       "      <td>1051048.0</td>\n",
       "      <td>1126345.0</td>\n",
       "      <td>998680.0</td>\n",
       "    </tr>\n",
       "    <tr>\n",
       "      <th>Hu</th>\n",
       "      <td>35095.0</td>\n",
       "      <td>29693.0</td>\n",
       "      <td>36901.0</td>\n",
       "      <td>35439.0</td>\n",
       "      <td>39132.0</td>\n",
       "      <td>33766.0</td>\n",
       "    </tr>\n",
       "    <tr>\n",
       "      <th>So</th>\n",
       "      <td>578349.0</td>\n",
       "      <td>649695.0</td>\n",
       "      <td>626685.0</td>\n",
       "      <td>609826.0</td>\n",
       "      <td>663417.0</td>\n",
       "      <td>608878.0</td>\n",
       "    </tr>\n",
       "    <tr>\n",
       "      <th>St</th>\n",
       "      <td>0.0</td>\n",
       "      <td>0.0</td>\n",
       "      <td>0.0</td>\n",
       "      <td>0.0</td>\n",
       "      <td>0.0</td>\n",
       "      <td>0.0</td>\n",
       "    </tr>\n",
       "    <tr>\n",
       "      <th>T1</th>\n",
       "      <td>8575135.0</td>\n",
       "      <td>9484134.0</td>\n",
       "      <td>8956112.0</td>\n",
       "      <td>8778524.0</td>\n",
       "      <td>9221978.0</td>\n",
       "      <td>8036202.0</td>\n",
       "    </tr>\n",
       "    <tr>\n",
       "      <th>T2</th>\n",
       "      <td>5266404.0</td>\n",
       "      <td>5568667.0</td>\n",
       "      <td>5382635.0</td>\n",
       "      <td>5328090.0</td>\n",
       "      <td>5519508.0</td>\n",
       "      <td>5124055.0</td>\n",
       "    </tr>\n",
       "    <tr>\n",
       "      <th>T3</th>\n",
       "      <td>1615473.0</td>\n",
       "      <td>1767064.0</td>\n",
       "      <td>1689548.0</td>\n",
       "      <td>1691384.0</td>\n",
       "      <td>1747282.0</td>\n",
       "      <td>1588061.0</td>\n",
       "    </tr>\n",
       "    <tr>\n",
       "      <th>T4</th>\n",
       "      <td>3970697.0</td>\n",
       "      <td>4389115.0</td>\n",
       "      <td>4212808.0</td>\n",
       "      <td>4042741.0</td>\n",
       "      <td>4461496.0</td>\n",
       "      <td>4147929.0</td>\n",
       "    </tr>\n",
       "    <tr>\n",
       "      <th>T5</th>\n",
       "      <td>335951.0</td>\n",
       "      <td>372709.0</td>\n",
       "      <td>358049.0</td>\n",
       "      <td>349051.0</td>\n",
       "      <td>362326.0</td>\n",
       "      <td>322395.0</td>\n",
       "    </tr>\n",
       "    <tr>\n",
       "      <th>T6</th>\n",
       "      <td>31864.0</td>\n",
       "      <td>40123.0</td>\n",
       "      <td>35855.0</td>\n",
       "      <td>33920.0</td>\n",
       "      <td>36327.0</td>\n",
       "      <td>30726.0</td>\n",
       "    </tr>\n",
       "    <tr>\n",
       "      <th>T7</th>\n",
       "      <td>124590.0</td>\n",
       "      <td>124612.0</td>\n",
       "      <td>102987.0</td>\n",
       "      <td>116328.0</td>\n",
       "      <td>104223.0</td>\n",
       "      <td>99922.0</td>\n",
       "    </tr>\n",
       "    <tr>\n",
       "      <th>T8</th>\n",
       "      <td>0.0</td>\n",
       "      <td>0.0</td>\n",
       "      <td>0.0</td>\n",
       "      <td>0.0</td>\n",
       "      <td>0.0</td>\n",
       "      <td>0.0</td>\n",
       "    </tr>\n",
       "    <tr>\n",
       "      <th>T9</th>\n",
       "      <td>0.0</td>\n",
       "      <td>0.0</td>\n",
       "      <td>0.0</td>\n",
       "      <td>0.0</td>\n",
       "      <td>0.0</td>\n",
       "      <td>0.0</td>\n",
       "    </tr>\n",
       "  </tbody>\n",
       "</table>\n",
       "</div>"
      ],
      "text/plain": [
       "                          Jul-16     Aug-16     Sep-16     Oct-16     Nov-16  \\\n",
       "Travel_type TrainLine                                                          \n",
       "Adult       Bl          537669.0   578758.0   570413.0   571910.0   585478.0   \n",
       "            Ce         1073971.0  1125393.0  1090172.0  1051048.0  1126345.0   \n",
       "            Hu           35095.0    29693.0    36901.0    35439.0    39132.0   \n",
       "            So          578349.0   649695.0   626685.0   609826.0   663417.0   \n",
       "            St               0.0        0.0        0.0        0.0        0.0   \n",
       "            T1         8575135.0  9484134.0  8956112.0  8778524.0  9221978.0   \n",
       "            T2         5266404.0  5568667.0  5382635.0  5328090.0  5519508.0   \n",
       "            T3         1615473.0  1767064.0  1689548.0  1691384.0  1747282.0   \n",
       "            T4         3970697.0  4389115.0  4212808.0  4042741.0  4461496.0   \n",
       "            T5          335951.0   372709.0   358049.0   349051.0   362326.0   \n",
       "            T6           31864.0    40123.0    35855.0    33920.0    36327.0   \n",
       "            T7          124590.0   124612.0   102987.0   116328.0   104223.0   \n",
       "            T8               0.0        0.0        0.0        0.0        0.0   \n",
       "            T9               0.0        0.0        0.0        0.0        0.0   \n",
       "\n",
       "                          Dec-16  \n",
       "Travel_type TrainLine             \n",
       "Adult       Bl          541787.0  \n",
       "            Ce          998680.0  \n",
       "            Hu           33766.0  \n",
       "            So          608878.0  \n",
       "            St               0.0  \n",
       "            T1         8036202.0  \n",
       "            T2         5124055.0  \n",
       "            T3         1588061.0  \n",
       "            T4         4147929.0  \n",
       "            T5          322395.0  \n",
       "            T6           30726.0  \n",
       "            T7           99922.0  \n",
       "            T8               0.0  \n",
       "            T9               0.0  "
      ]
     },
     "execution_count": 35,
     "metadata": {},
     "output_type": "execute_result"
    }
   ],
   "source": [
    "sum2016"
   ]
  },
  {
   "cell_type": "code",
   "execution_count": 140,
   "id": "77e5d698",
   "metadata": {},
   "outputs": [
    {
     "data": {
      "text/plain": [
       "Text(0, 0.5, 'Number of hits')"
      ]
     },
     "execution_count": 140,
     "metadata": {},
     "output_type": "execute_result"
    },
    {
     "data": {
      "image/png": "[encoded data removed]",
      "text/plain": [
       "<Figure size 1080x576 with 1 Axes>"
      ]
     },
     "metadata": {
      "needs_background": "light"
     },
     "output_type": "display_data"
    }
   ],
   "source": [
    "plot = sum2016.plot(kind='bar',figsize=(15,8), title=\"Number of hits per Weapon\",)\n",
    "plot.set_xlabel(\"Weapon Name\")\n",
    "plot.set_ylabel(\"Number of hits\")\n"
   ]
  },
  {
   "cell_type": "code",
   "execution_count": 141,
   "id": "099c905a",
   "metadata": {},
   "outputs": [],
   "source": [
    "## create separate dataframes\n",
    "## add total column \n",
    "sumadult16['TotalCountbyTrainLine'] = sumadult16['Jul-16'] + sumadult16['Aug-16'] + sumadult16['Sep-16'] + sumadult16['Oct-16'] + sumadult16['Nov-16'] + sumadult16['Dec-16'] \n",
    "sumadult17['TotalCountbyTrainLine'] = sumadult17['Jan-17'] + sumadult17['Feb-17'] + sumadult17['Mar-17'] + sumadult17['Apr-17'] + sumadult17['May-17'] + sumadult17['Jun-17'] + sumadult17['Jul-17'] + sumadult17['Aug-17'] + sumadult17['Sep-17'] + sumadult17['Oct-17'] + sumadult17['Nov-17'] + sumadult17['Dec-17'] \n",
    "sumadult18['TotalCountbyTrainLine'] = sumadult18['Jan-18'] + sumadult18['Feb-18'] + sumadult18['Mar-18'] + sumadult18['Apr-18'] + sumadult18['May-18'] + sumadult18['Jun-18'] + sumadult18['Jul-18'] + sumadult18['Aug-18'] + sumadult18['Sep-18'] + sumadult18['Oct-18'] + sumadult18['Nov-18'] + sumadult18['Dec-18'] \n",
    "sumadult19['TotalCountbyTrainLine'] = sumadult19['Jan-19'] + sumadult19['Feb-19'] + sumadult19['Mar-19'] + sumadult19['Apr-19'] + sumadult19['May-19'] + sumadult19['Jun-19'] + sumadult19['Jul-19'] + sumadult19['Aug-19'] + sumadult19['Sep-19'] + sumadult19['Oct-19'] + sumadult19['Nov-19'] + sumadult19['Dec-19'] \n",
    "sumadult20['TotalCountbyTrainLine'] = sumadult20['Jan-20'] + sumadult20['Feb-20'] + sumadult20['Mar-20'] + sumadult20['Apr-20'] + sumadult20['May-20'] + sumadult20['Jun-20'] + sumadult20['Jul-20'] + sumadult20['Aug-20'] + sumadult20['Sep-20'] + sumadult20['Oct-20'] + sumadult20['Nov-20'] + sumadult20['Dec-20'] \n",
    "sumadult21['TotalCountbyTrainLine'] = sumadult21['Jan-21'] + sumadult21['Feb-21'] + sumadult21['Mar-21'] + sumadult21['Apr-21'] + sumadult21['May-21'] + sumadult21['Jun-21'] + sumadult21['Jul-21'] + sumadult21['Aug-21'] + sumadult21['Sep-21'] \n",
    "#sumadult20['TotalCountbyTrainLine'] = sumadult20['TotalCountbyTrainLine'].astype('int32')\n"
   ]
  },
  {
   "cell_type": "code",
   "execution_count": 142,
   "id": "57212e43",
   "metadata": {},
   "outputs": [
    {
     "data": {
      "text/html": [
       "<div>\n",
       "<style scoped>\n",
       "    .dataframe tbody tr th:only-of-type {\n",
       "        vertical-align: middle;\n",
       "    }\n",
       "\n",
       "    .dataframe tbody tr th {\n",
       "        vertical-align: top;\n",
       "    }\n",
       "\n",
       "    .dataframe thead th {\n",
       "        text-align: right;\n",
       "    }\n",
       "</style>\n",
       "<table border=\"1\" class=\"dataframe\">\n",
       "  <thead>\n",
       "    <tr style=\"text-align: right;\">\n",
       "      <th></th>\n",
       "      <th></th>\n",
       "      <th>Jan-21</th>\n",
       "      <th>Feb-21</th>\n",
       "      <th>Mar-21</th>\n",
       "      <th>Apr-21</th>\n",
       "      <th>May-21</th>\n",
       "      <th>Jun-21</th>\n",
       "      <th>Jul-21</th>\n",
       "      <th>Aug-21</th>\n",
       "      <th>Sep-21</th>\n",
       "      <th>TotalCountbyTrainLine</th>\n",
       "    </tr>\n",
       "    <tr>\n",
       "      <th>Travel_type</th>\n",
       "      <th>TrainLine</th>\n",
       "      <th></th>\n",
       "      <th></th>\n",
       "      <th></th>\n",
       "      <th></th>\n",
       "      <th></th>\n",
       "      <th></th>\n",
       "      <th></th>\n",
       "      <th></th>\n",
       "      <th></th>\n",
       "      <th></th>\n",
       "    </tr>\n",
       "  </thead>\n",
       "  <tbody>\n",
       "    <tr>\n",
       "      <th rowspan=\"14\" valign=\"top\">Adult</th>\n",
       "      <th>Bl</th>\n",
       "      <td>191587.0</td>\n",
       "      <td>215611.0</td>\n",
       "      <td>248167.0</td>\n",
       "      <td>267221.0</td>\n",
       "      <td>243592.0</td>\n",
       "      <td>218192.0</td>\n",
       "      <td>73486.0</td>\n",
       "      <td>51628.0</td>\n",
       "      <td>54772.0</td>\n",
       "      <td>1564256.0</td>\n",
       "    </tr>\n",
       "    <tr>\n",
       "      <th>Ce</th>\n",
       "      <td>306328.0</td>\n",
       "      <td>400043.0</td>\n",
       "      <td>456765.0</td>\n",
       "      <td>474845.0</td>\n",
       "      <td>478407.0</td>\n",
       "      <td>364493.0</td>\n",
       "      <td>115111.0</td>\n",
       "      <td>91711.0</td>\n",
       "      <td>92176.0</td>\n",
       "      <td>2779879.0</td>\n",
       "    </tr>\n",
       "    <tr>\n",
       "      <th>Hu</th>\n",
       "      <td>15693.0</td>\n",
       "      <td>19030.0</td>\n",
       "      <td>19000.0</td>\n",
       "      <td>21817.0</td>\n",
       "      <td>22552.0</td>\n",
       "      <td>18955.0</td>\n",
       "      <td>13904.0</td>\n",
       "      <td>6379.0</td>\n",
       "      <td>4551.0</td>\n",
       "      <td>141881.0</td>\n",
       "    </tr>\n",
       "    <tr>\n",
       "      <th>So</th>\n",
       "      <td>194022.0</td>\n",
       "      <td>231817.0</td>\n",
       "      <td>268885.0</td>\n",
       "      <td>258594.0</td>\n",
       "      <td>272613.0</td>\n",
       "      <td>216014.0</td>\n",
       "      <td>65771.0</td>\n",
       "      <td>56574.0</td>\n",
       "      <td>54467.0</td>\n",
       "      <td>1618757.0</td>\n",
       "    </tr>\n",
       "    <tr>\n",
       "      <th>St</th>\n",
       "      <td>0.0</td>\n",
       "      <td>0.0</td>\n",
       "      <td>0.0</td>\n",
       "      <td>0.0</td>\n",
       "      <td>0.0</td>\n",
       "      <td>0.0</td>\n",
       "      <td>0.0</td>\n",
       "      <td>0.0</td>\n",
       "      <td>0.0</td>\n",
       "      <td>0.0</td>\n",
       "    </tr>\n",
       "    <tr>\n",
       "      <th>T1</th>\n",
       "      <td>2072890.0</td>\n",
       "      <td>2732176.0</td>\n",
       "      <td>3186268.0</td>\n",
       "      <td>3139610.0</td>\n",
       "      <td>3270742.0</td>\n",
       "      <td>2671322.0</td>\n",
       "      <td>922742.0</td>\n",
       "      <td>744936.0</td>\n",
       "      <td>789155.0</td>\n",
       "      <td>19529841.0</td>\n",
       "    </tr>\n",
       "    <tr>\n",
       "      <th>T2</th>\n",
       "      <td>1265795.0</td>\n",
       "      <td>1531228.0</td>\n",
       "      <td>1798040.0</td>\n",
       "      <td>1642978.0</td>\n",
       "      <td>1600892.0</td>\n",
       "      <td>1494399.0</td>\n",
       "      <td>559423.0</td>\n",
       "      <td>449097.0</td>\n",
       "      <td>479690.0</td>\n",
       "      <td>10821542.0</td>\n",
       "    </tr>\n",
       "    <tr>\n",
       "      <th>T3</th>\n",
       "      <td>639096.0</td>\n",
       "      <td>781137.0</td>\n",
       "      <td>851759.0</td>\n",
       "      <td>850934.0</td>\n",
       "      <td>846030.0</td>\n",
       "      <td>706701.0</td>\n",
       "      <td>208600.0</td>\n",
       "      <td>198920.0</td>\n",
       "      <td>231984.0</td>\n",
       "      <td>5315161.0</td>\n",
       "    </tr>\n",
       "    <tr>\n",
       "      <th>T4</th>\n",
       "      <td>1538773.0</td>\n",
       "      <td>1713603.0</td>\n",
       "      <td>1982189.0</td>\n",
       "      <td>1856641.0</td>\n",
       "      <td>1937118.0</td>\n",
       "      <td>1596551.0</td>\n",
       "      <td>631262.0</td>\n",
       "      <td>530477.0</td>\n",
       "      <td>534231.0</td>\n",
       "      <td>12320845.0</td>\n",
       "    </tr>\n",
       "    <tr>\n",
       "      <th>T5</th>\n",
       "      <td>201514.0</td>\n",
       "      <td>293372.0</td>\n",
       "      <td>284364.0</td>\n",
       "      <td>279616.0</td>\n",
       "      <td>305354.0</td>\n",
       "      <td>244406.0</td>\n",
       "      <td>100527.0</td>\n",
       "      <td>62668.0</td>\n",
       "      <td>71368.0</td>\n",
       "      <td>1843189.0</td>\n",
       "    </tr>\n",
       "    <tr>\n",
       "      <th>T6</th>\n",
       "      <td>5673.0</td>\n",
       "      <td>6984.0</td>\n",
       "      <td>8548.0</td>\n",
       "      <td>7824.0</td>\n",
       "      <td>8229.0</td>\n",
       "      <td>7560.0</td>\n",
       "      <td>3908.0</td>\n",
       "      <td>3310.0</td>\n",
       "      <td>4102.0</td>\n",
       "      <td>56138.0</td>\n",
       "    </tr>\n",
       "    <tr>\n",
       "      <th>T7</th>\n",
       "      <td>19725.0</td>\n",
       "      <td>29285.0</td>\n",
       "      <td>37870.0</td>\n",
       "      <td>65358.0</td>\n",
       "      <td>48087.0</td>\n",
       "      <td>51312.0</td>\n",
       "      <td>25498.0</td>\n",
       "      <td>35077.0</td>\n",
       "      <td>33909.0</td>\n",
       "      <td>346121.0</td>\n",
       "    </tr>\n",
       "    <tr>\n",
       "      <th>T8</th>\n",
       "      <td>827040.0</td>\n",
       "      <td>1028685.0</td>\n",
       "      <td>1228446.0</td>\n",
       "      <td>1195959.0</td>\n",
       "      <td>1203356.0</td>\n",
       "      <td>999705.0</td>\n",
       "      <td>362972.0</td>\n",
       "      <td>255058.0</td>\n",
       "      <td>269797.0</td>\n",
       "      <td>7371018.0</td>\n",
       "    </tr>\n",
       "    <tr>\n",
       "      <th>T9</th>\n",
       "      <td>591055.0</td>\n",
       "      <td>698236.0</td>\n",
       "      <td>772130.0</td>\n",
       "      <td>790858.0</td>\n",
       "      <td>846242.0</td>\n",
       "      <td>618143.0</td>\n",
       "      <td>220326.0</td>\n",
       "      <td>187027.0</td>\n",
       "      <td>194425.0</td>\n",
       "      <td>4918442.0</td>\n",
       "    </tr>\n",
       "  </tbody>\n",
       "</table>\n",
       "</div>"
      ],
      "text/plain": [
       "                          Jan-21     Feb-21     Mar-21     Apr-21     May-21  \\\n",
       "Travel_type TrainLine                                                          \n",
       "Adult       Bl          191587.0   215611.0   248167.0   267221.0   243592.0   \n",
       "            Ce          306328.0   400043.0   456765.0   474845.0   478407.0   \n",
       "            Hu           15693.0    19030.0    19000.0    21817.0    22552.0   \n",
       "            So          194022.0   231817.0   268885.0   258594.0   272613.0   \n",
       "            St               0.0        0.0        0.0        0.0        0.0   \n",
       "            T1         2072890.0  2732176.0  3186268.0  3139610.0  3270742.0   \n",
       "            T2         1265795.0  1531228.0  1798040.0  1642978.0  1600892.0   \n",
       "            T3          639096.0   781137.0   851759.0   850934.0   846030.0   \n",
       "            T4         1538773.0  1713603.0  1982189.0  1856641.0  1937118.0   \n",
       "            T5          201514.0   293372.0   284364.0   279616.0   305354.0   \n",
       "            T6            5673.0     6984.0     8548.0     7824.0     8229.0   \n",
       "            T7           19725.0    29285.0    37870.0    65358.0    48087.0   \n",
       "            T8          827040.0  1028685.0  1228446.0  1195959.0  1203356.0   \n",
       "            T9          591055.0   698236.0   772130.0   790858.0   846242.0   \n",
       "\n",
       "                          Jun-21    Jul-21    Aug-21    Sep-21  \\\n",
       "Travel_type TrainLine                                            \n",
       "Adult       Bl          218192.0   73486.0   51628.0   54772.0   \n",
       "            Ce          364493.0  115111.0   91711.0   92176.0   \n",
       "            Hu           18955.0   13904.0    6379.0    4551.0   \n",
       "            So          216014.0   65771.0   56574.0   54467.0   \n",
       "            St               0.0       0.0       0.0       0.0   \n",
       "            T1         2671322.0  922742.0  744936.0  789155.0   \n",
       "            T2         1494399.0  559423.0  449097.0  479690.0   \n",
       "            T3          706701.0  208600.0  198920.0  231984.0   \n",
       "            T4         1596551.0  631262.0  530477.0  534231.0   \n",
       "            T5          244406.0  100527.0   62668.0   71368.0   \n",
       "            T6            7560.0    3908.0    3310.0    4102.0   \n",
       "            T7           51312.0   25498.0   35077.0   33909.0   \n",
       "            T8          999705.0  362972.0  255058.0  269797.0   \n",
       "            T9          618143.0  220326.0  187027.0  194425.0   \n",
       "\n",
       "                       TotalCountbyTrainLine  \n",
       "Travel_type TrainLine                         \n",
       "Adult       Bl                     1564256.0  \n",
       "            Ce                     2779879.0  \n",
       "            Hu                      141881.0  \n",
       "            So                     1618757.0  \n",
       "            St                           0.0  \n",
       "            T1                    19529841.0  \n",
       "            T2                    10821542.0  \n",
       "            T3                     5315161.0  \n",
       "            T4                    12320845.0  \n",
       "            T5                     1843189.0  \n",
       "            T6                       56138.0  \n",
       "            T7                      346121.0  \n",
       "            T8                     7371018.0  \n",
       "            T9                     4918442.0  "
      ]
     },
     "execution_count": 142,
     "metadata": {},
     "output_type": "execute_result"
    }
   ],
   "source": [
    "sumadult21"
   ]
  },
  {
   "cell_type": "code",
   "execution_count": 147,
   "id": "d1c2e098",
   "metadata": {},
   "outputs": [
    {
     "name": "stdout",
     "output_type": "stream",
     "text": [
      "(197, 66)\n",
      "(50, 66)\n"
     ]
    }
   ],
   "source": [
    "# Initalise train and test variable \n",
    "train, test = train_test_split(data, test_size = 0.2, random_state=142)\n",
    "print(train.shape)\n",
    "print(test.shape)"
   ]
  },
  {
   "cell_type": "code",
   "execution_count": 161,
   "id": "3c4ab16f",
   "metadata": {},
   "outputs": [
    {
     "name": "stdout",
     "output_type": "stream",
     "text": [
      "y = x * [-0.09484442  0.55893831] + 10143.84585383896\n"
     ]
    }
   ],
   "source": [
    "reg = linear_model.LinearRegression()\n",
    "X_train = train[['Dec-18', 'Dec-19']]\n",
    "y_train = train['Dec-20']\n",
    "X_test = test[['Dec-18', 'Dec-19']]\n",
    "y_test = test['Dec-20']\n",
    "reg.fit(X_train, y_train)\n",
    "print(\"y = x *\", reg.coef_, \"+\", reg.intercept_) "
   ]
  },
  {
   "cell_type": "code",
   "execution_count": 162,
   "id": "2eb3e421",
   "metadata": {},
   "outputs": [
    {
     "name": "stdout",
     "output_type": "stream",
     "text": [
      "MSE: 90112578951.98276\n",
      "R Squared: 0.9824304761793609\n"
     ]
    }
   ],
   "source": [
    "predicted = reg.predict(X_test)\n",
    "mse = ((np.array(y_test)-predicted)**2).sum()/len(y_test)\n",
    "r2 = r2_score(y_test, predicted)\n",
    "print(\"MSE:\", mse) ##mean square error if it's too low means its good\n",
    "print(\"R Squared:\", r2) "
   ]
  },
  {
   "cell_type": "code",
   "execution_count": 163,
   "id": "d4dd4042",
   "metadata": {},
   "outputs": [
    {
     "name": "stdout",
     "output_type": "stream",
     "text": [
      "MSE: 90112578951.98276\n",
      "R Squared: 0.9824304761793609\n"
     ]
    }
   ],
   "source": [
    "predicted = reg.predict(X_test)\n",
    "mse = ((np.array(y_test)-predicted)**2).sum()/len(y_test)\n",
    "r2 = r2_score(y_test, predicted)\n",
    "print(\"MSE:\", mse)\n",
    "print(\"R Squared:\", r2) \n"
   ]
  },
  {
   "cell_type": "code",
   "execution_count": 155,
   "id": "0988523c",
   "metadata": {},
   "outputs": [],
   "source": [
    "#there are no apparent curves in the plots (meaning the model is linear in the parameters and its residuals)\n",
    "#the process of obtaining one observation does not affect the process of obtaining the next observations (independence)\n",
    "# why the r square is close to 1, the model is bias and we cannot rely on a regression to predict future outcome by past records\n",
    "# we will now move on to multinomial naive bayes below in order to see if it can be predicted by past records."
   ]
  },
  {
   "cell_type": "code",
   "execution_count": 164,
   "id": "aa80311c",
   "metadata": {},
   "outputs": [
    {
     "data": {
      "text/plain": [
       "<bound method NDFrame._add_numeric_operations.<locals>.max of 0             0.0\n",
       "1             0.0\n",
       "2             0.0\n",
       "3             0.0\n",
       "4             0.0\n",
       "          ...    \n",
       "242        1143.0\n",
       "243       40937.0\n",
       "244      183786.0\n",
       "245        1671.0\n",
       "246    30275150.0\n",
       "Name: Dec-19, Length: 247, dtype: float64>"
      ]
     },
     "execution_count": 164,
     "metadata": {},
     "output_type": "execute_result"
    }
   ],
   "source": [
    "data['Dec-19'].max"
   ]
  },
  {
   "cell_type": "code",
   "execution_count": 165,
   "id": "dd35aea7",
   "metadata": {},
   "outputs": [
    {
     "data": {
      "text/plain": [
       "16173796.0"
      ]
     },
     "execution_count": 165,
     "metadata": {},
     "output_type": "execute_result"
    }
   ],
   "source": [
    "data['Dec-20'].max()"
   ]
  },
  {
   "cell_type": "code",
   "execution_count": 167,
   "id": "b5f8028a",
   "metadata": {},
   "outputs": [
    {
     "data": {
      "text/plain": [
       "30124456.0"
      ]
     },
     "execution_count": 167,
     "metadata": {},
     "output_type": "execute_result"
    }
   ],
   "source": [
    "data['Dec-18'].max()"
   ]
  },
  {
   "cell_type": "code",
   "execution_count": 168,
   "id": "f0809bf9",
   "metadata": {},
   "outputs": [
    {
     "data": {
      "text/plain": [
       "30275150.0"
      ]
     },
     "execution_count": 168,
     "metadata": {},
     "output_type": "execute_result"
    }
   ],
   "source": [
    "data['Dec-19'].max()"
   ]
  },
  {
   "cell_type": "code",
   "execution_count": null,
   "id": "ea70fcb9",
   "metadata": {},
   "outputs": [],
   "source": []
  },
  {
   "cell_type": "code",
   "execution_count": null,
   "id": "3dde6937",
   "metadata": {},
   "outputs": [],
   "source": []
  },
  {
   "cell_type": "code",
   "execution_count": 1818,
   "id": "10c33a0d",
   "metadata": {},
   "outputs": [],
   "source": [
    "# ## indiviudal trainline from 2016\n",
    "# T1_2016 = df2016[df2016 == \"T1 North Shore, Northern and Western Line\"] + df2016[df2016 == \"T1 North Shore Line\"] + df2016[df2016 == \"T1 Northern Line\"] + df2016[df2016 == \"T1 Western Line\"] \n",
    "# T2_2016 = df2016[df2016.Route == \"T2 Airport, Inner West and South Line\"] + df2016[df2016.Route == \"T2 Inner West Line\"] + df2016[df2016.Route == \"T2 Leppington Line\"]\n",
    "# T3_2016 = df2016[df2016.Route == \"T3 Bankstown Line\"]\n",
    "# T4_2016 = df2016[df2016.Route == \"T4 Eastern Suburbs and Illawarra Line\"]\n",
    "# T5_2016 = df2016[df2016.Route == \"T5 Cumberland Line\"]\n",
    "# T6_2016 = df2016[df2016.Route == \"T6 Carlingford Line\"] + df2016[df2016.Route == \"T6 replacement buses\"]\n",
    "# T7_2016 = df2016[df2016.Route == \"T7 Olympic Park Line\"]\n",
    "# T8_2016 = df2016[df2016.Route == \"T8 Airport and South Line\"]\n",
    "# T9_2016 = df2016[df2016.Route == \"T9 Northern Line\"]\n",
    "# BM_2016 = df2016[df2016.Route == \"Blue Mountains Line\"]\n",
    "# CC_2016 = df2016[df2016.Route == \"Central Coast Newcastle Line\"]\n",
    "# HL_2016 = df2016[df2016.Route == \"Hunter Line\"]\n",
    "# SC_2016 = df2016[df2016.Route == \"South Coast Line\"]\n",
    "# SH_2016 = df2016[df2016.Route == \"Southern Highlands Line\"]\n",
    "# SL_2016 = df2016[df2016.Route == \"Station Link\"]\n",
    "\n",
    "\n",
    "\n"
   ]
  },
  {
   "cell_type": "code",
   "execution_count": null,
   "id": "4a78cdb0",
   "metadata": {},
   "outputs": [],
   "source": []
  },
  {
   "cell_type": "code",
   "execution_count": 1819,
   "id": "bdad2e4a",
   "metadata": {},
   "outputs": [],
   "source": [
    "# ## indiviudal trainline from 2017\n",
    "# T1_2017 = df2017[df2017.Route == \"T1 North Shore, Northern and Western Line\"] + df2017[df2017.Route == \"T1 North Shore Line\"] + df2017[df2017.Route == \"T1 Northern Line\"] + df2017[df2017.Route == \"T1 Western Line\"] \n",
    "# T2_2017 = df2017[df2017.Route == \"T2 Airport, Inner West and South Line\"] + df2017[df2017.Route == \"T2 Inner West Line\"] + df2017[df2017.Route == \"T2 Leppington Line\"]\n",
    "# T3_2017 = df2017[df2017.Route == \"T3 Bankstown Line\"]\n",
    "# T4_2017 = df2017[df2017.Route == \"T4 Eastern Suburbs and Illawarra Line\"]\n",
    "# T5_2017 = df2017[df2017.Route == \"T5 Cumberland Line\"]\n",
    "# T6_2017 = df2017[df2017.Route == \"T6 Carlingford Line\"] + df2017[df2017.Route == \"T6 replacement buses\"]\n",
    "# T7_2017 = df2017[df2017.Route == \"T7 Olympic Park Line\"]\n",
    "# T8_2017 = df2017[df2017.Route == \"T8 Airport and South Line\"]\n",
    "# T9_2017 = df2017[df2017.Route == \"T9 Northern Line\"]\n",
    "# BM_2017 = df2017[df2017.Route == \"Blue Mountains Line\"]\n",
    "# CC_2017 = df2017[df2017.Route == \"Central Coast Newcastle Line\"]\n",
    "# HL_2017 = df2017[df2017.Route == \"Hunter Line\"]\n",
    "# SC_2017 = df2017[df2017.Route == \"South Coast Line\"]\n",
    "# SH_2017 = df2017[df2017.Route == \"Southern Highlands Line\"]\n",
    "# SL_2017 = df2017[df2017.Route == \"Station Link\"]"
   ]
  },
  {
   "cell_type": "code",
   "execution_count": 1820,
   "id": "70191f36",
   "metadata": {},
   "outputs": [],
   "source": [
    "# ## inIndividual trainlines from 2017\n",
    "# T1_2018 = df2018[df2018.Route == \"T1 North Shore, Northern and Western Line\"] + df2018[df2018.Route == \"T1 North Shore Line\"] + df2018[df2018.Route == \"T1 Northern Line\"] + df2018[df2018.Route == \"T1 Western Line\"] \n",
    "# T2_2018 = df2018[df2018.Route == \"T2 Airport, Inner West and South Line\"] + df2018[df2018.Route == \"T2 Inner West Line\"] + df2018[df2018.Route == \"T2 Leppington Line\"]\n",
    "# T3_2018 = df2018[df2018.Route == \"T3 Bankstown Line\"]\n",
    "# T4_2018 = df2018[df2018.Route == \"T4 Eastern Suburbs and Illawarra Line\"]\n",
    "# T5_2018 = df2018[df2018.Route == \"T5 Cumberland Line\"]\n",
    "# T6_2018 = df2018[df2018.Route == \"T6 Carlingford Line\"] + df2018[df2018.Route == \"T6 replacement buses\"]\n",
    "# T7_2018 = df2018[df2018.Route == \"T7 Olympic Park Line\"]\n",
    "# T8_2018 = df2018[df2018.Route == \"T8 Airport and South Line\"]\n",
    "# T9_2018 = df2018[df2018.Route == \"T9 Northern Line\"]\n",
    "# BM_2018 = df2018[df2018.Route == \"Blue Mountains Line\"]\n",
    "# CC_2018 = df2018[df2018.Route == \"Central Coast Newcastle Line\"]\n",
    "# HL_2018 = df2018[df2018.Route == \"Hunter Line\"]\n",
    "# SC_2018 = df2018[df2018.Route == \"South Coast Line\"]\n",
    "# SH_2018 = df2018[df2018.Route == \"Southern Highlands Line\"]\n",
    "# SL_2018 = df2018[df2018.Route == \"Station Link\"]"
   ]
  },
  {
   "cell_type": "code",
   "execution_count": 1821,
   "id": "35c764c0",
   "metadata": {},
   "outputs": [],
   "source": [
    "# ## inIndividual trainlines from 2019\n",
    "# T1_2019 = df2019[df2019.Route == \"T1 North Shore, Northern and Western Line\"] + df2019[df2019.Route == \"T1 North Shore Line\"] + df2019[df2019.Route == \"T1 Northern Line\"] + df2019[df2019.Route == \"T1 Western Line\"] \n",
    "# T2_2019 = df2019[df2019.Route == \"T2 Airport, Inner West and South Line\"] + df2019[df2019.Route == \"T2 Inner West Line\"] + df2019[df2019.Route == \"T2 Leppington Line\"]\n",
    "# T3_2019 = df2019[df2019.Route == \"T3 Bankstown Line\"]\n",
    "# T4_2019 = df2019[df2019.Route == \"T4 Eastern Suburbs and Illawarra Line\"]\n",
    "# T5_2019 = df2019[df2019.Route == \"T5 Cumberland Line\"]\n",
    "# T6_2019 = df2019[df2019.Route == \"T6 Carlingford Line\"] + df2019[df2019.Route == \"T6 replacement buses\"]\n",
    "# T7_2019 = df2019[df2019.Route == \"T7 Olympic Park Line\"]\n",
    "# T8_2019 = df2019[df2019.Route == \"T8 Airport and South Line\"]\n",
    "# T9_2019 = df2019[df2019.Route == \"T9 Northern Line\"]\n",
    "# BM_2019 = df2019[df2019.Route == \"Blue Mountains Line\"]\n",
    "# CC_2019 = df2019[df2019.Route == \"Central Coast Newcastle Line\"]\n",
    "# HL_2019 = df2019[df2019.Route == \"Hunter Line\"]\n",
    "# SC_2019 = df2019[df2019.Route == \"South Coast Line\"]\n",
    "# SH_2019 = df2019[df2019.Route == \"Southern Highlands Line\"]\n",
    "# SL_2019 = df2019[df2019.Route == \"Station Link\"]\n",
    "\n",
    "\n"
   ]
  },
  {
   "cell_type": "code",
   "execution_count": 1822,
   "id": "9bc73f73",
   "metadata": {},
   "outputs": [],
   "source": [
    "# ## Individual trainlines from 2020\n",
    "# T1_2020 = df2020[df2020.Route == \"T1 North Shore, Northern and Western Line\"] + df2020[df2020.Route == \"T1 North Shore Line\"] + df2020[df2020.Route == \"T1 Northern Line\"] + df2020[df2020.Route == \"T1 Western Line\"] \n",
    "# T2_2020 = df2020[df2020.Route == \"T2 Airport, Inner West and South Line\"] + df2020[df2020.Route == \"T2 Inner West Line\"] + df2020[df2020.Route == \"T2 Leppington Line\"]\n",
    "# T3_2020 = df2020[df2020.Route == \"T3 Bankstown Line\"]\n",
    "# T4_2020 = df2020[df2020.Route == \"T4 Eastern Suburbs and Illawarra Line\"]\n",
    "# T5_2020 = df2020[df2020.Route == \"T5 Cumberland Line\"]\n",
    "# T6_2020 = df2020[df2020.Route == \"T6 Carlingford Line\"] + df2020[df2020.Route == \"T6 replacement buses\"]\n",
    "# T7_2020 = df2020[df2020.Route == \"T7 Olympic Park Line\"]\n",
    "# T8_2020 = df2020[df2020.Route == \"T8 Airport and South Line\"]\n",
    "# T9_2020 = df2020[df2020.Route == \"T9 Northern Line\"]\n",
    "# BM_2020 = df2020[df2020.Route == \"Blue Mountains Line\"]\n",
    "# CC_2020 = df2020[df2020.Route == \"Central Coast Newcastle Line\"]\n",
    "# HL_2020 = df2020[df2020.Route == \"Hunter Line\"]\n",
    "# SC_2020 = df2020[df2020.Route == \"South Coast Line\"]\n",
    "# SH_2020 = df2020[df2020.Route == \"Southern Highlands Line\"]\n",
    "# SL_2020 = df2020[df2020.Route == \"Station Link\"]\n"
   ]
  },
  {
   "cell_type": "code",
   "execution_count": 1823,
   "id": "b5874841",
   "metadata": {},
   "outputs": [],
   "source": [
    "# ## Individual trainlines from 2020\n",
    "# T1_2021 = df2021[df2021.Route == \"T1 North Shore, Northern and Western Line\"] + df2021[df2021.Route == \"T1 North Shore Line\"] + df2021[df2021.Route == \"T1 Northern Line\"] + df2021[df2021.Route == \"T1 Western Line\"] \n",
    "# T2_2021 = df2021[df2021.Route == \"T2 Airport, Inner West and South Line\"] + df2021[df2021.Route == \"T2 Inner West Line\"] + df2021[df2021.Route == \"T2 Leppington Line\"]\n",
    "# T3_2021 = df2021[df2021.Route == \"T3 Bankstown Line\"]\n",
    "# T4_2021 = df2021[df2021.Route == \"T4 Eastern Suburbs and Illawarra Line\"]\n",
    "# T5_2021 = df2021[df2021.Route == \"T5 Cumberland Line\"]\n",
    "# T6_2021 = df2021[df2021.Route == \"T6 Carlingford Line\"] + df2021[df2021.Route == \"T6 replacement buses\"]\n",
    "# T7_2021 = df2021[df2021.Route == \"T7 Olympic Park Line\"]\n",
    "# T8_2021 = df2021[df2021.Route == \"T8 Airport and South Line\"]\n",
    "# T9_2021 = df2021[df2021.Route == \"T9 Northern Line\"]\n",
    "# BM_2021 = df2021[df2021.Route == \"Blue Mountains Line\"]\n",
    "# CC_2021 = df2021[df2021.Route == \"Central Coast Newcastle Line\"]\n",
    "# HL_2021 = df2021[df2021.Route == \"Hunter Line\"]\n",
    "# SC_2021 = df2021[df2021.Route == \"South Coast Line\"]\n",
    "# SH_2021 = df2021[df2021.Route == \"Southern Highlands Line\"]\n",
    "# SL_2021 = df2021[df2021.Route == \"Station Link\"]\n",
    "\n"
   ]
  },
  {
   "cell_type": "code",
   "execution_count": null,
   "id": "d23e4914",
   "metadata": {},
   "outputs": [],
   "source": [
    "\n",
    "\n"
   ]
  },
  {
   "cell_type": "code",
   "execution_count": null,
   "id": "abeedc6f",
   "metadata": {},
   "outputs": [],
   "source": [
    "\n",
    "    \n",
    "    \n",
    "\n",
    "\n",
    "\n",
    "               \n"
   ]
  },
  {
   "cell_type": "code",
   "execution_count": null,
   "id": "405921d2",
   "metadata": {},
   "outputs": [],
   "source": []
  },
  {
   "cell_type": "code",
   "execution_count": null,
   "id": "b5a9ff99",
   "metadata": {},
   "outputs": [],
   "source": [
    "\n"
   ]
  },
  {
   "cell_type": "code",
   "execution_count": null,
   "id": "76d0a280",
   "metadata": {},
   "outputs": [],
   "source": [
    "\n"
   ]
  },
  {
   "cell_type": "code",
   "execution_count": null,
   "id": "7e12fe48",
   "metadata": {},
   "outputs": [],
   "source": []
  },
  {
   "cell_type": "code",
   "execution_count": null,
   "id": "776dd9cf",
   "metadata": {},
   "outputs": [],
   "source": []
  },
  {
   "cell_type": "code",
   "execution_count": null,
   "id": "e279f6c8",
   "metadata": {},
   "outputs": [],
   "source": []
  },
  {
   "cell_type": "code",
   "execution_count": null,
   "id": "af35674f",
   "metadata": {},
   "outputs": [],
   "source": []
  },
  {
   "cell_type": "code",
   "execution_count": null,
   "id": "e4609ea5",
   "metadata": {},
   "outputs": [],
   "source": []
  },
  {
   "cell_type": "code",
   "execution_count": null,
   "id": "a22b8fc5",
   "metadata": {},
   "outputs": [],
   "source": []
  },
  {
   "cell_type": "code",
   "execution_count": null,
   "id": "12c6e7ea",
   "metadata": {},
   "outputs": [],
   "source": []
  },
  {
   "cell_type": "code",
   "execution_count": null,
   "id": "bdba3d6b",
   "metadata": {},
   "outputs": [],
   "source": []
  },
  {
   "cell_type": "code",
   "execution_count": null,
   "id": "bbd20bb6",
   "metadata": {},
   "outputs": [],
   "source": []
  },
  {
   "cell_type": "code",
   "execution_count": null,
   "id": "830bb58f",
   "metadata": {},
   "outputs": [],
   "source": []
  },
  {
   "cell_type": "code",
   "execution_count": null,
   "id": "1b443a8f",
   "metadata": {},
   "outputs": [],
   "source": []
  },
  {
   "cell_type": "code",
   "execution_count": null,
   "id": "f8454a8a",
   "metadata": {},
   "outputs": [],
   "source": []
  },
  {
   "cell_type": "code",
   "execution_count": null,
   "id": "82264ec8",
   "metadata": {},
   "outputs": [],
   "source": []
  },
  {
   "cell_type": "code",
   "execution_count": null,
   "id": "7824649f",
   "metadata": {},
   "outputs": [],
   "source": []
  },
  {
   "cell_type": "code",
   "execution_count": null,
   "id": "016a61e0",
   "metadata": {},
   "outputs": [],
   "source": []
  },
  {
   "cell_type": "code",
   "execution_count": null,
   "id": "a95de99e",
   "metadata": {},
   "outputs": [],
   "source": []
  },
  {
   "cell_type": "code",
   "execution_count": null,
   "id": "5885d083",
   "metadata": {},
   "outputs": [],
   "source": []
  },
  {
   "cell_type": "code",
   "execution_count": null,
   "id": "a02afd39",
   "metadata": {},
   "outputs": [],
   "source": []
  },
  {
   "cell_type": "code",
   "execution_count": 959,
   "id": "9ed824ec",
   "metadata": {},
   "outputs": [
    {
     "data": {
      "text/plain": [
       "array(['T1 North Shore, Northern and Western Line',\n",
       "       'T2 Airport, Inner West and South Line', 'T3 Bankstown Line',\n",
       "       'T4 Eastern Suburbs and Illawarra Line', 'T5 Cumberland Line',\n",
       "       'T6 Carlingford Line', 'T7 Olympic Park Line',\n",
       "       'Blue Mountains Line', 'Central Coast Newcastle Line',\n",
       "       'Hunter Line', 'South Coast Line', 'Southern Highlands Line',\n",
       "       'Station Link', 'T1 North Shore Line', 'T1 Northern Line',\n",
       "       'T1 Western Line', 'T2 Inner West Line', 'T2 Leppington Line',\n",
       "       'T6 replacement buses', 'T8 Airport and South Line',\n",
       "       'T9 Northern Line', 'Grand Total'], dtype=object)"
      ]
     },
     "execution_count": 959,
     "metadata": {},
     "output_type": "execute_result"
    }
   ],
   "source": [
    "# read the train data file and extract all name of the Route\n",
    "route=pd.read_csv(\"files/TrainCardType.csv\", encoding='utf-16',sep=\"\\t\")[\"Route\"]\n",
    "route.unique()"
   ]
  },
  {
   "cell_type": "code",
   "execution_count": 960,
   "id": "6905c3de",
   "metadata": {},
   "outputs": [
    {
     "data": {
      "text/plain": [
       "array(['Adult', 'Child/Youth', 'Concession',\n",
       "       'Day Pass Child/Youth w/o SAF', 'Day Pass without SAF', 'Employee',\n",
       "       'Free Travel', 'School Student', 'Senior/Pensioner',\n",
       "       'Sgl Trip Rail Adult', 'Sgl Trip Rail Child/Youth', 'CTP', 'Total'],\n",
       "      dtype=object)"
      ]
     },
     "execution_count": 960,
     "metadata": {},
     "output_type": "execute_result"
    }
   ],
   "source": [
    "# read the train data file and extract all name of the Route\n",
    "df=pd.read_csv(\"files/TrainCardType.csv\", encoding='utf-16',sep=\"\\t\")[\"Travel type\"]\n",
    "df.unique()"
   ]
  },
  {
   "cell_type": "code",
   "execution_count": null,
   "id": "8f39b6f0",
   "metadata": {},
   "outputs": [],
   "source": []
  },
  {
   "cell_type": "code",
   "execution_count": null,
   "id": "c5698d99",
   "metadata": {},
   "outputs": [],
   "source": []
  },
  {
   "cell_type": "markdown",
   "id": "d85c1782",
   "metadata": {},
   "source": [
    "# some useful functions "
   ]
  },
  {
   "cell_type": "code",
   "execution_count": null,
   "id": "ffefa06f",
   "metadata": {},
   "outputs": [],
   "source": [
    "# use to drop columns\n",
    "#data.drop('1/07/2016+C1:BA1', inplace=True, axis=1)"
   ]
  },
  {
   "cell_type": "code",
   "execution_count": null,
   "id": "29e1e35a",
   "metadata": {},
   "outputs": [],
   "source": [
    "#use to rename colums\n",
    "#data = data.rename(columns={\"1/07/2016+C1:BA1\": \"Jul-16\"})"
   ]
  },
  {
   "cell_type": "code",
   "execution_count": null,
   "id": "ae34e89d",
   "metadata": {},
   "outputs": [],
   "source": []
  }
 ],
 "metadata": {
  "kernelspec": {
   "display_name": "Python 3",
   "language": "python",
   "name": "python3"
  },
  "language_info": {
   "codemirror_mode": {
    "name": "ipython",
    "version": 3
   },
   "file_extension": ".py",
   "mimetype": "text/x-python",
   "name": "python",
   "nbconvert_exporter": "python",
   "pygments_lexer": "ipython3",
   "version": "3.8.8"
  }
 },
 "nbformat": 4,
 "nbformat_minor": 5
}
